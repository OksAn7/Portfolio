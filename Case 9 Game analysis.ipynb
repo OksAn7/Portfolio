{
 "cells": [
  {
   "cell_type": "markdown",
   "metadata": {},
   "source": [
    "<font size=\"6\"><code style=\"background:teal;color:white\">Кейс 9: Игровая аналитика</code></font>"
   ]
  },
  {
   "cell_type": "markdown",
   "metadata": {},
   "source": [
    "Ключевые пункты задания:  \n",
    "- В июне ребята запустили новый функционал и теперь хотят отследить, как это повлияло на аудиторию. Если аудитория не приняла нововведение, то лучше сразу от него отказаться либо внести изменения.  \n",
    "- Для понимания эффективности нового функционала вам нужно посчитать показатели **Retention** и **ARPU** за два периода: за **май 2019** (до введения функционала) и **июнь 2019** (после)."
   ]
  },
  {
   "cell_type": "markdown",
   "metadata": {},
   "source": [
    "<div class=\"alert alert-block alert-warning\"><b>Важно:</b> ниже в ноутбуке приведены вычисления за июнь 2019. Данные за май были просчитаны аналогичным образом и отражены в итоговых выводах. Также для визуализации была использована библиотека plotly, хотя в задании указывалось seaborn - в силу предпочтения интерактивной визуализации.<br>Первая часть работы сделана по аналогии, указанной на обучающей платформе, автор кейса - Руслан Казанцев. Сводная таблица ARPU, визуализация всех показателей сделана самостоятельно (указывались библиотеки seaborn, matplotlib для задания, но в силу интерактивности отдано предпочтение plotly).</div>"
   ]
  },
  {
   "cell_type": "code",
   "execution_count": 1,
   "metadata": {},
   "outputs": [
    {
     "data": {
      "text/html": [
       "        <script type=\"text/javascript\">\n",
       "        window.PlotlyConfig = {MathJaxConfig: 'local'};\n",
       "        if (window.MathJax) {MathJax.Hub.Config({SVG: {font: \"STIX-Web\"}});}\n",
       "        if (typeof require !== 'undefined') {\n",
       "        require.undef(\"plotly\");\n",
       "        requirejs.config({\n",
       "            paths: {\n",
       "                'plotly': ['https://cdn.plot.ly/plotly-latest.min']\n",
       "            }\n",
       "        });\n",
       "        require(['plotly'], function(Plotly) {\n",
       "            window._Plotly = Plotly;\n",
       "        });\n",
       "        }\n",
       "        </script>\n",
       "        "
      ]
     },
     "metadata": {},
     "output_type": "display_data"
    }
   ],
   "source": [
    "#Импортируем нужные библиотеки:\n",
    "import pandas as pd\n",
    "import numpy as np\n",
    "import psycopg2\n",
    "import psycopg2.extras \n",
    "from plotly.offline import download_plotlyjs, init_notebook_mode, plot, iplot\n",
    "from plotly import graph_objects as go\n",
    "init_notebook_mode(connected=True)"
   ]
  },
  {
   "cell_type": "markdown",
   "metadata": {},
   "source": [
    "**Считаем Retention**"
   ]
  },
  {
   "cell_type": "code",
   "execution_count": 2,
   "metadata": {},
   "outputs": [],
   "source": [
    "#Подсчитаем количество зарегистрировавшихся пользователей за июнь 2019 в разрезе дней регистрации registration_date\n",
    "def getRegisteredUsersCount():\n",
    "    query = '''SELECT r.registration_date, count(distinct(r.user_id)) as registered_users_count\n",
    "    FROM case9.registration r\n",
    "    WHERE r.registration_date >= '2019-06-01' and r.registration_date < '2019-07-01'\n",
    "    GROUP BY 1\n",
    "    '''.format()\n",
    "    conn = psycopg2.connect(dbname='skillfactory', \n",
    "                            user='skillfactory', \n",
    "                            host='84.201.134.129',\n",
    "                            password='cCkxxLVrDE8EbvjueeMedPKt',\n",
    "                            port=5432)\n",
    "    dict_cur = conn.cursor(cursor_factory=psycopg2.extras.DictCursor)\n",
    "    dict_cur.execute(query)\n",
    "    rows = dict_cur.fetchall()\n",
    "    data = []\n",
    "    for row in rows:\n",
    "        data.append(dict(row))\n",
    "    dict_cur.close()\n",
    "    conn.close()\n",
    "    return data\n",
    "\n",
    "registered_users_count = pd.DataFrame(getRegisteredUsersCount())"
   ]
  },
  {
   "cell_type": "code",
   "execution_count": 3,
   "metadata": {},
   "outputs": [
    {
     "name": "stdout",
     "output_type": "stream",
     "text": [
      "<class 'pandas.core.frame.DataFrame'>\n",
      "RangeIndex: 30 entries, 0 to 29\n",
      "Data columns (total 2 columns):\n",
      " #   Column                  Non-Null Count  Dtype \n",
      "---  ------                  --------------  ----- \n",
      " 0   registration_date       30 non-null     object\n",
      " 1   registered_users_count  30 non-null     int64 \n",
      "dtypes: int64(1), object(1)\n",
      "memory usage: 608.0+ bytes\n"
     ]
    }
   ],
   "source": [
    "#Посмотрим на информацию о датафрейме:\n",
    "registered_users_count.info()"
   ]
  },
  {
   "cell_type": "code",
   "execution_count": 4,
   "metadata": {},
   "outputs": [],
   "source": [
    "#Преобразуем registration_date в объект datetime:\n",
    "registered_users_count['registration_date'] = pd.to_datetime(registered_users_count['registration_date'])"
   ]
  },
  {
   "cell_type": "code",
   "execution_count": 5,
   "metadata": {},
   "outputs": [
    {
     "data": {
      "text/html": [
       "<div>\n",
       "<style scoped>\n",
       "    .dataframe tbody tr th:only-of-type {\n",
       "        vertical-align: middle;\n",
       "    }\n",
       "\n",
       "    .dataframe tbody tr th {\n",
       "        vertical-align: top;\n",
       "    }\n",
       "\n",
       "    .dataframe thead th {\n",
       "        text-align: right;\n",
       "    }\n",
       "</style>\n",
       "<table border=\"1\" class=\"dataframe\">\n",
       "  <thead>\n",
       "    <tr style=\"text-align: right;\">\n",
       "      <th></th>\n",
       "      <th>registration_date</th>\n",
       "      <th>registered_users_count</th>\n",
       "    </tr>\n",
       "  </thead>\n",
       "  <tbody>\n",
       "    <tr>\n",
       "      <th>0</th>\n",
       "      <td>2019-06-01</td>\n",
       "      <td>4833</td>\n",
       "    </tr>\n",
       "    <tr>\n",
       "      <th>1</th>\n",
       "      <td>2019-06-02</td>\n",
       "      <td>5255</td>\n",
       "    </tr>\n",
       "    <tr>\n",
       "      <th>2</th>\n",
       "      <td>2019-06-03</td>\n",
       "      <td>4193</td>\n",
       "    </tr>\n",
       "    <tr>\n",
       "      <th>3</th>\n",
       "      <td>2019-06-04</td>\n",
       "      <td>4194</td>\n",
       "    </tr>\n",
       "    <tr>\n",
       "      <th>4</th>\n",
       "      <td>2019-06-05</td>\n",
       "      <td>3998</td>\n",
       "    </tr>\n",
       "  </tbody>\n",
       "</table>\n",
       "</div>"
      ],
      "text/plain": [
       "  registration_date  registered_users_count\n",
       "0        2019-06-01                    4833\n",
       "1        2019-06-02                    5255\n",
       "2        2019-06-03                    4193\n",
       "3        2019-06-04                    4194\n",
       "4        2019-06-05                    3998"
      ]
     },
     "execution_count": 5,
     "metadata": {},
     "output_type": "execute_result"
    }
   ],
   "source": [
    "#Посмотрим на наш датафрейм:\n",
    "registered_users_count.head()"
   ]
  },
  {
   "cell_type": "code",
   "execution_count": 6,
   "metadata": {},
   "outputs": [
    {
     "data": {
      "text/plain": [
       "100423"
      ]
     },
     "execution_count": 6,
     "metadata": {},
     "output_type": "execute_result"
    }
   ],
   "source": [
    "#Всего за июнь зарегистрировались:\n",
    "registered_users_count['registered_users_count'].sum()"
   ]
  },
  {
   "cell_type": "markdown",
   "metadata": {},
   "source": [
    "Получим данные об активных пользователях из базы и подсчитаем по дням количество активных пользователей active_users_count с указанием даты регистрации registration_date. Дата регистрации будет выступать когортой."
   ]
  },
  {
   "cell_type": "code",
   "execution_count": 7,
   "metadata": {},
   "outputs": [],
   "source": [
    "def getActiveUsersCountWithCohorts():\n",
    "    query = '''SELECT ac.activity_date, r.registration_date, count(distinct(ac.user_id)) as active_users_count\n",
    "    FROM case9.user_activity ac\n",
    "    LEFT JOIN case9.registration r ON r.user_id = ac.user_id\n",
    "    WHERE r.registration_date >= '2019-06-01' and r.registration_date < '2019-07-01'\n",
    "    GROUP BY 1,2\n",
    "    '''.format()\n",
    "    conn = psycopg2.connect(dbname='skillfactory', \n",
    "                            user='skillfactory', \n",
    "                            host='84.201.134.129',\n",
    "                            password='cCkxxLVrDE8EbvjueeMedPKt',\n",
    "                            port=5432)\n",
    "    dict_cur = conn.cursor(cursor_factory=psycopg2.extras.DictCursor)\n",
    "    dict_cur.execute(query)\n",
    "    rows = dict_cur.fetchall()\n",
    "    data = []\n",
    "    for row in rows:\n",
    "        data.append(dict(row))\n",
    "    dict_cur.close()\n",
    "    conn.close()\n",
    "    return data\n",
    "\n",
    "active_users_count_with_cohorts = pd.DataFrame(getActiveUsersCountWithCohorts())"
   ]
  },
  {
   "cell_type": "code",
   "execution_count": 8,
   "metadata": {},
   "outputs": [
    {
     "name": "stdout",
     "output_type": "stream",
     "text": [
      "<class 'pandas.core.frame.DataFrame'>\n",
      "RangeIndex: 930 entries, 0 to 929\n",
      "Data columns (total 3 columns):\n",
      " #   Column              Non-Null Count  Dtype \n",
      "---  ------              --------------  ----- \n",
      " 0   activity_date       930 non-null    object\n",
      " 1   registration_date   930 non-null    object\n",
      " 2   active_users_count  930 non-null    int64 \n",
      "dtypes: int64(1), object(2)\n",
      "memory usage: 21.9+ KB\n"
     ]
    }
   ],
   "source": [
    "#Посмотрим на информацию о датафрейме active_users_count_with_cohorts:\n",
    "active_users_count_with_cohorts.info()"
   ]
  },
  {
   "cell_type": "code",
   "execution_count": 9,
   "metadata": {},
   "outputs": [],
   "source": [
    "# Как видно, колонки с датами также имеют тип object, то есть строковый тип. Преобразуем их к типу datetime:\n",
    "for col in ['activity_date','registration_date']:\n",
    "    active_users_count_with_cohorts[col] = pd.to_datetime(active_users_count_with_cohorts[col])"
   ]
  },
  {
   "cell_type": "code",
   "execution_count": 10,
   "metadata": {},
   "outputs": [
    {
     "data": {
      "text/html": [
       "<div>\n",
       "<style scoped>\n",
       "    .dataframe tbody tr th:only-of-type {\n",
       "        vertical-align: middle;\n",
       "    }\n",
       "\n",
       "    .dataframe tbody tr th {\n",
       "        vertical-align: top;\n",
       "    }\n",
       "\n",
       "    .dataframe thead th {\n",
       "        text-align: right;\n",
       "    }\n",
       "</style>\n",
       "<table border=\"1\" class=\"dataframe\">\n",
       "  <thead>\n",
       "    <tr style=\"text-align: right;\">\n",
       "      <th></th>\n",
       "      <th>activity_date</th>\n",
       "      <th>registration_date</th>\n",
       "      <th>active_users_count</th>\n",
       "    </tr>\n",
       "  </thead>\n",
       "  <tbody>\n",
       "    <tr>\n",
       "      <th>0</th>\n",
       "      <td>2019-06-01</td>\n",
       "      <td>2019-06-01</td>\n",
       "      <td>1651</td>\n",
       "    </tr>\n",
       "    <tr>\n",
       "      <th>1</th>\n",
       "      <td>2019-06-02</td>\n",
       "      <td>2019-06-01</td>\n",
       "      <td>1429</td>\n",
       "    </tr>\n",
       "    <tr>\n",
       "      <th>2</th>\n",
       "      <td>2019-06-02</td>\n",
       "      <td>2019-06-02</td>\n",
       "      <td>1933</td>\n",
       "    </tr>\n",
       "    <tr>\n",
       "      <th>3</th>\n",
       "      <td>2019-06-03</td>\n",
       "      <td>2019-06-01</td>\n",
       "      <td>1021</td>\n",
       "    </tr>\n",
       "    <tr>\n",
       "      <th>4</th>\n",
       "      <td>2019-06-03</td>\n",
       "      <td>2019-06-02</td>\n",
       "      <td>1550</td>\n",
       "    </tr>\n",
       "  </tbody>\n",
       "</table>\n",
       "</div>"
      ],
      "text/plain": [
       "  activity_date registration_date  active_users_count\n",
       "0    2019-06-01        2019-06-01                1651\n",
       "1    2019-06-02        2019-06-01                1429\n",
       "2    2019-06-02        2019-06-02                1933\n",
       "3    2019-06-03        2019-06-01                1021\n",
       "4    2019-06-03        2019-06-02                1550"
      ]
     },
     "execution_count": 10,
     "metadata": {},
     "output_type": "execute_result"
    }
   ],
   "source": [
    "# Оценим первые строки датафрейма active_users_count_with_cohorts:\n",
    "active_users_count_with_cohorts.head()"
   ]
  },
  {
   "cell_type": "code",
   "execution_count": 11,
   "metadata": {},
   "outputs": [
    {
     "data": {
      "text/html": [
       "<div>\n",
       "<style scoped>\n",
       "    .dataframe tbody tr th:only-of-type {\n",
       "        vertical-align: middle;\n",
       "    }\n",
       "\n",
       "    .dataframe tbody tr th {\n",
       "        vertical-align: top;\n",
       "    }\n",
       "\n",
       "    .dataframe thead th {\n",
       "        text-align: right;\n",
       "    }\n",
       "</style>\n",
       "<table border=\"1\" class=\"dataframe\">\n",
       "  <thead>\n",
       "    <tr style=\"text-align: right;\">\n",
       "      <th></th>\n",
       "      <th>activity_date</th>\n",
       "      <th>registration_date</th>\n",
       "      <th>active_users_count</th>\n",
       "      <th>registered_users_count</th>\n",
       "    </tr>\n",
       "  </thead>\n",
       "  <tbody>\n",
       "    <tr>\n",
       "      <th>0</th>\n",
       "      <td>2019-06-01</td>\n",
       "      <td>2019-06-01</td>\n",
       "      <td>1651</td>\n",
       "      <td>4833</td>\n",
       "    </tr>\n",
       "    <tr>\n",
       "      <th>1</th>\n",
       "      <td>2019-06-02</td>\n",
       "      <td>2019-06-01</td>\n",
       "      <td>1429</td>\n",
       "      <td>4833</td>\n",
       "    </tr>\n",
       "    <tr>\n",
       "      <th>2</th>\n",
       "      <td>2019-06-02</td>\n",
       "      <td>2019-06-02</td>\n",
       "      <td>1933</td>\n",
       "      <td>5255</td>\n",
       "    </tr>\n",
       "    <tr>\n",
       "      <th>3</th>\n",
       "      <td>2019-06-03</td>\n",
       "      <td>2019-06-01</td>\n",
       "      <td>1021</td>\n",
       "      <td>4833</td>\n",
       "    </tr>\n",
       "    <tr>\n",
       "      <th>4</th>\n",
       "      <td>2019-06-03</td>\n",
       "      <td>2019-06-02</td>\n",
       "      <td>1550</td>\n",
       "      <td>5255</td>\n",
       "    </tr>\n",
       "  </tbody>\n",
       "</table>\n",
       "</div>"
      ],
      "text/plain": [
       "  activity_date registration_date  active_users_count  registered_users_count\n",
       "0    2019-06-01        2019-06-01                1651                    4833\n",
       "1    2019-06-02        2019-06-01                1429                    4833\n",
       "2    2019-06-02        2019-06-02                1933                    5255\n",
       "3    2019-06-03        2019-06-01                1021                    4833\n",
       "4    2019-06-03        2019-06-02                1550                    5255"
      ]
     },
     "execution_count": 11,
     "metadata": {},
     "output_type": "execute_result"
    }
   ],
   "source": [
    "#Объединяем две таблицы:\n",
    "retention_table = active_users_count_with_cohorts.merge(registered_users_count,on=['registration_date'],how='left')\n",
    "retention_table.head()"
   ]
  },
  {
   "cell_type": "code",
   "execution_count": 12,
   "metadata": {},
   "outputs": [
    {
     "data": {
      "text/html": [
       "<div>\n",
       "<style scoped>\n",
       "    .dataframe tbody tr th:only-of-type {\n",
       "        vertical-align: middle;\n",
       "    }\n",
       "\n",
       "    .dataframe tbody tr th {\n",
       "        vertical-align: top;\n",
       "    }\n",
       "\n",
       "    .dataframe thead th {\n",
       "        text-align: right;\n",
       "    }\n",
       "</style>\n",
       "<table border=\"1\" class=\"dataframe\">\n",
       "  <thead>\n",
       "    <tr style=\"text-align: right;\">\n",
       "      <th></th>\n",
       "      <th>activity_date</th>\n",
       "      <th>registration_date</th>\n",
       "      <th>active_users_count</th>\n",
       "      <th>registered_users_count</th>\n",
       "      <th>retention_rate</th>\n",
       "    </tr>\n",
       "  </thead>\n",
       "  <tbody>\n",
       "    <tr>\n",
       "      <th>0</th>\n",
       "      <td>2019-06-01</td>\n",
       "      <td>2019-06-01</td>\n",
       "      <td>1651</td>\n",
       "      <td>4833</td>\n",
       "      <td>0.341610</td>\n",
       "    </tr>\n",
       "    <tr>\n",
       "      <th>1</th>\n",
       "      <td>2019-06-02</td>\n",
       "      <td>2019-06-01</td>\n",
       "      <td>1429</td>\n",
       "      <td>4833</td>\n",
       "      <td>0.295676</td>\n",
       "    </tr>\n",
       "    <tr>\n",
       "      <th>2</th>\n",
       "      <td>2019-06-02</td>\n",
       "      <td>2019-06-02</td>\n",
       "      <td>1933</td>\n",
       "      <td>5255</td>\n",
       "      <td>0.367840</td>\n",
       "    </tr>\n",
       "    <tr>\n",
       "      <th>3</th>\n",
       "      <td>2019-06-03</td>\n",
       "      <td>2019-06-01</td>\n",
       "      <td>1021</td>\n",
       "      <td>4833</td>\n",
       "      <td>0.211256</td>\n",
       "    </tr>\n",
       "    <tr>\n",
       "      <th>4</th>\n",
       "      <td>2019-06-03</td>\n",
       "      <td>2019-06-02</td>\n",
       "      <td>1550</td>\n",
       "      <td>5255</td>\n",
       "      <td>0.294957</td>\n",
       "    </tr>\n",
       "  </tbody>\n",
       "</table>\n",
       "</div>"
      ],
      "text/plain": [
       "  activity_date registration_date  active_users_count  registered_users_count  \\\n",
       "0    2019-06-01        2019-06-01                1651                    4833   \n",
       "1    2019-06-02        2019-06-01                1429                    4833   \n",
       "2    2019-06-02        2019-06-02                1933                    5255   \n",
       "3    2019-06-03        2019-06-01                1021                    4833   \n",
       "4    2019-06-03        2019-06-02                1550                    5255   \n",
       "\n",
       "   retention_rate  \n",
       "0        0.341610  \n",
       "1        0.295676  \n",
       "2        0.367840  \n",
       "3        0.211256  \n",
       "4        0.294957  "
      ]
     },
     "execution_count": 12,
     "metadata": {},
     "output_type": "execute_result"
    }
   ],
   "source": [
    "#Считаем Retention Rate:\n",
    "retention_table['retention_rate'] = retention_table['active_users_count'] / retention_table['registered_users_count']\n",
    "retention_table.head()"
   ]
  },
  {
   "cell_type": "code",
   "execution_count": 13,
   "metadata": {},
   "outputs": [
    {
     "data": {
      "text/plain": [
       "0   0 days\n",
       "1   1 days\n",
       "2   0 days\n",
       "3   2 days\n",
       "4   1 days\n",
       "Name: lifetime, dtype: timedelta64[ns]"
      ]
     },
     "execution_count": 13,
     "metadata": {},
     "output_type": "execute_result"
    }
   ],
   "source": [
    "#Определяем, какое количество дней прошло с момента регистрации до определенного дня активности:\n",
    "retention_table['lifetime'] = retention_table['activity_date'] - retention_table['registration_date']\n",
    "retention_table['lifetime'].head()"
   ]
  },
  {
   "cell_type": "code",
   "execution_count": 14,
   "metadata": {},
   "outputs": [
    {
     "data": {
      "text/plain": [
       "0    0\n",
       "1    1\n",
       "2    0\n",
       "3    2\n",
       "4    1\n",
       "Name: lifetime, dtype: int32"
      ]
     },
     "execution_count": 14,
     "metadata": {},
     "output_type": "execute_result"
    }
   ],
   "source": [
    "#Приводим тип данных в колонке lifetime к целому числу:\n",
    "retention_table['lifetime'] = retention_table['lifetime']/np.timedelta64(1,'D')\n",
    "retention_table['lifetime'] = retention_table['lifetime'].astype(int) # Приведем тип к целому числу\n",
    "retention_table['lifetime'].head()"
   ]
  },
  {
   "cell_type": "code",
   "execution_count": 15,
   "metadata": {},
   "outputs": [
    {
     "data": {
      "text/html": [
       "<div>\n",
       "<style scoped>\n",
       "    .dataframe tbody tr th:only-of-type {\n",
       "        vertical-align: middle;\n",
       "    }\n",
       "\n",
       "    .dataframe tbody tr th {\n",
       "        vertical-align: top;\n",
       "    }\n",
       "\n",
       "    .dataframe thead th {\n",
       "        text-align: right;\n",
       "    }\n",
       "</style>\n",
       "<table border=\"1\" class=\"dataframe\">\n",
       "  <thead>\n",
       "    <tr style=\"text-align: right;\">\n",
       "      <th></th>\n",
       "      <th>activity_date</th>\n",
       "      <th>registration_date</th>\n",
       "      <th>active_users_count</th>\n",
       "      <th>registered_users_count</th>\n",
       "      <th>retention_rate</th>\n",
       "      <th>lifetime</th>\n",
       "    </tr>\n",
       "  </thead>\n",
       "  <tbody>\n",
       "    <tr>\n",
       "      <th>0</th>\n",
       "      <td>2019-06-01</td>\n",
       "      <td>2019-06-01</td>\n",
       "      <td>1651</td>\n",
       "      <td>4833</td>\n",
       "      <td>0.341610</td>\n",
       "      <td>0</td>\n",
       "    </tr>\n",
       "    <tr>\n",
       "      <th>1</th>\n",
       "      <td>2019-06-02</td>\n",
       "      <td>2019-06-01</td>\n",
       "      <td>1429</td>\n",
       "      <td>4833</td>\n",
       "      <td>0.295676</td>\n",
       "      <td>1</td>\n",
       "    </tr>\n",
       "    <tr>\n",
       "      <th>2</th>\n",
       "      <td>2019-06-02</td>\n",
       "      <td>2019-06-02</td>\n",
       "      <td>1933</td>\n",
       "      <td>5255</td>\n",
       "      <td>0.367840</td>\n",
       "      <td>0</td>\n",
       "    </tr>\n",
       "    <tr>\n",
       "      <th>3</th>\n",
       "      <td>2019-06-03</td>\n",
       "      <td>2019-06-01</td>\n",
       "      <td>1021</td>\n",
       "      <td>4833</td>\n",
       "      <td>0.211256</td>\n",
       "      <td>2</td>\n",
       "    </tr>\n",
       "    <tr>\n",
       "      <th>4</th>\n",
       "      <td>2019-06-03</td>\n",
       "      <td>2019-06-02</td>\n",
       "      <td>1550</td>\n",
       "      <td>5255</td>\n",
       "      <td>0.294957</td>\n",
       "      <td>1</td>\n",
       "    </tr>\n",
       "    <tr>\n",
       "      <th>5</th>\n",
       "      <td>2019-06-03</td>\n",
       "      <td>2019-06-03</td>\n",
       "      <td>1432</td>\n",
       "      <td>4193</td>\n",
       "      <td>0.341522</td>\n",
       "      <td>0</td>\n",
       "    </tr>\n",
       "    <tr>\n",
       "      <th>6</th>\n",
       "      <td>2019-06-04</td>\n",
       "      <td>2019-06-01</td>\n",
       "      <td>849</td>\n",
       "      <td>4833</td>\n",
       "      <td>0.175667</td>\n",
       "      <td>3</td>\n",
       "    </tr>\n",
       "    <tr>\n",
       "      <th>7</th>\n",
       "      <td>2019-06-04</td>\n",
       "      <td>2019-06-02</td>\n",
       "      <td>1163</td>\n",
       "      <td>5255</td>\n",
       "      <td>0.221313</td>\n",
       "      <td>2</td>\n",
       "    </tr>\n",
       "    <tr>\n",
       "      <th>8</th>\n",
       "      <td>2019-06-04</td>\n",
       "      <td>2019-06-03</td>\n",
       "      <td>1244</td>\n",
       "      <td>4193</td>\n",
       "      <td>0.296685</td>\n",
       "      <td>1</td>\n",
       "    </tr>\n",
       "    <tr>\n",
       "      <th>9</th>\n",
       "      <td>2019-06-04</td>\n",
       "      <td>2019-06-04</td>\n",
       "      <td>1473</td>\n",
       "      <td>4194</td>\n",
       "      <td>0.351216</td>\n",
       "      <td>0</td>\n",
       "    </tr>\n",
       "  </tbody>\n",
       "</table>\n",
       "</div>"
      ],
      "text/plain": [
       "  activity_date registration_date  active_users_count  registered_users_count  \\\n",
       "0    2019-06-01        2019-06-01                1651                    4833   \n",
       "1    2019-06-02        2019-06-01                1429                    4833   \n",
       "2    2019-06-02        2019-06-02                1933                    5255   \n",
       "3    2019-06-03        2019-06-01                1021                    4833   \n",
       "4    2019-06-03        2019-06-02                1550                    5255   \n",
       "5    2019-06-03        2019-06-03                1432                    4193   \n",
       "6    2019-06-04        2019-06-01                 849                    4833   \n",
       "7    2019-06-04        2019-06-02                1163                    5255   \n",
       "8    2019-06-04        2019-06-03                1244                    4193   \n",
       "9    2019-06-04        2019-06-04                1473                    4194   \n",
       "\n",
       "   retention_rate  lifetime  \n",
       "0        0.341610         0  \n",
       "1        0.295676         1  \n",
       "2        0.367840         0  \n",
       "3        0.211256         2  \n",
       "4        0.294957         1  \n",
       "5        0.341522         0  \n",
       "6        0.175667         3  \n",
       "7        0.221313         2  \n",
       "8        0.296685         1  \n",
       "9        0.351216         0  "
      ]
     },
     "execution_count": 15,
     "metadata": {},
     "output_type": "execute_result"
    }
   ],
   "source": [
    "retention_table.head(10)"
   ]
  },
  {
   "cell_type": "code",
   "execution_count": 16,
   "metadata": {},
   "outputs": [
    {
     "data": {
      "text/html": [
       "<div>\n",
       "<style scoped>\n",
       "    .dataframe tbody tr th:only-of-type {\n",
       "        vertical-align: middle;\n",
       "    }\n",
       "\n",
       "    .dataframe tbody tr th {\n",
       "        vertical-align: top;\n",
       "    }\n",
       "\n",
       "    .dataframe thead th {\n",
       "        text-align: right;\n",
       "    }\n",
       "</style>\n",
       "<table border=\"1\" class=\"dataframe\">\n",
       "  <thead>\n",
       "    <tr style=\"text-align: right;\">\n",
       "      <th>lifetime</th>\n",
       "      <th>0</th>\n",
       "      <th>1</th>\n",
       "      <th>2</th>\n",
       "      <th>3</th>\n",
       "      <th>4</th>\n",
       "      <th>5</th>\n",
       "      <th>6</th>\n",
       "      <th>7</th>\n",
       "      <th>8</th>\n",
       "      <th>9</th>\n",
       "      <th>...</th>\n",
       "      <th>21</th>\n",
       "      <th>22</th>\n",
       "      <th>23</th>\n",
       "      <th>24</th>\n",
       "      <th>25</th>\n",
       "      <th>26</th>\n",
       "      <th>27</th>\n",
       "      <th>28</th>\n",
       "      <th>29</th>\n",
       "      <th>30</th>\n",
       "    </tr>\n",
       "    <tr>\n",
       "      <th>registration_date</th>\n",
       "      <th></th>\n",
       "      <th></th>\n",
       "      <th></th>\n",
       "      <th></th>\n",
       "      <th></th>\n",
       "      <th></th>\n",
       "      <th></th>\n",
       "      <th></th>\n",
       "      <th></th>\n",
       "      <th></th>\n",
       "      <th></th>\n",
       "      <th></th>\n",
       "      <th></th>\n",
       "      <th></th>\n",
       "      <th></th>\n",
       "      <th></th>\n",
       "      <th></th>\n",
       "      <th></th>\n",
       "      <th></th>\n",
       "      <th></th>\n",
       "      <th></th>\n",
       "    </tr>\n",
       "  </thead>\n",
       "  <tbody>\n",
       "    <tr>\n",
       "      <th>2019-06-01</th>\n",
       "      <td>0.341610</td>\n",
       "      <td>0.295676</td>\n",
       "      <td>0.211256</td>\n",
       "      <td>0.175667</td>\n",
       "      <td>0.143596</td>\n",
       "      <td>0.134906</td>\n",
       "      <td>0.121664</td>\n",
       "      <td>0.112766</td>\n",
       "      <td>0.110904</td>\n",
       "      <td>0.099938</td>\n",
       "      <td>...</td>\n",
       "      <td>0.060418</td>\n",
       "      <td>0.061246</td>\n",
       "      <td>0.058763</td>\n",
       "      <td>0.055245</td>\n",
       "      <td>0.056487</td>\n",
       "      <td>0.050693</td>\n",
       "      <td>0.049659</td>\n",
       "      <td>0.050693</td>\n",
       "      <td>0.042003</td>\n",
       "      <td>0.028968</td>\n",
       "    </tr>\n",
       "    <tr>\n",
       "      <th>2019-06-02</th>\n",
       "      <td>0.367840</td>\n",
       "      <td>0.294957</td>\n",
       "      <td>0.221313</td>\n",
       "      <td>0.188202</td>\n",
       "      <td>0.164225</td>\n",
       "      <td>0.145576</td>\n",
       "      <td>0.130923</td>\n",
       "      <td>0.129971</td>\n",
       "      <td>0.121598</td>\n",
       "      <td>0.109610</td>\n",
       "      <td>...</td>\n",
       "      <td>0.073073</td>\n",
       "      <td>0.071931</td>\n",
       "      <td>0.068506</td>\n",
       "      <td>0.062797</td>\n",
       "      <td>0.061656</td>\n",
       "      <td>0.062797</td>\n",
       "      <td>0.063178</td>\n",
       "      <td>0.060514</td>\n",
       "      <td>0.044719</td>\n",
       "      <td>0.028925</td>\n",
       "    </tr>\n",
       "    <tr>\n",
       "      <th>2019-06-03</th>\n",
       "      <td>0.341522</td>\n",
       "      <td>0.296685</td>\n",
       "      <td>0.207727</td>\n",
       "      <td>0.173384</td>\n",
       "      <td>0.150727</td>\n",
       "      <td>0.123062</td>\n",
       "      <td>0.118054</td>\n",
       "      <td>0.115430</td>\n",
       "      <td>0.111376</td>\n",
       "      <td>0.099213</td>\n",
       "      <td>...</td>\n",
       "      <td>0.065109</td>\n",
       "      <td>0.064870</td>\n",
       "      <td>0.063916</td>\n",
       "      <td>0.057238</td>\n",
       "      <td>0.056284</td>\n",
       "      <td>0.051753</td>\n",
       "      <td>0.052707</td>\n",
       "      <td>0.051991</td>\n",
       "      <td>0.041975</td>\n",
       "      <td>0.028858</td>\n",
       "    </tr>\n",
       "    <tr>\n",
       "      <th>2019-06-04</th>\n",
       "      <td>0.351216</td>\n",
       "      <td>0.296853</td>\n",
       "      <td>0.229852</td>\n",
       "      <td>0.180019</td>\n",
       "      <td>0.147592</td>\n",
       "      <td>0.133047</td>\n",
       "      <td>0.135670</td>\n",
       "      <td>0.121841</td>\n",
       "      <td>0.106581</td>\n",
       "      <td>0.098236</td>\n",
       "      <td>...</td>\n",
       "      <td>0.063662</td>\n",
       "      <td>0.060324</td>\n",
       "      <td>0.058417</td>\n",
       "      <td>0.053648</td>\n",
       "      <td>0.051502</td>\n",
       "      <td>0.051979</td>\n",
       "      <td>0.051264</td>\n",
       "      <td>0.047926</td>\n",
       "      <td>0.036242</td>\n",
       "      <td>0.023605</td>\n",
       "    </tr>\n",
       "    <tr>\n",
       "      <th>2019-06-05</th>\n",
       "      <td>0.337419</td>\n",
       "      <td>0.305403</td>\n",
       "      <td>0.223112</td>\n",
       "      <td>0.172336</td>\n",
       "      <td>0.147324</td>\n",
       "      <td>0.140570</td>\n",
       "      <td>0.131816</td>\n",
       "      <td>0.118059</td>\n",
       "      <td>0.108304</td>\n",
       "      <td>0.097799</td>\n",
       "      <td>...</td>\n",
       "      <td>0.066033</td>\n",
       "      <td>0.064282</td>\n",
       "      <td>0.060030</td>\n",
       "      <td>0.056278</td>\n",
       "      <td>0.054527</td>\n",
       "      <td>0.054527</td>\n",
       "      <td>0.053527</td>\n",
       "      <td>0.051026</td>\n",
       "      <td>0.037519</td>\n",
       "      <td>0.027514</td>\n",
       "    </tr>\n",
       "    <tr>\n",
       "      <th>2019-06-06</th>\n",
       "      <td>0.362845</td>\n",
       "      <td>0.306551</td>\n",
       "      <td>0.208802</td>\n",
       "      <td>0.178864</td>\n",
       "      <td>0.169396</td>\n",
       "      <td>0.141505</td>\n",
       "      <td>0.131013</td>\n",
       "      <td>0.117707</td>\n",
       "      <td>0.109519</td>\n",
       "      <td>0.098516</td>\n",
       "      <td>...</td>\n",
       "      <td>0.066018</td>\n",
       "      <td>0.063715</td>\n",
       "      <td>0.064483</td>\n",
       "      <td>0.057318</td>\n",
       "      <td>0.056551</td>\n",
       "      <td>0.055015</td>\n",
       "      <td>0.055527</td>\n",
       "      <td>0.055271</td>\n",
       "      <td>0.045803</td>\n",
       "      <td>0.030194</td>\n",
       "    </tr>\n",
       "    <tr>\n",
       "      <th>2019-06-07</th>\n",
       "      <td>0.370719</td>\n",
       "      <td>0.294691</td>\n",
       "      <td>0.219290</td>\n",
       "      <td>0.190386</td>\n",
       "      <td>0.171222</td>\n",
       "      <td>0.147345</td>\n",
       "      <td>0.129752</td>\n",
       "      <td>0.120955</td>\n",
       "      <td>0.108702</td>\n",
       "      <td>0.106189</td>\n",
       "      <td>...</td>\n",
       "      <td>0.068803</td>\n",
       "      <td>0.068803</td>\n",
       "      <td>0.068175</td>\n",
       "      <td>0.068175</td>\n",
       "      <td>0.063776</td>\n",
       "      <td>0.064719</td>\n",
       "      <td>0.062834</td>\n",
       "      <td>0.059692</td>\n",
       "      <td>0.045240</td>\n",
       "      <td>0.027961</td>\n",
       "    </tr>\n",
       "    <tr>\n",
       "      <th>2019-06-08</th>\n",
       "      <td>0.361902</td>\n",
       "      <td>0.330097</td>\n",
       "      <td>0.251423</td>\n",
       "      <td>0.204553</td>\n",
       "      <td>0.179444</td>\n",
       "      <td>0.156344</td>\n",
       "      <td>0.144961</td>\n",
       "      <td>0.141948</td>\n",
       "      <td>0.127218</td>\n",
       "      <td>0.116170</td>\n",
       "      <td>...</td>\n",
       "      <td>0.076666</td>\n",
       "      <td>0.071979</td>\n",
       "      <td>0.072648</td>\n",
       "      <td>0.071979</td>\n",
       "      <td>0.067626</td>\n",
       "      <td>0.066622</td>\n",
       "      <td>0.066622</td>\n",
       "      <td>0.065618</td>\n",
       "      <td>0.052896</td>\n",
       "      <td>0.037496</td>\n",
       "    </tr>\n",
       "    <tr>\n",
       "      <th>2019-06-09</th>\n",
       "      <td>0.363961</td>\n",
       "      <td>0.321811</td>\n",
       "      <td>0.234835</td>\n",
       "      <td>0.192685</td>\n",
       "      <td>0.165923</td>\n",
       "      <td>0.149643</td>\n",
       "      <td>0.143845</td>\n",
       "      <td>0.136039</td>\n",
       "      <td>0.118198</td>\n",
       "      <td>0.113069</td>\n",
       "      <td>...</td>\n",
       "      <td>0.081401</td>\n",
       "      <td>0.074710</td>\n",
       "      <td>0.071142</td>\n",
       "      <td>0.066905</td>\n",
       "      <td>0.068020</td>\n",
       "      <td>0.065343</td>\n",
       "      <td>0.066236</td>\n",
       "      <td>0.062444</td>\n",
       "      <td>0.049286</td>\n",
       "      <td>0.031891</td>\n",
       "    </tr>\n",
       "    <tr>\n",
       "      <th>2019-06-10</th>\n",
       "      <td>0.350886</td>\n",
       "      <td>0.304467</td>\n",
       "      <td>0.216122</td>\n",
       "      <td>0.188670</td>\n",
       "      <td>0.163714</td>\n",
       "      <td>0.143499</td>\n",
       "      <td>0.137260</td>\n",
       "      <td>0.124782</td>\n",
       "      <td>0.118043</td>\n",
       "      <td>0.110557</td>\n",
       "      <td>...</td>\n",
       "      <td>0.070626</td>\n",
       "      <td>0.065136</td>\n",
       "      <td>0.061892</td>\n",
       "      <td>0.060893</td>\n",
       "      <td>0.056401</td>\n",
       "      <td>0.056651</td>\n",
       "      <td>0.057899</td>\n",
       "      <td>0.053906</td>\n",
       "      <td>0.043424</td>\n",
       "      <td>0.026953</td>\n",
       "    </tr>\n",
       "    <tr>\n",
       "      <th>2019-06-11</th>\n",
       "      <td>0.356269</td>\n",
       "      <td>0.313299</td>\n",
       "      <td>0.234430</td>\n",
       "      <td>0.199619</td>\n",
       "      <td>0.170247</td>\n",
       "      <td>0.158281</td>\n",
       "      <td>0.148491</td>\n",
       "      <td>0.135165</td>\n",
       "      <td>0.128094</td>\n",
       "      <td>0.115583</td>\n",
       "      <td>...</td>\n",
       "      <td>0.070166</td>\n",
       "      <td>0.066358</td>\n",
       "      <td>0.064999</td>\n",
       "      <td>0.062823</td>\n",
       "      <td>0.059016</td>\n",
       "      <td>0.062279</td>\n",
       "      <td>0.059016</td>\n",
       "      <td>0.056568</td>\n",
       "      <td>0.042426</td>\n",
       "      <td>0.025836</td>\n",
       "    </tr>\n",
       "    <tr>\n",
       "      <th>2019-06-12</th>\n",
       "      <td>0.371951</td>\n",
       "      <td>0.309650</td>\n",
       "      <td>0.238865</td>\n",
       "      <td>0.198568</td>\n",
       "      <td>0.175239</td>\n",
       "      <td>0.160657</td>\n",
       "      <td>0.144221</td>\n",
       "      <td>0.134677</td>\n",
       "      <td>0.121686</td>\n",
       "      <td>0.115058</td>\n",
       "      <td>...</td>\n",
       "      <td>0.067603</td>\n",
       "      <td>0.065748</td>\n",
       "      <td>0.067073</td>\n",
       "      <td>0.061506</td>\n",
       "      <td>0.059915</td>\n",
       "      <td>0.059385</td>\n",
       "      <td>0.059120</td>\n",
       "      <td>0.053818</td>\n",
       "      <td>0.042418</td>\n",
       "      <td>0.030488</td>\n",
       "    </tr>\n",
       "    <tr>\n",
       "      <th>2019-06-13</th>\n",
       "      <td>0.344092</td>\n",
       "      <td>0.305361</td>\n",
       "      <td>0.227056</td>\n",
       "      <td>0.186921</td>\n",
       "      <td>0.171765</td>\n",
       "      <td>0.151277</td>\n",
       "      <td>0.138647</td>\n",
       "      <td>0.133034</td>\n",
       "      <td>0.116475</td>\n",
       "      <td>0.106652</td>\n",
       "      <td>...</td>\n",
       "      <td>0.069604</td>\n",
       "      <td>0.062026</td>\n",
       "      <td>0.059781</td>\n",
       "      <td>0.055010</td>\n",
       "      <td>0.058939</td>\n",
       "      <td>0.057536</td>\n",
       "      <td>0.056413</td>\n",
       "      <td>0.053887</td>\n",
       "      <td>0.040696</td>\n",
       "      <td>0.027224</td>\n",
       "    </tr>\n",
       "    <tr>\n",
       "      <th>2019-06-14</th>\n",
       "      <td>0.336286</td>\n",
       "      <td>0.294746</td>\n",
       "      <td>0.220525</td>\n",
       "      <td>0.181735</td>\n",
       "      <td>0.157911</td>\n",
       "      <td>0.137141</td>\n",
       "      <td>0.125840</td>\n",
       "      <td>0.118204</td>\n",
       "      <td>0.115150</td>\n",
       "      <td>0.101405</td>\n",
       "      <td>...</td>\n",
       "      <td>0.062004</td>\n",
       "      <td>0.058033</td>\n",
       "      <td>0.056200</td>\n",
       "      <td>0.052841</td>\n",
       "      <td>0.054062</td>\n",
       "      <td>0.053146</td>\n",
       "      <td>0.051924</td>\n",
       "      <td>0.051924</td>\n",
       "      <td>0.043372</td>\n",
       "      <td>0.026878</td>\n",
       "    </tr>\n",
       "    <tr>\n",
       "      <th>2019-06-15</th>\n",
       "      <td>0.366205</td>\n",
       "      <td>0.327348</td>\n",
       "      <td>0.227848</td>\n",
       "      <td>0.196938</td>\n",
       "      <td>0.176332</td>\n",
       "      <td>0.160730</td>\n",
       "      <td>0.144834</td>\n",
       "      <td>0.145128</td>\n",
       "      <td>0.136591</td>\n",
       "      <td>0.123344</td>\n",
       "      <td>...</td>\n",
       "      <td>0.072122</td>\n",
       "      <td>0.070062</td>\n",
       "      <td>0.069767</td>\n",
       "      <td>0.067118</td>\n",
       "      <td>0.065941</td>\n",
       "      <td>0.060642</td>\n",
       "      <td>0.058581</td>\n",
       "      <td>0.061230</td>\n",
       "      <td>0.044451</td>\n",
       "      <td>0.031204</td>\n",
       "    </tr>\n",
       "    <tr>\n",
       "      <th>2019-06-16</th>\n",
       "      <td>0.369226</td>\n",
       "      <td>0.313799</td>\n",
       "      <td>0.238164</td>\n",
       "      <td>0.202656</td>\n",
       "      <td>0.183891</td>\n",
       "      <td>0.157910</td>\n",
       "      <td>0.153291</td>\n",
       "      <td>0.141166</td>\n",
       "      <td>0.128464</td>\n",
       "      <td>0.123845</td>\n",
       "      <td>...</td>\n",
       "      <td>0.078811</td>\n",
       "      <td>0.074480</td>\n",
       "      <td>0.069573</td>\n",
       "      <td>0.067841</td>\n",
       "      <td>0.064088</td>\n",
       "      <td>0.058603</td>\n",
       "      <td>0.062644</td>\n",
       "      <td>0.058603</td>\n",
       "      <td>0.042148</td>\n",
       "      <td>0.027714</td>\n",
       "    </tr>\n",
       "    <tr>\n",
       "      <th>2019-06-17</th>\n",
       "      <td>0.342867</td>\n",
       "      <td>0.306776</td>\n",
       "      <td>0.217909</td>\n",
       "      <td>0.189990</td>\n",
       "      <td>0.156963</td>\n",
       "      <td>0.145386</td>\n",
       "      <td>0.133129</td>\n",
       "      <td>0.123596</td>\n",
       "      <td>0.115083</td>\n",
       "      <td>0.113381</td>\n",
       "      <td>...</td>\n",
       "      <td>0.057201</td>\n",
       "      <td>0.055499</td>\n",
       "      <td>0.051753</td>\n",
       "      <td>0.051073</td>\n",
       "      <td>0.051073</td>\n",
       "      <td>0.050732</td>\n",
       "      <td>0.048349</td>\n",
       "      <td>0.045625</td>\n",
       "      <td>0.035410</td>\n",
       "      <td>0.025196</td>\n",
       "    </tr>\n",
       "    <tr>\n",
       "      <th>2019-06-18</th>\n",
       "      <td>0.348438</td>\n",
       "      <td>0.303811</td>\n",
       "      <td>0.223481</td>\n",
       "      <td>0.191212</td>\n",
       "      <td>0.158943</td>\n",
       "      <td>0.146928</td>\n",
       "      <td>0.134569</td>\n",
       "      <td>0.125644</td>\n",
       "      <td>0.113972</td>\n",
       "      <td>0.101270</td>\n",
       "      <td>...</td>\n",
       "      <td>0.061449</td>\n",
       "      <td>0.061449</td>\n",
       "      <td>0.057329</td>\n",
       "      <td>0.051493</td>\n",
       "      <td>0.050463</td>\n",
       "      <td>0.045314</td>\n",
       "      <td>0.050463</td>\n",
       "      <td>0.050807</td>\n",
       "      <td>0.040851</td>\n",
       "      <td>0.028150</td>\n",
       "    </tr>\n",
       "    <tr>\n",
       "      <th>2019-06-19</th>\n",
       "      <td>0.349844</td>\n",
       "      <td>0.324905</td>\n",
       "      <td>0.241773</td>\n",
       "      <td>0.189470</td>\n",
       "      <td>0.175268</td>\n",
       "      <td>0.165570</td>\n",
       "      <td>0.148597</td>\n",
       "      <td>0.129200</td>\n",
       "      <td>0.122619</td>\n",
       "      <td>0.108071</td>\n",
       "      <td>...</td>\n",
       "      <td>0.063734</td>\n",
       "      <td>0.063388</td>\n",
       "      <td>0.058192</td>\n",
       "      <td>0.056114</td>\n",
       "      <td>0.052996</td>\n",
       "      <td>0.053689</td>\n",
       "      <td>0.052650</td>\n",
       "      <td>0.051264</td>\n",
       "      <td>0.037409</td>\n",
       "      <td>0.025979</td>\n",
       "    </tr>\n",
       "    <tr>\n",
       "      <th>2019-06-20</th>\n",
       "      <td>0.341309</td>\n",
       "      <td>0.306414</td>\n",
       "      <td>0.224327</td>\n",
       "      <td>0.186773</td>\n",
       "      <td>0.163177</td>\n",
       "      <td>0.151878</td>\n",
       "      <td>0.139249</td>\n",
       "      <td>0.122964</td>\n",
       "      <td>0.118644</td>\n",
       "      <td>0.110003</td>\n",
       "      <td>...</td>\n",
       "      <td>0.067132</td>\n",
       "      <td>0.061815</td>\n",
       "      <td>0.058824</td>\n",
       "      <td>0.057162</td>\n",
       "      <td>0.059821</td>\n",
       "      <td>0.057494</td>\n",
       "      <td>0.056830</td>\n",
       "      <td>0.053174</td>\n",
       "      <td>0.039880</td>\n",
       "      <td>0.024593</td>\n",
       "    </tr>\n",
       "    <tr>\n",
       "      <th>2019-06-21</th>\n",
       "      <td>0.330370</td>\n",
       "      <td>0.301481</td>\n",
       "      <td>0.219630</td>\n",
       "      <td>0.191111</td>\n",
       "      <td>0.162593</td>\n",
       "      <td>0.142963</td>\n",
       "      <td>0.128889</td>\n",
       "      <td>0.117778</td>\n",
       "      <td>0.108519</td>\n",
       "      <td>0.094815</td>\n",
       "      <td>...</td>\n",
       "      <td>0.061852</td>\n",
       "      <td>0.062222</td>\n",
       "      <td>0.059259</td>\n",
       "      <td>0.060000</td>\n",
       "      <td>0.055926</td>\n",
       "      <td>0.053333</td>\n",
       "      <td>0.048889</td>\n",
       "      <td>0.049630</td>\n",
       "      <td>0.041481</td>\n",
       "      <td>0.030370</td>\n",
       "    </tr>\n",
       "    <tr>\n",
       "      <th>2019-06-22</th>\n",
       "      <td>0.346207</td>\n",
       "      <td>0.297147</td>\n",
       "      <td>0.201113</td>\n",
       "      <td>0.172582</td>\n",
       "      <td>0.148921</td>\n",
       "      <td>0.132220</td>\n",
       "      <td>0.118650</td>\n",
       "      <td>0.122129</td>\n",
       "      <td>0.109603</td>\n",
       "      <td>0.095338</td>\n",
       "      <td>...</td>\n",
       "      <td>0.052888</td>\n",
       "      <td>0.053584</td>\n",
       "      <td>0.050104</td>\n",
       "      <td>0.052192</td>\n",
       "      <td>0.048713</td>\n",
       "      <td>0.043841</td>\n",
       "      <td>0.042102</td>\n",
       "      <td>0.042450</td>\n",
       "      <td>0.035491</td>\n",
       "      <td>0.021573</td>\n",
       "    </tr>\n",
       "    <tr>\n",
       "      <th>2019-06-23</th>\n",
       "      <td>0.355713</td>\n",
       "      <td>0.280826</td>\n",
       "      <td>0.214332</td>\n",
       "      <td>0.178502</td>\n",
       "      <td>0.153325</td>\n",
       "      <td>0.130407</td>\n",
       "      <td>0.125565</td>\n",
       "      <td>0.115881</td>\n",
       "      <td>0.105552</td>\n",
       "      <td>0.096514</td>\n",
       "      <td>...</td>\n",
       "      <td>0.059716</td>\n",
       "      <td>0.058425</td>\n",
       "      <td>0.055197</td>\n",
       "      <td>0.051001</td>\n",
       "      <td>0.051323</td>\n",
       "      <td>0.044868</td>\n",
       "      <td>0.048096</td>\n",
       "      <td>0.048741</td>\n",
       "      <td>0.034538</td>\n",
       "      <td>0.021950</td>\n",
       "    </tr>\n",
       "    <tr>\n",
       "      <th>2019-06-24</th>\n",
       "      <td>0.346792</td>\n",
       "      <td>0.297891</td>\n",
       "      <td>0.214446</td>\n",
       "      <td>0.187528</td>\n",
       "      <td>0.155227</td>\n",
       "      <td>0.132795</td>\n",
       "      <td>0.128309</td>\n",
       "      <td>0.114850</td>\n",
       "      <td>0.100942</td>\n",
       "      <td>0.094213</td>\n",
       "      <td>...</td>\n",
       "      <td>0.062360</td>\n",
       "      <td>0.065052</td>\n",
       "      <td>0.059219</td>\n",
       "      <td>0.055630</td>\n",
       "      <td>0.054284</td>\n",
       "      <td>0.050695</td>\n",
       "      <td>0.047106</td>\n",
       "      <td>0.045312</td>\n",
       "      <td>0.037236</td>\n",
       "      <td>0.027367</td>\n",
       "    </tr>\n",
       "    <tr>\n",
       "      <th>2019-06-25</th>\n",
       "      <td>0.344742</td>\n",
       "      <td>0.298115</td>\n",
       "      <td>0.218750</td>\n",
       "      <td>0.181052</td>\n",
       "      <td>0.150794</td>\n",
       "      <td>0.144841</td>\n",
       "      <td>0.132937</td>\n",
       "      <td>0.120536</td>\n",
       "      <td>0.113095</td>\n",
       "      <td>0.110119</td>\n",
       "      <td>...</td>\n",
       "      <td>0.064980</td>\n",
       "      <td>0.062004</td>\n",
       "      <td>0.055556</td>\n",
       "      <td>0.047123</td>\n",
       "      <td>0.048115</td>\n",
       "      <td>0.050099</td>\n",
       "      <td>0.047619</td>\n",
       "      <td>0.049603</td>\n",
       "      <td>0.040179</td>\n",
       "      <td>0.025794</td>\n",
       "    </tr>\n",
       "    <tr>\n",
       "      <th>2019-06-26</th>\n",
       "      <td>0.338388</td>\n",
       "      <td>0.315425</td>\n",
       "      <td>0.219671</td>\n",
       "      <td>0.175477</td>\n",
       "      <td>0.148614</td>\n",
       "      <td>0.141681</td>\n",
       "      <td>0.132149</td>\n",
       "      <td>0.119151</td>\n",
       "      <td>0.111352</td>\n",
       "      <td>0.105286</td>\n",
       "      <td>...</td>\n",
       "      <td>0.064991</td>\n",
       "      <td>0.059792</td>\n",
       "      <td>0.055459</td>\n",
       "      <td>0.053726</td>\n",
       "      <td>0.051127</td>\n",
       "      <td>0.051127</td>\n",
       "      <td>0.044627</td>\n",
       "      <td>0.045494</td>\n",
       "      <td>0.033795</td>\n",
       "      <td>0.020797</td>\n",
       "    </tr>\n",
       "    <tr>\n",
       "      <th>2019-06-27</th>\n",
       "      <td>0.336085</td>\n",
       "      <td>0.283019</td>\n",
       "      <td>0.202044</td>\n",
       "      <td>0.166274</td>\n",
       "      <td>0.141509</td>\n",
       "      <td>0.121462</td>\n",
       "      <td>0.111635</td>\n",
       "      <td>0.101808</td>\n",
       "      <td>0.092374</td>\n",
       "      <td>0.088836</td>\n",
       "      <td>...</td>\n",
       "      <td>0.047956</td>\n",
       "      <td>0.048742</td>\n",
       "      <td>0.045204</td>\n",
       "      <td>0.043239</td>\n",
       "      <td>0.041274</td>\n",
       "      <td>0.041667</td>\n",
       "      <td>0.038915</td>\n",
       "      <td>0.039308</td>\n",
       "      <td>0.029874</td>\n",
       "      <td>0.020833</td>\n",
       "    </tr>\n",
       "    <tr>\n",
       "      <th>2019-06-28</th>\n",
       "      <td>0.323673</td>\n",
       "      <td>0.295918</td>\n",
       "      <td>0.213061</td>\n",
       "      <td>0.184082</td>\n",
       "      <td>0.153469</td>\n",
       "      <td>0.138776</td>\n",
       "      <td>0.123265</td>\n",
       "      <td>0.116735</td>\n",
       "      <td>0.109388</td>\n",
       "      <td>0.100000</td>\n",
       "      <td>...</td>\n",
       "      <td>0.059592</td>\n",
       "      <td>0.054694</td>\n",
       "      <td>0.055102</td>\n",
       "      <td>0.055102</td>\n",
       "      <td>0.057143</td>\n",
       "      <td>0.050612</td>\n",
       "      <td>0.052653</td>\n",
       "      <td>0.048980</td>\n",
       "      <td>0.035510</td>\n",
       "      <td>0.022041</td>\n",
       "    </tr>\n",
       "    <tr>\n",
       "      <th>2019-06-29</th>\n",
       "      <td>0.348720</td>\n",
       "      <td>0.319407</td>\n",
       "      <td>0.236523</td>\n",
       "      <td>0.197102</td>\n",
       "      <td>0.167790</td>\n",
       "      <td>0.151954</td>\n",
       "      <td>0.137466</td>\n",
       "      <td>0.128032</td>\n",
       "      <td>0.122305</td>\n",
       "      <td>0.115903</td>\n",
       "      <td>...</td>\n",
       "      <td>0.071429</td>\n",
       "      <td>0.073787</td>\n",
       "      <td>0.068396</td>\n",
       "      <td>0.062668</td>\n",
       "      <td>0.059636</td>\n",
       "      <td>0.056941</td>\n",
       "      <td>0.056267</td>\n",
       "      <td>0.057951</td>\n",
       "      <td>0.043464</td>\n",
       "      <td>0.029987</td>\n",
       "    </tr>\n",
       "    <tr>\n",
       "      <th>2019-06-30</th>\n",
       "      <td>0.371100</td>\n",
       "      <td>0.328688</td>\n",
       "      <td>0.241442</td>\n",
       "      <td>0.200242</td>\n",
       "      <td>0.172372</td>\n",
       "      <td>0.156619</td>\n",
       "      <td>0.152075</td>\n",
       "      <td>0.149349</td>\n",
       "      <td>0.134808</td>\n",
       "      <td>0.127537</td>\n",
       "      <td>...</td>\n",
       "      <td>0.068161</td>\n",
       "      <td>0.065132</td>\n",
       "      <td>0.064223</td>\n",
       "      <td>0.064829</td>\n",
       "      <td>0.063617</td>\n",
       "      <td>0.058467</td>\n",
       "      <td>0.056347</td>\n",
       "      <td>0.059982</td>\n",
       "      <td>0.043623</td>\n",
       "      <td>0.027567</td>\n",
       "    </tr>\n",
       "  </tbody>\n",
       "</table>\n",
       "<p>30 rows × 31 columns</p>\n",
       "</div>"
      ],
      "text/plain": [
       "lifetime                 0         1         2         3         4         5   \\\n",
       "registration_date                                                               \n",
       "2019-06-01         0.341610  0.295676  0.211256  0.175667  0.143596  0.134906   \n",
       "2019-06-02         0.367840  0.294957  0.221313  0.188202  0.164225  0.145576   \n",
       "2019-06-03         0.341522  0.296685  0.207727  0.173384  0.150727  0.123062   \n",
       "2019-06-04         0.351216  0.296853  0.229852  0.180019  0.147592  0.133047   \n",
       "2019-06-05         0.337419  0.305403  0.223112  0.172336  0.147324  0.140570   \n",
       "2019-06-06         0.362845  0.306551  0.208802  0.178864  0.169396  0.141505   \n",
       "2019-06-07         0.370719  0.294691  0.219290  0.190386  0.171222  0.147345   \n",
       "2019-06-08         0.361902  0.330097  0.251423  0.204553  0.179444  0.156344   \n",
       "2019-06-09         0.363961  0.321811  0.234835  0.192685  0.165923  0.149643   \n",
       "2019-06-10         0.350886  0.304467  0.216122  0.188670  0.163714  0.143499   \n",
       "2019-06-11         0.356269  0.313299  0.234430  0.199619  0.170247  0.158281   \n",
       "2019-06-12         0.371951  0.309650  0.238865  0.198568  0.175239  0.160657   \n",
       "2019-06-13         0.344092  0.305361  0.227056  0.186921  0.171765  0.151277   \n",
       "2019-06-14         0.336286  0.294746  0.220525  0.181735  0.157911  0.137141   \n",
       "2019-06-15         0.366205  0.327348  0.227848  0.196938  0.176332  0.160730   \n",
       "2019-06-16         0.369226  0.313799  0.238164  0.202656  0.183891  0.157910   \n",
       "2019-06-17         0.342867  0.306776  0.217909  0.189990  0.156963  0.145386   \n",
       "2019-06-18         0.348438  0.303811  0.223481  0.191212  0.158943  0.146928   \n",
       "2019-06-19         0.349844  0.324905  0.241773  0.189470  0.175268  0.165570   \n",
       "2019-06-20         0.341309  0.306414  0.224327  0.186773  0.163177  0.151878   \n",
       "2019-06-21         0.330370  0.301481  0.219630  0.191111  0.162593  0.142963   \n",
       "2019-06-22         0.346207  0.297147  0.201113  0.172582  0.148921  0.132220   \n",
       "2019-06-23         0.355713  0.280826  0.214332  0.178502  0.153325  0.130407   \n",
       "2019-06-24         0.346792  0.297891  0.214446  0.187528  0.155227  0.132795   \n",
       "2019-06-25         0.344742  0.298115  0.218750  0.181052  0.150794  0.144841   \n",
       "2019-06-26         0.338388  0.315425  0.219671  0.175477  0.148614  0.141681   \n",
       "2019-06-27         0.336085  0.283019  0.202044  0.166274  0.141509  0.121462   \n",
       "2019-06-28         0.323673  0.295918  0.213061  0.184082  0.153469  0.138776   \n",
       "2019-06-29         0.348720  0.319407  0.236523  0.197102  0.167790  0.151954   \n",
       "2019-06-30         0.371100  0.328688  0.241442  0.200242  0.172372  0.156619   \n",
       "\n",
       "lifetime                 6         7         8         9   ...        21  \\\n",
       "registration_date                                          ...             \n",
       "2019-06-01         0.121664  0.112766  0.110904  0.099938  ...  0.060418   \n",
       "2019-06-02         0.130923  0.129971  0.121598  0.109610  ...  0.073073   \n",
       "2019-06-03         0.118054  0.115430  0.111376  0.099213  ...  0.065109   \n",
       "2019-06-04         0.135670  0.121841  0.106581  0.098236  ...  0.063662   \n",
       "2019-06-05         0.131816  0.118059  0.108304  0.097799  ...  0.066033   \n",
       "2019-06-06         0.131013  0.117707  0.109519  0.098516  ...  0.066018   \n",
       "2019-06-07         0.129752  0.120955  0.108702  0.106189  ...  0.068803   \n",
       "2019-06-08         0.144961  0.141948  0.127218  0.116170  ...  0.076666   \n",
       "2019-06-09         0.143845  0.136039  0.118198  0.113069  ...  0.081401   \n",
       "2019-06-10         0.137260  0.124782  0.118043  0.110557  ...  0.070626   \n",
       "2019-06-11         0.148491  0.135165  0.128094  0.115583  ...  0.070166   \n",
       "2019-06-12         0.144221  0.134677  0.121686  0.115058  ...  0.067603   \n",
       "2019-06-13         0.138647  0.133034  0.116475  0.106652  ...  0.069604   \n",
       "2019-06-14         0.125840  0.118204  0.115150  0.101405  ...  0.062004   \n",
       "2019-06-15         0.144834  0.145128  0.136591  0.123344  ...  0.072122   \n",
       "2019-06-16         0.153291  0.141166  0.128464  0.123845  ...  0.078811   \n",
       "2019-06-17         0.133129  0.123596  0.115083  0.113381  ...  0.057201   \n",
       "2019-06-18         0.134569  0.125644  0.113972  0.101270  ...  0.061449   \n",
       "2019-06-19         0.148597  0.129200  0.122619  0.108071  ...  0.063734   \n",
       "2019-06-20         0.139249  0.122964  0.118644  0.110003  ...  0.067132   \n",
       "2019-06-21         0.128889  0.117778  0.108519  0.094815  ...  0.061852   \n",
       "2019-06-22         0.118650  0.122129  0.109603  0.095338  ...  0.052888   \n",
       "2019-06-23         0.125565  0.115881  0.105552  0.096514  ...  0.059716   \n",
       "2019-06-24         0.128309  0.114850  0.100942  0.094213  ...  0.062360   \n",
       "2019-06-25         0.132937  0.120536  0.113095  0.110119  ...  0.064980   \n",
       "2019-06-26         0.132149  0.119151  0.111352  0.105286  ...  0.064991   \n",
       "2019-06-27         0.111635  0.101808  0.092374  0.088836  ...  0.047956   \n",
       "2019-06-28         0.123265  0.116735  0.109388  0.100000  ...  0.059592   \n",
       "2019-06-29         0.137466  0.128032  0.122305  0.115903  ...  0.071429   \n",
       "2019-06-30         0.152075  0.149349  0.134808  0.127537  ...  0.068161   \n",
       "\n",
       "lifetime                 22        23        24        25        26        27  \\\n",
       "registration_date                                                               \n",
       "2019-06-01         0.061246  0.058763  0.055245  0.056487  0.050693  0.049659   \n",
       "2019-06-02         0.071931  0.068506  0.062797  0.061656  0.062797  0.063178   \n",
       "2019-06-03         0.064870  0.063916  0.057238  0.056284  0.051753  0.052707   \n",
       "2019-06-04         0.060324  0.058417  0.053648  0.051502  0.051979  0.051264   \n",
       "2019-06-05         0.064282  0.060030  0.056278  0.054527  0.054527  0.053527   \n",
       "2019-06-06         0.063715  0.064483  0.057318  0.056551  0.055015  0.055527   \n",
       "2019-06-07         0.068803  0.068175  0.068175  0.063776  0.064719  0.062834   \n",
       "2019-06-08         0.071979  0.072648  0.071979  0.067626  0.066622  0.066622   \n",
       "2019-06-09         0.074710  0.071142  0.066905  0.068020  0.065343  0.066236   \n",
       "2019-06-10         0.065136  0.061892  0.060893  0.056401  0.056651  0.057899   \n",
       "2019-06-11         0.066358  0.064999  0.062823  0.059016  0.062279  0.059016   \n",
       "2019-06-12         0.065748  0.067073  0.061506  0.059915  0.059385  0.059120   \n",
       "2019-06-13         0.062026  0.059781  0.055010  0.058939  0.057536  0.056413   \n",
       "2019-06-14         0.058033  0.056200  0.052841  0.054062  0.053146  0.051924   \n",
       "2019-06-15         0.070062  0.069767  0.067118  0.065941  0.060642  0.058581   \n",
       "2019-06-16         0.074480  0.069573  0.067841  0.064088  0.058603  0.062644   \n",
       "2019-06-17         0.055499  0.051753  0.051073  0.051073  0.050732  0.048349   \n",
       "2019-06-18         0.061449  0.057329  0.051493  0.050463  0.045314  0.050463   \n",
       "2019-06-19         0.063388  0.058192  0.056114  0.052996  0.053689  0.052650   \n",
       "2019-06-20         0.061815  0.058824  0.057162  0.059821  0.057494  0.056830   \n",
       "2019-06-21         0.062222  0.059259  0.060000  0.055926  0.053333  0.048889   \n",
       "2019-06-22         0.053584  0.050104  0.052192  0.048713  0.043841  0.042102   \n",
       "2019-06-23         0.058425  0.055197  0.051001  0.051323  0.044868  0.048096   \n",
       "2019-06-24         0.065052  0.059219  0.055630  0.054284  0.050695  0.047106   \n",
       "2019-06-25         0.062004  0.055556  0.047123  0.048115  0.050099  0.047619   \n",
       "2019-06-26         0.059792  0.055459  0.053726  0.051127  0.051127  0.044627   \n",
       "2019-06-27         0.048742  0.045204  0.043239  0.041274  0.041667  0.038915   \n",
       "2019-06-28         0.054694  0.055102  0.055102  0.057143  0.050612  0.052653   \n",
       "2019-06-29         0.073787  0.068396  0.062668  0.059636  0.056941  0.056267   \n",
       "2019-06-30         0.065132  0.064223  0.064829  0.063617  0.058467  0.056347   \n",
       "\n",
       "lifetime                 28        29        30  \n",
       "registration_date                                \n",
       "2019-06-01         0.050693  0.042003  0.028968  \n",
       "2019-06-02         0.060514  0.044719  0.028925  \n",
       "2019-06-03         0.051991  0.041975  0.028858  \n",
       "2019-06-04         0.047926  0.036242  0.023605  \n",
       "2019-06-05         0.051026  0.037519  0.027514  \n",
       "2019-06-06         0.055271  0.045803  0.030194  \n",
       "2019-06-07         0.059692  0.045240  0.027961  \n",
       "2019-06-08         0.065618  0.052896  0.037496  \n",
       "2019-06-09         0.062444  0.049286  0.031891  \n",
       "2019-06-10         0.053906  0.043424  0.026953  \n",
       "2019-06-11         0.056568  0.042426  0.025836  \n",
       "2019-06-12         0.053818  0.042418  0.030488  \n",
       "2019-06-13         0.053887  0.040696  0.027224  \n",
       "2019-06-14         0.051924  0.043372  0.026878  \n",
       "2019-06-15         0.061230  0.044451  0.031204  \n",
       "2019-06-16         0.058603  0.042148  0.027714  \n",
       "2019-06-17         0.045625  0.035410  0.025196  \n",
       "2019-06-18         0.050807  0.040851  0.028150  \n",
       "2019-06-19         0.051264  0.037409  0.025979  \n",
       "2019-06-20         0.053174  0.039880  0.024593  \n",
       "2019-06-21         0.049630  0.041481  0.030370  \n",
       "2019-06-22         0.042450  0.035491  0.021573  \n",
       "2019-06-23         0.048741  0.034538  0.021950  \n",
       "2019-06-24         0.045312  0.037236  0.027367  \n",
       "2019-06-25         0.049603  0.040179  0.025794  \n",
       "2019-06-26         0.045494  0.033795  0.020797  \n",
       "2019-06-27         0.039308  0.029874  0.020833  \n",
       "2019-06-28         0.048980  0.035510  0.022041  \n",
       "2019-06-29         0.057951  0.043464  0.029987  \n",
       "2019-06-30         0.059982  0.043623  0.027567  \n",
       "\n",
       "[30 rows x 31 columns]"
      ]
     },
     "execution_count": 16,
     "metadata": {},
     "output_type": "execute_result"
    }
   ],
   "source": [
    "#Сформируем сводную таблицу:\n",
    "retention_pivot = retention_table.pivot_table(index='registration_date',columns='lifetime',values='retention_rate',aggfunc='mean')\n",
    "retention_pivot"
   ]
  },
  {
   "cell_type": "code",
   "execution_count": 17,
   "metadata": {},
   "outputs": [
    {
     "data": {
      "application/vnd.plotly.v1+json": {
       "config": {
        "plotlyServerURL": "https://plot.ly"
       },
       "data": [
        {
         "colorscale": [
          [
           0,
           "#440154"
          ],
          [
           0.1111111111111111,
           "#482878"
          ],
          [
           0.2222222222222222,
           "#3e4989"
          ],
          [
           0.3333333333333333,
           "#31688e"
          ],
          [
           0.4444444444444444,
           "#26828e"
          ],
          [
           0.5555555555555556,
           "#1f9e89"
          ],
          [
           0.6666666666666666,
           "#35b779"
          ],
          [
           0.7777777777777778,
           "#6ece58"
          ],
          [
           0.8888888888888888,
           "#b5de2b"
          ],
          [
           1,
           "#fde725"
          ]
         ],
         "hovertemplate": "<b>Date</b>: %{y}<br><b>Lifetime</b>: %{x}<br><b>Rate<b>: %{z:.2f} %<extra></extra>",
         "type": "heatmap",
         "x": [
          0,
          1,
          0,
          2,
          1,
          0,
          3,
          2,
          1,
          0,
          4,
          3,
          2,
          1,
          0,
          5,
          4,
          3,
          2,
          1,
          0,
          6,
          5,
          4,
          3,
          2,
          1,
          0,
          7,
          6,
          5,
          4,
          3,
          2,
          1,
          0,
          8,
          7,
          6,
          5,
          4,
          3,
          2,
          1,
          0,
          9,
          8,
          7,
          6,
          5,
          4,
          3,
          2,
          1,
          0,
          10,
          9,
          8,
          7,
          6,
          5,
          4,
          3,
          2,
          1,
          0,
          11,
          10,
          9,
          8,
          7,
          6,
          5,
          4,
          3,
          2,
          1,
          0,
          12,
          11,
          10,
          9,
          8,
          7,
          6,
          5,
          4,
          3,
          2,
          1,
          0,
          13,
          12,
          11,
          10,
          9,
          8,
          7,
          6,
          5,
          4,
          3,
          2,
          1,
          0,
          14,
          13,
          12,
          11,
          10,
          9,
          8,
          7,
          6,
          5,
          4,
          3,
          2,
          1,
          0,
          15,
          14,
          13,
          12,
          11,
          10,
          9,
          8,
          7,
          6,
          5,
          4,
          3,
          2,
          1,
          0,
          16,
          15,
          14,
          13,
          12,
          11,
          10,
          9,
          8,
          7,
          6,
          5,
          4,
          3,
          2,
          1,
          0,
          17,
          16,
          15,
          14,
          13,
          12,
          11,
          10,
          9,
          8,
          7,
          6,
          5,
          4,
          3,
          2,
          1,
          0,
          18,
          17,
          16,
          15,
          14,
          13,
          12,
          11,
          10,
          9,
          8,
          7,
          6,
          5,
          4,
          3,
          2,
          1,
          0,
          19,
          18,
          17,
          16,
          15,
          14,
          13,
          12,
          11,
          10,
          9,
          8,
          7,
          6,
          5,
          4,
          3,
          2,
          1,
          0,
          20,
          19,
          18,
          17,
          16,
          15,
          14,
          13,
          12,
          11,
          10,
          9,
          8,
          7,
          6,
          5,
          4,
          3,
          2,
          1,
          0,
          21,
          20,
          19,
          18,
          17,
          16,
          15,
          14,
          13,
          12,
          11,
          10,
          9,
          8,
          7,
          6,
          5,
          4,
          3,
          2,
          1,
          0,
          22,
          21,
          20,
          19,
          18,
          17,
          16,
          15,
          14,
          13,
          12,
          11,
          10,
          9,
          8,
          7,
          6,
          5,
          4,
          3,
          2,
          1,
          0,
          23,
          22,
          21,
          20,
          19,
          18,
          17,
          16,
          15,
          14,
          13,
          12,
          11,
          10,
          9,
          8,
          7,
          6,
          5,
          4,
          3,
          2,
          1,
          0,
          24,
          23,
          22,
          21,
          20,
          19,
          18,
          17,
          16,
          15,
          14,
          13,
          12,
          11,
          10,
          9,
          8,
          7,
          6,
          5,
          4,
          3,
          2,
          1,
          0,
          25,
          24,
          23,
          22,
          21,
          20,
          19,
          18,
          17,
          16,
          15,
          14,
          13,
          12,
          11,
          10,
          9,
          8,
          7,
          6,
          5,
          4,
          3,
          2,
          1,
          0,
          26,
          25,
          24,
          23,
          22,
          21,
          20,
          19,
          18,
          17,
          16,
          15,
          14,
          13,
          12,
          11,
          10,
          9,
          8,
          7,
          6,
          5,
          4,
          3,
          2,
          1,
          0,
          27,
          26,
          25,
          24,
          23,
          22,
          21,
          20,
          19,
          18,
          17,
          16,
          15,
          14,
          13,
          12,
          11,
          10,
          9,
          8,
          7,
          6,
          5,
          4,
          3,
          2,
          1,
          0,
          28,
          27,
          26,
          25,
          24,
          23,
          22,
          21,
          20,
          19,
          18,
          17,
          16,
          15,
          14,
          13,
          12,
          11,
          10,
          9,
          8,
          7,
          6,
          5,
          4,
          3,
          2,
          1,
          0,
          29,
          28,
          27,
          26,
          25,
          24,
          23,
          22,
          21,
          20,
          19,
          18,
          17,
          16,
          15,
          14,
          13,
          12,
          11,
          10,
          9,
          8,
          7,
          6,
          5,
          4,
          3,
          2,
          1,
          0,
          30,
          29,
          28,
          27,
          26,
          25,
          24,
          23,
          22,
          21,
          20,
          19,
          18,
          17,
          16,
          15,
          14,
          13,
          12,
          11,
          10,
          9,
          8,
          7,
          6,
          5,
          4,
          3,
          2,
          1,
          30,
          29,
          28,
          27,
          26,
          25,
          24,
          23,
          22,
          21,
          20,
          19,
          18,
          17,
          16,
          15,
          14,
          13,
          12,
          11,
          10,
          9,
          8,
          7,
          6,
          5,
          4,
          3,
          2,
          30,
          29,
          28,
          27,
          26,
          25,
          24,
          23,
          22,
          21,
          20,
          19,
          18,
          17,
          16,
          15,
          14,
          13,
          12,
          11,
          10,
          9,
          8,
          7,
          6,
          5,
          4,
          3,
          30,
          29,
          28,
          27,
          26,
          25,
          24,
          23,
          22,
          21,
          20,
          19,
          18,
          17,
          16,
          15,
          14,
          13,
          12,
          11,
          10,
          9,
          8,
          7,
          6,
          5,
          4,
          30,
          29,
          28,
          27,
          26,
          25,
          24,
          23,
          22,
          21,
          20,
          19,
          18,
          17,
          16,
          15,
          14,
          13,
          12,
          11,
          10,
          9,
          8,
          7,
          6,
          5,
          30,
          29,
          28,
          27,
          26,
          25,
          24,
          23,
          22,
          21,
          20,
          19,
          18,
          17,
          16,
          15,
          14,
          13,
          12,
          11,
          10,
          9,
          8,
          7,
          6,
          30,
          29,
          28,
          27,
          26,
          25,
          24,
          23,
          22,
          21,
          20,
          19,
          18,
          17,
          16,
          15,
          14,
          13,
          12,
          11,
          10,
          9,
          8,
          7,
          30,
          29,
          28,
          27,
          26,
          25,
          24,
          23,
          22,
          21,
          20,
          19,
          18,
          17,
          16,
          15,
          14,
          13,
          12,
          11,
          10,
          9,
          8,
          30,
          29,
          28,
          27,
          26,
          25,
          24,
          23,
          22,
          21,
          20,
          19,
          18,
          17,
          16,
          15,
          14,
          13,
          12,
          11,
          10,
          9,
          30,
          29,
          28,
          27,
          26,
          25,
          24,
          23,
          22,
          21,
          20,
          19,
          18,
          17,
          16,
          15,
          14,
          13,
          12,
          11,
          10,
          30,
          29,
          28,
          27,
          26,
          25,
          24,
          23,
          22,
          21,
          20,
          19,
          18,
          17,
          16,
          15,
          14,
          13,
          12,
          11,
          30,
          29,
          28,
          27,
          26,
          25,
          24,
          23,
          22,
          21,
          20,
          19,
          18,
          17,
          16,
          15,
          14,
          13,
          12,
          30,
          29,
          28,
          27,
          26,
          25,
          24,
          23,
          22,
          21,
          20,
          19,
          18,
          17,
          16,
          15,
          14,
          13,
          30,
          29,
          28,
          27,
          26,
          25,
          24,
          23,
          22,
          21,
          20,
          19,
          18,
          17,
          16,
          15,
          14,
          30,
          29,
          28,
          27,
          26,
          25,
          24,
          23,
          22,
          21,
          20,
          19,
          18,
          17,
          16,
          15,
          30,
          29,
          28,
          27,
          26,
          25,
          24,
          23,
          22,
          21,
          20,
          19,
          18,
          17,
          16,
          30,
          29,
          28,
          27,
          26,
          25,
          24,
          23,
          22,
          21,
          20,
          19,
          18,
          17,
          30,
          29,
          28,
          27,
          26,
          25,
          24,
          23,
          22,
          21,
          20,
          19,
          18,
          30,
          29,
          28,
          27,
          26,
          25,
          24,
          23,
          22,
          21,
          20,
          19,
          30,
          29,
          28,
          27,
          26,
          25,
          24,
          23,
          22,
          21,
          20,
          30,
          29,
          28,
          27,
          26,
          25,
          24,
          23,
          22,
          21,
          30,
          29,
          28,
          27,
          26,
          25,
          24,
          23,
          22,
          30,
          29,
          28,
          27,
          26,
          25,
          24,
          23,
          30,
          29,
          28,
          27,
          26,
          25,
          24,
          30,
          29,
          28,
          27,
          26,
          25,
          30,
          29,
          28,
          27,
          26,
          30,
          29,
          28,
          27,
          30,
          29,
          28,
          30,
          29,
          30
         ],
         "y": [
          "2019-06-01T00:00:00",
          "2019-06-01T00:00:00",
          "2019-06-02T00:00:00",
          "2019-06-01T00:00:00",
          "2019-06-02T00:00:00",
          "2019-06-03T00:00:00",
          "2019-06-01T00:00:00",
          "2019-06-02T00:00:00",
          "2019-06-03T00:00:00",
          "2019-06-04T00:00:00",
          "2019-06-01T00:00:00",
          "2019-06-02T00:00:00",
          "2019-06-03T00:00:00",
          "2019-06-04T00:00:00",
          "2019-06-05T00:00:00",
          "2019-06-01T00:00:00",
          "2019-06-02T00:00:00",
          "2019-06-03T00:00:00",
          "2019-06-04T00:00:00",
          "2019-06-05T00:00:00",
          "2019-06-06T00:00:00",
          "2019-06-01T00:00:00",
          "2019-06-02T00:00:00",
          "2019-06-03T00:00:00",
          "2019-06-04T00:00:00",
          "2019-06-05T00:00:00",
          "2019-06-06T00:00:00",
          "2019-06-07T00:00:00",
          "2019-06-01T00:00:00",
          "2019-06-02T00:00:00",
          "2019-06-03T00:00:00",
          "2019-06-04T00:00:00",
          "2019-06-05T00:00:00",
          "2019-06-06T00:00:00",
          "2019-06-07T00:00:00",
          "2019-06-08T00:00:00",
          "2019-06-01T00:00:00",
          "2019-06-02T00:00:00",
          "2019-06-03T00:00:00",
          "2019-06-04T00:00:00",
          "2019-06-05T00:00:00",
          "2019-06-06T00:00:00",
          "2019-06-07T00:00:00",
          "2019-06-08T00:00:00",
          "2019-06-09T00:00:00",
          "2019-06-01T00:00:00",
          "2019-06-02T00:00:00",
          "2019-06-03T00:00:00",
          "2019-06-04T00:00:00",
          "2019-06-05T00:00:00",
          "2019-06-06T00:00:00",
          "2019-06-07T00:00:00",
          "2019-06-08T00:00:00",
          "2019-06-09T00:00:00",
          "2019-06-10T00:00:00",
          "2019-06-01T00:00:00",
          "2019-06-02T00:00:00",
          "2019-06-03T00:00:00",
          "2019-06-04T00:00:00",
          "2019-06-05T00:00:00",
          "2019-06-06T00:00:00",
          "2019-06-07T00:00:00",
          "2019-06-08T00:00:00",
          "2019-06-09T00:00:00",
          "2019-06-10T00:00:00",
          "2019-06-11T00:00:00",
          "2019-06-01T00:00:00",
          "2019-06-02T00:00:00",
          "2019-06-03T00:00:00",
          "2019-06-04T00:00:00",
          "2019-06-05T00:00:00",
          "2019-06-06T00:00:00",
          "2019-06-07T00:00:00",
          "2019-06-08T00:00:00",
          "2019-06-09T00:00:00",
          "2019-06-10T00:00:00",
          "2019-06-11T00:00:00",
          "2019-06-12T00:00:00",
          "2019-06-01T00:00:00",
          "2019-06-02T00:00:00",
          "2019-06-03T00:00:00",
          "2019-06-04T00:00:00",
          "2019-06-05T00:00:00",
          "2019-06-06T00:00:00",
          "2019-06-07T00:00:00",
          "2019-06-08T00:00:00",
          "2019-06-09T00:00:00",
          "2019-06-10T00:00:00",
          "2019-06-11T00:00:00",
          "2019-06-12T00:00:00",
          "2019-06-13T00:00:00",
          "2019-06-01T00:00:00",
          "2019-06-02T00:00:00",
          "2019-06-03T00:00:00",
          "2019-06-04T00:00:00",
          "2019-06-05T00:00:00",
          "2019-06-06T00:00:00",
          "2019-06-07T00:00:00",
          "2019-06-08T00:00:00",
          "2019-06-09T00:00:00",
          "2019-06-10T00:00:00",
          "2019-06-11T00:00:00",
          "2019-06-12T00:00:00",
          "2019-06-13T00:00:00",
          "2019-06-14T00:00:00",
          "2019-06-01T00:00:00",
          "2019-06-02T00:00:00",
          "2019-06-03T00:00:00",
          "2019-06-04T00:00:00",
          "2019-06-05T00:00:00",
          "2019-06-06T00:00:00",
          "2019-06-07T00:00:00",
          "2019-06-08T00:00:00",
          "2019-06-09T00:00:00",
          "2019-06-10T00:00:00",
          "2019-06-11T00:00:00",
          "2019-06-12T00:00:00",
          "2019-06-13T00:00:00",
          "2019-06-14T00:00:00",
          "2019-06-15T00:00:00",
          "2019-06-01T00:00:00",
          "2019-06-02T00:00:00",
          "2019-06-03T00:00:00",
          "2019-06-04T00:00:00",
          "2019-06-05T00:00:00",
          "2019-06-06T00:00:00",
          "2019-06-07T00:00:00",
          "2019-06-08T00:00:00",
          "2019-06-09T00:00:00",
          "2019-06-10T00:00:00",
          "2019-06-11T00:00:00",
          "2019-06-12T00:00:00",
          "2019-06-13T00:00:00",
          "2019-06-14T00:00:00",
          "2019-06-15T00:00:00",
          "2019-06-16T00:00:00",
          "2019-06-01T00:00:00",
          "2019-06-02T00:00:00",
          "2019-06-03T00:00:00",
          "2019-06-04T00:00:00",
          "2019-06-05T00:00:00",
          "2019-06-06T00:00:00",
          "2019-06-07T00:00:00",
          "2019-06-08T00:00:00",
          "2019-06-09T00:00:00",
          "2019-06-10T00:00:00",
          "2019-06-11T00:00:00",
          "2019-06-12T00:00:00",
          "2019-06-13T00:00:00",
          "2019-06-14T00:00:00",
          "2019-06-15T00:00:00",
          "2019-06-16T00:00:00",
          "2019-06-17T00:00:00",
          "2019-06-01T00:00:00",
          "2019-06-02T00:00:00",
          "2019-06-03T00:00:00",
          "2019-06-04T00:00:00",
          "2019-06-05T00:00:00",
          "2019-06-06T00:00:00",
          "2019-06-07T00:00:00",
          "2019-06-08T00:00:00",
          "2019-06-09T00:00:00",
          "2019-06-10T00:00:00",
          "2019-06-11T00:00:00",
          "2019-06-12T00:00:00",
          "2019-06-13T00:00:00",
          "2019-06-14T00:00:00",
          "2019-06-15T00:00:00",
          "2019-06-16T00:00:00",
          "2019-06-17T00:00:00",
          "2019-06-18T00:00:00",
          "2019-06-01T00:00:00",
          "2019-06-02T00:00:00",
          "2019-06-03T00:00:00",
          "2019-06-04T00:00:00",
          "2019-06-05T00:00:00",
          "2019-06-06T00:00:00",
          "2019-06-07T00:00:00",
          "2019-06-08T00:00:00",
          "2019-06-09T00:00:00",
          "2019-06-10T00:00:00",
          "2019-06-11T00:00:00",
          "2019-06-12T00:00:00",
          "2019-06-13T00:00:00",
          "2019-06-14T00:00:00",
          "2019-06-15T00:00:00",
          "2019-06-16T00:00:00",
          "2019-06-17T00:00:00",
          "2019-06-18T00:00:00",
          "2019-06-19T00:00:00",
          "2019-06-01T00:00:00",
          "2019-06-02T00:00:00",
          "2019-06-03T00:00:00",
          "2019-06-04T00:00:00",
          "2019-06-05T00:00:00",
          "2019-06-06T00:00:00",
          "2019-06-07T00:00:00",
          "2019-06-08T00:00:00",
          "2019-06-09T00:00:00",
          "2019-06-10T00:00:00",
          "2019-06-11T00:00:00",
          "2019-06-12T00:00:00",
          "2019-06-13T00:00:00",
          "2019-06-14T00:00:00",
          "2019-06-15T00:00:00",
          "2019-06-16T00:00:00",
          "2019-06-17T00:00:00",
          "2019-06-18T00:00:00",
          "2019-06-19T00:00:00",
          "2019-06-20T00:00:00",
          "2019-06-01T00:00:00",
          "2019-06-02T00:00:00",
          "2019-06-03T00:00:00",
          "2019-06-04T00:00:00",
          "2019-06-05T00:00:00",
          "2019-06-06T00:00:00",
          "2019-06-07T00:00:00",
          "2019-06-08T00:00:00",
          "2019-06-09T00:00:00",
          "2019-06-10T00:00:00",
          "2019-06-11T00:00:00",
          "2019-06-12T00:00:00",
          "2019-06-13T00:00:00",
          "2019-06-14T00:00:00",
          "2019-06-15T00:00:00",
          "2019-06-16T00:00:00",
          "2019-06-17T00:00:00",
          "2019-06-18T00:00:00",
          "2019-06-19T00:00:00",
          "2019-06-20T00:00:00",
          "2019-06-21T00:00:00",
          "2019-06-01T00:00:00",
          "2019-06-02T00:00:00",
          "2019-06-03T00:00:00",
          "2019-06-04T00:00:00",
          "2019-06-05T00:00:00",
          "2019-06-06T00:00:00",
          "2019-06-07T00:00:00",
          "2019-06-08T00:00:00",
          "2019-06-09T00:00:00",
          "2019-06-10T00:00:00",
          "2019-06-11T00:00:00",
          "2019-06-12T00:00:00",
          "2019-06-13T00:00:00",
          "2019-06-14T00:00:00",
          "2019-06-15T00:00:00",
          "2019-06-16T00:00:00",
          "2019-06-17T00:00:00",
          "2019-06-18T00:00:00",
          "2019-06-19T00:00:00",
          "2019-06-20T00:00:00",
          "2019-06-21T00:00:00",
          "2019-06-22T00:00:00",
          "2019-06-01T00:00:00",
          "2019-06-02T00:00:00",
          "2019-06-03T00:00:00",
          "2019-06-04T00:00:00",
          "2019-06-05T00:00:00",
          "2019-06-06T00:00:00",
          "2019-06-07T00:00:00",
          "2019-06-08T00:00:00",
          "2019-06-09T00:00:00",
          "2019-06-10T00:00:00",
          "2019-06-11T00:00:00",
          "2019-06-12T00:00:00",
          "2019-06-13T00:00:00",
          "2019-06-14T00:00:00",
          "2019-06-15T00:00:00",
          "2019-06-16T00:00:00",
          "2019-06-17T00:00:00",
          "2019-06-18T00:00:00",
          "2019-06-19T00:00:00",
          "2019-06-20T00:00:00",
          "2019-06-21T00:00:00",
          "2019-06-22T00:00:00",
          "2019-06-23T00:00:00",
          "2019-06-01T00:00:00",
          "2019-06-02T00:00:00",
          "2019-06-03T00:00:00",
          "2019-06-04T00:00:00",
          "2019-06-05T00:00:00",
          "2019-06-06T00:00:00",
          "2019-06-07T00:00:00",
          "2019-06-08T00:00:00",
          "2019-06-09T00:00:00",
          "2019-06-10T00:00:00",
          "2019-06-11T00:00:00",
          "2019-06-12T00:00:00",
          "2019-06-13T00:00:00",
          "2019-06-14T00:00:00",
          "2019-06-15T00:00:00",
          "2019-06-16T00:00:00",
          "2019-06-17T00:00:00",
          "2019-06-18T00:00:00",
          "2019-06-19T00:00:00",
          "2019-06-20T00:00:00",
          "2019-06-21T00:00:00",
          "2019-06-22T00:00:00",
          "2019-06-23T00:00:00",
          "2019-06-24T00:00:00",
          "2019-06-01T00:00:00",
          "2019-06-02T00:00:00",
          "2019-06-03T00:00:00",
          "2019-06-04T00:00:00",
          "2019-06-05T00:00:00",
          "2019-06-06T00:00:00",
          "2019-06-07T00:00:00",
          "2019-06-08T00:00:00",
          "2019-06-09T00:00:00",
          "2019-06-10T00:00:00",
          "2019-06-11T00:00:00",
          "2019-06-12T00:00:00",
          "2019-06-13T00:00:00",
          "2019-06-14T00:00:00",
          "2019-06-15T00:00:00",
          "2019-06-16T00:00:00",
          "2019-06-17T00:00:00",
          "2019-06-18T00:00:00",
          "2019-06-19T00:00:00",
          "2019-06-20T00:00:00",
          "2019-06-21T00:00:00",
          "2019-06-22T00:00:00",
          "2019-06-23T00:00:00",
          "2019-06-24T00:00:00",
          "2019-06-25T00:00:00",
          "2019-06-01T00:00:00",
          "2019-06-02T00:00:00",
          "2019-06-03T00:00:00",
          "2019-06-04T00:00:00",
          "2019-06-05T00:00:00",
          "2019-06-06T00:00:00",
          "2019-06-07T00:00:00",
          "2019-06-08T00:00:00",
          "2019-06-09T00:00:00",
          "2019-06-10T00:00:00",
          "2019-06-11T00:00:00",
          "2019-06-12T00:00:00",
          "2019-06-13T00:00:00",
          "2019-06-14T00:00:00",
          "2019-06-15T00:00:00",
          "2019-06-16T00:00:00",
          "2019-06-17T00:00:00",
          "2019-06-18T00:00:00",
          "2019-06-19T00:00:00",
          "2019-06-20T00:00:00",
          "2019-06-21T00:00:00",
          "2019-06-22T00:00:00",
          "2019-06-23T00:00:00",
          "2019-06-24T00:00:00",
          "2019-06-25T00:00:00",
          "2019-06-26T00:00:00",
          "2019-06-01T00:00:00",
          "2019-06-02T00:00:00",
          "2019-06-03T00:00:00",
          "2019-06-04T00:00:00",
          "2019-06-05T00:00:00",
          "2019-06-06T00:00:00",
          "2019-06-07T00:00:00",
          "2019-06-08T00:00:00",
          "2019-06-09T00:00:00",
          "2019-06-10T00:00:00",
          "2019-06-11T00:00:00",
          "2019-06-12T00:00:00",
          "2019-06-13T00:00:00",
          "2019-06-14T00:00:00",
          "2019-06-15T00:00:00",
          "2019-06-16T00:00:00",
          "2019-06-17T00:00:00",
          "2019-06-18T00:00:00",
          "2019-06-19T00:00:00",
          "2019-06-20T00:00:00",
          "2019-06-21T00:00:00",
          "2019-06-22T00:00:00",
          "2019-06-23T00:00:00",
          "2019-06-24T00:00:00",
          "2019-06-25T00:00:00",
          "2019-06-26T00:00:00",
          "2019-06-27T00:00:00",
          "2019-06-01T00:00:00",
          "2019-06-02T00:00:00",
          "2019-06-03T00:00:00",
          "2019-06-04T00:00:00",
          "2019-06-05T00:00:00",
          "2019-06-06T00:00:00",
          "2019-06-07T00:00:00",
          "2019-06-08T00:00:00",
          "2019-06-09T00:00:00",
          "2019-06-10T00:00:00",
          "2019-06-11T00:00:00",
          "2019-06-12T00:00:00",
          "2019-06-13T00:00:00",
          "2019-06-14T00:00:00",
          "2019-06-15T00:00:00",
          "2019-06-16T00:00:00",
          "2019-06-17T00:00:00",
          "2019-06-18T00:00:00",
          "2019-06-19T00:00:00",
          "2019-06-20T00:00:00",
          "2019-06-21T00:00:00",
          "2019-06-22T00:00:00",
          "2019-06-23T00:00:00",
          "2019-06-24T00:00:00",
          "2019-06-25T00:00:00",
          "2019-06-26T00:00:00",
          "2019-06-27T00:00:00",
          "2019-06-28T00:00:00",
          "2019-06-01T00:00:00",
          "2019-06-02T00:00:00",
          "2019-06-03T00:00:00",
          "2019-06-04T00:00:00",
          "2019-06-05T00:00:00",
          "2019-06-06T00:00:00",
          "2019-06-07T00:00:00",
          "2019-06-08T00:00:00",
          "2019-06-09T00:00:00",
          "2019-06-10T00:00:00",
          "2019-06-11T00:00:00",
          "2019-06-12T00:00:00",
          "2019-06-13T00:00:00",
          "2019-06-14T00:00:00",
          "2019-06-15T00:00:00",
          "2019-06-16T00:00:00",
          "2019-06-17T00:00:00",
          "2019-06-18T00:00:00",
          "2019-06-19T00:00:00",
          "2019-06-20T00:00:00",
          "2019-06-21T00:00:00",
          "2019-06-22T00:00:00",
          "2019-06-23T00:00:00",
          "2019-06-24T00:00:00",
          "2019-06-25T00:00:00",
          "2019-06-26T00:00:00",
          "2019-06-27T00:00:00",
          "2019-06-28T00:00:00",
          "2019-06-29T00:00:00",
          "2019-06-01T00:00:00",
          "2019-06-02T00:00:00",
          "2019-06-03T00:00:00",
          "2019-06-04T00:00:00",
          "2019-06-05T00:00:00",
          "2019-06-06T00:00:00",
          "2019-06-07T00:00:00",
          "2019-06-08T00:00:00",
          "2019-06-09T00:00:00",
          "2019-06-10T00:00:00",
          "2019-06-11T00:00:00",
          "2019-06-12T00:00:00",
          "2019-06-13T00:00:00",
          "2019-06-14T00:00:00",
          "2019-06-15T00:00:00",
          "2019-06-16T00:00:00",
          "2019-06-17T00:00:00",
          "2019-06-18T00:00:00",
          "2019-06-19T00:00:00",
          "2019-06-20T00:00:00",
          "2019-06-21T00:00:00",
          "2019-06-22T00:00:00",
          "2019-06-23T00:00:00",
          "2019-06-24T00:00:00",
          "2019-06-25T00:00:00",
          "2019-06-26T00:00:00",
          "2019-06-27T00:00:00",
          "2019-06-28T00:00:00",
          "2019-06-29T00:00:00",
          "2019-06-30T00:00:00",
          "2019-06-01T00:00:00",
          "2019-06-02T00:00:00",
          "2019-06-03T00:00:00",
          "2019-06-04T00:00:00",
          "2019-06-05T00:00:00",
          "2019-06-06T00:00:00",
          "2019-06-07T00:00:00",
          "2019-06-08T00:00:00",
          "2019-06-09T00:00:00",
          "2019-06-10T00:00:00",
          "2019-06-11T00:00:00",
          "2019-06-12T00:00:00",
          "2019-06-13T00:00:00",
          "2019-06-14T00:00:00",
          "2019-06-15T00:00:00",
          "2019-06-16T00:00:00",
          "2019-06-17T00:00:00",
          "2019-06-18T00:00:00",
          "2019-06-19T00:00:00",
          "2019-06-20T00:00:00",
          "2019-06-21T00:00:00",
          "2019-06-22T00:00:00",
          "2019-06-23T00:00:00",
          "2019-06-24T00:00:00",
          "2019-06-25T00:00:00",
          "2019-06-26T00:00:00",
          "2019-06-27T00:00:00",
          "2019-06-28T00:00:00",
          "2019-06-29T00:00:00",
          "2019-06-30T00:00:00",
          "2019-06-02T00:00:00",
          "2019-06-03T00:00:00",
          "2019-06-04T00:00:00",
          "2019-06-05T00:00:00",
          "2019-06-06T00:00:00",
          "2019-06-07T00:00:00",
          "2019-06-08T00:00:00",
          "2019-06-09T00:00:00",
          "2019-06-10T00:00:00",
          "2019-06-11T00:00:00",
          "2019-06-12T00:00:00",
          "2019-06-13T00:00:00",
          "2019-06-14T00:00:00",
          "2019-06-15T00:00:00",
          "2019-06-16T00:00:00",
          "2019-06-17T00:00:00",
          "2019-06-18T00:00:00",
          "2019-06-19T00:00:00",
          "2019-06-20T00:00:00",
          "2019-06-21T00:00:00",
          "2019-06-22T00:00:00",
          "2019-06-23T00:00:00",
          "2019-06-24T00:00:00",
          "2019-06-25T00:00:00",
          "2019-06-26T00:00:00",
          "2019-06-27T00:00:00",
          "2019-06-28T00:00:00",
          "2019-06-29T00:00:00",
          "2019-06-30T00:00:00",
          "2019-06-03T00:00:00",
          "2019-06-04T00:00:00",
          "2019-06-05T00:00:00",
          "2019-06-06T00:00:00",
          "2019-06-07T00:00:00",
          "2019-06-08T00:00:00",
          "2019-06-09T00:00:00",
          "2019-06-10T00:00:00",
          "2019-06-11T00:00:00",
          "2019-06-12T00:00:00",
          "2019-06-13T00:00:00",
          "2019-06-14T00:00:00",
          "2019-06-15T00:00:00",
          "2019-06-16T00:00:00",
          "2019-06-17T00:00:00",
          "2019-06-18T00:00:00",
          "2019-06-19T00:00:00",
          "2019-06-20T00:00:00",
          "2019-06-21T00:00:00",
          "2019-06-22T00:00:00",
          "2019-06-23T00:00:00",
          "2019-06-24T00:00:00",
          "2019-06-25T00:00:00",
          "2019-06-26T00:00:00",
          "2019-06-27T00:00:00",
          "2019-06-28T00:00:00",
          "2019-06-29T00:00:00",
          "2019-06-30T00:00:00",
          "2019-06-04T00:00:00",
          "2019-06-05T00:00:00",
          "2019-06-06T00:00:00",
          "2019-06-07T00:00:00",
          "2019-06-08T00:00:00",
          "2019-06-09T00:00:00",
          "2019-06-10T00:00:00",
          "2019-06-11T00:00:00",
          "2019-06-12T00:00:00",
          "2019-06-13T00:00:00",
          "2019-06-14T00:00:00",
          "2019-06-15T00:00:00",
          "2019-06-16T00:00:00",
          "2019-06-17T00:00:00",
          "2019-06-18T00:00:00",
          "2019-06-19T00:00:00",
          "2019-06-20T00:00:00",
          "2019-06-21T00:00:00",
          "2019-06-22T00:00:00",
          "2019-06-23T00:00:00",
          "2019-06-24T00:00:00",
          "2019-06-25T00:00:00",
          "2019-06-26T00:00:00",
          "2019-06-27T00:00:00",
          "2019-06-28T00:00:00",
          "2019-06-29T00:00:00",
          "2019-06-30T00:00:00",
          "2019-06-05T00:00:00",
          "2019-06-06T00:00:00",
          "2019-06-07T00:00:00",
          "2019-06-08T00:00:00",
          "2019-06-09T00:00:00",
          "2019-06-10T00:00:00",
          "2019-06-11T00:00:00",
          "2019-06-12T00:00:00",
          "2019-06-13T00:00:00",
          "2019-06-14T00:00:00",
          "2019-06-15T00:00:00",
          "2019-06-16T00:00:00",
          "2019-06-17T00:00:00",
          "2019-06-18T00:00:00",
          "2019-06-19T00:00:00",
          "2019-06-20T00:00:00",
          "2019-06-21T00:00:00",
          "2019-06-22T00:00:00",
          "2019-06-23T00:00:00",
          "2019-06-24T00:00:00",
          "2019-06-25T00:00:00",
          "2019-06-26T00:00:00",
          "2019-06-27T00:00:00",
          "2019-06-28T00:00:00",
          "2019-06-29T00:00:00",
          "2019-06-30T00:00:00",
          "2019-06-06T00:00:00",
          "2019-06-07T00:00:00",
          "2019-06-08T00:00:00",
          "2019-06-09T00:00:00",
          "2019-06-10T00:00:00",
          "2019-06-11T00:00:00",
          "2019-06-12T00:00:00",
          "2019-06-13T00:00:00",
          "2019-06-14T00:00:00",
          "2019-06-15T00:00:00",
          "2019-06-16T00:00:00",
          "2019-06-17T00:00:00",
          "2019-06-18T00:00:00",
          "2019-06-19T00:00:00",
          "2019-06-20T00:00:00",
          "2019-06-21T00:00:00",
          "2019-06-22T00:00:00",
          "2019-06-23T00:00:00",
          "2019-06-24T00:00:00",
          "2019-06-25T00:00:00",
          "2019-06-26T00:00:00",
          "2019-06-27T00:00:00",
          "2019-06-28T00:00:00",
          "2019-06-29T00:00:00",
          "2019-06-30T00:00:00",
          "2019-06-07T00:00:00",
          "2019-06-08T00:00:00",
          "2019-06-09T00:00:00",
          "2019-06-10T00:00:00",
          "2019-06-11T00:00:00",
          "2019-06-12T00:00:00",
          "2019-06-13T00:00:00",
          "2019-06-14T00:00:00",
          "2019-06-15T00:00:00",
          "2019-06-16T00:00:00",
          "2019-06-17T00:00:00",
          "2019-06-18T00:00:00",
          "2019-06-19T00:00:00",
          "2019-06-20T00:00:00",
          "2019-06-21T00:00:00",
          "2019-06-22T00:00:00",
          "2019-06-23T00:00:00",
          "2019-06-24T00:00:00",
          "2019-06-25T00:00:00",
          "2019-06-26T00:00:00",
          "2019-06-27T00:00:00",
          "2019-06-28T00:00:00",
          "2019-06-29T00:00:00",
          "2019-06-30T00:00:00",
          "2019-06-08T00:00:00",
          "2019-06-09T00:00:00",
          "2019-06-10T00:00:00",
          "2019-06-11T00:00:00",
          "2019-06-12T00:00:00",
          "2019-06-13T00:00:00",
          "2019-06-14T00:00:00",
          "2019-06-15T00:00:00",
          "2019-06-16T00:00:00",
          "2019-06-17T00:00:00",
          "2019-06-18T00:00:00",
          "2019-06-19T00:00:00",
          "2019-06-20T00:00:00",
          "2019-06-21T00:00:00",
          "2019-06-22T00:00:00",
          "2019-06-23T00:00:00",
          "2019-06-24T00:00:00",
          "2019-06-25T00:00:00",
          "2019-06-26T00:00:00",
          "2019-06-27T00:00:00",
          "2019-06-28T00:00:00",
          "2019-06-29T00:00:00",
          "2019-06-30T00:00:00",
          "2019-06-09T00:00:00",
          "2019-06-10T00:00:00",
          "2019-06-11T00:00:00",
          "2019-06-12T00:00:00",
          "2019-06-13T00:00:00",
          "2019-06-14T00:00:00",
          "2019-06-15T00:00:00",
          "2019-06-16T00:00:00",
          "2019-06-17T00:00:00",
          "2019-06-18T00:00:00",
          "2019-06-19T00:00:00",
          "2019-06-20T00:00:00",
          "2019-06-21T00:00:00",
          "2019-06-22T00:00:00",
          "2019-06-23T00:00:00",
          "2019-06-24T00:00:00",
          "2019-06-25T00:00:00",
          "2019-06-26T00:00:00",
          "2019-06-27T00:00:00",
          "2019-06-28T00:00:00",
          "2019-06-29T00:00:00",
          "2019-06-30T00:00:00",
          "2019-06-10T00:00:00",
          "2019-06-11T00:00:00",
          "2019-06-12T00:00:00",
          "2019-06-13T00:00:00",
          "2019-06-14T00:00:00",
          "2019-06-15T00:00:00",
          "2019-06-16T00:00:00",
          "2019-06-17T00:00:00",
          "2019-06-18T00:00:00",
          "2019-06-19T00:00:00",
          "2019-06-20T00:00:00",
          "2019-06-21T00:00:00",
          "2019-06-22T00:00:00",
          "2019-06-23T00:00:00",
          "2019-06-24T00:00:00",
          "2019-06-25T00:00:00",
          "2019-06-26T00:00:00",
          "2019-06-27T00:00:00",
          "2019-06-28T00:00:00",
          "2019-06-29T00:00:00",
          "2019-06-30T00:00:00",
          "2019-06-11T00:00:00",
          "2019-06-12T00:00:00",
          "2019-06-13T00:00:00",
          "2019-06-14T00:00:00",
          "2019-06-15T00:00:00",
          "2019-06-16T00:00:00",
          "2019-06-17T00:00:00",
          "2019-06-18T00:00:00",
          "2019-06-19T00:00:00",
          "2019-06-20T00:00:00",
          "2019-06-21T00:00:00",
          "2019-06-22T00:00:00",
          "2019-06-23T00:00:00",
          "2019-06-24T00:00:00",
          "2019-06-25T00:00:00",
          "2019-06-26T00:00:00",
          "2019-06-27T00:00:00",
          "2019-06-28T00:00:00",
          "2019-06-29T00:00:00",
          "2019-06-30T00:00:00",
          "2019-06-12T00:00:00",
          "2019-06-13T00:00:00",
          "2019-06-14T00:00:00",
          "2019-06-15T00:00:00",
          "2019-06-16T00:00:00",
          "2019-06-17T00:00:00",
          "2019-06-18T00:00:00",
          "2019-06-19T00:00:00",
          "2019-06-20T00:00:00",
          "2019-06-21T00:00:00",
          "2019-06-22T00:00:00",
          "2019-06-23T00:00:00",
          "2019-06-24T00:00:00",
          "2019-06-25T00:00:00",
          "2019-06-26T00:00:00",
          "2019-06-27T00:00:00",
          "2019-06-28T00:00:00",
          "2019-06-29T00:00:00",
          "2019-06-30T00:00:00",
          "2019-06-13T00:00:00",
          "2019-06-14T00:00:00",
          "2019-06-15T00:00:00",
          "2019-06-16T00:00:00",
          "2019-06-17T00:00:00",
          "2019-06-18T00:00:00",
          "2019-06-19T00:00:00",
          "2019-06-20T00:00:00",
          "2019-06-21T00:00:00",
          "2019-06-22T00:00:00",
          "2019-06-23T00:00:00",
          "2019-06-24T00:00:00",
          "2019-06-25T00:00:00",
          "2019-06-26T00:00:00",
          "2019-06-27T00:00:00",
          "2019-06-28T00:00:00",
          "2019-06-29T00:00:00",
          "2019-06-30T00:00:00",
          "2019-06-14T00:00:00",
          "2019-06-15T00:00:00",
          "2019-06-16T00:00:00",
          "2019-06-17T00:00:00",
          "2019-06-18T00:00:00",
          "2019-06-19T00:00:00",
          "2019-06-20T00:00:00",
          "2019-06-21T00:00:00",
          "2019-06-22T00:00:00",
          "2019-06-23T00:00:00",
          "2019-06-24T00:00:00",
          "2019-06-25T00:00:00",
          "2019-06-26T00:00:00",
          "2019-06-27T00:00:00",
          "2019-06-28T00:00:00",
          "2019-06-29T00:00:00",
          "2019-06-30T00:00:00",
          "2019-06-15T00:00:00",
          "2019-06-16T00:00:00",
          "2019-06-17T00:00:00",
          "2019-06-18T00:00:00",
          "2019-06-19T00:00:00",
          "2019-06-20T00:00:00",
          "2019-06-21T00:00:00",
          "2019-06-22T00:00:00",
          "2019-06-23T00:00:00",
          "2019-06-24T00:00:00",
          "2019-06-25T00:00:00",
          "2019-06-26T00:00:00",
          "2019-06-27T00:00:00",
          "2019-06-28T00:00:00",
          "2019-06-29T00:00:00",
          "2019-06-30T00:00:00",
          "2019-06-16T00:00:00",
          "2019-06-17T00:00:00",
          "2019-06-18T00:00:00",
          "2019-06-19T00:00:00",
          "2019-06-20T00:00:00",
          "2019-06-21T00:00:00",
          "2019-06-22T00:00:00",
          "2019-06-23T00:00:00",
          "2019-06-24T00:00:00",
          "2019-06-25T00:00:00",
          "2019-06-26T00:00:00",
          "2019-06-27T00:00:00",
          "2019-06-28T00:00:00",
          "2019-06-29T00:00:00",
          "2019-06-30T00:00:00",
          "2019-06-17T00:00:00",
          "2019-06-18T00:00:00",
          "2019-06-19T00:00:00",
          "2019-06-20T00:00:00",
          "2019-06-21T00:00:00",
          "2019-06-22T00:00:00",
          "2019-06-23T00:00:00",
          "2019-06-24T00:00:00",
          "2019-06-25T00:00:00",
          "2019-06-26T00:00:00",
          "2019-06-27T00:00:00",
          "2019-06-28T00:00:00",
          "2019-06-29T00:00:00",
          "2019-06-30T00:00:00",
          "2019-06-18T00:00:00",
          "2019-06-19T00:00:00",
          "2019-06-20T00:00:00",
          "2019-06-21T00:00:00",
          "2019-06-22T00:00:00",
          "2019-06-23T00:00:00",
          "2019-06-24T00:00:00",
          "2019-06-25T00:00:00",
          "2019-06-26T00:00:00",
          "2019-06-27T00:00:00",
          "2019-06-28T00:00:00",
          "2019-06-29T00:00:00",
          "2019-06-30T00:00:00",
          "2019-06-19T00:00:00",
          "2019-06-20T00:00:00",
          "2019-06-21T00:00:00",
          "2019-06-22T00:00:00",
          "2019-06-23T00:00:00",
          "2019-06-24T00:00:00",
          "2019-06-25T00:00:00",
          "2019-06-26T00:00:00",
          "2019-06-27T00:00:00",
          "2019-06-28T00:00:00",
          "2019-06-29T00:00:00",
          "2019-06-30T00:00:00",
          "2019-06-20T00:00:00",
          "2019-06-21T00:00:00",
          "2019-06-22T00:00:00",
          "2019-06-23T00:00:00",
          "2019-06-24T00:00:00",
          "2019-06-25T00:00:00",
          "2019-06-26T00:00:00",
          "2019-06-27T00:00:00",
          "2019-06-28T00:00:00",
          "2019-06-29T00:00:00",
          "2019-06-30T00:00:00",
          "2019-06-21T00:00:00",
          "2019-06-22T00:00:00",
          "2019-06-23T00:00:00",
          "2019-06-24T00:00:00",
          "2019-06-25T00:00:00",
          "2019-06-26T00:00:00",
          "2019-06-27T00:00:00",
          "2019-06-28T00:00:00",
          "2019-06-29T00:00:00",
          "2019-06-30T00:00:00",
          "2019-06-22T00:00:00",
          "2019-06-23T00:00:00",
          "2019-06-24T00:00:00",
          "2019-06-25T00:00:00",
          "2019-06-26T00:00:00",
          "2019-06-27T00:00:00",
          "2019-06-28T00:00:00",
          "2019-06-29T00:00:00",
          "2019-06-30T00:00:00",
          "2019-06-23T00:00:00",
          "2019-06-24T00:00:00",
          "2019-06-25T00:00:00",
          "2019-06-26T00:00:00",
          "2019-06-27T00:00:00",
          "2019-06-28T00:00:00",
          "2019-06-29T00:00:00",
          "2019-06-30T00:00:00",
          "2019-06-24T00:00:00",
          "2019-06-25T00:00:00",
          "2019-06-26T00:00:00",
          "2019-06-27T00:00:00",
          "2019-06-28T00:00:00",
          "2019-06-29T00:00:00",
          "2019-06-30T00:00:00",
          "2019-06-25T00:00:00",
          "2019-06-26T00:00:00",
          "2019-06-27T00:00:00",
          "2019-06-28T00:00:00",
          "2019-06-29T00:00:00",
          "2019-06-30T00:00:00",
          "2019-06-26T00:00:00",
          "2019-06-27T00:00:00",
          "2019-06-28T00:00:00",
          "2019-06-29T00:00:00",
          "2019-06-30T00:00:00",
          "2019-06-27T00:00:00",
          "2019-06-28T00:00:00",
          "2019-06-29T00:00:00",
          "2019-06-30T00:00:00",
          "2019-06-28T00:00:00",
          "2019-06-29T00:00:00",
          "2019-06-30T00:00:00",
          "2019-06-29T00:00:00",
          "2019-06-30T00:00:00",
          "2019-06-30T00:00:00"
         ],
         "z": [
          34.160976619077175,
          29.56755638319884,
          36.78401522359657,
          21.12559486861163,
          29.495718363463368,
          34.152158359170045,
          17.5667287399131,
          22.131303520456708,
          29.66849511089912,
          35.12160228898426,
          14.359611007655701,
          18.820171265461465,
          20.77271643214882,
          29.685264663805437,
          33.74187093546773,
          13.490585557624662,
          16.42245480494767,
          17.338421178154068,
          22.985216976633286,
          30.540270135067534,
          36.284544524053224,
          12.166356300434513,
          14.55756422454805,
          15.072740281421417,
          18.00190748688603,
          22.311155577788895,
          30.655066530194475,
          37.07194470625196,
          11.27663976825988,
          13.092293054234064,
          12.306224660147866,
          14.759179780639009,
          17.2336168084042,
          20.880245649948822,
          29.46905435124097,
          36.19015734851021,
          11.090420028967515,
          12.997145575642246,
          11.805389935606964,
          13.304721030042918,
          14.732366183091546,
          17.886386898669397,
          21.92899780081684,
          33.00970873786408,
          36.39607493309545,
          9.993792675356922,
          12.159847764034252,
          11.54304793703792,
          13.567000476871721,
          14.057028514257128,
          16.939611054247695,
          19.038642789820923,
          25.14228322731838,
          32.18108831400535,
          35.088594958822064,
          9.517897786054212,
          10.960989533777354,
          11.137610302885761,
          12.18407248450167,
          13.1815907953977,
          14.150460593654044,
          17.122211749921455,
          20.455306327418814,
          23.48349687778769,
          30.44671824307462,
          35.62686973075877,
          8.752327746741155,
          10.371075166508087,
          9.921297400429287,
          10.658082975679543,
          11.805902951475739,
          13.101330603889458,
          14.734527175620485,
          17.94442584532976,
          19.268510258697592,
          21.612178687297227,
          31.32988849605657,
          37.19512195121951,
          8.276432857438444,
          9.077069457659372,
          9.3966134032912,
          9.823557463042441,
          10.830415207603803,
          11.770726714431934,
          12.975180647188186,
          15.634415801807833,
          16.592328278322928,
          18.866982780134762,
          23.44302420451455,
          30.965005302226935,
          34.40920572551221,
          7.92468446099731,
          9.191246431969553,
          8.609587407584069,
          9.012875536480687,
          9.779889944972487,
          10.951893551688844,
          12.09550738297204,
          14.496149983260798,
          14.964317573595004,
          16.371350137259796,
          19.961925482730486,
          23.886532343584303,
          30.536065113668258,
          33.628588882101404,
          7.82122905027933,
          8.962892483349192,
          8.490341044598141,
          8.774439675727228,
          9.429714857428714,
          9.851586489252814,
          10.870248193528118,
          14.194844325410111,
          14.384478144513826,
          14.349887696531072,
          17.024748436225185,
          19.856839872746555,
          22.705585181027224,
          29.474648747709224,
          36.62054754194878,
          7.345334160976619,
          8.943862987630828,
          7.75101359408538,
          7.98760133524082,
          8.904452226113056,
          9.621289662231321,
          10.618912975180647,
          12.721794442584534,
          13.603925066904548,
          13.725979535812327,
          15.828120750611912,
          17.523860021208908,
          18.692113387594723,
          22.052535125229078,
          32.73476596997351,
          36.92263279445728,
          7.097041175253466,
          8.277830637488107,
          8.061054137848796,
          8.512160228898425,
          8.779389694847424,
          9.237461617195496,
          10.210493245366006,
          11.61700703046535,
          11.819803746654772,
          12.478163214374845,
          14.849061735110144,
          16.06574761399788,
          17.176536626438395,
          18.17348808796579,
          22.78481012658228,
          31.37990762124711,
          34.28668709567586,
          6.662528450237948,
          8.106565176022835,
          7.6794657762938225,
          8.011444921316166,
          8.604302151075538,
          9.007164790174002,
          9.393653785736726,
          11.04787412119183,
          11.306868867082962,
          11.804342400798602,
          13.516453630677184,
          14.422057264050903,
          15.12770137524558,
          15.79108124618204,
          19.693847512511038,
          23.816397228637413,
          30.677562138236297,
          34.84380363886028,
          6.476308710945583,
          7.802093244529019,
          7.631767231099451,
          7.415355269432522,
          8.404202101050526,
          9.007164790174002,
          9.362236883443293,
          10.411784399062604,
          10.68242640499554,
          11.055652607936112,
          12.809355452814794,
          13.467656415694593,
          13.864720740948638,
          13.714111178985949,
          17.63320576979688,
          20.265588914549653,
          21.790943139257745,
          30.381050463439752,
          34.98441288534811,
          6.248706807366025,
          7.687916270218839,
          7.29787741473885,
          6.771578445398188,
          7.5287643821910955,
          8.572159672466736,
          8.922400251335217,
          10.244392366923334,
          10.214094558429974,
          10.581482405789867,
          11.558335599673647,
          12.168610816542948,
          13.303396014594442,
          12.583995113011607,
          16.073005593170446,
          18.389145496535797,
          18.998978549540347,
          22.3480947476828,
          32.49047454104607,
          34.13094051179794,
          6.455617628801987,
          7.516650808753568,
          6.701645599809206,
          6.485455412494039,
          7.5037518759379696,
          7.932446264073695,
          9.048067860508954,
          9.87612989621694,
          9.857270294380017,
          9.832792612927378,
          10.796845254283383,
          11.505832449628844,
          11.647488071849565,
          11.820403176542456,
          14.48336767736238,
          15.790993071593535,
          15.696288729996596,
          19.12118091314796,
          24.177346726705924,
          30.64140910601529,
          33.03703703703704,
          6.041795985930064,
          7.078972407231208,
          6.701645599809206,
          6.53314258464473,
          7.028514257128564,
          7.267144319344933,
          8.388312912346843,
          9.173083361232006,
          9.87957181088314,
          9.55827302221113,
          10.198531411476747,
          10.763520678685047,
          10.665169800729721,
          11.514966401954796,
          14.512805416544008,
          15.329099307159352,
          14.538644875723527,
          15.894267078613113,
          18.94700381018358,
          22.43270189431705,
          30.148148148148145,
          34.620737647877526,
          6.124560314504449,
          7.30732635585157,
          6.701645599809206,
          6.31855030996662,
          6.903451725862932,
          7.190378710337769,
          8.074143889412504,
          8.97221292266488,
          9.723461195361285,
          9.183928125779884,
          10.062550992657057,
          10.153764581124072,
          10.216110019646365,
          10.140500916310325,
          13.659110980276715,
          14.11662817551963,
          13.312904324140279,
          14.692756608307587,
          17.52684447523381,
          18.677301429046196,
          21.962962962962962,
          29.714683368128043,
          35.571336346029696,
          5.876267328781296,
          7.193149381541389,
          6.51085141903172,
          6.485455412494039,
          6.9784892446223115,
          7.4462640736949846,
          8.074143889412504,
          9.20656176765986,
          9.032114183764497,
          9.009233840778636,
          10.198531411476747,
          10.100742311770944,
          9.963513892786978,
          9.529627367135003,
          12.334412717103326,
          12.846420323325635,
          12.359550561797752,
          13.456917267421902,
          16.556979563560787,
          16.3177135260884,
          19.11111111111111,
          20.11134307585247,
          28.082633957391867,
          34.67922835352176,
          5.524518932340161,
          6.850618458610846,
          6.487002146434534,
          6.366237482117311,
          6.953476738369184,
          6.985670419651996,
          7.885642475651901,
          8.536993639102779,
          8.786797502230153,
          8.560019965061143,
          10.008158825129183,
          9.75609756097561,
          9.430255402750491,
          9.621258399511301,
          12.216661760376804,
          12.384526558891455,
          11.508341845420498,
          12.564366632337794,
          14.859715968133012,
          15.18777002326354,
          16.25925925925926,
          17.258176757132915,
          21.43318269851517,
          29.789143113503812,
          34.47420634920635,
          5.648665425201738,
          6.279733587059944,
          6.39160505604579,
          6.03242727706247,
          6.603301650825413,
          6.601842374616172,
          7.5400565504241275,
          8.503515232674925,
          8.541480820695806,
          8.335413027202396,
          9.273864563502855,
          9.358430540827149,
          8.868930676396296,
          9.01038485033598,
          10.862525758021784,
          11.287528868360278,
          11.338100102145047,
          11.397185032612427,
          12.919986144786977,
          13.924891990694583,
          14.296296296296296,
          14.892136395267919,
          17.850225952227245,
          21.444593988335576,
          29.811507936507937,
          33.838821490467936,
          5.069315125181046,
          6.165556612749762,
          5.723825423324588,
          5.841678588459704,
          6.4282141070535275,
          6.601842374616172,
          7.382972038956959,
          8.13525276196853,
          8.117752007136485,
          7.8113301721986526,
          8.53957030187653,
          8.61611876988335,
          8.560202076901488,
          8.491142333536958,
          10.303208713570799,
          10.767898383371824,
          10.078311201906708,
          10.127016821146583,
          12.261863526151714,
          12.296444001329347,
          12.88888888888889,
          13.221990257480861,
          15.332472562943837,
          18.752803947958725,
          21.875,
          31.542461005199307,
          33.60849056603774,
          4.9658597144630665,
          6.279733587059944,
          5.6284283329358455,
          5.36480686695279,
          6.003001500750376,
          6.371545547594677,
          6.8803016022620165,
          8.20220957482424,
          7.649420160570919,
          7.661592213626155,
          8.213217296709274,
          8.642629904559914,
          8.27953971372439,
          8.032987171655467,
          9.979393582572857,
          10.594688221709008,
          9.295199182839632,
          9.474768280123584,
          10.80706615864219,
          11.864406779661017,
          11.777777777777777,
          11.86499652052888,
          13.040671400903808,
          15.522655899506505,
          18.10515873015873,
          21.967071057192374,
          28.30188679245283,
          32.36734693877551,
          5.069315125181046,
          6.31779257849667,
          5.175292153589315,
          5.150214592274678,
          5.6278139069534765,
          6.448311156601842,
          6.8803016022620165,
          7.666555071978574,
          7.649420160570919,
          7.561766907911155,
          7.859668207778079,
          7.767762460233298,
          7.774347460005614,
          7.147220525351253,
          9.802767147483072,
          10.1905311778291,
          8.546135512427647,
          8.822519739100583,
          9.213716660893661,
          11.00033233632436,
          10.851851851851851,
          12.21294363256785,
          12.556488056810847,
          13.279497532525797,
          15.079365079365079,
          17.547660311958406,
          20.20440251572327,
          29.591836734693878,
          34.87196765498653,
          4.20028967515001,
          6.051379638439582,
          5.270689243978058,
          5.197901764425369,
          5.452726363181591,
          5.731832139201638,
          6.817467797675149,
          7.197857381988618,
          8.140053523639608,
          7.561766907911155,
          7.45172695131901,
          7.529162248144221,
          7.577883805781645,
          7.08613317043372,
          9.30232558139535,
          10.1905311778291,
          7.865168539325842,
          8.513559903879163,
          9.421544856252165,
          9.870388833499502,
          9.481481481481481,
          10.960334029227557,
          11.58812136862492,
          12.830865859129656,
          14.484126984126986,
          14.861351819757365,
          16.62735849056604,
          21.306122448979593,
          31.940700808625337,
          37.109966676764614,
          2.896751500103455,
          4.471931493815414,
          5.199141426186501,
          5.126371006199332,
          5.452726363181591,
          5.655066530194473,
          6.817467797675149,
          7.264814194844325,
          7.471008028545942,
          7.062640379336162,
          7.288550448735383,
          7.555673382820785,
          7.156890261015998,
          6.811240073304827,
          8.919634972034148,
          9.584295612009237,
          7.388491658154579,
          7.929969104016478,
          9.490820921371666,
          9.371884346959122,
          10.037037037037038,
          9.533750869867779,
          10.555196901226598,
          11.484970838941228,
          13.293650793650794,
          14.168110918544194,
          14.150943396226415,
          18.408163265306122,
          23.652291105121293,
          32.86882762799152,
          2.892483349191246,
          4.197471977104699,
          4.792560801144492,
          5.3526763381690845,
          5.501535312180144,
          6.377631165567076,
          7.197857381988618,
          7.114183764495986,
          6.513601197903669,
          7.016589611096002,
          6.945917285259809,
          7.072691552062868,
          6.4447159437996335,
          8.095378274948484,
          8.689376443418013,
          7.490636704119851,
          7.586680398214899,
          8.4863179771389,
          9.305417082087072,
          8.666666666666668,
          8.24634655532359,
          9.651387992253065,
          10.094212651413189,
          12.053571428571429,
          13.214904679376083,
          12.14622641509434,
          15.346938775510205,
          19.71024258760108,
          24.144198727658285,
          2.88576198425948,
          3.6242250834525516,
          5.102551275637819,
          5.552712384851587,
          6.471881872447377,
          6.762638098426516,
          6.6904549509366635,
          6.189168954329922,
          6.63584443840087,
          6.760339342523861,
          6.73589671625035,
          6.2919975565058035,
          7.94818957904033,
          8.573903002309468,
          6.537282941777324,
          7.312049433573635,
          8.139937651541393,
          9.172482552342972,
          8.962962962962964,
          8.1419624217119,
          8.908973531310522,
          9.421265141318976,
          11.30952380952381,
          11.915077989601386,
          11.163522012578616,
          13.877551020408163,
          16.778975741239893,
          20.024235080278704,
          2.3605150214592276,
          3.7518759379689848,
          5.527123848515865,
          6.283380458686773,
          6.662202879142953,
          6.801962533452274,
          6.089343648614924,
          6.499864019581181,
          6.574761399787911,
          6.960426606792029,
          6.200366524129505,
          7.771563143950544,
          8.02540415704388,
          6.707524685052775,
          7.449364915894267,
          7.96674748874264,
          8.640744433366567,
          8.666666666666668,
          7.341684064022269,
          8.521626856036152,
          8.838043965903992,
          11.011904761904761,
          11.135181975736568,
          10.180817610062894,
          12.326530612244897,
          15.195417789757412,
          17.23720084822781,
          2.751375687843922,
          4.580348004094166,
          5.969211435752435,
          6.662202879142953,
          6.534344335414809,
          5.64012977289743,
          6.282295349469677,
          6.707317073170732,
          6.202638226213865,
          6.200366524129505,
          7.418310273770974,
          7.852193995381063,
          6.332992849846783,
          6.694129763130793,
          7.343262902667129,
          7.676969092721834,
          8.407407407407408,
          7.272094641614475,
          8.457069076823757,
          8.658591296545536,
          10.218253968253968,
          10.528596187175044,
          9.237421383647797,
          11.673469387755102,
          13.746630727762804,
          15.661920630112085,
          3.0194472876151486,
          4.524033930254477,
          6.561767659859391,
          6.6235504014272975,
          5.665086099326179,
          5.901550176774544,
          6.150583244962885,
          5.978108335672187,
          5.803298717165547,
          7.212246099499558,
          7.967667436489608,
          5.686074225400068,
          6.797116374871266,
          6.85833044683062,
          7.743436357593884,
          7.703703703703704,
          7.237299930410577,
          8.26339573918657,
          7.806191117092867,
          9.672619047619047,
          9.878682842287695,
          8.883647798742137,
          10.938775510204081,
          12.80323450134771,
          15.207512874886397,
          2.796104304115614,
          5.289588215600938,
          6.244424620874219,
          5.789867731469927,
          6.227903181941801,
          5.9915164369035,
          5.50098231827112,
          5.62003665241295,
          7.006181925228143,
          7.881062355658199,
          5.3796390875042555,
          6.316512186749056,
          6.4426740561136135,
          7.809903622465936,
          7.444444444444444,
          6.715379262352123,
          8.03744351194319,
          7.806191117092867,
          9.771825396825397,
          8.752166377816291,
          8.529874213836477,
          10,
          12.230458221024259,
          14.934868221750985,
          3.7495815199196514,
          4.9286351471900085,
          5.390566508609933,
          5.901550176774544,
          5.938494167550371,
          5.893909626719057,
          5.284056200366524,
          6.976744186046512,
          7.448036951501155,
          5.720122574055159,
          6.385169927909372,
          6.685140284031867,
          8.075772681954138,
          7.555555555555555,
          6.367432150313153,
          7.553260167850226,
          8.16509645580978,
          8.928571428571429,
          8.31889081455806,
          8.018867924528301,
          10.081632653061225,
          11.590296495956872,
          13.480763405028778,
          3.1891168599464765,
          4.342400798602446,
          5.656785422899103,
          5.911983032873807,
          5.7535784451305085,
          5.406230910201589,
          6.711804533411835,
          6.957274826789838,
          5.549880830779707,
          6.1448678338482665,
          6.789054381711118,
          7.2116982386174815,
          7.222222222222221,
          6.089074460681976,
          7.165913492575855,
          7.761327949753253,
          8.630952380952381,
          8.492201039861353,
          7.70440251572327,
          9.63265306122449,
          10.175202156334231,
          12.753710996667678,
          2.6952832543049663,
          4.242589067174326,
          5.381760339342524,
          5.641313499859669,
          5.31459987782529,
          6.59405357668531,
          6.784064665127021,
          5.175348995573715,
          6.1448678338482665,
          6.373397990994112,
          6.713193752077102,
          6.62962962962963,
          5.845511482254697,
          6.649451258876694,
          7.447285778375953,
          7.837301587301587,
          8.015597920277298,
          7.193396226415095,
          8.16326530612245,
          9.973045822102426,
          12.208421690396849,
          2.5836279575741092,
          4.241781548250265,
          5.38871737300028,
          5.192425167990225,
          6.064174271415955,
          6.408775981524249,
          5.107252298263535,
          5.732921386886371,
          6.338759958434361,
          6.713193752077102,
          6.407407407407407,
          5.288796102992345,
          6.520335700451904,
          7.178106774338268,
          7.738095238095238,
          7.668977469670711,
          6.839622641509433,
          8.16326530612245,
          9.467654986522911,
          10.9663738261133,
          3.048780487804878,
          4.06960426606792,
          5.192425167990225,
          5.8581100971445395,
          5.86027713625866,
          5.107252298263535,
          5.149330587023687,
          5.8191894700381015,
          6.181455633100698,
          6.185185185185185,
          5.462769659011831,
          6.391220142027114,
          6.505159264244055,
          7.291666666666667,
          7.322357019064126,
          6.25,
          8.122448979591837,
          9.299191374663073,
          9.99697061496516,
          2.7224249228178503,
          4.337202199144777,
          6.123049749779217,
          6.264434180138569,
          5.073203949608444,
          5.046343975283213,
          5.611361274679598,
          5.88235294117647,
          6.222222222222222,
          5.288796102992345,
          6.036152356358941,
          6.191117092866756,
          6.646825396825397,
          6.802426343154246,
          5.699685534591195,
          7.551020408163265,
          9.029649595687331,
          9.360799757649199,
          2.6878436163714112,
          4.445098616426259,
          5.86027713625866,
          4.834865509022812,
          4.531410916580844,
          5.299618981641842,
          5.716184778996344,
          5.9259259259259265,
          5.358385525400139,
          5.971594577146546,
          6.55002243158367,
          6.25,
          6.7157712305026,
          5.8569182389937104,
          7.26530612244898,
          9.097035040431267,
          9.148742805210542,
          3.12040035325287,
          4.214780600461894,
          4.56247871978209,
          5.046343975283213,
          5.368895046761344,
          5.982053838484546,
          6,
          5.010438413361169,
          5.842479018721756,
          6.235980260206371,
          6.9940476190476195,
          6.672443674176777,
          5.738993710691824,
          6.979591836734694,
          8.49056603773585,
          9.057861254165404,
          2.771362586605081,
          3.5410282601293837,
          5.080672845863371,
          5.2649809490820925,
          5.749418411432369,
          5.592592592592593,
          5.219206680584551,
          5.51969012265978,
          6.505159264244055,
          6.4980158730158735,
          6.499133448873485,
          5.660377358490567,
          6.612244897959184,
          8.153638814016173,
          7.846107240230234,
          2.519577800476677,
          4.085135599038791,
          5.126428818843089,
          5.682951146560319,
          5.333333333333334,
          4.871259568545581,
          5.100064557779213,
          5.921938088829071,
          6.200396825396826,
          6.499133448873485,
          5.188679245283019,
          6.326530612244897,
          7.446091644204851,
          8.149045743714026,
          2.814967387572949,
          3.740907516453065,
          5.317381189764041,
          4.888888888888889,
          4.3841336116910234,
          5.132343447385409,
          5.563032750112158,
          5.555555555555555,
          5.979202772963605,
          4.79559748427673,
          6,
          7.547169811320755,
          7.179642532565889,
          2.5978524419812956,
          3.988035892323031,
          4.962962962962963,
          4.210160055671538,
          4.486765655261459,
          5.428443248093315,
          4.712301587301587,
          5.545927209705372,
          4.8742138364779874,
          5.959183673469388,
          7.378706199460916,
          7.14934868221751,
          2.459288800265869,
          4.148148148148148,
          4.244954766875435,
          4.809554551323434,
          5.069537909376402,
          4.811507936507937,
          5.37261698440208,
          4.520440251572326,
          5.469387755102041,
          7.142857142857142,
          6.997879430475614,
          3.037037037037037,
          3.549060542797495,
          4.87411233053583,
          4.710632570659488,
          5.009920634920635,
          5.11265164644714,
          4.323899371069182,
          5.510204081632653,
          7.378706199460916,
          6.8161163283853385,
          2.1572720946416144,
          3.453841187863137,
          4.531179901301032,
          4.761904761904762,
          5.11265164644714,
          4.127358490566038,
          5.510204081632653,
          6.839622641509433,
          6.513177824901545,
          2.194964493221433,
          3.7236428891879765,
          4.9603174603174605,
          4.462738301559792,
          4.166666666666666,
          5.714285714285714,
          6.2668463611859835,
          6.422296273856406,
          2.736653207716465,
          4.017857142857143,
          4.549393414211438,
          3.891509433962264,
          5.061224489795919,
          5.963611859838275,
          6.482883974553166,
          2.579365079365079,
          3.3795493934142113,
          3.930817610062893,
          5.26530612244898,
          5.6940700808625335,
          6.361708573159648,
          2.079722703639515,
          2.9874213836477987,
          4.8979591836734695,
          5.626684636118599,
          5.846713117237201,
          2.083333333333333,
          3.5510204081632657,
          5.795148247978436,
          5.634656164798546,
          2.2040816326530615,
          4.346361185983827,
          5.998182368979097,
          2.998652291105121,
          4.3623144501666165,
          2.7567403817025142
         ]
        }
       ],
       "layout": {
        "template": {
         "data": {
          "bar": [
           {
            "error_x": {
             "color": "#2a3f5f"
            },
            "error_y": {
             "color": "#2a3f5f"
            },
            "marker": {
             "line": {
              "color": "#E5ECF6",
              "width": 0.5
             }
            },
            "type": "bar"
           }
          ],
          "barpolar": [
           {
            "marker": {
             "line": {
              "color": "#E5ECF6",
              "width": 0.5
             }
            },
            "type": "barpolar"
           }
          ],
          "carpet": [
           {
            "aaxis": {
             "endlinecolor": "#2a3f5f",
             "gridcolor": "white",
             "linecolor": "white",
             "minorgridcolor": "white",
             "startlinecolor": "#2a3f5f"
            },
            "baxis": {
             "endlinecolor": "#2a3f5f",
             "gridcolor": "white",
             "linecolor": "white",
             "minorgridcolor": "white",
             "startlinecolor": "#2a3f5f"
            },
            "type": "carpet"
           }
          ],
          "choropleth": [
           {
            "colorbar": {
             "outlinewidth": 0,
             "ticks": ""
            },
            "type": "choropleth"
           }
          ],
          "contour": [
           {
            "colorbar": {
             "outlinewidth": 0,
             "ticks": ""
            },
            "colorscale": [
             [
              0,
              "#0d0887"
             ],
             [
              0.1111111111111111,
              "#46039f"
             ],
             [
              0.2222222222222222,
              "#7201a8"
             ],
             [
              0.3333333333333333,
              "#9c179e"
             ],
             [
              0.4444444444444444,
              "#bd3786"
             ],
             [
              0.5555555555555556,
              "#d8576b"
             ],
             [
              0.6666666666666666,
              "#ed7953"
             ],
             [
              0.7777777777777778,
              "#fb9f3a"
             ],
             [
              0.8888888888888888,
              "#fdca26"
             ],
             [
              1,
              "#f0f921"
             ]
            ],
            "type": "contour"
           }
          ],
          "contourcarpet": [
           {
            "colorbar": {
             "outlinewidth": 0,
             "ticks": ""
            },
            "type": "contourcarpet"
           }
          ],
          "heatmap": [
           {
            "colorbar": {
             "outlinewidth": 0,
             "ticks": ""
            },
            "colorscale": [
             [
              0,
              "#0d0887"
             ],
             [
              0.1111111111111111,
              "#46039f"
             ],
             [
              0.2222222222222222,
              "#7201a8"
             ],
             [
              0.3333333333333333,
              "#9c179e"
             ],
             [
              0.4444444444444444,
              "#bd3786"
             ],
             [
              0.5555555555555556,
              "#d8576b"
             ],
             [
              0.6666666666666666,
              "#ed7953"
             ],
             [
              0.7777777777777778,
              "#fb9f3a"
             ],
             [
              0.8888888888888888,
              "#fdca26"
             ],
             [
              1,
              "#f0f921"
             ]
            ],
            "type": "heatmap"
           }
          ],
          "heatmapgl": [
           {
            "colorbar": {
             "outlinewidth": 0,
             "ticks": ""
            },
            "colorscale": [
             [
              0,
              "#0d0887"
             ],
             [
              0.1111111111111111,
              "#46039f"
             ],
             [
              0.2222222222222222,
              "#7201a8"
             ],
             [
              0.3333333333333333,
              "#9c179e"
             ],
             [
              0.4444444444444444,
              "#bd3786"
             ],
             [
              0.5555555555555556,
              "#d8576b"
             ],
             [
              0.6666666666666666,
              "#ed7953"
             ],
             [
              0.7777777777777778,
              "#fb9f3a"
             ],
             [
              0.8888888888888888,
              "#fdca26"
             ],
             [
              1,
              "#f0f921"
             ]
            ],
            "type": "heatmapgl"
           }
          ],
          "histogram": [
           {
            "marker": {
             "colorbar": {
              "outlinewidth": 0,
              "ticks": ""
             }
            },
            "type": "histogram"
           }
          ],
          "histogram2d": [
           {
            "colorbar": {
             "outlinewidth": 0,
             "ticks": ""
            },
            "colorscale": [
             [
              0,
              "#0d0887"
             ],
             [
              0.1111111111111111,
              "#46039f"
             ],
             [
              0.2222222222222222,
              "#7201a8"
             ],
             [
              0.3333333333333333,
              "#9c179e"
             ],
             [
              0.4444444444444444,
              "#bd3786"
             ],
             [
              0.5555555555555556,
              "#d8576b"
             ],
             [
              0.6666666666666666,
              "#ed7953"
             ],
             [
              0.7777777777777778,
              "#fb9f3a"
             ],
             [
              0.8888888888888888,
              "#fdca26"
             ],
             [
              1,
              "#f0f921"
             ]
            ],
            "type": "histogram2d"
           }
          ],
          "histogram2dcontour": [
           {
            "colorbar": {
             "outlinewidth": 0,
             "ticks": ""
            },
            "colorscale": [
             [
              0,
              "#0d0887"
             ],
             [
              0.1111111111111111,
              "#46039f"
             ],
             [
              0.2222222222222222,
              "#7201a8"
             ],
             [
              0.3333333333333333,
              "#9c179e"
             ],
             [
              0.4444444444444444,
              "#bd3786"
             ],
             [
              0.5555555555555556,
              "#d8576b"
             ],
             [
              0.6666666666666666,
              "#ed7953"
             ],
             [
              0.7777777777777778,
              "#fb9f3a"
             ],
             [
              0.8888888888888888,
              "#fdca26"
             ],
             [
              1,
              "#f0f921"
             ]
            ],
            "type": "histogram2dcontour"
           }
          ],
          "mesh3d": [
           {
            "colorbar": {
             "outlinewidth": 0,
             "ticks": ""
            },
            "type": "mesh3d"
           }
          ],
          "parcoords": [
           {
            "line": {
             "colorbar": {
              "outlinewidth": 0,
              "ticks": ""
             }
            },
            "type": "parcoords"
           }
          ],
          "pie": [
           {
            "automargin": true,
            "type": "pie"
           }
          ],
          "scatter": [
           {
            "marker": {
             "colorbar": {
              "outlinewidth": 0,
              "ticks": ""
             }
            },
            "type": "scatter"
           }
          ],
          "scatter3d": [
           {
            "line": {
             "colorbar": {
              "outlinewidth": 0,
              "ticks": ""
             }
            },
            "marker": {
             "colorbar": {
              "outlinewidth": 0,
              "ticks": ""
             }
            },
            "type": "scatter3d"
           }
          ],
          "scattercarpet": [
           {
            "marker": {
             "colorbar": {
              "outlinewidth": 0,
              "ticks": ""
             }
            },
            "type": "scattercarpet"
           }
          ],
          "scattergeo": [
           {
            "marker": {
             "colorbar": {
              "outlinewidth": 0,
              "ticks": ""
             }
            },
            "type": "scattergeo"
           }
          ],
          "scattergl": [
           {
            "marker": {
             "colorbar": {
              "outlinewidth": 0,
              "ticks": ""
             }
            },
            "type": "scattergl"
           }
          ],
          "scattermapbox": [
           {
            "marker": {
             "colorbar": {
              "outlinewidth": 0,
              "ticks": ""
             }
            },
            "type": "scattermapbox"
           }
          ],
          "scatterpolar": [
           {
            "marker": {
             "colorbar": {
              "outlinewidth": 0,
              "ticks": ""
             }
            },
            "type": "scatterpolar"
           }
          ],
          "scatterpolargl": [
           {
            "marker": {
             "colorbar": {
              "outlinewidth": 0,
              "ticks": ""
             }
            },
            "type": "scatterpolargl"
           }
          ],
          "scatterternary": [
           {
            "marker": {
             "colorbar": {
              "outlinewidth": 0,
              "ticks": ""
             }
            },
            "type": "scatterternary"
           }
          ],
          "surface": [
           {
            "colorbar": {
             "outlinewidth": 0,
             "ticks": ""
            },
            "colorscale": [
             [
              0,
              "#0d0887"
             ],
             [
              0.1111111111111111,
              "#46039f"
             ],
             [
              0.2222222222222222,
              "#7201a8"
             ],
             [
              0.3333333333333333,
              "#9c179e"
             ],
             [
              0.4444444444444444,
              "#bd3786"
             ],
             [
              0.5555555555555556,
              "#d8576b"
             ],
             [
              0.6666666666666666,
              "#ed7953"
             ],
             [
              0.7777777777777778,
              "#fb9f3a"
             ],
             [
              0.8888888888888888,
              "#fdca26"
             ],
             [
              1,
              "#f0f921"
             ]
            ],
            "type": "surface"
           }
          ],
          "table": [
           {
            "cells": {
             "fill": {
              "color": "#EBF0F8"
             },
             "line": {
              "color": "white"
             }
            },
            "header": {
             "fill": {
              "color": "#C8D4E3"
             },
             "line": {
              "color": "white"
             }
            },
            "type": "table"
           }
          ]
         },
         "layout": {
          "annotationdefaults": {
           "arrowcolor": "#2a3f5f",
           "arrowhead": 0,
           "arrowwidth": 1
          },
          "coloraxis": {
           "colorbar": {
            "outlinewidth": 0,
            "ticks": ""
           }
          },
          "colorscale": {
           "diverging": [
            [
             0,
             "#8e0152"
            ],
            [
             0.1,
             "#c51b7d"
            ],
            [
             0.2,
             "#de77ae"
            ],
            [
             0.3,
             "#f1b6da"
            ],
            [
             0.4,
             "#fde0ef"
            ],
            [
             0.5,
             "#f7f7f7"
            ],
            [
             0.6,
             "#e6f5d0"
            ],
            [
             0.7,
             "#b8e186"
            ],
            [
             0.8,
             "#7fbc41"
            ],
            [
             0.9,
             "#4d9221"
            ],
            [
             1,
             "#276419"
            ]
           ],
           "sequential": [
            [
             0,
             "#0d0887"
            ],
            [
             0.1111111111111111,
             "#46039f"
            ],
            [
             0.2222222222222222,
             "#7201a8"
            ],
            [
             0.3333333333333333,
             "#9c179e"
            ],
            [
             0.4444444444444444,
             "#bd3786"
            ],
            [
             0.5555555555555556,
             "#d8576b"
            ],
            [
             0.6666666666666666,
             "#ed7953"
            ],
            [
             0.7777777777777778,
             "#fb9f3a"
            ],
            [
             0.8888888888888888,
             "#fdca26"
            ],
            [
             1,
             "#f0f921"
            ]
           ],
           "sequentialminus": [
            [
             0,
             "#0d0887"
            ],
            [
             0.1111111111111111,
             "#46039f"
            ],
            [
             0.2222222222222222,
             "#7201a8"
            ],
            [
             0.3333333333333333,
             "#9c179e"
            ],
            [
             0.4444444444444444,
             "#bd3786"
            ],
            [
             0.5555555555555556,
             "#d8576b"
            ],
            [
             0.6666666666666666,
             "#ed7953"
            ],
            [
             0.7777777777777778,
             "#fb9f3a"
            ],
            [
             0.8888888888888888,
             "#fdca26"
            ],
            [
             1,
             "#f0f921"
            ]
           ]
          },
          "colorway": [
           "#636efa",
           "#EF553B",
           "#00cc96",
           "#ab63fa",
           "#FFA15A",
           "#19d3f3",
           "#FF6692",
           "#B6E880",
           "#FF97FF",
           "#FECB52"
          ],
          "font": {
           "color": "#2a3f5f"
          },
          "geo": {
           "bgcolor": "white",
           "lakecolor": "white",
           "landcolor": "#E5ECF6",
           "showlakes": true,
           "showland": true,
           "subunitcolor": "white"
          },
          "hoverlabel": {
           "align": "left"
          },
          "hovermode": "closest",
          "mapbox": {
           "style": "light"
          },
          "paper_bgcolor": "white",
          "plot_bgcolor": "#E5ECF6",
          "polar": {
           "angularaxis": {
            "gridcolor": "white",
            "linecolor": "white",
            "ticks": ""
           },
           "bgcolor": "#E5ECF6",
           "radialaxis": {
            "gridcolor": "white",
            "linecolor": "white",
            "ticks": ""
           }
          },
          "scene": {
           "xaxis": {
            "backgroundcolor": "#E5ECF6",
            "gridcolor": "white",
            "gridwidth": 2,
            "linecolor": "white",
            "showbackground": true,
            "ticks": "",
            "zerolinecolor": "white"
           },
           "yaxis": {
            "backgroundcolor": "#E5ECF6",
            "gridcolor": "white",
            "gridwidth": 2,
            "linecolor": "white",
            "showbackground": true,
            "ticks": "",
            "zerolinecolor": "white"
           },
           "zaxis": {
            "backgroundcolor": "#E5ECF6",
            "gridcolor": "white",
            "gridwidth": 2,
            "linecolor": "white",
            "showbackground": true,
            "ticks": "",
            "zerolinecolor": "white"
           }
          },
          "shapedefaults": {
           "line": {
            "color": "#2a3f5f"
           }
          },
          "ternary": {
           "aaxis": {
            "gridcolor": "white",
            "linecolor": "white",
            "ticks": ""
           },
           "baxis": {
            "gridcolor": "white",
            "linecolor": "white",
            "ticks": ""
           },
           "bgcolor": "#E5ECF6",
           "caxis": {
            "gridcolor": "white",
            "linecolor": "white",
            "ticks": ""
           }
          },
          "title": {
           "x": 0.05
          },
          "xaxis": {
           "automargin": true,
           "gridcolor": "white",
           "linecolor": "white",
           "ticks": "",
           "title": {
            "standoff": 15
           },
           "zerolinecolor": "white",
           "zerolinewidth": 2
          },
          "yaxis": {
           "automargin": true,
           "gridcolor": "white",
           "linecolor": "white",
           "ticks": "",
           "title": {
            "standoff": 15
           },
           "zerolinecolor": "white",
           "zerolinewidth": 2
          }
         }
        },
        "title": {
         "text": "Cohorts: User Retention"
        },
        "xaxis": {
         "dtick": 1,
         "title": {
          "text": "lifetime"
         }
        },
        "yaxis": {
         "tickmode": "linear",
         "title": {
          "text": "cohorts"
         }
        }
       }
      },
      "text/html": [
       "<div>\n",
       "        \n",
       "        \n",
       "            <div id=\"9acb56a6-df4b-447a-bc8e-3a38a0641692\" class=\"plotly-graph-div\" style=\"height:525px; width:100%;\"></div>\n",
       "            <script type=\"text/javascript\">\n",
       "                require([\"plotly\"], function(Plotly) {\n",
       "                    window.PLOTLYENV=window.PLOTLYENV || {};\n",
       "                    \n",
       "                if (document.getElementById(\"9acb56a6-df4b-447a-bc8e-3a38a0641692\")) {\n",
       "                    Plotly.newPlot(\n",
       "                        '9acb56a6-df4b-447a-bc8e-3a38a0641692',\n",
       "                        [{\"colorscale\": [[0.0, \"#440154\"], [0.1111111111111111, \"#482878\"], [0.2222222222222222, \"#3e4989\"], [0.3333333333333333, \"#31688e\"], [0.4444444444444444, \"#26828e\"], [0.5555555555555556, \"#1f9e89\"], [0.6666666666666666, \"#35b779\"], [0.7777777777777778, \"#6ece58\"], [0.8888888888888888, \"#b5de2b\"], [1.0, \"#fde725\"]], \"hovertemplate\": \"<b>Date</b>: %{y}<br><b>Lifetime</b>: %{x}<br><b>Rate<b>: %{z:.2f} %<extra></extra>\", \"type\": \"heatmap\", \"x\": [0, 1, 0, 2, 1, 0, 3, 2, 1, 0, 4, 3, 2, 1, 0, 5, 4, 3, 2, 1, 0, 6, 5, 4, 3, 2, 1, 0, 7, 6, 5, 4, 3, 2, 1, 0, 8, 7, 6, 5, 4, 3, 2, 1, 0, 9, 8, 7, 6, 5, 4, 3, 2, 1, 0, 10, 9, 8, 7, 6, 5, 4, 3, 2, 1, 0, 11, 10, 9, 8, 7, 6, 5, 4, 3, 2, 1, 0, 12, 11, 10, 9, 8, 7, 6, 5, 4, 3, 2, 1, 0, 13, 12, 11, 10, 9, 8, 7, 6, 5, 4, 3, 2, 1, 0, 14, 13, 12, 11, 10, 9, 8, 7, 6, 5, 4, 3, 2, 1, 0, 15, 14, 13, 12, 11, 10, 9, 8, 7, 6, 5, 4, 3, 2, 1, 0, 16, 15, 14, 13, 12, 11, 10, 9, 8, 7, 6, 5, 4, 3, 2, 1, 0, 17, 16, 15, 14, 13, 12, 11, 10, 9, 8, 7, 6, 5, 4, 3, 2, 1, 0, 18, 17, 16, 15, 14, 13, 12, 11, 10, 9, 8, 7, 6, 5, 4, 3, 2, 1, 0, 19, 18, 17, 16, 15, 14, 13, 12, 11, 10, 9, 8, 7, 6, 5, 4, 3, 2, 1, 0, 20, 19, 18, 17, 16, 15, 14, 13, 12, 11, 10, 9, 8, 7, 6, 5, 4, 3, 2, 1, 0, 21, 20, 19, 18, 17, 16, 15, 14, 13, 12, 11, 10, 9, 8, 7, 6, 5, 4, 3, 2, 1, 0, 22, 21, 20, 19, 18, 17, 16, 15, 14, 13, 12, 11, 10, 9, 8, 7, 6, 5, 4, 3, 2, 1, 0, 23, 22, 21, 20, 19, 18, 17, 16, 15, 14, 13, 12, 11, 10, 9, 8, 7, 6, 5, 4, 3, 2, 1, 0, 24, 23, 22, 21, 20, 19, 18, 17, 16, 15, 14, 13, 12, 11, 10, 9, 8, 7, 6, 5, 4, 3, 2, 1, 0, 25, 24, 23, 22, 21, 20, 19, 18, 17, 16, 15, 14, 13, 12, 11, 10, 9, 8, 7, 6, 5, 4, 3, 2, 1, 0, 26, 25, 24, 23, 22, 21, 20, 19, 18, 17, 16, 15, 14, 13, 12, 11, 10, 9, 8, 7, 6, 5, 4, 3, 2, 1, 0, 27, 26, 25, 24, 23, 22, 21, 20, 19, 18, 17, 16, 15, 14, 13, 12, 11, 10, 9, 8, 7, 6, 5, 4, 3, 2, 1, 0, 28, 27, 26, 25, 24, 23, 22, 21, 20, 19, 18, 17, 16, 15, 14, 13, 12, 11, 10, 9, 8, 7, 6, 5, 4, 3, 2, 1, 0, 29, 28, 27, 26, 25, 24, 23, 22, 21, 20, 19, 18, 17, 16, 15, 14, 13, 12, 11, 10, 9, 8, 7, 6, 5, 4, 3, 2, 1, 0, 30, 29, 28, 27, 26, 25, 24, 23, 22, 21, 20, 19, 18, 17, 16, 15, 14, 13, 12, 11, 10, 9, 8, 7, 6, 5, 4, 3, 2, 1, 30, 29, 28, 27, 26, 25, 24, 23, 22, 21, 20, 19, 18, 17, 16, 15, 14, 13, 12, 11, 10, 9, 8, 7, 6, 5, 4, 3, 2, 30, 29, 28, 27, 26, 25, 24, 23, 22, 21, 20, 19, 18, 17, 16, 15, 14, 13, 12, 11, 10, 9, 8, 7, 6, 5, 4, 3, 30, 29, 28, 27, 26, 25, 24, 23, 22, 21, 20, 19, 18, 17, 16, 15, 14, 13, 12, 11, 10, 9, 8, 7, 6, 5, 4, 30, 29, 28, 27, 26, 25, 24, 23, 22, 21, 20, 19, 18, 17, 16, 15, 14, 13, 12, 11, 10, 9, 8, 7, 6, 5, 30, 29, 28, 27, 26, 25, 24, 23, 22, 21, 20, 19, 18, 17, 16, 15, 14, 13, 12, 11, 10, 9, 8, 7, 6, 30, 29, 28, 27, 26, 25, 24, 23, 22, 21, 20, 19, 18, 17, 16, 15, 14, 13, 12, 11, 10, 9, 8, 7, 30, 29, 28, 27, 26, 25, 24, 23, 22, 21, 20, 19, 18, 17, 16, 15, 14, 13, 12, 11, 10, 9, 8, 30, 29, 28, 27, 26, 25, 24, 23, 22, 21, 20, 19, 18, 17, 16, 15, 14, 13, 12, 11, 10, 9, 30, 29, 28, 27, 26, 25, 24, 23, 22, 21, 20, 19, 18, 17, 16, 15, 14, 13, 12, 11, 10, 30, 29, 28, 27, 26, 25, 24, 23, 22, 21, 20, 19, 18, 17, 16, 15, 14, 13, 12, 11, 30, 29, 28, 27, 26, 25, 24, 23, 22, 21, 20, 19, 18, 17, 16, 15, 14, 13, 12, 30, 29, 28, 27, 26, 25, 24, 23, 22, 21, 20, 19, 18, 17, 16, 15, 14, 13, 30, 29, 28, 27, 26, 25, 24, 23, 22, 21, 20, 19, 18, 17, 16, 15, 14, 30, 29, 28, 27, 26, 25, 24, 23, 22, 21, 20, 19, 18, 17, 16, 15, 30, 29, 28, 27, 26, 25, 24, 23, 22, 21, 20, 19, 18, 17, 16, 30, 29, 28, 27, 26, 25, 24, 23, 22, 21, 20, 19, 18, 17, 30, 29, 28, 27, 26, 25, 24, 23, 22, 21, 20, 19, 18, 30, 29, 28, 27, 26, 25, 24, 23, 22, 21, 20, 19, 30, 29, 28, 27, 26, 25, 24, 23, 22, 21, 20, 30, 29, 28, 27, 26, 25, 24, 23, 22, 21, 30, 29, 28, 27, 26, 25, 24, 23, 22, 30, 29, 28, 27, 26, 25, 24, 23, 30, 29, 28, 27, 26, 25, 24, 30, 29, 28, 27, 26, 25, 30, 29, 28, 27, 26, 30, 29, 28, 27, 30, 29, 28, 30, 29, 30], \"y\": [\"2019-06-01T00:00:00\", \"2019-06-01T00:00:00\", \"2019-06-02T00:00:00\", \"2019-06-01T00:00:00\", \"2019-06-02T00:00:00\", \"2019-06-03T00:00:00\", \"2019-06-01T00:00:00\", \"2019-06-02T00:00:00\", \"2019-06-03T00:00:00\", \"2019-06-04T00:00:00\", \"2019-06-01T00:00:00\", \"2019-06-02T00:00:00\", \"2019-06-03T00:00:00\", \"2019-06-04T00:00:00\", \"2019-06-05T00:00:00\", \"2019-06-01T00:00:00\", \"2019-06-02T00:00:00\", \"2019-06-03T00:00:00\", \"2019-06-04T00:00:00\", \"2019-06-05T00:00:00\", \"2019-06-06T00:00:00\", \"2019-06-01T00:00:00\", \"2019-06-02T00:00:00\", \"2019-06-03T00:00:00\", \"2019-06-04T00:00:00\", \"2019-06-05T00:00:00\", \"2019-06-06T00:00:00\", \"2019-06-07T00:00:00\", \"2019-06-01T00:00:00\", \"2019-06-02T00:00:00\", \"2019-06-03T00:00:00\", \"2019-06-04T00:00:00\", \"2019-06-05T00:00:00\", \"2019-06-06T00:00:00\", \"2019-06-07T00:00:00\", \"2019-06-08T00:00:00\", \"2019-06-01T00:00:00\", \"2019-06-02T00:00:00\", \"2019-06-03T00:00:00\", \"2019-06-04T00:00:00\", \"2019-06-05T00:00:00\", \"2019-06-06T00:00:00\", \"2019-06-07T00:00:00\", \"2019-06-08T00:00:00\", \"2019-06-09T00:00:00\", \"2019-06-01T00:00:00\", \"2019-06-02T00:00:00\", \"2019-06-03T00:00:00\", \"2019-06-04T00:00:00\", \"2019-06-05T00:00:00\", \"2019-06-06T00:00:00\", \"2019-06-07T00:00:00\", \"2019-06-08T00:00:00\", \"2019-06-09T00:00:00\", \"2019-06-10T00:00:00\", \"2019-06-01T00:00:00\", \"2019-06-02T00:00:00\", \"2019-06-03T00:00:00\", \"2019-06-04T00:00:00\", \"2019-06-05T00:00:00\", \"2019-06-06T00:00:00\", \"2019-06-07T00:00:00\", \"2019-06-08T00:00:00\", \"2019-06-09T00:00:00\", \"2019-06-10T00:00:00\", \"2019-06-11T00:00:00\", \"2019-06-01T00:00:00\", \"2019-06-02T00:00:00\", \"2019-06-03T00:00:00\", \"2019-06-04T00:00:00\", \"2019-06-05T00:00:00\", \"2019-06-06T00:00:00\", \"2019-06-07T00:00:00\", \"2019-06-08T00:00:00\", \"2019-06-09T00:00:00\", \"2019-06-10T00:00:00\", \"2019-06-11T00:00:00\", \"2019-06-12T00:00:00\", \"2019-06-01T00:00:00\", \"2019-06-02T00:00:00\", \"2019-06-03T00:00:00\", \"2019-06-04T00:00:00\", \"2019-06-05T00:00:00\", \"2019-06-06T00:00:00\", \"2019-06-07T00:00:00\", \"2019-06-08T00:00:00\", \"2019-06-09T00:00:00\", \"2019-06-10T00:00:00\", \"2019-06-11T00:00:00\", \"2019-06-12T00:00:00\", \"2019-06-13T00:00:00\", \"2019-06-01T00:00:00\", \"2019-06-02T00:00:00\", \"2019-06-03T00:00:00\", \"2019-06-04T00:00:00\", \"2019-06-05T00:00:00\", \"2019-06-06T00:00:00\", \"2019-06-07T00:00:00\", \"2019-06-08T00:00:00\", \"2019-06-09T00:00:00\", \"2019-06-10T00:00:00\", \"2019-06-11T00:00:00\", \"2019-06-12T00:00:00\", \"2019-06-13T00:00:00\", \"2019-06-14T00:00:00\", \"2019-06-01T00:00:00\", \"2019-06-02T00:00:00\", \"2019-06-03T00:00:00\", \"2019-06-04T00:00:00\", \"2019-06-05T00:00:00\", \"2019-06-06T00:00:00\", \"2019-06-07T00:00:00\", \"2019-06-08T00:00:00\", \"2019-06-09T00:00:00\", \"2019-06-10T00:00:00\", \"2019-06-11T00:00:00\", \"2019-06-12T00:00:00\", \"2019-06-13T00:00:00\", \"2019-06-14T00:00:00\", \"2019-06-15T00:00:00\", \"2019-06-01T00:00:00\", \"2019-06-02T00:00:00\", \"2019-06-03T00:00:00\", \"2019-06-04T00:00:00\", \"2019-06-05T00:00:00\", \"2019-06-06T00:00:00\", \"2019-06-07T00:00:00\", \"2019-06-08T00:00:00\", \"2019-06-09T00:00:00\", \"2019-06-10T00:00:00\", \"2019-06-11T00:00:00\", \"2019-06-12T00:00:00\", \"2019-06-13T00:00:00\", \"2019-06-14T00:00:00\", \"2019-06-15T00:00:00\", \"2019-06-16T00:00:00\", \"2019-06-01T00:00:00\", \"2019-06-02T00:00:00\", \"2019-06-03T00:00:00\", \"2019-06-04T00:00:00\", \"2019-06-05T00:00:00\", \"2019-06-06T00:00:00\", \"2019-06-07T00:00:00\", \"2019-06-08T00:00:00\", \"2019-06-09T00:00:00\", \"2019-06-10T00:00:00\", \"2019-06-11T00:00:00\", \"2019-06-12T00:00:00\", \"2019-06-13T00:00:00\", \"2019-06-14T00:00:00\", \"2019-06-15T00:00:00\", \"2019-06-16T00:00:00\", \"2019-06-17T00:00:00\", \"2019-06-01T00:00:00\", \"2019-06-02T00:00:00\", \"2019-06-03T00:00:00\", \"2019-06-04T00:00:00\", \"2019-06-05T00:00:00\", \"2019-06-06T00:00:00\", \"2019-06-07T00:00:00\", \"2019-06-08T00:00:00\", \"2019-06-09T00:00:00\", \"2019-06-10T00:00:00\", \"2019-06-11T00:00:00\", \"2019-06-12T00:00:00\", \"2019-06-13T00:00:00\", \"2019-06-14T00:00:00\", \"2019-06-15T00:00:00\", \"2019-06-16T00:00:00\", \"2019-06-17T00:00:00\", \"2019-06-18T00:00:00\", \"2019-06-01T00:00:00\", \"2019-06-02T00:00:00\", \"2019-06-03T00:00:00\", \"2019-06-04T00:00:00\", \"2019-06-05T00:00:00\", \"2019-06-06T00:00:00\", \"2019-06-07T00:00:00\", \"2019-06-08T00:00:00\", \"2019-06-09T00:00:00\", \"2019-06-10T00:00:00\", \"2019-06-11T00:00:00\", \"2019-06-12T00:00:00\", \"2019-06-13T00:00:00\", \"2019-06-14T00:00:00\", \"2019-06-15T00:00:00\", \"2019-06-16T00:00:00\", \"2019-06-17T00:00:00\", \"2019-06-18T00:00:00\", \"2019-06-19T00:00:00\", \"2019-06-01T00:00:00\", \"2019-06-02T00:00:00\", \"2019-06-03T00:00:00\", \"2019-06-04T00:00:00\", \"2019-06-05T00:00:00\", \"2019-06-06T00:00:00\", \"2019-06-07T00:00:00\", \"2019-06-08T00:00:00\", \"2019-06-09T00:00:00\", \"2019-06-10T00:00:00\", \"2019-06-11T00:00:00\", \"2019-06-12T00:00:00\", \"2019-06-13T00:00:00\", \"2019-06-14T00:00:00\", \"2019-06-15T00:00:00\", \"2019-06-16T00:00:00\", \"2019-06-17T00:00:00\", \"2019-06-18T00:00:00\", \"2019-06-19T00:00:00\", \"2019-06-20T00:00:00\", \"2019-06-01T00:00:00\", \"2019-06-02T00:00:00\", \"2019-06-03T00:00:00\", \"2019-06-04T00:00:00\", \"2019-06-05T00:00:00\", \"2019-06-06T00:00:00\", \"2019-06-07T00:00:00\", \"2019-06-08T00:00:00\", \"2019-06-09T00:00:00\", \"2019-06-10T00:00:00\", \"2019-06-11T00:00:00\", \"2019-06-12T00:00:00\", \"2019-06-13T00:00:00\", \"2019-06-14T00:00:00\", \"2019-06-15T00:00:00\", \"2019-06-16T00:00:00\", \"2019-06-17T00:00:00\", \"2019-06-18T00:00:00\", \"2019-06-19T00:00:00\", \"2019-06-20T00:00:00\", \"2019-06-21T00:00:00\", \"2019-06-01T00:00:00\", \"2019-06-02T00:00:00\", \"2019-06-03T00:00:00\", \"2019-06-04T00:00:00\", \"2019-06-05T00:00:00\", \"2019-06-06T00:00:00\", \"2019-06-07T00:00:00\", \"2019-06-08T00:00:00\", \"2019-06-09T00:00:00\", \"2019-06-10T00:00:00\", \"2019-06-11T00:00:00\", \"2019-06-12T00:00:00\", \"2019-06-13T00:00:00\", \"2019-06-14T00:00:00\", \"2019-06-15T00:00:00\", \"2019-06-16T00:00:00\", \"2019-06-17T00:00:00\", \"2019-06-18T00:00:00\", \"2019-06-19T00:00:00\", \"2019-06-20T00:00:00\", \"2019-06-21T00:00:00\", \"2019-06-22T00:00:00\", \"2019-06-01T00:00:00\", \"2019-06-02T00:00:00\", \"2019-06-03T00:00:00\", \"2019-06-04T00:00:00\", \"2019-06-05T00:00:00\", \"2019-06-06T00:00:00\", \"2019-06-07T00:00:00\", \"2019-06-08T00:00:00\", \"2019-06-09T00:00:00\", \"2019-06-10T00:00:00\", \"2019-06-11T00:00:00\", \"2019-06-12T00:00:00\", \"2019-06-13T00:00:00\", \"2019-06-14T00:00:00\", \"2019-06-15T00:00:00\", \"2019-06-16T00:00:00\", \"2019-06-17T00:00:00\", \"2019-06-18T00:00:00\", \"2019-06-19T00:00:00\", \"2019-06-20T00:00:00\", \"2019-06-21T00:00:00\", \"2019-06-22T00:00:00\", \"2019-06-23T00:00:00\", \"2019-06-01T00:00:00\", \"2019-06-02T00:00:00\", \"2019-06-03T00:00:00\", \"2019-06-04T00:00:00\", \"2019-06-05T00:00:00\", \"2019-06-06T00:00:00\", \"2019-06-07T00:00:00\", \"2019-06-08T00:00:00\", \"2019-06-09T00:00:00\", \"2019-06-10T00:00:00\", \"2019-06-11T00:00:00\", \"2019-06-12T00:00:00\", \"2019-06-13T00:00:00\", \"2019-06-14T00:00:00\", \"2019-06-15T00:00:00\", \"2019-06-16T00:00:00\", \"2019-06-17T00:00:00\", \"2019-06-18T00:00:00\", \"2019-06-19T00:00:00\", \"2019-06-20T00:00:00\", \"2019-06-21T00:00:00\", \"2019-06-22T00:00:00\", \"2019-06-23T00:00:00\", \"2019-06-24T00:00:00\", \"2019-06-01T00:00:00\", \"2019-06-02T00:00:00\", \"2019-06-03T00:00:00\", \"2019-06-04T00:00:00\", \"2019-06-05T00:00:00\", \"2019-06-06T00:00:00\", \"2019-06-07T00:00:00\", \"2019-06-08T00:00:00\", \"2019-06-09T00:00:00\", \"2019-06-10T00:00:00\", \"2019-06-11T00:00:00\", \"2019-06-12T00:00:00\", \"2019-06-13T00:00:00\", \"2019-06-14T00:00:00\", \"2019-06-15T00:00:00\", \"2019-06-16T00:00:00\", \"2019-06-17T00:00:00\", \"2019-06-18T00:00:00\", \"2019-06-19T00:00:00\", \"2019-06-20T00:00:00\", \"2019-06-21T00:00:00\", \"2019-06-22T00:00:00\", \"2019-06-23T00:00:00\", \"2019-06-24T00:00:00\", \"2019-06-25T00:00:00\", \"2019-06-01T00:00:00\", \"2019-06-02T00:00:00\", \"2019-06-03T00:00:00\", \"2019-06-04T00:00:00\", \"2019-06-05T00:00:00\", \"2019-06-06T00:00:00\", \"2019-06-07T00:00:00\", \"2019-06-08T00:00:00\", \"2019-06-09T00:00:00\", \"2019-06-10T00:00:00\", \"2019-06-11T00:00:00\", \"2019-06-12T00:00:00\", \"2019-06-13T00:00:00\", \"2019-06-14T00:00:00\", \"2019-06-15T00:00:00\", \"2019-06-16T00:00:00\", \"2019-06-17T00:00:00\", \"2019-06-18T00:00:00\", \"2019-06-19T00:00:00\", \"2019-06-20T00:00:00\", \"2019-06-21T00:00:00\", \"2019-06-22T00:00:00\", \"2019-06-23T00:00:00\", \"2019-06-24T00:00:00\", \"2019-06-25T00:00:00\", \"2019-06-26T00:00:00\", \"2019-06-01T00:00:00\", \"2019-06-02T00:00:00\", \"2019-06-03T00:00:00\", \"2019-06-04T00:00:00\", \"2019-06-05T00:00:00\", \"2019-06-06T00:00:00\", \"2019-06-07T00:00:00\", \"2019-06-08T00:00:00\", \"2019-06-09T00:00:00\", \"2019-06-10T00:00:00\", \"2019-06-11T00:00:00\", \"2019-06-12T00:00:00\", \"2019-06-13T00:00:00\", \"2019-06-14T00:00:00\", \"2019-06-15T00:00:00\", \"2019-06-16T00:00:00\", \"2019-06-17T00:00:00\", \"2019-06-18T00:00:00\", \"2019-06-19T00:00:00\", \"2019-06-20T00:00:00\", \"2019-06-21T00:00:00\", \"2019-06-22T00:00:00\", \"2019-06-23T00:00:00\", \"2019-06-24T00:00:00\", \"2019-06-25T00:00:00\", \"2019-06-26T00:00:00\", \"2019-06-27T00:00:00\", \"2019-06-01T00:00:00\", \"2019-06-02T00:00:00\", \"2019-06-03T00:00:00\", \"2019-06-04T00:00:00\", \"2019-06-05T00:00:00\", \"2019-06-06T00:00:00\", \"2019-06-07T00:00:00\", \"2019-06-08T00:00:00\", \"2019-06-09T00:00:00\", \"2019-06-10T00:00:00\", \"2019-06-11T00:00:00\", \"2019-06-12T00:00:00\", \"2019-06-13T00:00:00\", \"2019-06-14T00:00:00\", \"2019-06-15T00:00:00\", \"2019-06-16T00:00:00\", \"2019-06-17T00:00:00\", \"2019-06-18T00:00:00\", \"2019-06-19T00:00:00\", \"2019-06-20T00:00:00\", \"2019-06-21T00:00:00\", \"2019-06-22T00:00:00\", \"2019-06-23T00:00:00\", \"2019-06-24T00:00:00\", \"2019-06-25T00:00:00\", \"2019-06-26T00:00:00\", \"2019-06-27T00:00:00\", \"2019-06-28T00:00:00\", \"2019-06-01T00:00:00\", \"2019-06-02T00:00:00\", \"2019-06-03T00:00:00\", \"2019-06-04T00:00:00\", \"2019-06-05T00:00:00\", \"2019-06-06T00:00:00\", \"2019-06-07T00:00:00\", \"2019-06-08T00:00:00\", \"2019-06-09T00:00:00\", \"2019-06-10T00:00:00\", \"2019-06-11T00:00:00\", \"2019-06-12T00:00:00\", \"2019-06-13T00:00:00\", \"2019-06-14T00:00:00\", \"2019-06-15T00:00:00\", \"2019-06-16T00:00:00\", \"2019-06-17T00:00:00\", \"2019-06-18T00:00:00\", \"2019-06-19T00:00:00\", \"2019-06-20T00:00:00\", \"2019-06-21T00:00:00\", \"2019-06-22T00:00:00\", \"2019-06-23T00:00:00\", \"2019-06-24T00:00:00\", \"2019-06-25T00:00:00\", \"2019-06-26T00:00:00\", \"2019-06-27T00:00:00\", \"2019-06-28T00:00:00\", \"2019-06-29T00:00:00\", \"2019-06-01T00:00:00\", \"2019-06-02T00:00:00\", \"2019-06-03T00:00:00\", \"2019-06-04T00:00:00\", \"2019-06-05T00:00:00\", \"2019-06-06T00:00:00\", \"2019-06-07T00:00:00\", \"2019-06-08T00:00:00\", \"2019-06-09T00:00:00\", \"2019-06-10T00:00:00\", \"2019-06-11T00:00:00\", \"2019-06-12T00:00:00\", \"2019-06-13T00:00:00\", \"2019-06-14T00:00:00\", \"2019-06-15T00:00:00\", \"2019-06-16T00:00:00\", \"2019-06-17T00:00:00\", \"2019-06-18T00:00:00\", \"2019-06-19T00:00:00\", \"2019-06-20T00:00:00\", \"2019-06-21T00:00:00\", \"2019-06-22T00:00:00\", \"2019-06-23T00:00:00\", \"2019-06-24T00:00:00\", \"2019-06-25T00:00:00\", \"2019-06-26T00:00:00\", \"2019-06-27T00:00:00\", \"2019-06-28T00:00:00\", \"2019-06-29T00:00:00\", \"2019-06-30T00:00:00\", \"2019-06-01T00:00:00\", \"2019-06-02T00:00:00\", \"2019-06-03T00:00:00\", \"2019-06-04T00:00:00\", \"2019-06-05T00:00:00\", \"2019-06-06T00:00:00\", \"2019-06-07T00:00:00\", \"2019-06-08T00:00:00\", \"2019-06-09T00:00:00\", \"2019-06-10T00:00:00\", \"2019-06-11T00:00:00\", \"2019-06-12T00:00:00\", \"2019-06-13T00:00:00\", \"2019-06-14T00:00:00\", \"2019-06-15T00:00:00\", \"2019-06-16T00:00:00\", \"2019-06-17T00:00:00\", \"2019-06-18T00:00:00\", \"2019-06-19T00:00:00\", \"2019-06-20T00:00:00\", \"2019-06-21T00:00:00\", \"2019-06-22T00:00:00\", \"2019-06-23T00:00:00\", \"2019-06-24T00:00:00\", \"2019-06-25T00:00:00\", \"2019-06-26T00:00:00\", \"2019-06-27T00:00:00\", \"2019-06-28T00:00:00\", \"2019-06-29T00:00:00\", \"2019-06-30T00:00:00\", \"2019-06-02T00:00:00\", \"2019-06-03T00:00:00\", \"2019-06-04T00:00:00\", \"2019-06-05T00:00:00\", \"2019-06-06T00:00:00\", \"2019-06-07T00:00:00\", \"2019-06-08T00:00:00\", \"2019-06-09T00:00:00\", \"2019-06-10T00:00:00\", \"2019-06-11T00:00:00\", \"2019-06-12T00:00:00\", \"2019-06-13T00:00:00\", \"2019-06-14T00:00:00\", \"2019-06-15T00:00:00\", \"2019-06-16T00:00:00\", \"2019-06-17T00:00:00\", \"2019-06-18T00:00:00\", \"2019-06-19T00:00:00\", \"2019-06-20T00:00:00\", \"2019-06-21T00:00:00\", \"2019-06-22T00:00:00\", \"2019-06-23T00:00:00\", \"2019-06-24T00:00:00\", \"2019-06-25T00:00:00\", \"2019-06-26T00:00:00\", \"2019-06-27T00:00:00\", \"2019-06-28T00:00:00\", \"2019-06-29T00:00:00\", \"2019-06-30T00:00:00\", \"2019-06-03T00:00:00\", \"2019-06-04T00:00:00\", \"2019-06-05T00:00:00\", \"2019-06-06T00:00:00\", \"2019-06-07T00:00:00\", \"2019-06-08T00:00:00\", \"2019-06-09T00:00:00\", \"2019-06-10T00:00:00\", \"2019-06-11T00:00:00\", \"2019-06-12T00:00:00\", \"2019-06-13T00:00:00\", \"2019-06-14T00:00:00\", \"2019-06-15T00:00:00\", \"2019-06-16T00:00:00\", \"2019-06-17T00:00:00\", \"2019-06-18T00:00:00\", \"2019-06-19T00:00:00\", \"2019-06-20T00:00:00\", \"2019-06-21T00:00:00\", \"2019-06-22T00:00:00\", \"2019-06-23T00:00:00\", \"2019-06-24T00:00:00\", \"2019-06-25T00:00:00\", \"2019-06-26T00:00:00\", \"2019-06-27T00:00:00\", \"2019-06-28T00:00:00\", \"2019-06-29T00:00:00\", \"2019-06-30T00:00:00\", \"2019-06-04T00:00:00\", \"2019-06-05T00:00:00\", \"2019-06-06T00:00:00\", \"2019-06-07T00:00:00\", \"2019-06-08T00:00:00\", \"2019-06-09T00:00:00\", \"2019-06-10T00:00:00\", \"2019-06-11T00:00:00\", \"2019-06-12T00:00:00\", \"2019-06-13T00:00:00\", \"2019-06-14T00:00:00\", \"2019-06-15T00:00:00\", \"2019-06-16T00:00:00\", \"2019-06-17T00:00:00\", \"2019-06-18T00:00:00\", \"2019-06-19T00:00:00\", \"2019-06-20T00:00:00\", \"2019-06-21T00:00:00\", \"2019-06-22T00:00:00\", \"2019-06-23T00:00:00\", \"2019-06-24T00:00:00\", \"2019-06-25T00:00:00\", \"2019-06-26T00:00:00\", \"2019-06-27T00:00:00\", \"2019-06-28T00:00:00\", \"2019-06-29T00:00:00\", \"2019-06-30T00:00:00\", \"2019-06-05T00:00:00\", \"2019-06-06T00:00:00\", \"2019-06-07T00:00:00\", \"2019-06-08T00:00:00\", \"2019-06-09T00:00:00\", \"2019-06-10T00:00:00\", \"2019-06-11T00:00:00\", \"2019-06-12T00:00:00\", \"2019-06-13T00:00:00\", \"2019-06-14T00:00:00\", \"2019-06-15T00:00:00\", \"2019-06-16T00:00:00\", \"2019-06-17T00:00:00\", \"2019-06-18T00:00:00\", \"2019-06-19T00:00:00\", \"2019-06-20T00:00:00\", \"2019-06-21T00:00:00\", \"2019-06-22T00:00:00\", \"2019-06-23T00:00:00\", \"2019-06-24T00:00:00\", \"2019-06-25T00:00:00\", \"2019-06-26T00:00:00\", \"2019-06-27T00:00:00\", \"2019-06-28T00:00:00\", \"2019-06-29T00:00:00\", \"2019-06-30T00:00:00\", \"2019-06-06T00:00:00\", \"2019-06-07T00:00:00\", \"2019-06-08T00:00:00\", \"2019-06-09T00:00:00\", \"2019-06-10T00:00:00\", \"2019-06-11T00:00:00\", \"2019-06-12T00:00:00\", \"2019-06-13T00:00:00\", \"2019-06-14T00:00:00\", \"2019-06-15T00:00:00\", \"2019-06-16T00:00:00\", \"2019-06-17T00:00:00\", \"2019-06-18T00:00:00\", \"2019-06-19T00:00:00\", \"2019-06-20T00:00:00\", \"2019-06-21T00:00:00\", \"2019-06-22T00:00:00\", \"2019-06-23T00:00:00\", \"2019-06-24T00:00:00\", \"2019-06-25T00:00:00\", \"2019-06-26T00:00:00\", \"2019-06-27T00:00:00\", \"2019-06-28T00:00:00\", \"2019-06-29T00:00:00\", \"2019-06-30T00:00:00\", \"2019-06-07T00:00:00\", \"2019-06-08T00:00:00\", \"2019-06-09T00:00:00\", \"2019-06-10T00:00:00\", \"2019-06-11T00:00:00\", \"2019-06-12T00:00:00\", \"2019-06-13T00:00:00\", \"2019-06-14T00:00:00\", \"2019-06-15T00:00:00\", \"2019-06-16T00:00:00\", \"2019-06-17T00:00:00\", \"2019-06-18T00:00:00\", \"2019-06-19T00:00:00\", \"2019-06-20T00:00:00\", \"2019-06-21T00:00:00\", \"2019-06-22T00:00:00\", \"2019-06-23T00:00:00\", \"2019-06-24T00:00:00\", \"2019-06-25T00:00:00\", \"2019-06-26T00:00:00\", \"2019-06-27T00:00:00\", \"2019-06-28T00:00:00\", \"2019-06-29T00:00:00\", \"2019-06-30T00:00:00\", \"2019-06-08T00:00:00\", \"2019-06-09T00:00:00\", \"2019-06-10T00:00:00\", \"2019-06-11T00:00:00\", \"2019-06-12T00:00:00\", \"2019-06-13T00:00:00\", \"2019-06-14T00:00:00\", \"2019-06-15T00:00:00\", \"2019-06-16T00:00:00\", \"2019-06-17T00:00:00\", \"2019-06-18T00:00:00\", \"2019-06-19T00:00:00\", \"2019-06-20T00:00:00\", \"2019-06-21T00:00:00\", \"2019-06-22T00:00:00\", \"2019-06-23T00:00:00\", \"2019-06-24T00:00:00\", \"2019-06-25T00:00:00\", \"2019-06-26T00:00:00\", \"2019-06-27T00:00:00\", \"2019-06-28T00:00:00\", \"2019-06-29T00:00:00\", \"2019-06-30T00:00:00\", \"2019-06-09T00:00:00\", \"2019-06-10T00:00:00\", \"2019-06-11T00:00:00\", \"2019-06-12T00:00:00\", \"2019-06-13T00:00:00\", \"2019-06-14T00:00:00\", \"2019-06-15T00:00:00\", \"2019-06-16T00:00:00\", \"2019-06-17T00:00:00\", \"2019-06-18T00:00:00\", \"2019-06-19T00:00:00\", \"2019-06-20T00:00:00\", \"2019-06-21T00:00:00\", \"2019-06-22T00:00:00\", \"2019-06-23T00:00:00\", \"2019-06-24T00:00:00\", \"2019-06-25T00:00:00\", \"2019-06-26T00:00:00\", \"2019-06-27T00:00:00\", \"2019-06-28T00:00:00\", \"2019-06-29T00:00:00\", \"2019-06-30T00:00:00\", \"2019-06-10T00:00:00\", \"2019-06-11T00:00:00\", \"2019-06-12T00:00:00\", \"2019-06-13T00:00:00\", \"2019-06-14T00:00:00\", \"2019-06-15T00:00:00\", \"2019-06-16T00:00:00\", \"2019-06-17T00:00:00\", \"2019-06-18T00:00:00\", \"2019-06-19T00:00:00\", \"2019-06-20T00:00:00\", \"2019-06-21T00:00:00\", \"2019-06-22T00:00:00\", \"2019-06-23T00:00:00\", \"2019-06-24T00:00:00\", \"2019-06-25T00:00:00\", \"2019-06-26T00:00:00\", \"2019-06-27T00:00:00\", \"2019-06-28T00:00:00\", \"2019-06-29T00:00:00\", \"2019-06-30T00:00:00\", \"2019-06-11T00:00:00\", \"2019-06-12T00:00:00\", \"2019-06-13T00:00:00\", \"2019-06-14T00:00:00\", \"2019-06-15T00:00:00\", \"2019-06-16T00:00:00\", \"2019-06-17T00:00:00\", \"2019-06-18T00:00:00\", \"2019-06-19T00:00:00\", \"2019-06-20T00:00:00\", \"2019-06-21T00:00:00\", \"2019-06-22T00:00:00\", \"2019-06-23T00:00:00\", \"2019-06-24T00:00:00\", \"2019-06-25T00:00:00\", \"2019-06-26T00:00:00\", \"2019-06-27T00:00:00\", \"2019-06-28T00:00:00\", \"2019-06-29T00:00:00\", \"2019-06-30T00:00:00\", \"2019-06-12T00:00:00\", \"2019-06-13T00:00:00\", \"2019-06-14T00:00:00\", \"2019-06-15T00:00:00\", \"2019-06-16T00:00:00\", \"2019-06-17T00:00:00\", \"2019-06-18T00:00:00\", \"2019-06-19T00:00:00\", \"2019-06-20T00:00:00\", \"2019-06-21T00:00:00\", \"2019-06-22T00:00:00\", \"2019-06-23T00:00:00\", \"2019-06-24T00:00:00\", \"2019-06-25T00:00:00\", \"2019-06-26T00:00:00\", \"2019-06-27T00:00:00\", \"2019-06-28T00:00:00\", \"2019-06-29T00:00:00\", \"2019-06-30T00:00:00\", \"2019-06-13T00:00:00\", \"2019-06-14T00:00:00\", \"2019-06-15T00:00:00\", \"2019-06-16T00:00:00\", \"2019-06-17T00:00:00\", \"2019-06-18T00:00:00\", \"2019-06-19T00:00:00\", \"2019-06-20T00:00:00\", \"2019-06-21T00:00:00\", \"2019-06-22T00:00:00\", \"2019-06-23T00:00:00\", \"2019-06-24T00:00:00\", \"2019-06-25T00:00:00\", \"2019-06-26T00:00:00\", \"2019-06-27T00:00:00\", \"2019-06-28T00:00:00\", \"2019-06-29T00:00:00\", \"2019-06-30T00:00:00\", \"2019-06-14T00:00:00\", \"2019-06-15T00:00:00\", \"2019-06-16T00:00:00\", \"2019-06-17T00:00:00\", \"2019-06-18T00:00:00\", \"2019-06-19T00:00:00\", \"2019-06-20T00:00:00\", \"2019-06-21T00:00:00\", \"2019-06-22T00:00:00\", \"2019-06-23T00:00:00\", \"2019-06-24T00:00:00\", \"2019-06-25T00:00:00\", \"2019-06-26T00:00:00\", \"2019-06-27T00:00:00\", \"2019-06-28T00:00:00\", \"2019-06-29T00:00:00\", \"2019-06-30T00:00:00\", \"2019-06-15T00:00:00\", \"2019-06-16T00:00:00\", \"2019-06-17T00:00:00\", \"2019-06-18T00:00:00\", \"2019-06-19T00:00:00\", \"2019-06-20T00:00:00\", \"2019-06-21T00:00:00\", \"2019-06-22T00:00:00\", \"2019-06-23T00:00:00\", \"2019-06-24T00:00:00\", \"2019-06-25T00:00:00\", \"2019-06-26T00:00:00\", \"2019-06-27T00:00:00\", \"2019-06-28T00:00:00\", \"2019-06-29T00:00:00\", \"2019-06-30T00:00:00\", \"2019-06-16T00:00:00\", \"2019-06-17T00:00:00\", \"2019-06-18T00:00:00\", \"2019-06-19T00:00:00\", \"2019-06-20T00:00:00\", \"2019-06-21T00:00:00\", \"2019-06-22T00:00:00\", \"2019-06-23T00:00:00\", \"2019-06-24T00:00:00\", \"2019-06-25T00:00:00\", \"2019-06-26T00:00:00\", \"2019-06-27T00:00:00\", \"2019-06-28T00:00:00\", \"2019-06-29T00:00:00\", \"2019-06-30T00:00:00\", \"2019-06-17T00:00:00\", \"2019-06-18T00:00:00\", \"2019-06-19T00:00:00\", \"2019-06-20T00:00:00\", \"2019-06-21T00:00:00\", \"2019-06-22T00:00:00\", \"2019-06-23T00:00:00\", \"2019-06-24T00:00:00\", \"2019-06-25T00:00:00\", \"2019-06-26T00:00:00\", \"2019-06-27T00:00:00\", \"2019-06-28T00:00:00\", \"2019-06-29T00:00:00\", \"2019-06-30T00:00:00\", \"2019-06-18T00:00:00\", \"2019-06-19T00:00:00\", \"2019-06-20T00:00:00\", \"2019-06-21T00:00:00\", \"2019-06-22T00:00:00\", \"2019-06-23T00:00:00\", \"2019-06-24T00:00:00\", \"2019-06-25T00:00:00\", \"2019-06-26T00:00:00\", \"2019-06-27T00:00:00\", \"2019-06-28T00:00:00\", \"2019-06-29T00:00:00\", \"2019-06-30T00:00:00\", \"2019-06-19T00:00:00\", \"2019-06-20T00:00:00\", \"2019-06-21T00:00:00\", \"2019-06-22T00:00:00\", \"2019-06-23T00:00:00\", \"2019-06-24T00:00:00\", \"2019-06-25T00:00:00\", \"2019-06-26T00:00:00\", \"2019-06-27T00:00:00\", \"2019-06-28T00:00:00\", \"2019-06-29T00:00:00\", \"2019-06-30T00:00:00\", \"2019-06-20T00:00:00\", \"2019-06-21T00:00:00\", \"2019-06-22T00:00:00\", \"2019-06-23T00:00:00\", \"2019-06-24T00:00:00\", \"2019-06-25T00:00:00\", \"2019-06-26T00:00:00\", \"2019-06-27T00:00:00\", \"2019-06-28T00:00:00\", \"2019-06-29T00:00:00\", \"2019-06-30T00:00:00\", \"2019-06-21T00:00:00\", \"2019-06-22T00:00:00\", \"2019-06-23T00:00:00\", \"2019-06-24T00:00:00\", \"2019-06-25T00:00:00\", \"2019-06-26T00:00:00\", \"2019-06-27T00:00:00\", \"2019-06-28T00:00:00\", \"2019-06-29T00:00:00\", \"2019-06-30T00:00:00\", \"2019-06-22T00:00:00\", \"2019-06-23T00:00:00\", \"2019-06-24T00:00:00\", \"2019-06-25T00:00:00\", \"2019-06-26T00:00:00\", \"2019-06-27T00:00:00\", \"2019-06-28T00:00:00\", \"2019-06-29T00:00:00\", \"2019-06-30T00:00:00\", \"2019-06-23T00:00:00\", \"2019-06-24T00:00:00\", \"2019-06-25T00:00:00\", \"2019-06-26T00:00:00\", \"2019-06-27T00:00:00\", \"2019-06-28T00:00:00\", \"2019-06-29T00:00:00\", \"2019-06-30T00:00:00\", \"2019-06-24T00:00:00\", \"2019-06-25T00:00:00\", \"2019-06-26T00:00:00\", \"2019-06-27T00:00:00\", \"2019-06-28T00:00:00\", \"2019-06-29T00:00:00\", \"2019-06-30T00:00:00\", \"2019-06-25T00:00:00\", \"2019-06-26T00:00:00\", \"2019-06-27T00:00:00\", \"2019-06-28T00:00:00\", \"2019-06-29T00:00:00\", \"2019-06-30T00:00:00\", \"2019-06-26T00:00:00\", \"2019-06-27T00:00:00\", \"2019-06-28T00:00:00\", \"2019-06-29T00:00:00\", \"2019-06-30T00:00:00\", \"2019-06-27T00:00:00\", \"2019-06-28T00:00:00\", \"2019-06-29T00:00:00\", \"2019-06-30T00:00:00\", \"2019-06-28T00:00:00\", \"2019-06-29T00:00:00\", \"2019-06-30T00:00:00\", \"2019-06-29T00:00:00\", \"2019-06-30T00:00:00\", \"2019-06-30T00:00:00\"], \"z\": [34.160976619077175, 29.56755638319884, 36.78401522359657, 21.12559486861163, 29.495718363463368, 34.152158359170045, 17.5667287399131, 22.131303520456708, 29.66849511089912, 35.12160228898426, 14.359611007655701, 18.820171265461465, 20.77271643214882, 29.685264663805437, 33.74187093546773, 13.490585557624662, 16.42245480494767, 17.338421178154068, 22.985216976633286, 30.540270135067534, 36.284544524053224, 12.166356300434513, 14.55756422454805, 15.072740281421417, 18.00190748688603, 22.311155577788895, 30.655066530194475, 37.07194470625196, 11.27663976825988, 13.092293054234064, 12.306224660147866, 14.759179780639009, 17.2336168084042, 20.880245649948822, 29.46905435124097, 36.19015734851021, 11.090420028967515, 12.997145575642246, 11.805389935606964, 13.304721030042918, 14.732366183091546, 17.886386898669397, 21.92899780081684, 33.00970873786408, 36.39607493309545, 9.993792675356922, 12.159847764034252, 11.54304793703792, 13.567000476871721, 14.057028514257128, 16.939611054247695, 19.038642789820923, 25.14228322731838, 32.18108831400535, 35.088594958822064, 9.517897786054212, 10.960989533777354, 11.137610302885761, 12.18407248450167, 13.1815907953977, 14.150460593654044, 17.122211749921455, 20.455306327418814, 23.48349687778769, 30.44671824307462, 35.62686973075877, 8.752327746741155, 10.371075166508087, 9.921297400429287, 10.658082975679543, 11.805902951475739, 13.101330603889458, 14.734527175620485, 17.94442584532976, 19.268510258697592, 21.612178687297227, 31.32988849605657, 37.19512195121951, 8.276432857438444, 9.077069457659372, 9.3966134032912, 9.823557463042441, 10.830415207603803, 11.770726714431934, 12.975180647188186, 15.634415801807833, 16.592328278322928, 18.866982780134762, 23.44302420451455, 30.965005302226935, 34.40920572551221, 7.92468446099731, 9.191246431969553, 8.609587407584069, 9.012875536480687, 9.779889944972487, 10.951893551688844, 12.09550738297204, 14.496149983260798, 14.964317573595004, 16.371350137259796, 19.961925482730486, 23.886532343584303, 30.536065113668258, 33.628588882101404, 7.82122905027933, 8.962892483349192, 8.490341044598141, 8.774439675727228, 9.429714857428714, 9.851586489252814, 10.870248193528118, 14.194844325410111, 14.384478144513826, 14.349887696531072, 17.024748436225185, 19.856839872746555, 22.705585181027224, 29.474648747709224, 36.62054754194878, 7.345334160976619, 8.943862987630828, 7.75101359408538, 7.98760133524082, 8.904452226113056, 9.621289662231321, 10.618912975180647, 12.721794442584534, 13.603925066904548, 13.725979535812327, 15.828120750611912, 17.523860021208908, 18.692113387594723, 22.052535125229078, 32.73476596997351, 36.92263279445728, 7.097041175253466, 8.277830637488107, 8.061054137848796, 8.512160228898425, 8.779389694847424, 9.237461617195496, 10.210493245366006, 11.61700703046535, 11.819803746654772, 12.478163214374845, 14.849061735110144, 16.06574761399788, 17.176536626438395, 18.17348808796579, 22.78481012658228, 31.37990762124711, 34.28668709567586, 6.662528450237948, 8.106565176022835, 7.6794657762938225, 8.011444921316166, 8.604302151075538, 9.007164790174002, 9.393653785736726, 11.04787412119183, 11.306868867082962, 11.804342400798602, 13.516453630677184, 14.422057264050903, 15.12770137524558, 15.79108124618204, 19.693847512511038, 23.816397228637413, 30.677562138236297, 34.84380363886028, 6.476308710945583, 7.802093244529019, 7.631767231099451, 7.415355269432522, 8.404202101050526, 9.007164790174002, 9.362236883443293, 10.411784399062604, 10.68242640499554, 11.055652607936112, 12.809355452814794, 13.467656415694593, 13.864720740948638, 13.714111178985949, 17.63320576979688, 20.265588914549653, 21.790943139257745, 30.381050463439752, 34.98441288534811, 6.248706807366025, 7.687916270218839, 7.29787741473885, 6.771578445398188, 7.5287643821910955, 8.572159672466736, 8.922400251335217, 10.244392366923334, 10.214094558429974, 10.581482405789867, 11.558335599673647, 12.168610816542948, 13.303396014594442, 12.583995113011607, 16.073005593170446, 18.389145496535797, 18.998978549540347, 22.3480947476828, 32.49047454104607, 34.13094051179794, 6.455617628801987, 7.516650808753568, 6.701645599809206, 6.485455412494039, 7.5037518759379696, 7.932446264073695, 9.048067860508954, 9.87612989621694, 9.857270294380017, 9.832792612927378, 10.796845254283383, 11.505832449628844, 11.647488071849565, 11.820403176542456, 14.48336767736238, 15.790993071593535, 15.696288729996596, 19.12118091314796, 24.177346726705924, 30.64140910601529, 33.03703703703704, 6.041795985930064, 7.078972407231208, 6.701645599809206, 6.53314258464473, 7.028514257128564, 7.267144319344933, 8.388312912346843, 9.173083361232006, 9.87957181088314, 9.55827302221113, 10.198531411476747, 10.763520678685047, 10.665169800729721, 11.514966401954796, 14.512805416544008, 15.329099307159352, 14.538644875723527, 15.894267078613113, 18.94700381018358, 22.43270189431705, 30.148148148148145, 34.620737647877526, 6.124560314504449, 7.30732635585157, 6.701645599809206, 6.31855030996662, 6.903451725862932, 7.190378710337769, 8.074143889412504, 8.97221292266488, 9.723461195361285, 9.183928125779884, 10.062550992657057, 10.153764581124072, 10.216110019646365, 10.140500916310325, 13.659110980276715, 14.11662817551963, 13.312904324140279, 14.692756608307587, 17.52684447523381, 18.677301429046196, 21.962962962962962, 29.714683368128043, 35.571336346029696, 5.876267328781296, 7.193149381541389, 6.51085141903172, 6.485455412494039, 6.9784892446223115, 7.4462640736949846, 8.074143889412504, 9.20656176765986, 9.032114183764497, 9.009233840778636, 10.198531411476747, 10.100742311770944, 9.963513892786978, 9.529627367135003, 12.334412717103326, 12.846420323325635, 12.359550561797752, 13.456917267421902, 16.556979563560787, 16.3177135260884, 19.11111111111111, 20.11134307585247, 28.082633957391867, 34.67922835352176, 5.524518932340161, 6.850618458610846, 6.487002146434534, 6.366237482117311, 6.953476738369184, 6.985670419651996, 7.885642475651901, 8.536993639102779, 8.786797502230153, 8.560019965061143, 10.008158825129183, 9.75609756097561, 9.430255402750491, 9.621258399511301, 12.216661760376804, 12.384526558891455, 11.508341845420498, 12.564366632337794, 14.859715968133012, 15.18777002326354, 16.25925925925926, 17.258176757132915, 21.43318269851517, 29.789143113503812, 34.47420634920635, 5.648665425201738, 6.279733587059944, 6.39160505604579, 6.03242727706247, 6.603301650825413, 6.601842374616172, 7.5400565504241275, 8.503515232674925, 8.541480820695806, 8.335413027202396, 9.273864563502855, 9.358430540827149, 8.868930676396296, 9.01038485033598, 10.862525758021784, 11.287528868360278, 11.338100102145047, 11.397185032612427, 12.919986144786977, 13.924891990694583, 14.296296296296296, 14.892136395267919, 17.850225952227245, 21.444593988335576, 29.811507936507937, 33.838821490467936, 5.069315125181046, 6.165556612749762, 5.723825423324588, 5.841678588459704, 6.4282141070535275, 6.601842374616172, 7.382972038956959, 8.13525276196853, 8.117752007136485, 7.8113301721986526, 8.53957030187653, 8.61611876988335, 8.560202076901488, 8.491142333536958, 10.303208713570799, 10.767898383371824, 10.078311201906708, 10.127016821146583, 12.261863526151714, 12.296444001329347, 12.88888888888889, 13.221990257480861, 15.332472562943837, 18.752803947958725, 21.875, 31.542461005199307, 33.60849056603774, 4.9658597144630665, 6.279733587059944, 5.6284283329358455, 5.36480686695279, 6.003001500750376, 6.371545547594677, 6.8803016022620165, 8.20220957482424, 7.649420160570919, 7.661592213626155, 8.213217296709274, 8.642629904559914, 8.27953971372439, 8.032987171655467, 9.979393582572857, 10.594688221709008, 9.295199182839632, 9.474768280123584, 10.80706615864219, 11.864406779661017, 11.777777777777777, 11.86499652052888, 13.040671400903808, 15.522655899506505, 18.10515873015873, 21.967071057192374, 28.30188679245283, 32.36734693877551, 5.069315125181046, 6.31779257849667, 5.175292153589315, 5.150214592274678, 5.6278139069534765, 6.448311156601842, 6.8803016022620165, 7.666555071978574, 7.649420160570919, 7.561766907911155, 7.859668207778079, 7.767762460233298, 7.774347460005614, 7.147220525351253, 9.802767147483072, 10.1905311778291, 8.546135512427647, 8.822519739100583, 9.213716660893661, 11.00033233632436, 10.851851851851851, 12.21294363256785, 12.556488056810847, 13.279497532525797, 15.079365079365079, 17.547660311958406, 20.20440251572327, 29.591836734693878, 34.87196765498653, 4.20028967515001, 6.051379638439582, 5.270689243978058, 5.197901764425369, 5.452726363181591, 5.731832139201638, 6.817467797675149, 7.197857381988618, 8.140053523639608, 7.561766907911155, 7.45172695131901, 7.529162248144221, 7.577883805781645, 7.08613317043372, 9.30232558139535, 10.1905311778291, 7.865168539325842, 8.513559903879163, 9.421544856252165, 9.870388833499502, 9.481481481481481, 10.960334029227557, 11.58812136862492, 12.830865859129656, 14.484126984126986, 14.861351819757365, 16.62735849056604, 21.306122448979593, 31.940700808625337, 37.109966676764614, 2.896751500103455, 4.471931493815414, 5.199141426186501, 5.126371006199332, 5.452726363181591, 5.655066530194473, 6.817467797675149, 7.264814194844325, 7.471008028545942, 7.062640379336162, 7.288550448735383, 7.555673382820785, 7.156890261015998, 6.811240073304827, 8.919634972034148, 9.584295612009237, 7.388491658154579, 7.929969104016478, 9.490820921371666, 9.371884346959122, 10.037037037037038, 9.533750869867779, 10.555196901226598, 11.484970838941228, 13.293650793650794, 14.168110918544194, 14.150943396226415, 18.408163265306122, 23.652291105121293, 32.86882762799152, 2.892483349191246, 4.197471977104699, 4.792560801144492, 5.3526763381690845, 5.501535312180144, 6.377631165567076, 7.197857381988618, 7.114183764495986, 6.513601197903669, 7.016589611096002, 6.945917285259809, 7.072691552062868, 6.4447159437996335, 8.095378274948484, 8.689376443418013, 7.490636704119851, 7.586680398214899, 8.4863179771389, 9.305417082087072, 8.666666666666668, 8.24634655532359, 9.651387992253065, 10.094212651413189, 12.053571428571429, 13.214904679376083, 12.14622641509434, 15.346938775510205, 19.71024258760108, 24.144198727658285, 2.88576198425948, 3.6242250834525516, 5.102551275637819, 5.552712384851587, 6.471881872447377, 6.762638098426516, 6.6904549509366635, 6.189168954329922, 6.63584443840087, 6.760339342523861, 6.73589671625035, 6.2919975565058035, 7.94818957904033, 8.573903002309468, 6.537282941777324, 7.312049433573635, 8.139937651541393, 9.172482552342972, 8.962962962962964, 8.1419624217119, 8.908973531310522, 9.421265141318976, 11.30952380952381, 11.915077989601386, 11.163522012578616, 13.877551020408163, 16.778975741239893, 20.024235080278704, 2.3605150214592276, 3.7518759379689848, 5.527123848515865, 6.283380458686773, 6.662202879142953, 6.801962533452274, 6.089343648614924, 6.499864019581181, 6.574761399787911, 6.960426606792029, 6.200366524129505, 7.771563143950544, 8.02540415704388, 6.707524685052775, 7.449364915894267, 7.96674748874264, 8.640744433366567, 8.666666666666668, 7.341684064022269, 8.521626856036152, 8.838043965903992, 11.011904761904761, 11.135181975736568, 10.180817610062894, 12.326530612244897, 15.195417789757412, 17.23720084822781, 2.751375687843922, 4.580348004094166, 5.969211435752435, 6.662202879142953, 6.534344335414809, 5.64012977289743, 6.282295349469677, 6.707317073170732, 6.202638226213865, 6.200366524129505, 7.418310273770974, 7.852193995381063, 6.332992849846783, 6.694129763130793, 7.343262902667129, 7.676969092721834, 8.407407407407408, 7.272094641614475, 8.457069076823757, 8.658591296545536, 10.218253968253968, 10.528596187175044, 9.237421383647797, 11.673469387755102, 13.746630727762804, 15.661920630112085, 3.0194472876151486, 4.524033930254477, 6.561767659859391, 6.6235504014272975, 5.665086099326179, 5.901550176774544, 6.150583244962885, 5.978108335672187, 5.803298717165547, 7.212246099499558, 7.967667436489608, 5.686074225400068, 6.797116374871266, 6.85833044683062, 7.743436357593884, 7.703703703703704, 7.237299930410577, 8.26339573918657, 7.806191117092867, 9.672619047619047, 9.878682842287695, 8.883647798742137, 10.938775510204081, 12.80323450134771, 15.207512874886397, 2.796104304115614, 5.289588215600938, 6.244424620874219, 5.789867731469927, 6.227903181941801, 5.9915164369035, 5.50098231827112, 5.62003665241295, 7.006181925228143, 7.881062355658199, 5.3796390875042555, 6.316512186749056, 6.4426740561136135, 7.809903622465936, 7.444444444444444, 6.715379262352123, 8.03744351194319, 7.806191117092867, 9.771825396825397, 8.752166377816291, 8.529874213836477, 10.0, 12.230458221024259, 14.934868221750985, 3.7495815199196514, 4.9286351471900085, 5.390566508609933, 5.901550176774544, 5.938494167550371, 5.893909626719057, 5.284056200366524, 6.976744186046512, 7.448036951501155, 5.720122574055159, 6.385169927909372, 6.685140284031867, 8.075772681954138, 7.555555555555555, 6.367432150313153, 7.553260167850226, 8.16509645580978, 8.928571428571429, 8.31889081455806, 8.018867924528301, 10.081632653061225, 11.590296495956872, 13.480763405028778, 3.1891168599464765, 4.342400798602446, 5.656785422899103, 5.911983032873807, 5.7535784451305085, 5.406230910201589, 6.711804533411835, 6.957274826789838, 5.549880830779707, 6.1448678338482665, 6.789054381711118, 7.2116982386174815, 7.222222222222221, 6.089074460681976, 7.165913492575855, 7.761327949753253, 8.630952380952381, 8.492201039861353, 7.70440251572327, 9.63265306122449, 10.175202156334231, 12.753710996667678, 2.6952832543049663, 4.242589067174326, 5.381760339342524, 5.641313499859669, 5.31459987782529, 6.59405357668531, 6.784064665127021, 5.175348995573715, 6.1448678338482665, 6.373397990994112, 6.713193752077102, 6.62962962962963, 5.845511482254697, 6.649451258876694, 7.447285778375953, 7.837301587301587, 8.015597920277298, 7.193396226415095, 8.16326530612245, 9.973045822102426, 12.208421690396849, 2.5836279575741092, 4.241781548250265, 5.38871737300028, 5.192425167990225, 6.064174271415955, 6.408775981524249, 5.107252298263535, 5.732921386886371, 6.338759958434361, 6.713193752077102, 6.407407407407407, 5.288796102992345, 6.520335700451904, 7.178106774338268, 7.738095238095238, 7.668977469670711, 6.839622641509433, 8.16326530612245, 9.467654986522911, 10.9663738261133, 3.048780487804878, 4.06960426606792, 5.192425167990225, 5.8581100971445395, 5.86027713625866, 5.107252298263535, 5.149330587023687, 5.8191894700381015, 6.181455633100698, 6.185185185185185, 5.462769659011831, 6.391220142027114, 6.505159264244055, 7.291666666666667, 7.322357019064126, 6.25, 8.122448979591837, 9.299191374663073, 9.99697061496516, 2.7224249228178503, 4.337202199144777, 6.123049749779217, 6.264434180138569, 5.073203949608444, 5.046343975283213, 5.611361274679598, 5.88235294117647, 6.222222222222222, 5.288796102992345, 6.036152356358941, 6.191117092866756, 6.646825396825397, 6.802426343154246, 5.699685534591195, 7.551020408163265, 9.029649595687331, 9.360799757649199, 2.6878436163714112, 4.445098616426259, 5.86027713625866, 4.834865509022812, 4.531410916580844, 5.299618981641842, 5.716184778996344, 5.9259259259259265, 5.358385525400139, 5.971594577146546, 6.55002243158367, 6.25, 6.7157712305026, 5.8569182389937104, 7.26530612244898, 9.097035040431267, 9.148742805210542, 3.12040035325287, 4.214780600461894, 4.56247871978209, 5.046343975283213, 5.368895046761344, 5.982053838484546, 6.0, 5.010438413361169, 5.842479018721756, 6.235980260206371, 6.9940476190476195, 6.672443674176777, 5.738993710691824, 6.979591836734694, 8.49056603773585, 9.057861254165404, 2.771362586605081, 3.5410282601293837, 5.080672845863371, 5.2649809490820925, 5.749418411432369, 5.592592592592593, 5.219206680584551, 5.51969012265978, 6.505159264244055, 6.4980158730158735, 6.499133448873485, 5.660377358490567, 6.612244897959184, 8.153638814016173, 7.846107240230234, 2.519577800476677, 4.085135599038791, 5.126428818843089, 5.682951146560319, 5.333333333333334, 4.871259568545581, 5.100064557779213, 5.921938088829071, 6.200396825396826, 6.499133448873485, 5.188679245283019, 6.326530612244897, 7.446091644204851, 8.149045743714026, 2.814967387572949, 3.740907516453065, 5.317381189764041, 4.888888888888889, 4.3841336116910234, 5.132343447385409, 5.563032750112158, 5.555555555555555, 5.979202772963605, 4.79559748427673, 6.0, 7.547169811320755, 7.179642532565889, 2.5978524419812956, 3.988035892323031, 4.962962962962963, 4.210160055671538, 4.486765655261459, 5.428443248093315, 4.712301587301587, 5.545927209705372, 4.8742138364779874, 5.959183673469388, 7.378706199460916, 7.14934868221751, 2.459288800265869, 4.148148148148148, 4.244954766875435, 4.809554551323434, 5.069537909376402, 4.811507936507937, 5.37261698440208, 4.520440251572326, 5.469387755102041, 7.142857142857142, 6.997879430475614, 3.037037037037037, 3.549060542797495, 4.87411233053583, 4.710632570659488, 5.009920634920635, 5.11265164644714, 4.323899371069182, 5.510204081632653, 7.378706199460916, 6.8161163283853385, 2.1572720946416144, 3.453841187863137, 4.531179901301032, 4.761904761904762, 5.11265164644714, 4.127358490566038, 5.510204081632653, 6.839622641509433, 6.513177824901545, 2.194964493221433, 3.7236428891879765, 4.9603174603174605, 4.462738301559792, 4.166666666666666, 5.714285714285714, 6.2668463611859835, 6.422296273856406, 2.736653207716465, 4.017857142857143, 4.549393414211438, 3.891509433962264, 5.061224489795919, 5.963611859838275, 6.482883974553166, 2.579365079365079, 3.3795493934142113, 3.930817610062893, 5.26530612244898, 5.6940700808625335, 6.361708573159648, 2.079722703639515, 2.9874213836477987, 4.8979591836734695, 5.626684636118599, 5.846713117237201, 2.083333333333333, 3.5510204081632657, 5.795148247978436, 5.634656164798546, 2.2040816326530615, 4.346361185983827, 5.998182368979097, 2.998652291105121, 4.3623144501666165, 2.7567403817025142]}],\n",
       "                        {\"template\": {\"data\": {\"bar\": [{\"error_x\": {\"color\": \"#2a3f5f\"}, \"error_y\": {\"color\": \"#2a3f5f\"}, \"marker\": {\"line\": {\"color\": \"#E5ECF6\", \"width\": 0.5}}, \"type\": \"bar\"}], \"barpolar\": [{\"marker\": {\"line\": {\"color\": \"#E5ECF6\", \"width\": 0.5}}, \"type\": \"barpolar\"}], \"carpet\": [{\"aaxis\": {\"endlinecolor\": \"#2a3f5f\", \"gridcolor\": \"white\", \"linecolor\": \"white\", \"minorgridcolor\": \"white\", \"startlinecolor\": \"#2a3f5f\"}, \"baxis\": {\"endlinecolor\": \"#2a3f5f\", \"gridcolor\": \"white\", \"linecolor\": \"white\", \"minorgridcolor\": \"white\", \"startlinecolor\": \"#2a3f5f\"}, \"type\": \"carpet\"}], \"choropleth\": [{\"colorbar\": {\"outlinewidth\": 0, \"ticks\": \"\"}, \"type\": \"choropleth\"}], \"contour\": [{\"colorbar\": {\"outlinewidth\": 0, \"ticks\": \"\"}, \"colorscale\": [[0.0, \"#0d0887\"], [0.1111111111111111, \"#46039f\"], [0.2222222222222222, \"#7201a8\"], [0.3333333333333333, \"#9c179e\"], [0.4444444444444444, \"#bd3786\"], [0.5555555555555556, \"#d8576b\"], [0.6666666666666666, \"#ed7953\"], [0.7777777777777778, \"#fb9f3a\"], [0.8888888888888888, \"#fdca26\"], [1.0, \"#f0f921\"]], \"type\": \"contour\"}], \"contourcarpet\": [{\"colorbar\": {\"outlinewidth\": 0, \"ticks\": \"\"}, \"type\": \"contourcarpet\"}], \"heatmap\": [{\"colorbar\": {\"outlinewidth\": 0, \"ticks\": \"\"}, \"colorscale\": [[0.0, \"#0d0887\"], [0.1111111111111111, \"#46039f\"], [0.2222222222222222, \"#7201a8\"], [0.3333333333333333, \"#9c179e\"], [0.4444444444444444, \"#bd3786\"], [0.5555555555555556, \"#d8576b\"], [0.6666666666666666, \"#ed7953\"], [0.7777777777777778, \"#fb9f3a\"], [0.8888888888888888, \"#fdca26\"], [1.0, \"#f0f921\"]], \"type\": \"heatmap\"}], \"heatmapgl\": [{\"colorbar\": {\"outlinewidth\": 0, \"ticks\": \"\"}, \"colorscale\": [[0.0, \"#0d0887\"], [0.1111111111111111, \"#46039f\"], [0.2222222222222222, \"#7201a8\"], [0.3333333333333333, \"#9c179e\"], [0.4444444444444444, \"#bd3786\"], [0.5555555555555556, \"#d8576b\"], [0.6666666666666666, \"#ed7953\"], [0.7777777777777778, \"#fb9f3a\"], [0.8888888888888888, \"#fdca26\"], [1.0, \"#f0f921\"]], \"type\": \"heatmapgl\"}], \"histogram\": [{\"marker\": {\"colorbar\": {\"outlinewidth\": 0, \"ticks\": \"\"}}, \"type\": \"histogram\"}], \"histogram2d\": [{\"colorbar\": {\"outlinewidth\": 0, \"ticks\": \"\"}, \"colorscale\": [[0.0, \"#0d0887\"], [0.1111111111111111, \"#46039f\"], [0.2222222222222222, \"#7201a8\"], [0.3333333333333333, \"#9c179e\"], [0.4444444444444444, \"#bd3786\"], [0.5555555555555556, \"#d8576b\"], [0.6666666666666666, \"#ed7953\"], [0.7777777777777778, \"#fb9f3a\"], [0.8888888888888888, \"#fdca26\"], [1.0, \"#f0f921\"]], \"type\": \"histogram2d\"}], \"histogram2dcontour\": [{\"colorbar\": {\"outlinewidth\": 0, \"ticks\": \"\"}, \"colorscale\": [[0.0, \"#0d0887\"], [0.1111111111111111, \"#46039f\"], [0.2222222222222222, \"#7201a8\"], [0.3333333333333333, \"#9c179e\"], [0.4444444444444444, \"#bd3786\"], [0.5555555555555556, \"#d8576b\"], [0.6666666666666666, \"#ed7953\"], [0.7777777777777778, \"#fb9f3a\"], [0.8888888888888888, \"#fdca26\"], [1.0, \"#f0f921\"]], \"type\": \"histogram2dcontour\"}], \"mesh3d\": [{\"colorbar\": {\"outlinewidth\": 0, \"ticks\": \"\"}, \"type\": \"mesh3d\"}], \"parcoords\": [{\"line\": {\"colorbar\": {\"outlinewidth\": 0, \"ticks\": \"\"}}, \"type\": \"parcoords\"}], \"pie\": [{\"automargin\": true, \"type\": \"pie\"}], \"scatter\": [{\"marker\": {\"colorbar\": {\"outlinewidth\": 0, \"ticks\": \"\"}}, \"type\": \"scatter\"}], \"scatter3d\": [{\"line\": {\"colorbar\": {\"outlinewidth\": 0, \"ticks\": \"\"}}, \"marker\": {\"colorbar\": {\"outlinewidth\": 0, \"ticks\": \"\"}}, \"type\": \"scatter3d\"}], \"scattercarpet\": [{\"marker\": {\"colorbar\": {\"outlinewidth\": 0, \"ticks\": \"\"}}, \"type\": \"scattercarpet\"}], \"scattergeo\": [{\"marker\": {\"colorbar\": {\"outlinewidth\": 0, \"ticks\": \"\"}}, \"type\": \"scattergeo\"}], \"scattergl\": [{\"marker\": {\"colorbar\": {\"outlinewidth\": 0, \"ticks\": \"\"}}, \"type\": \"scattergl\"}], \"scattermapbox\": [{\"marker\": {\"colorbar\": {\"outlinewidth\": 0, \"ticks\": \"\"}}, \"type\": \"scattermapbox\"}], \"scatterpolar\": [{\"marker\": {\"colorbar\": {\"outlinewidth\": 0, \"ticks\": \"\"}}, \"type\": \"scatterpolar\"}], \"scatterpolargl\": [{\"marker\": {\"colorbar\": {\"outlinewidth\": 0, \"ticks\": \"\"}}, \"type\": \"scatterpolargl\"}], \"scatterternary\": [{\"marker\": {\"colorbar\": {\"outlinewidth\": 0, \"ticks\": \"\"}}, \"type\": \"scatterternary\"}], \"surface\": [{\"colorbar\": {\"outlinewidth\": 0, \"ticks\": \"\"}, \"colorscale\": [[0.0, \"#0d0887\"], [0.1111111111111111, \"#46039f\"], [0.2222222222222222, \"#7201a8\"], [0.3333333333333333, \"#9c179e\"], [0.4444444444444444, \"#bd3786\"], [0.5555555555555556, \"#d8576b\"], [0.6666666666666666, \"#ed7953\"], [0.7777777777777778, \"#fb9f3a\"], [0.8888888888888888, \"#fdca26\"], [1.0, \"#f0f921\"]], \"type\": \"surface\"}], \"table\": [{\"cells\": {\"fill\": {\"color\": \"#EBF0F8\"}, \"line\": {\"color\": \"white\"}}, \"header\": {\"fill\": {\"color\": \"#C8D4E3\"}, \"line\": {\"color\": \"white\"}}, \"type\": \"table\"}]}, \"layout\": {\"annotationdefaults\": {\"arrowcolor\": \"#2a3f5f\", \"arrowhead\": 0, \"arrowwidth\": 1}, \"coloraxis\": {\"colorbar\": {\"outlinewidth\": 0, \"ticks\": \"\"}}, \"colorscale\": {\"diverging\": [[0, \"#8e0152\"], [0.1, \"#c51b7d\"], [0.2, \"#de77ae\"], [0.3, \"#f1b6da\"], [0.4, \"#fde0ef\"], [0.5, \"#f7f7f7\"], [0.6, \"#e6f5d0\"], [0.7, \"#b8e186\"], [0.8, \"#7fbc41\"], [0.9, \"#4d9221\"], [1, \"#276419\"]], \"sequential\": [[0.0, \"#0d0887\"], [0.1111111111111111, \"#46039f\"], [0.2222222222222222, \"#7201a8\"], [0.3333333333333333, \"#9c179e\"], [0.4444444444444444, \"#bd3786\"], [0.5555555555555556, \"#d8576b\"], [0.6666666666666666, \"#ed7953\"], [0.7777777777777778, \"#fb9f3a\"], [0.8888888888888888, \"#fdca26\"], [1.0, \"#f0f921\"]], \"sequentialminus\": [[0.0, \"#0d0887\"], [0.1111111111111111, \"#46039f\"], [0.2222222222222222, \"#7201a8\"], [0.3333333333333333, \"#9c179e\"], [0.4444444444444444, \"#bd3786\"], [0.5555555555555556, \"#d8576b\"], [0.6666666666666666, \"#ed7953\"], [0.7777777777777778, \"#fb9f3a\"], [0.8888888888888888, \"#fdca26\"], [1.0, \"#f0f921\"]]}, \"colorway\": [\"#636efa\", \"#EF553B\", \"#00cc96\", \"#ab63fa\", \"#FFA15A\", \"#19d3f3\", \"#FF6692\", \"#B6E880\", \"#FF97FF\", \"#FECB52\"], \"font\": {\"color\": \"#2a3f5f\"}, \"geo\": {\"bgcolor\": \"white\", \"lakecolor\": \"white\", \"landcolor\": \"#E5ECF6\", \"showlakes\": true, \"showland\": true, \"subunitcolor\": \"white\"}, \"hoverlabel\": {\"align\": \"left\"}, \"hovermode\": \"closest\", \"mapbox\": {\"style\": \"light\"}, \"paper_bgcolor\": \"white\", \"plot_bgcolor\": \"#E5ECF6\", \"polar\": {\"angularaxis\": {\"gridcolor\": \"white\", \"linecolor\": \"white\", \"ticks\": \"\"}, \"bgcolor\": \"#E5ECF6\", \"radialaxis\": {\"gridcolor\": \"white\", \"linecolor\": \"white\", \"ticks\": \"\"}}, \"scene\": {\"xaxis\": {\"backgroundcolor\": \"#E5ECF6\", \"gridcolor\": \"white\", \"gridwidth\": 2, \"linecolor\": \"white\", \"showbackground\": true, \"ticks\": \"\", \"zerolinecolor\": \"white\"}, \"yaxis\": {\"backgroundcolor\": \"#E5ECF6\", \"gridcolor\": \"white\", \"gridwidth\": 2, \"linecolor\": \"white\", \"showbackground\": true, \"ticks\": \"\", \"zerolinecolor\": \"white\"}, \"zaxis\": {\"backgroundcolor\": \"#E5ECF6\", \"gridcolor\": \"white\", \"gridwidth\": 2, \"linecolor\": \"white\", \"showbackground\": true, \"ticks\": \"\", \"zerolinecolor\": \"white\"}}, \"shapedefaults\": {\"line\": {\"color\": \"#2a3f5f\"}}, \"ternary\": {\"aaxis\": {\"gridcolor\": \"white\", \"linecolor\": \"white\", \"ticks\": \"\"}, \"baxis\": {\"gridcolor\": \"white\", \"linecolor\": \"white\", \"ticks\": \"\"}, \"bgcolor\": \"#E5ECF6\", \"caxis\": {\"gridcolor\": \"white\", \"linecolor\": \"white\", \"ticks\": \"\"}}, \"title\": {\"x\": 0.05}, \"xaxis\": {\"automargin\": true, \"gridcolor\": \"white\", \"linecolor\": \"white\", \"ticks\": \"\", \"title\": {\"standoff\": 15}, \"zerolinecolor\": \"white\", \"zerolinewidth\": 2}, \"yaxis\": {\"automargin\": true, \"gridcolor\": \"white\", \"linecolor\": \"white\", \"ticks\": \"\", \"title\": {\"standoff\": 15}, \"zerolinecolor\": \"white\", \"zerolinewidth\": 2}}}, \"title\": {\"text\": \"Cohorts: User Retention\"}, \"xaxis\": {\"dtick\": 1, \"title\": {\"text\": \"lifetime\"}}, \"yaxis\": {\"tickmode\": \"linear\", \"title\": {\"text\": \"cohorts\"}}},\n",
       "                        {\"responsive\": true}\n",
       "                    ).then(function(){\n",
       "                            \n",
       "var gd = document.getElementById('9acb56a6-df4b-447a-bc8e-3a38a0641692');\n",
       "var x = new MutationObserver(function (mutations, observer) {{\n",
       "        var display = window.getComputedStyle(gd).display;\n",
       "        if (!display || display === 'none') {{\n",
       "            console.log([gd, 'removed!']);\n",
       "            Plotly.purge(gd);\n",
       "            observer.disconnect();\n",
       "        }}\n",
       "}});\n",
       "\n",
       "// Listen for the removal of the full notebook cells\n",
       "var notebookContainer = gd.closest('#notebook-container');\n",
       "if (notebookContainer) {{\n",
       "    x.observe(notebookContainer, {childList: true});\n",
       "}}\n",
       "\n",
       "// Listen for the clearing of the current output cell\n",
       "var outputEl = gd.closest('.output');\n",
       "if (outputEl) {{\n",
       "    x.observe(outputEl, {childList: true});\n",
       "}}\n",
       "\n",
       "                        })\n",
       "                };\n",
       "                });\n",
       "            </script>\n",
       "        </div>"
      ]
     },
     "metadata": {},
     "output_type": "display_data"
    }
   ],
   "source": [
    "#Сделаем визуализацию для нее:\n",
    "data=[go.Heatmap(\n",
    "                x=retention_table.lifetime,\n",
    "                y=retention_table.registration_date,\n",
    "                z=[i*100 for i in retention_table.retention_rate.values.tolist()],\n",
    "                hovertemplate=\n",
    "                '<b>Date</b>: %{y}'+\n",
    "                '<br><b>Lifetime</b>: %{x}'+\n",
    "                '<br><b>Rate<b>: %{z:.2f} %<extra></extra>',\n",
    "                colorscale='viridis')]\n",
    "layout=go.Layout(title='Cohorts: User Retention',\n",
    "                yaxis_title='cohorts',\n",
    "                xaxis_title='lifetime',\n",
    "                xaxis=dict(\n",
    "                dtick=1),\n",
    "                 yaxis=dict(\n",
    "                 tickmode='linear')\n",
    "                )\n",
    "fig=go.Figure(data=data, layout=layout)\n",
    "fig.show()"
   ]
  },
  {
   "cell_type": "markdown",
   "metadata": {},
   "source": [
    "<div class=\"alert alert-block alert-success\">\n",
    "<b>Вывод:</b> На основании тепловой карты можно проследить максимальные значения retention в lifetime дни 0 и 1, минимальны для 30 дня lifetime. Также существуют менее активные когорты, зарегистрированные 27, 22, 17, 14, 1 июня. Интересный факт, что согласно полученным данным retention на lifetime день 0 не 100%, хотя все кто зарегистрировались в этот день и являлись активными пользователями. Поскольку такие показатели были даны на самой платформе, считаем по предоставленным данным.\n",
    "</div>"
   ]
  },
  {
   "cell_type": "markdown",
   "metadata": {},
   "source": [
    "С помощью retention_pivot удобно визуализировать, как изменяется Retention Rate по каждой когорте с течением времени. Например, построим как в зависимости от когорты изменяется Retention Rate на 0-й день:"
   ]
  },
  {
   "cell_type": "code",
   "execution_count": 18,
   "metadata": {},
   "outputs": [
    {
     "data": {
      "application/vnd.plotly.v1+json": {
       "config": {
        "plotlyServerURL": "https://plot.ly"
       },
       "data": [
        {
         "hovertemplate": "%{x}: <br>%{y:.2f} %<extra></extra>",
         "marker": {
          "color": "teal"
         },
         "text": [
          "34.16 %",
          "36.78 %",
          "34.15 %",
          "35.12 %",
          "33.74 %",
          "36.28 %",
          "37.07 %",
          "36.19 %",
          "36.4 %",
          "35.09 %",
          "35.63 %",
          "37.2 %",
          "34.41 %",
          "33.63 %",
          "36.62 %",
          "36.92 %",
          "34.29 %",
          "34.84 %",
          "34.98 %",
          "34.13 %",
          "33.04 %",
          "34.62 %",
          "35.57 %",
          "34.68 %",
          "34.47 %",
          "33.84 %",
          "33.61 %",
          "32.37 %",
          "34.87 %",
          "37.11 %"
         ],
         "textposition": "auto",
         "type": "bar",
         "x": [
          "2019-06-01T00:00:00",
          "2019-06-02T00:00:00",
          "2019-06-03T00:00:00",
          "2019-06-04T00:00:00",
          "2019-06-05T00:00:00",
          "2019-06-06T00:00:00",
          "2019-06-07T00:00:00",
          "2019-06-08T00:00:00",
          "2019-06-09T00:00:00",
          "2019-06-10T00:00:00",
          "2019-06-11T00:00:00",
          "2019-06-12T00:00:00",
          "2019-06-13T00:00:00",
          "2019-06-14T00:00:00",
          "2019-06-15T00:00:00",
          "2019-06-16T00:00:00",
          "2019-06-17T00:00:00",
          "2019-06-18T00:00:00",
          "2019-06-19T00:00:00",
          "2019-06-20T00:00:00",
          "2019-06-21T00:00:00",
          "2019-06-22T00:00:00",
          "2019-06-23T00:00:00",
          "2019-06-24T00:00:00",
          "2019-06-25T00:00:00",
          "2019-06-26T00:00:00",
          "2019-06-27T00:00:00",
          "2019-06-28T00:00:00",
          "2019-06-29T00:00:00",
          "2019-06-30T00:00:00"
         ],
         "y": [
          34.160976619077175,
          36.78401522359657,
          34.152158359170045,
          35.12160228898426,
          33.74187093546773,
          36.284544524053224,
          37.07194470625196,
          36.19015734851021,
          36.39607493309545,
          35.088594958822064,
          35.62686973075877,
          37.19512195121951,
          34.40920572551221,
          33.628588882101404,
          36.62054754194878,
          36.92263279445728,
          34.28668709567586,
          34.84380363886028,
          34.98441288534811,
          34.13094051179794,
          33.03703703703704,
          34.620737647877526,
          35.571336346029696,
          34.67922835352176,
          34.47420634920635,
          33.838821490467936,
          33.60849056603774,
          32.36734693877551,
          34.87196765498653,
          37.109966676764614
         ]
        }
       ],
       "layout": {
        "plot_bgcolor": "white",
        "template": {
         "data": {
          "bar": [
           {
            "error_x": {
             "color": "#2a3f5f"
            },
            "error_y": {
             "color": "#2a3f5f"
            },
            "marker": {
             "line": {
              "color": "#E5ECF6",
              "width": 0.5
             }
            },
            "type": "bar"
           }
          ],
          "barpolar": [
           {
            "marker": {
             "line": {
              "color": "#E5ECF6",
              "width": 0.5
             }
            },
            "type": "barpolar"
           }
          ],
          "carpet": [
           {
            "aaxis": {
             "endlinecolor": "#2a3f5f",
             "gridcolor": "white",
             "linecolor": "white",
             "minorgridcolor": "white",
             "startlinecolor": "#2a3f5f"
            },
            "baxis": {
             "endlinecolor": "#2a3f5f",
             "gridcolor": "white",
             "linecolor": "white",
             "minorgridcolor": "white",
             "startlinecolor": "#2a3f5f"
            },
            "type": "carpet"
           }
          ],
          "choropleth": [
           {
            "colorbar": {
             "outlinewidth": 0,
             "ticks": ""
            },
            "type": "choropleth"
           }
          ],
          "contour": [
           {
            "colorbar": {
             "outlinewidth": 0,
             "ticks": ""
            },
            "colorscale": [
             [
              0,
              "#0d0887"
             ],
             [
              0.1111111111111111,
              "#46039f"
             ],
             [
              0.2222222222222222,
              "#7201a8"
             ],
             [
              0.3333333333333333,
              "#9c179e"
             ],
             [
              0.4444444444444444,
              "#bd3786"
             ],
             [
              0.5555555555555556,
              "#d8576b"
             ],
             [
              0.6666666666666666,
              "#ed7953"
             ],
             [
              0.7777777777777778,
              "#fb9f3a"
             ],
             [
              0.8888888888888888,
              "#fdca26"
             ],
             [
              1,
              "#f0f921"
             ]
            ],
            "type": "contour"
           }
          ],
          "contourcarpet": [
           {
            "colorbar": {
             "outlinewidth": 0,
             "ticks": ""
            },
            "type": "contourcarpet"
           }
          ],
          "heatmap": [
           {
            "colorbar": {
             "outlinewidth": 0,
             "ticks": ""
            },
            "colorscale": [
             [
              0,
              "#0d0887"
             ],
             [
              0.1111111111111111,
              "#46039f"
             ],
             [
              0.2222222222222222,
              "#7201a8"
             ],
             [
              0.3333333333333333,
              "#9c179e"
             ],
             [
              0.4444444444444444,
              "#bd3786"
             ],
             [
              0.5555555555555556,
              "#d8576b"
             ],
             [
              0.6666666666666666,
              "#ed7953"
             ],
             [
              0.7777777777777778,
              "#fb9f3a"
             ],
             [
              0.8888888888888888,
              "#fdca26"
             ],
             [
              1,
              "#f0f921"
             ]
            ],
            "type": "heatmap"
           }
          ],
          "heatmapgl": [
           {
            "colorbar": {
             "outlinewidth": 0,
             "ticks": ""
            },
            "colorscale": [
             [
              0,
              "#0d0887"
             ],
             [
              0.1111111111111111,
              "#46039f"
             ],
             [
              0.2222222222222222,
              "#7201a8"
             ],
             [
              0.3333333333333333,
              "#9c179e"
             ],
             [
              0.4444444444444444,
              "#bd3786"
             ],
             [
              0.5555555555555556,
              "#d8576b"
             ],
             [
              0.6666666666666666,
              "#ed7953"
             ],
             [
              0.7777777777777778,
              "#fb9f3a"
             ],
             [
              0.8888888888888888,
              "#fdca26"
             ],
             [
              1,
              "#f0f921"
             ]
            ],
            "type": "heatmapgl"
           }
          ],
          "histogram": [
           {
            "marker": {
             "colorbar": {
              "outlinewidth": 0,
              "ticks": ""
             }
            },
            "type": "histogram"
           }
          ],
          "histogram2d": [
           {
            "colorbar": {
             "outlinewidth": 0,
             "ticks": ""
            },
            "colorscale": [
             [
              0,
              "#0d0887"
             ],
             [
              0.1111111111111111,
              "#46039f"
             ],
             [
              0.2222222222222222,
              "#7201a8"
             ],
             [
              0.3333333333333333,
              "#9c179e"
             ],
             [
              0.4444444444444444,
              "#bd3786"
             ],
             [
              0.5555555555555556,
              "#d8576b"
             ],
             [
              0.6666666666666666,
              "#ed7953"
             ],
             [
              0.7777777777777778,
              "#fb9f3a"
             ],
             [
              0.8888888888888888,
              "#fdca26"
             ],
             [
              1,
              "#f0f921"
             ]
            ],
            "type": "histogram2d"
           }
          ],
          "histogram2dcontour": [
           {
            "colorbar": {
             "outlinewidth": 0,
             "ticks": ""
            },
            "colorscale": [
             [
              0,
              "#0d0887"
             ],
             [
              0.1111111111111111,
              "#46039f"
             ],
             [
              0.2222222222222222,
              "#7201a8"
             ],
             [
              0.3333333333333333,
              "#9c179e"
             ],
             [
              0.4444444444444444,
              "#bd3786"
             ],
             [
              0.5555555555555556,
              "#d8576b"
             ],
             [
              0.6666666666666666,
              "#ed7953"
             ],
             [
              0.7777777777777778,
              "#fb9f3a"
             ],
             [
              0.8888888888888888,
              "#fdca26"
             ],
             [
              1,
              "#f0f921"
             ]
            ],
            "type": "histogram2dcontour"
           }
          ],
          "mesh3d": [
           {
            "colorbar": {
             "outlinewidth": 0,
             "ticks": ""
            },
            "type": "mesh3d"
           }
          ],
          "parcoords": [
           {
            "line": {
             "colorbar": {
              "outlinewidth": 0,
              "ticks": ""
             }
            },
            "type": "parcoords"
           }
          ],
          "pie": [
           {
            "automargin": true,
            "type": "pie"
           }
          ],
          "scatter": [
           {
            "marker": {
             "colorbar": {
              "outlinewidth": 0,
              "ticks": ""
             }
            },
            "type": "scatter"
           }
          ],
          "scatter3d": [
           {
            "line": {
             "colorbar": {
              "outlinewidth": 0,
              "ticks": ""
             }
            },
            "marker": {
             "colorbar": {
              "outlinewidth": 0,
              "ticks": ""
             }
            },
            "type": "scatter3d"
           }
          ],
          "scattercarpet": [
           {
            "marker": {
             "colorbar": {
              "outlinewidth": 0,
              "ticks": ""
             }
            },
            "type": "scattercarpet"
           }
          ],
          "scattergeo": [
           {
            "marker": {
             "colorbar": {
              "outlinewidth": 0,
              "ticks": ""
             }
            },
            "type": "scattergeo"
           }
          ],
          "scattergl": [
           {
            "marker": {
             "colorbar": {
              "outlinewidth": 0,
              "ticks": ""
             }
            },
            "type": "scattergl"
           }
          ],
          "scattermapbox": [
           {
            "marker": {
             "colorbar": {
              "outlinewidth": 0,
              "ticks": ""
             }
            },
            "type": "scattermapbox"
           }
          ],
          "scatterpolar": [
           {
            "marker": {
             "colorbar": {
              "outlinewidth": 0,
              "ticks": ""
             }
            },
            "type": "scatterpolar"
           }
          ],
          "scatterpolargl": [
           {
            "marker": {
             "colorbar": {
              "outlinewidth": 0,
              "ticks": ""
             }
            },
            "type": "scatterpolargl"
           }
          ],
          "scatterternary": [
           {
            "marker": {
             "colorbar": {
              "outlinewidth": 0,
              "ticks": ""
             }
            },
            "type": "scatterternary"
           }
          ],
          "surface": [
           {
            "colorbar": {
             "outlinewidth": 0,
             "ticks": ""
            },
            "colorscale": [
             [
              0,
              "#0d0887"
             ],
             [
              0.1111111111111111,
              "#46039f"
             ],
             [
              0.2222222222222222,
              "#7201a8"
             ],
             [
              0.3333333333333333,
              "#9c179e"
             ],
             [
              0.4444444444444444,
              "#bd3786"
             ],
             [
              0.5555555555555556,
              "#d8576b"
             ],
             [
              0.6666666666666666,
              "#ed7953"
             ],
             [
              0.7777777777777778,
              "#fb9f3a"
             ],
             [
              0.8888888888888888,
              "#fdca26"
             ],
             [
              1,
              "#f0f921"
             ]
            ],
            "type": "surface"
           }
          ],
          "table": [
           {
            "cells": {
             "fill": {
              "color": "#EBF0F8"
             },
             "line": {
              "color": "white"
             }
            },
            "header": {
             "fill": {
              "color": "#C8D4E3"
             },
             "line": {
              "color": "white"
             }
            },
            "type": "table"
           }
          ]
         },
         "layout": {
          "annotationdefaults": {
           "arrowcolor": "#2a3f5f",
           "arrowhead": 0,
           "arrowwidth": 1
          },
          "coloraxis": {
           "colorbar": {
            "outlinewidth": 0,
            "ticks": ""
           }
          },
          "colorscale": {
           "diverging": [
            [
             0,
             "#8e0152"
            ],
            [
             0.1,
             "#c51b7d"
            ],
            [
             0.2,
             "#de77ae"
            ],
            [
             0.3,
             "#f1b6da"
            ],
            [
             0.4,
             "#fde0ef"
            ],
            [
             0.5,
             "#f7f7f7"
            ],
            [
             0.6,
             "#e6f5d0"
            ],
            [
             0.7,
             "#b8e186"
            ],
            [
             0.8,
             "#7fbc41"
            ],
            [
             0.9,
             "#4d9221"
            ],
            [
             1,
             "#276419"
            ]
           ],
           "sequential": [
            [
             0,
             "#0d0887"
            ],
            [
             0.1111111111111111,
             "#46039f"
            ],
            [
             0.2222222222222222,
             "#7201a8"
            ],
            [
             0.3333333333333333,
             "#9c179e"
            ],
            [
             0.4444444444444444,
             "#bd3786"
            ],
            [
             0.5555555555555556,
             "#d8576b"
            ],
            [
             0.6666666666666666,
             "#ed7953"
            ],
            [
             0.7777777777777778,
             "#fb9f3a"
            ],
            [
             0.8888888888888888,
             "#fdca26"
            ],
            [
             1,
             "#f0f921"
            ]
           ],
           "sequentialminus": [
            [
             0,
             "#0d0887"
            ],
            [
             0.1111111111111111,
             "#46039f"
            ],
            [
             0.2222222222222222,
             "#7201a8"
            ],
            [
             0.3333333333333333,
             "#9c179e"
            ],
            [
             0.4444444444444444,
             "#bd3786"
            ],
            [
             0.5555555555555556,
             "#d8576b"
            ],
            [
             0.6666666666666666,
             "#ed7953"
            ],
            [
             0.7777777777777778,
             "#fb9f3a"
            ],
            [
             0.8888888888888888,
             "#fdca26"
            ],
            [
             1,
             "#f0f921"
            ]
           ]
          },
          "colorway": [
           "#636efa",
           "#EF553B",
           "#00cc96",
           "#ab63fa",
           "#FFA15A",
           "#19d3f3",
           "#FF6692",
           "#B6E880",
           "#FF97FF",
           "#FECB52"
          ],
          "font": {
           "color": "#2a3f5f"
          },
          "geo": {
           "bgcolor": "white",
           "lakecolor": "white",
           "landcolor": "#E5ECF6",
           "showlakes": true,
           "showland": true,
           "subunitcolor": "white"
          },
          "hoverlabel": {
           "align": "left"
          },
          "hovermode": "closest",
          "mapbox": {
           "style": "light"
          },
          "paper_bgcolor": "white",
          "plot_bgcolor": "#E5ECF6",
          "polar": {
           "angularaxis": {
            "gridcolor": "white",
            "linecolor": "white",
            "ticks": ""
           },
           "bgcolor": "#E5ECF6",
           "radialaxis": {
            "gridcolor": "white",
            "linecolor": "white",
            "ticks": ""
           }
          },
          "scene": {
           "xaxis": {
            "backgroundcolor": "#E5ECF6",
            "gridcolor": "white",
            "gridwidth": 2,
            "linecolor": "white",
            "showbackground": true,
            "ticks": "",
            "zerolinecolor": "white"
           },
           "yaxis": {
            "backgroundcolor": "#E5ECF6",
            "gridcolor": "white",
            "gridwidth": 2,
            "linecolor": "white",
            "showbackground": true,
            "ticks": "",
            "zerolinecolor": "white"
           },
           "zaxis": {
            "backgroundcolor": "#E5ECF6",
            "gridcolor": "white",
            "gridwidth": 2,
            "linecolor": "white",
            "showbackground": true,
            "ticks": "",
            "zerolinecolor": "white"
           }
          },
          "shapedefaults": {
           "line": {
            "color": "#2a3f5f"
           }
          },
          "ternary": {
           "aaxis": {
            "gridcolor": "white",
            "linecolor": "white",
            "ticks": ""
           },
           "baxis": {
            "gridcolor": "white",
            "linecolor": "white",
            "ticks": ""
           },
           "bgcolor": "#E5ECF6",
           "caxis": {
            "gridcolor": "white",
            "linecolor": "white",
            "ticks": ""
           }
          },
          "title": {
           "x": 0.05
          },
          "xaxis": {
           "automargin": true,
           "gridcolor": "white",
           "linecolor": "white",
           "ticks": "",
           "title": {
            "standoff": 15
           },
           "zerolinecolor": "white",
           "zerolinewidth": 2
          },
          "yaxis": {
           "automargin": true,
           "gridcolor": "white",
           "linecolor": "white",
           "ticks": "",
           "title": {
            "standoff": 15
           },
           "zerolinecolor": "white",
           "zerolinewidth": 2
          }
         }
        },
        "title": {
         "text": "Cohorts: Retention Rate at 0 lifetime"
        },
        "xaxis": {
         "linecolor": "rgb(204, 204, 204)",
         "showgrid": false,
         "showticklabels": true,
         "tickangle": -45,
         "tickmode": "linear",
         "title": {
          "text": "Cohorts"
         },
         "zeroline": false
        },
        "yaxis": {
         "gridcolor": "rgb(204, 204, 204)",
         "showgrid": true,
         "showline": false,
         "title": {
          "text": "Retention Rate, %"
         },
         "zeroline": true
        }
       }
      },
      "text/html": [
       "<div>\n",
       "        \n",
       "        \n",
       "            <div id=\"cf450cf5-fbc5-4c8e-80f3-e6ac9ae3171f\" class=\"plotly-graph-div\" style=\"height:525px; width:100%;\"></div>\n",
       "            <script type=\"text/javascript\">\n",
       "                require([\"plotly\"], function(Plotly) {\n",
       "                    window.PLOTLYENV=window.PLOTLYENV || {};\n",
       "                    \n",
       "                if (document.getElementById(\"cf450cf5-fbc5-4c8e-80f3-e6ac9ae3171f\")) {\n",
       "                    Plotly.newPlot(\n",
       "                        'cf450cf5-fbc5-4c8e-80f3-e6ac9ae3171f',\n",
       "                        [{\"hovertemplate\": \"%{x}: <br>%{y:.2f} %<extra></extra>\", \"marker\": {\"color\": \"teal\"}, \"text\": [\"34.16 %\", \"36.78 %\", \"34.15 %\", \"35.12 %\", \"33.74 %\", \"36.28 %\", \"37.07 %\", \"36.19 %\", \"36.4 %\", \"35.09 %\", \"35.63 %\", \"37.2 %\", \"34.41 %\", \"33.63 %\", \"36.62 %\", \"36.92 %\", \"34.29 %\", \"34.84 %\", \"34.98 %\", \"34.13 %\", \"33.04 %\", \"34.62 %\", \"35.57 %\", \"34.68 %\", \"34.47 %\", \"33.84 %\", \"33.61 %\", \"32.37 %\", \"34.87 %\", \"37.11 %\"], \"textposition\": \"auto\", \"type\": \"bar\", \"x\": [\"2019-06-01T00:00:00\", \"2019-06-02T00:00:00\", \"2019-06-03T00:00:00\", \"2019-06-04T00:00:00\", \"2019-06-05T00:00:00\", \"2019-06-06T00:00:00\", \"2019-06-07T00:00:00\", \"2019-06-08T00:00:00\", \"2019-06-09T00:00:00\", \"2019-06-10T00:00:00\", \"2019-06-11T00:00:00\", \"2019-06-12T00:00:00\", \"2019-06-13T00:00:00\", \"2019-06-14T00:00:00\", \"2019-06-15T00:00:00\", \"2019-06-16T00:00:00\", \"2019-06-17T00:00:00\", \"2019-06-18T00:00:00\", \"2019-06-19T00:00:00\", \"2019-06-20T00:00:00\", \"2019-06-21T00:00:00\", \"2019-06-22T00:00:00\", \"2019-06-23T00:00:00\", \"2019-06-24T00:00:00\", \"2019-06-25T00:00:00\", \"2019-06-26T00:00:00\", \"2019-06-27T00:00:00\", \"2019-06-28T00:00:00\", \"2019-06-29T00:00:00\", \"2019-06-30T00:00:00\"], \"y\": [34.160976619077175, 36.78401522359657, 34.152158359170045, 35.12160228898426, 33.74187093546773, 36.284544524053224, 37.07194470625196, 36.19015734851021, 36.39607493309545, 35.088594958822064, 35.62686973075877, 37.19512195121951, 34.40920572551221, 33.628588882101404, 36.62054754194878, 36.92263279445728, 34.28668709567586, 34.84380363886028, 34.98441288534811, 34.13094051179794, 33.03703703703704, 34.620737647877526, 35.571336346029696, 34.67922835352176, 34.47420634920635, 33.838821490467936, 33.60849056603774, 32.36734693877551, 34.87196765498653, 37.109966676764614]}],\n",
       "                        {\"plot_bgcolor\": \"white\", \"template\": {\"data\": {\"bar\": [{\"error_x\": {\"color\": \"#2a3f5f\"}, \"error_y\": {\"color\": \"#2a3f5f\"}, \"marker\": {\"line\": {\"color\": \"#E5ECF6\", \"width\": 0.5}}, \"type\": \"bar\"}], \"barpolar\": [{\"marker\": {\"line\": {\"color\": \"#E5ECF6\", \"width\": 0.5}}, \"type\": \"barpolar\"}], \"carpet\": [{\"aaxis\": {\"endlinecolor\": \"#2a3f5f\", \"gridcolor\": \"white\", \"linecolor\": \"white\", \"minorgridcolor\": \"white\", \"startlinecolor\": \"#2a3f5f\"}, \"baxis\": {\"endlinecolor\": \"#2a3f5f\", \"gridcolor\": \"white\", \"linecolor\": \"white\", \"minorgridcolor\": \"white\", \"startlinecolor\": \"#2a3f5f\"}, \"type\": \"carpet\"}], \"choropleth\": [{\"colorbar\": {\"outlinewidth\": 0, \"ticks\": \"\"}, \"type\": \"choropleth\"}], \"contour\": [{\"colorbar\": {\"outlinewidth\": 0, \"ticks\": \"\"}, \"colorscale\": [[0.0, \"#0d0887\"], [0.1111111111111111, \"#46039f\"], [0.2222222222222222, \"#7201a8\"], [0.3333333333333333, \"#9c179e\"], [0.4444444444444444, \"#bd3786\"], [0.5555555555555556, \"#d8576b\"], [0.6666666666666666, \"#ed7953\"], [0.7777777777777778, \"#fb9f3a\"], [0.8888888888888888, \"#fdca26\"], [1.0, \"#f0f921\"]], \"type\": \"contour\"}], \"contourcarpet\": [{\"colorbar\": {\"outlinewidth\": 0, \"ticks\": \"\"}, \"type\": \"contourcarpet\"}], \"heatmap\": [{\"colorbar\": {\"outlinewidth\": 0, \"ticks\": \"\"}, \"colorscale\": [[0.0, \"#0d0887\"], [0.1111111111111111, \"#46039f\"], [0.2222222222222222, \"#7201a8\"], [0.3333333333333333, \"#9c179e\"], [0.4444444444444444, \"#bd3786\"], [0.5555555555555556, \"#d8576b\"], [0.6666666666666666, \"#ed7953\"], [0.7777777777777778, \"#fb9f3a\"], [0.8888888888888888, \"#fdca26\"], [1.0, \"#f0f921\"]], \"type\": \"heatmap\"}], \"heatmapgl\": [{\"colorbar\": {\"outlinewidth\": 0, \"ticks\": \"\"}, \"colorscale\": [[0.0, \"#0d0887\"], [0.1111111111111111, \"#46039f\"], [0.2222222222222222, \"#7201a8\"], [0.3333333333333333, \"#9c179e\"], [0.4444444444444444, \"#bd3786\"], [0.5555555555555556, \"#d8576b\"], [0.6666666666666666, \"#ed7953\"], [0.7777777777777778, \"#fb9f3a\"], [0.8888888888888888, \"#fdca26\"], [1.0, \"#f0f921\"]], \"type\": \"heatmapgl\"}], \"histogram\": [{\"marker\": {\"colorbar\": {\"outlinewidth\": 0, \"ticks\": \"\"}}, \"type\": \"histogram\"}], \"histogram2d\": [{\"colorbar\": {\"outlinewidth\": 0, \"ticks\": \"\"}, \"colorscale\": [[0.0, \"#0d0887\"], [0.1111111111111111, \"#46039f\"], [0.2222222222222222, \"#7201a8\"], [0.3333333333333333, \"#9c179e\"], [0.4444444444444444, \"#bd3786\"], [0.5555555555555556, \"#d8576b\"], [0.6666666666666666, \"#ed7953\"], [0.7777777777777778, \"#fb9f3a\"], [0.8888888888888888, \"#fdca26\"], [1.0, \"#f0f921\"]], \"type\": \"histogram2d\"}], \"histogram2dcontour\": [{\"colorbar\": {\"outlinewidth\": 0, \"ticks\": \"\"}, \"colorscale\": [[0.0, \"#0d0887\"], [0.1111111111111111, \"#46039f\"], [0.2222222222222222, \"#7201a8\"], [0.3333333333333333, \"#9c179e\"], [0.4444444444444444, \"#bd3786\"], [0.5555555555555556, \"#d8576b\"], [0.6666666666666666, \"#ed7953\"], [0.7777777777777778, \"#fb9f3a\"], [0.8888888888888888, \"#fdca26\"], [1.0, \"#f0f921\"]], \"type\": \"histogram2dcontour\"}], \"mesh3d\": [{\"colorbar\": {\"outlinewidth\": 0, \"ticks\": \"\"}, \"type\": \"mesh3d\"}], \"parcoords\": [{\"line\": {\"colorbar\": {\"outlinewidth\": 0, \"ticks\": \"\"}}, \"type\": \"parcoords\"}], \"pie\": [{\"automargin\": true, \"type\": \"pie\"}], \"scatter\": [{\"marker\": {\"colorbar\": {\"outlinewidth\": 0, \"ticks\": \"\"}}, \"type\": \"scatter\"}], \"scatter3d\": [{\"line\": {\"colorbar\": {\"outlinewidth\": 0, \"ticks\": \"\"}}, \"marker\": {\"colorbar\": {\"outlinewidth\": 0, \"ticks\": \"\"}}, \"type\": \"scatter3d\"}], \"scattercarpet\": [{\"marker\": {\"colorbar\": {\"outlinewidth\": 0, \"ticks\": \"\"}}, \"type\": \"scattercarpet\"}], \"scattergeo\": [{\"marker\": {\"colorbar\": {\"outlinewidth\": 0, \"ticks\": \"\"}}, \"type\": \"scattergeo\"}], \"scattergl\": [{\"marker\": {\"colorbar\": {\"outlinewidth\": 0, \"ticks\": \"\"}}, \"type\": \"scattergl\"}], \"scattermapbox\": [{\"marker\": {\"colorbar\": {\"outlinewidth\": 0, \"ticks\": \"\"}}, \"type\": \"scattermapbox\"}], \"scatterpolar\": [{\"marker\": {\"colorbar\": {\"outlinewidth\": 0, \"ticks\": \"\"}}, \"type\": \"scatterpolar\"}], \"scatterpolargl\": [{\"marker\": {\"colorbar\": {\"outlinewidth\": 0, \"ticks\": \"\"}}, \"type\": \"scatterpolargl\"}], \"scatterternary\": [{\"marker\": {\"colorbar\": {\"outlinewidth\": 0, \"ticks\": \"\"}}, \"type\": \"scatterternary\"}], \"surface\": [{\"colorbar\": {\"outlinewidth\": 0, \"ticks\": \"\"}, \"colorscale\": [[0.0, \"#0d0887\"], [0.1111111111111111, \"#46039f\"], [0.2222222222222222, \"#7201a8\"], [0.3333333333333333, \"#9c179e\"], [0.4444444444444444, \"#bd3786\"], [0.5555555555555556, \"#d8576b\"], [0.6666666666666666, \"#ed7953\"], [0.7777777777777778, \"#fb9f3a\"], [0.8888888888888888, \"#fdca26\"], [1.0, \"#f0f921\"]], \"type\": \"surface\"}], \"table\": [{\"cells\": {\"fill\": {\"color\": \"#EBF0F8\"}, \"line\": {\"color\": \"white\"}}, \"header\": {\"fill\": {\"color\": \"#C8D4E3\"}, \"line\": {\"color\": \"white\"}}, \"type\": \"table\"}]}, \"layout\": {\"annotationdefaults\": {\"arrowcolor\": \"#2a3f5f\", \"arrowhead\": 0, \"arrowwidth\": 1}, \"coloraxis\": {\"colorbar\": {\"outlinewidth\": 0, \"ticks\": \"\"}}, \"colorscale\": {\"diverging\": [[0, \"#8e0152\"], [0.1, \"#c51b7d\"], [0.2, \"#de77ae\"], [0.3, \"#f1b6da\"], [0.4, \"#fde0ef\"], [0.5, \"#f7f7f7\"], [0.6, \"#e6f5d0\"], [0.7, \"#b8e186\"], [0.8, \"#7fbc41\"], [0.9, \"#4d9221\"], [1, \"#276419\"]], \"sequential\": [[0.0, \"#0d0887\"], [0.1111111111111111, \"#46039f\"], [0.2222222222222222, \"#7201a8\"], [0.3333333333333333, \"#9c179e\"], [0.4444444444444444, \"#bd3786\"], [0.5555555555555556, \"#d8576b\"], [0.6666666666666666, \"#ed7953\"], [0.7777777777777778, \"#fb9f3a\"], [0.8888888888888888, \"#fdca26\"], [1.0, \"#f0f921\"]], \"sequentialminus\": [[0.0, \"#0d0887\"], [0.1111111111111111, \"#46039f\"], [0.2222222222222222, \"#7201a8\"], [0.3333333333333333, \"#9c179e\"], [0.4444444444444444, \"#bd3786\"], [0.5555555555555556, \"#d8576b\"], [0.6666666666666666, \"#ed7953\"], [0.7777777777777778, \"#fb9f3a\"], [0.8888888888888888, \"#fdca26\"], [1.0, \"#f0f921\"]]}, \"colorway\": [\"#636efa\", \"#EF553B\", \"#00cc96\", \"#ab63fa\", \"#FFA15A\", \"#19d3f3\", \"#FF6692\", \"#B6E880\", \"#FF97FF\", \"#FECB52\"], \"font\": {\"color\": \"#2a3f5f\"}, \"geo\": {\"bgcolor\": \"white\", \"lakecolor\": \"white\", \"landcolor\": \"#E5ECF6\", \"showlakes\": true, \"showland\": true, \"subunitcolor\": \"white\"}, \"hoverlabel\": {\"align\": \"left\"}, \"hovermode\": \"closest\", \"mapbox\": {\"style\": \"light\"}, \"paper_bgcolor\": \"white\", \"plot_bgcolor\": \"#E5ECF6\", \"polar\": {\"angularaxis\": {\"gridcolor\": \"white\", \"linecolor\": \"white\", \"ticks\": \"\"}, \"bgcolor\": \"#E5ECF6\", \"radialaxis\": {\"gridcolor\": \"white\", \"linecolor\": \"white\", \"ticks\": \"\"}}, \"scene\": {\"xaxis\": {\"backgroundcolor\": \"#E5ECF6\", \"gridcolor\": \"white\", \"gridwidth\": 2, \"linecolor\": \"white\", \"showbackground\": true, \"ticks\": \"\", \"zerolinecolor\": \"white\"}, \"yaxis\": {\"backgroundcolor\": \"#E5ECF6\", \"gridcolor\": \"white\", \"gridwidth\": 2, \"linecolor\": \"white\", \"showbackground\": true, \"ticks\": \"\", \"zerolinecolor\": \"white\"}, \"zaxis\": {\"backgroundcolor\": \"#E5ECF6\", \"gridcolor\": \"white\", \"gridwidth\": 2, \"linecolor\": \"white\", \"showbackground\": true, \"ticks\": \"\", \"zerolinecolor\": \"white\"}}, \"shapedefaults\": {\"line\": {\"color\": \"#2a3f5f\"}}, \"ternary\": {\"aaxis\": {\"gridcolor\": \"white\", \"linecolor\": \"white\", \"ticks\": \"\"}, \"baxis\": {\"gridcolor\": \"white\", \"linecolor\": \"white\", \"ticks\": \"\"}, \"bgcolor\": \"#E5ECF6\", \"caxis\": {\"gridcolor\": \"white\", \"linecolor\": \"white\", \"ticks\": \"\"}}, \"title\": {\"x\": 0.05}, \"xaxis\": {\"automargin\": true, \"gridcolor\": \"white\", \"linecolor\": \"white\", \"ticks\": \"\", \"title\": {\"standoff\": 15}, \"zerolinecolor\": \"white\", \"zerolinewidth\": 2}, \"yaxis\": {\"automargin\": true, \"gridcolor\": \"white\", \"linecolor\": \"white\", \"ticks\": \"\", \"title\": {\"standoff\": 15}, \"zerolinecolor\": \"white\", \"zerolinewidth\": 2}}}, \"title\": {\"text\": \"Cohorts: Retention Rate at 0 lifetime\"}, \"xaxis\": {\"linecolor\": \"rgb(204, 204, 204)\", \"showgrid\": false, \"showticklabels\": true, \"tickangle\": -45, \"tickmode\": \"linear\", \"title\": {\"text\": \"Cohorts\"}, \"zeroline\": false}, \"yaxis\": {\"gridcolor\": \"rgb(204, 204, 204)\", \"showgrid\": true, \"showline\": false, \"title\": {\"text\": \"Retention Rate, %\"}, \"zeroline\": true}},\n",
       "                        {\"responsive\": true}\n",
       "                    ).then(function(){\n",
       "                            \n",
       "var gd = document.getElementById('cf450cf5-fbc5-4c8e-80f3-e6ac9ae3171f');\n",
       "var x = new MutationObserver(function (mutations, observer) {{\n",
       "        var display = window.getComputedStyle(gd).display;\n",
       "        if (!display || display === 'none') {{\n",
       "            console.log([gd, 'removed!']);\n",
       "            Plotly.purge(gd);\n",
       "            observer.disconnect();\n",
       "        }}\n",
       "}});\n",
       "\n",
       "// Listen for the removal of the full notebook cells\n",
       "var notebookContainer = gd.closest('#notebook-container');\n",
       "if (notebookContainer) {{\n",
       "    x.observe(notebookContainer, {childList: true});\n",
       "}}\n",
       "\n",
       "// Listen for the clearing of the current output cell\n",
       "var outputEl = gd.closest('.output');\n",
       "if (outputEl) {{\n",
       "    x.observe(outputEl, {childList: true});\n",
       "}}\n",
       "\n",
       "                        })\n",
       "                };\n",
       "                });\n",
       "            </script>\n",
       "        </div>"
      ]
     },
     "metadata": {},
     "output_type": "display_data"
    }
   ],
   "source": [
    "lifetime=0 #можно поменять поставить интересующее значение lifetime\n",
    "values=[i*100 for i in retention_pivot[lifetime].values.tolist()]\n",
    "fig = go.Figure()\n",
    "\n",
    "data=[go.Bar(\n",
    "    x=retention_pivot.index, \n",
    "    y=[i for i in values],\n",
    "    text=[str(round(i,2))+' %' for i in values],\n",
    "    textposition='auto',\n",
    "    hovertemplate=\"%{x}: <br>%{y:.2f} %<extra></extra>\",\n",
    "    marker_color='teal')]\n",
    "\n",
    "layout=go.Layout(title='Cohorts: Retention Rate at {} lifetime'.format(lifetime), \n",
    "                yaxis_title='Retention Rate, %',\n",
    "                xaxis_title='Cohorts',\n",
    "                 plot_bgcolor='white',\n",
    "                xaxis=dict(\n",
    "                tickangle=-45,\n",
    "                zeroline=False,\n",
    "                showgrid=False,\n",
    "                showticklabels=True,\n",
    "                linecolor='rgb(204, 204, 204)',\n",
    "                tickmode='linear'\n",
    "                ),\n",
    "                 yaxis=dict(\n",
    "                showgrid=True,\n",
    "                showline=False,\n",
    "                zeroline=True,\n",
    "                gridcolor='rgb(204, 204, 204)'\n",
    "                ))\n",
    "\n",
    "fig=go.Figure(data, layout)\n",
    "\n",
    "fig.show()"
   ]
  },
  {
   "attachments": {
    "image.png": {
     "image/png": "[encoded data removed]"
    }
   },
   "cell_type": "markdown",
   "metadata": {},
   "source": [
    "<div class=\"alert alert-block alert-success\">\n",
    "<b>Вывод:</b> Retention rate в нулевой день жизни по когортам остался относительно неизменным, в отличие от данного показателя за май - там наблюдалось его падение в когортах дат ближе к концу месяца:\n",
    "</div>\n",
    "\n",
    "![image.png](attachment:image.png)"
   ]
  },
  {
   "cell_type": "code",
   "execution_count": 19,
   "metadata": {},
   "outputs": [
    {
     "data": {
      "text/html": [
       "<div>\n",
       "<style scoped>\n",
       "    .dataframe tbody tr th:only-of-type {\n",
       "        vertical-align: middle;\n",
       "    }\n",
       "\n",
       "    .dataframe tbody tr th {\n",
       "        vertical-align: top;\n",
       "    }\n",
       "\n",
       "    .dataframe thead th {\n",
       "        text-align: right;\n",
       "    }\n",
       "</style>\n",
       "<table border=\"1\" class=\"dataframe\">\n",
       "  <thead>\n",
       "    <tr style=\"text-align: right;\">\n",
       "      <th>lifetime</th>\n",
       "      <th>0</th>\n",
       "      <th>1</th>\n",
       "      <th>2</th>\n",
       "      <th>3</th>\n",
       "      <th>4</th>\n",
       "      <th>5</th>\n",
       "      <th>6</th>\n",
       "      <th>7</th>\n",
       "      <th>8</th>\n",
       "      <th>9</th>\n",
       "      <th>...</th>\n",
       "      <th>21</th>\n",
       "      <th>22</th>\n",
       "      <th>23</th>\n",
       "      <th>24</th>\n",
       "      <th>25</th>\n",
       "      <th>26</th>\n",
       "      <th>27</th>\n",
       "      <th>28</th>\n",
       "      <th>29</th>\n",
       "      <th>30</th>\n",
       "    </tr>\n",
       "    <tr>\n",
       "      <th>registration_date</th>\n",
       "      <th></th>\n",
       "      <th></th>\n",
       "      <th></th>\n",
       "      <th></th>\n",
       "      <th></th>\n",
       "      <th></th>\n",
       "      <th></th>\n",
       "      <th></th>\n",
       "      <th></th>\n",
       "      <th></th>\n",
       "      <th></th>\n",
       "      <th></th>\n",
       "      <th></th>\n",
       "      <th></th>\n",
       "      <th></th>\n",
       "      <th></th>\n",
       "      <th></th>\n",
       "      <th></th>\n",
       "      <th></th>\n",
       "      <th></th>\n",
       "      <th></th>\n",
       "    </tr>\n",
       "  </thead>\n",
       "  <tbody>\n",
       "    <tr>\n",
       "      <th>2019-06-27 00:00:00</th>\n",
       "      <td>0.336085</td>\n",
       "      <td>0.283019</td>\n",
       "      <td>0.202044</td>\n",
       "      <td>0.166274</td>\n",
       "      <td>0.141509</td>\n",
       "      <td>0.121462</td>\n",
       "      <td>0.111635</td>\n",
       "      <td>0.101808</td>\n",
       "      <td>0.092374</td>\n",
       "      <td>0.088836</td>\n",
       "      <td>...</td>\n",
       "      <td>0.047956</td>\n",
       "      <td>0.048742</td>\n",
       "      <td>0.045204</td>\n",
       "      <td>0.043239</td>\n",
       "      <td>0.041274</td>\n",
       "      <td>0.041667</td>\n",
       "      <td>0.038915</td>\n",
       "      <td>0.039308</td>\n",
       "      <td>0.029874</td>\n",
       "      <td>0.020833</td>\n",
       "    </tr>\n",
       "    <tr>\n",
       "      <th>2019-06-28 00:00:00</th>\n",
       "      <td>0.323673</td>\n",
       "      <td>0.295918</td>\n",
       "      <td>0.213061</td>\n",
       "      <td>0.184082</td>\n",
       "      <td>0.153469</td>\n",
       "      <td>0.138776</td>\n",
       "      <td>0.123265</td>\n",
       "      <td>0.116735</td>\n",
       "      <td>0.109388</td>\n",
       "      <td>0.100000</td>\n",
       "      <td>...</td>\n",
       "      <td>0.059592</td>\n",
       "      <td>0.054694</td>\n",
       "      <td>0.055102</td>\n",
       "      <td>0.055102</td>\n",
       "      <td>0.057143</td>\n",
       "      <td>0.050612</td>\n",
       "      <td>0.052653</td>\n",
       "      <td>0.048980</td>\n",
       "      <td>0.035510</td>\n",
       "      <td>0.022041</td>\n",
       "    </tr>\n",
       "    <tr>\n",
       "      <th>2019-06-29 00:00:00</th>\n",
       "      <td>0.348720</td>\n",
       "      <td>0.319407</td>\n",
       "      <td>0.236523</td>\n",
       "      <td>0.197102</td>\n",
       "      <td>0.167790</td>\n",
       "      <td>0.151954</td>\n",
       "      <td>0.137466</td>\n",
       "      <td>0.128032</td>\n",
       "      <td>0.122305</td>\n",
       "      <td>0.115903</td>\n",
       "      <td>...</td>\n",
       "      <td>0.071429</td>\n",
       "      <td>0.073787</td>\n",
       "      <td>0.068396</td>\n",
       "      <td>0.062668</td>\n",
       "      <td>0.059636</td>\n",
       "      <td>0.056941</td>\n",
       "      <td>0.056267</td>\n",
       "      <td>0.057951</td>\n",
       "      <td>0.043464</td>\n",
       "      <td>0.029987</td>\n",
       "    </tr>\n",
       "    <tr>\n",
       "      <th>2019-06-30 00:00:00</th>\n",
       "      <td>0.371100</td>\n",
       "      <td>0.328688</td>\n",
       "      <td>0.241442</td>\n",
       "      <td>0.200242</td>\n",
       "      <td>0.172372</td>\n",
       "      <td>0.156619</td>\n",
       "      <td>0.152075</td>\n",
       "      <td>0.149349</td>\n",
       "      <td>0.134808</td>\n",
       "      <td>0.127537</td>\n",
       "      <td>...</td>\n",
       "      <td>0.068161</td>\n",
       "      <td>0.065132</td>\n",
       "      <td>0.064223</td>\n",
       "      <td>0.064829</td>\n",
       "      <td>0.063617</td>\n",
       "      <td>0.058467</td>\n",
       "      <td>0.056347</td>\n",
       "      <td>0.059982</td>\n",
       "      <td>0.043623</td>\n",
       "      <td>0.027567</td>\n",
       "    </tr>\n",
       "    <tr>\n",
       "      <th>mean</th>\n",
       "      <td>0.350607</td>\n",
       "      <td>0.305707</td>\n",
       "      <td>0.223304</td>\n",
       "      <td>0.186753</td>\n",
       "      <td>0.161584</td>\n",
       "      <td>0.144832</td>\n",
       "      <td>0.134225</td>\n",
       "      <td>0.125151</td>\n",
       "      <td>0.115505</td>\n",
       "      <td>0.106549</td>\n",
       "      <td>...</td>\n",
       "      <td>0.065852</td>\n",
       "      <td>0.063643</td>\n",
       "      <td>0.060973</td>\n",
       "      <td>0.057966</td>\n",
       "      <td>0.056677</td>\n",
       "      <td>0.054686</td>\n",
       "      <td>0.053935</td>\n",
       "      <td>0.052781</td>\n",
       "      <td>0.040779</td>\n",
       "      <td>0.027130</td>\n",
       "    </tr>\n",
       "  </tbody>\n",
       "</table>\n",
       "<p>5 rows × 31 columns</p>\n",
       "</div>"
      ],
      "text/plain": [
       "lifetime                   0         1         2         3         4   \\\n",
       "registration_date                                                       \n",
       "2019-06-27 00:00:00  0.336085  0.283019  0.202044  0.166274  0.141509   \n",
       "2019-06-28 00:00:00  0.323673  0.295918  0.213061  0.184082  0.153469   \n",
       "2019-06-29 00:00:00  0.348720  0.319407  0.236523  0.197102  0.167790   \n",
       "2019-06-30 00:00:00  0.371100  0.328688  0.241442  0.200242  0.172372   \n",
       "mean                 0.350607  0.305707  0.223304  0.186753  0.161584   \n",
       "\n",
       "lifetime                   5         6         7         8         9   ...  \\\n",
       "registration_date                                                      ...   \n",
       "2019-06-27 00:00:00  0.121462  0.111635  0.101808  0.092374  0.088836  ...   \n",
       "2019-06-28 00:00:00  0.138776  0.123265  0.116735  0.109388  0.100000  ...   \n",
       "2019-06-29 00:00:00  0.151954  0.137466  0.128032  0.122305  0.115903  ...   \n",
       "2019-06-30 00:00:00  0.156619  0.152075  0.149349  0.134808  0.127537  ...   \n",
       "mean                 0.144832  0.134225  0.125151  0.115505  0.106549  ...   \n",
       "\n",
       "lifetime                   21        22        23        24        25  \\\n",
       "registration_date                                                       \n",
       "2019-06-27 00:00:00  0.047956  0.048742  0.045204  0.043239  0.041274   \n",
       "2019-06-28 00:00:00  0.059592  0.054694  0.055102  0.055102  0.057143   \n",
       "2019-06-29 00:00:00  0.071429  0.073787  0.068396  0.062668  0.059636   \n",
       "2019-06-30 00:00:00  0.068161  0.065132  0.064223  0.064829  0.063617   \n",
       "mean                 0.065852  0.063643  0.060973  0.057966  0.056677   \n",
       "\n",
       "lifetime                   26        27        28        29        30  \n",
       "registration_date                                                      \n",
       "2019-06-27 00:00:00  0.041667  0.038915  0.039308  0.029874  0.020833  \n",
       "2019-06-28 00:00:00  0.050612  0.052653  0.048980  0.035510  0.022041  \n",
       "2019-06-29 00:00:00  0.056941  0.056267  0.057951  0.043464  0.029987  \n",
       "2019-06-30 00:00:00  0.058467  0.056347  0.059982  0.043623  0.027567  \n",
       "mean                 0.054686  0.053935  0.052781  0.040779  0.027130  \n",
       "\n",
       "[5 rows x 31 columns]"
      ]
     },
     "execution_count": 19,
     "metadata": {},
     "output_type": "execute_result"
    }
   ],
   "source": [
    "#Добавим среднее значение по lifetime для построения графика:\n",
    "retention_pivot.loc['mean']=retention_pivot.mean(axis=0)\n",
    "retention_pivot.tail()"
   ]
  },
  {
   "cell_type": "code",
   "execution_count": 20,
   "metadata": {},
   "outputs": [
    {
     "data": {
      "application/vnd.plotly.v1+json": {
       "config": {
        "plotlyServerURL": "https://plot.ly"
       },
       "data": [
        {
         "hovertemplate": "%{x}: <br>%{y}%<extra></extra>",
         "marker": {
          "color": "teal"
         },
         "mode": "markers+lines",
         "type": "scatter",
         "x": [
          "Day 0",
          "Day 1",
          "Day 2",
          "Day 3",
          "Day 4",
          "Day 5",
          "Day 6",
          "Day 7",
          "Day 8",
          "Day 9",
          "Day 10",
          "Day 11",
          "Day 12",
          "Day 13",
          "Day 14",
          "Day 15",
          "Day 16",
          "Day 17",
          "Day 18",
          "Day 19",
          "Day 20",
          "Day 21",
          "Day 22",
          "Day 23",
          "Day 24",
          "Day 25",
          "Day 26",
          "Day 27",
          "Day 28",
          "Day 29",
          "Day 30"
         ],
         "y": [
          35.06,
          30.57,
          22.33,
          18.68,
          16.16,
          14.48,
          13.42,
          12.52,
          11.55,
          10.65,
          10.01,
          9.42,
          9.07,
          8.77,
          8.54,
          8.03,
          7.68,
          7.37,
          7.1,
          6.85,
          6.75,
          6.59,
          6.36,
          6.1,
          5.8,
          5.67,
          5.47,
          5.39,
          5.28,
          4.08,
          2.71
         ]
        }
       ],
       "layout": {
        "plot_bgcolor": "white",
        "template": {
         "data": {
          "bar": [
           {
            "error_x": {
             "color": "#2a3f5f"
            },
            "error_y": {
             "color": "#2a3f5f"
            },
            "marker": {
             "line": {
              "color": "#E5ECF6",
              "width": 0.5
             }
            },
            "type": "bar"
           }
          ],
          "barpolar": [
           {
            "marker": {
             "line": {
              "color": "#E5ECF6",
              "width": 0.5
             }
            },
            "type": "barpolar"
           }
          ],
          "carpet": [
           {
            "aaxis": {
             "endlinecolor": "#2a3f5f",
             "gridcolor": "white",
             "linecolor": "white",
             "minorgridcolor": "white",
             "startlinecolor": "#2a3f5f"
            },
            "baxis": {
             "endlinecolor": "#2a3f5f",
             "gridcolor": "white",
             "linecolor": "white",
             "minorgridcolor": "white",
             "startlinecolor": "#2a3f5f"
            },
            "type": "carpet"
           }
          ],
          "choropleth": [
           {
            "colorbar": {
             "outlinewidth": 0,
             "ticks": ""
            },
            "type": "choropleth"
           }
          ],
          "contour": [
           {
            "colorbar": {
             "outlinewidth": 0,
             "ticks": ""
            },
            "colorscale": [
             [
              0,
              "#0d0887"
             ],
             [
              0.1111111111111111,
              "#46039f"
             ],
             [
              0.2222222222222222,
              "#7201a8"
             ],
             [
              0.3333333333333333,
              "#9c179e"
             ],
             [
              0.4444444444444444,
              "#bd3786"
             ],
             [
              0.5555555555555556,
              "#d8576b"
             ],
             [
              0.6666666666666666,
              "#ed7953"
             ],
             [
              0.7777777777777778,
              "#fb9f3a"
             ],
             [
              0.8888888888888888,
              "#fdca26"
             ],
             [
              1,
              "#f0f921"
             ]
            ],
            "type": "contour"
           }
          ],
          "contourcarpet": [
           {
            "colorbar": {
             "outlinewidth": 0,
             "ticks": ""
            },
            "type": "contourcarpet"
           }
          ],
          "heatmap": [
           {
            "colorbar": {
             "outlinewidth": 0,
             "ticks": ""
            },
            "colorscale": [
             [
              0,
              "#0d0887"
             ],
             [
              0.1111111111111111,
              "#46039f"
             ],
             [
              0.2222222222222222,
              "#7201a8"
             ],
             [
              0.3333333333333333,
              "#9c179e"
             ],
             [
              0.4444444444444444,
              "#bd3786"
             ],
             [
              0.5555555555555556,
              "#d8576b"
             ],
             [
              0.6666666666666666,
              "#ed7953"
             ],
             [
              0.7777777777777778,
              "#fb9f3a"
             ],
             [
              0.8888888888888888,
              "#fdca26"
             ],
             [
              1,
              "#f0f921"
             ]
            ],
            "type": "heatmap"
           }
          ],
          "heatmapgl": [
           {
            "colorbar": {
             "outlinewidth": 0,
             "ticks": ""
            },
            "colorscale": [
             [
              0,
              "#0d0887"
             ],
             [
              0.1111111111111111,
              "#46039f"
             ],
             [
              0.2222222222222222,
              "#7201a8"
             ],
             [
              0.3333333333333333,
              "#9c179e"
             ],
             [
              0.4444444444444444,
              "#bd3786"
             ],
             [
              0.5555555555555556,
              "#d8576b"
             ],
             [
              0.6666666666666666,
              "#ed7953"
             ],
             [
              0.7777777777777778,
              "#fb9f3a"
             ],
             [
              0.8888888888888888,
              "#fdca26"
             ],
             [
              1,
              "#f0f921"
             ]
            ],
            "type": "heatmapgl"
           }
          ],
          "histogram": [
           {
            "marker": {
             "colorbar": {
              "outlinewidth": 0,
              "ticks": ""
             }
            },
            "type": "histogram"
           }
          ],
          "histogram2d": [
           {
            "colorbar": {
             "outlinewidth": 0,
             "ticks": ""
            },
            "colorscale": [
             [
              0,
              "#0d0887"
             ],
             [
              0.1111111111111111,
              "#46039f"
             ],
             [
              0.2222222222222222,
              "#7201a8"
             ],
             [
              0.3333333333333333,
              "#9c179e"
             ],
             [
              0.4444444444444444,
              "#bd3786"
             ],
             [
              0.5555555555555556,
              "#d8576b"
             ],
             [
              0.6666666666666666,
              "#ed7953"
             ],
             [
              0.7777777777777778,
              "#fb9f3a"
             ],
             [
              0.8888888888888888,
              "#fdca26"
             ],
             [
              1,
              "#f0f921"
             ]
            ],
            "type": "histogram2d"
           }
          ],
          "histogram2dcontour": [
           {
            "colorbar": {
             "outlinewidth": 0,
             "ticks": ""
            },
            "colorscale": [
             [
              0,
              "#0d0887"
             ],
             [
              0.1111111111111111,
              "#46039f"
             ],
             [
              0.2222222222222222,
              "#7201a8"
             ],
             [
              0.3333333333333333,
              "#9c179e"
             ],
             [
              0.4444444444444444,
              "#bd3786"
             ],
             [
              0.5555555555555556,
              "#d8576b"
             ],
             [
              0.6666666666666666,
              "#ed7953"
             ],
             [
              0.7777777777777778,
              "#fb9f3a"
             ],
             [
              0.8888888888888888,
              "#fdca26"
             ],
             [
              1,
              "#f0f921"
             ]
            ],
            "type": "histogram2dcontour"
           }
          ],
          "mesh3d": [
           {
            "colorbar": {
             "outlinewidth": 0,
             "ticks": ""
            },
            "type": "mesh3d"
           }
          ],
          "parcoords": [
           {
            "line": {
             "colorbar": {
              "outlinewidth": 0,
              "ticks": ""
             }
            },
            "type": "parcoords"
           }
          ],
          "pie": [
           {
            "automargin": true,
            "type": "pie"
           }
          ],
          "scatter": [
           {
            "marker": {
             "colorbar": {
              "outlinewidth": 0,
              "ticks": ""
             }
            },
            "type": "scatter"
           }
          ],
          "scatter3d": [
           {
            "line": {
             "colorbar": {
              "outlinewidth": 0,
              "ticks": ""
             }
            },
            "marker": {
             "colorbar": {
              "outlinewidth": 0,
              "ticks": ""
             }
            },
            "type": "scatter3d"
           }
          ],
          "scattercarpet": [
           {
            "marker": {
             "colorbar": {
              "outlinewidth": 0,
              "ticks": ""
             }
            },
            "type": "scattercarpet"
           }
          ],
          "scattergeo": [
           {
            "marker": {
             "colorbar": {
              "outlinewidth": 0,
              "ticks": ""
             }
            },
            "type": "scattergeo"
           }
          ],
          "scattergl": [
           {
            "marker": {
             "colorbar": {
              "outlinewidth": 0,
              "ticks": ""
             }
            },
            "type": "scattergl"
           }
          ],
          "scattermapbox": [
           {
            "marker": {
             "colorbar": {
              "outlinewidth": 0,
              "ticks": ""
             }
            },
            "type": "scattermapbox"
           }
          ],
          "scatterpolar": [
           {
            "marker": {
             "colorbar": {
              "outlinewidth": 0,
              "ticks": ""
             }
            },
            "type": "scatterpolar"
           }
          ],
          "scatterpolargl": [
           {
            "marker": {
             "colorbar": {
              "outlinewidth": 0,
              "ticks": ""
             }
            },
            "type": "scatterpolargl"
           }
          ],
          "scatterternary": [
           {
            "marker": {
             "colorbar": {
              "outlinewidth": 0,
              "ticks": ""
             }
            },
            "type": "scatterternary"
           }
          ],
          "surface": [
           {
            "colorbar": {
             "outlinewidth": 0,
             "ticks": ""
            },
            "colorscale": [
             [
              0,
              "#0d0887"
             ],
             [
              0.1111111111111111,
              "#46039f"
             ],
             [
              0.2222222222222222,
              "#7201a8"
             ],
             [
              0.3333333333333333,
              "#9c179e"
             ],
             [
              0.4444444444444444,
              "#bd3786"
             ],
             [
              0.5555555555555556,
              "#d8576b"
             ],
             [
              0.6666666666666666,
              "#ed7953"
             ],
             [
              0.7777777777777778,
              "#fb9f3a"
             ],
             [
              0.8888888888888888,
              "#fdca26"
             ],
             [
              1,
              "#f0f921"
             ]
            ],
            "type": "surface"
           }
          ],
          "table": [
           {
            "cells": {
             "fill": {
              "color": "#EBF0F8"
             },
             "line": {
              "color": "white"
             }
            },
            "header": {
             "fill": {
              "color": "#C8D4E3"
             },
             "line": {
              "color": "white"
             }
            },
            "type": "table"
           }
          ]
         },
         "layout": {
          "annotationdefaults": {
           "arrowcolor": "#2a3f5f",
           "arrowhead": 0,
           "arrowwidth": 1
          },
          "coloraxis": {
           "colorbar": {
            "outlinewidth": 0,
            "ticks": ""
           }
          },
          "colorscale": {
           "diverging": [
            [
             0,
             "#8e0152"
            ],
            [
             0.1,
             "#c51b7d"
            ],
            [
             0.2,
             "#de77ae"
            ],
            [
             0.3,
             "#f1b6da"
            ],
            [
             0.4,
             "#fde0ef"
            ],
            [
             0.5,
             "#f7f7f7"
            ],
            [
             0.6,
             "#e6f5d0"
            ],
            [
             0.7,
             "#b8e186"
            ],
            [
             0.8,
             "#7fbc41"
            ],
            [
             0.9,
             "#4d9221"
            ],
            [
             1,
             "#276419"
            ]
           ],
           "sequential": [
            [
             0,
             "#0d0887"
            ],
            [
             0.1111111111111111,
             "#46039f"
            ],
            [
             0.2222222222222222,
             "#7201a8"
            ],
            [
             0.3333333333333333,
             "#9c179e"
            ],
            [
             0.4444444444444444,
             "#bd3786"
            ],
            [
             0.5555555555555556,
             "#d8576b"
            ],
            [
             0.6666666666666666,
             "#ed7953"
            ],
            [
             0.7777777777777778,
             "#fb9f3a"
            ],
            [
             0.8888888888888888,
             "#fdca26"
            ],
            [
             1,
             "#f0f921"
            ]
           ],
           "sequentialminus": [
            [
             0,
             "#0d0887"
            ],
            [
             0.1111111111111111,
             "#46039f"
            ],
            [
             0.2222222222222222,
             "#7201a8"
            ],
            [
             0.3333333333333333,
             "#9c179e"
            ],
            [
             0.4444444444444444,
             "#bd3786"
            ],
            [
             0.5555555555555556,
             "#d8576b"
            ],
            [
             0.6666666666666666,
             "#ed7953"
            ],
            [
             0.7777777777777778,
             "#fb9f3a"
            ],
            [
             0.8888888888888888,
             "#fdca26"
            ],
            [
             1,
             "#f0f921"
            ]
           ]
          },
          "colorway": [
           "#636efa",
           "#EF553B",
           "#00cc96",
           "#ab63fa",
           "#FFA15A",
           "#19d3f3",
           "#FF6692",
           "#B6E880",
           "#FF97FF",
           "#FECB52"
          ],
          "font": {
           "color": "#2a3f5f"
          },
          "geo": {
           "bgcolor": "white",
           "lakecolor": "white",
           "landcolor": "#E5ECF6",
           "showlakes": true,
           "showland": true,
           "subunitcolor": "white"
          },
          "hoverlabel": {
           "align": "left"
          },
          "hovermode": "closest",
          "mapbox": {
           "style": "light"
          },
          "paper_bgcolor": "white",
          "plot_bgcolor": "#E5ECF6",
          "polar": {
           "angularaxis": {
            "gridcolor": "white",
            "linecolor": "white",
            "ticks": ""
           },
           "bgcolor": "#E5ECF6",
           "radialaxis": {
            "gridcolor": "white",
            "linecolor": "white",
            "ticks": ""
           }
          },
          "scene": {
           "xaxis": {
            "backgroundcolor": "#E5ECF6",
            "gridcolor": "white",
            "gridwidth": 2,
            "linecolor": "white",
            "showbackground": true,
            "ticks": "",
            "zerolinecolor": "white"
           },
           "yaxis": {
            "backgroundcolor": "#E5ECF6",
            "gridcolor": "white",
            "gridwidth": 2,
            "linecolor": "white",
            "showbackground": true,
            "ticks": "",
            "zerolinecolor": "white"
           },
           "zaxis": {
            "backgroundcolor": "#E5ECF6",
            "gridcolor": "white",
            "gridwidth": 2,
            "linecolor": "white",
            "showbackground": true,
            "ticks": "",
            "zerolinecolor": "white"
           }
          },
          "shapedefaults": {
           "line": {
            "color": "#2a3f5f"
           }
          },
          "ternary": {
           "aaxis": {
            "gridcolor": "white",
            "linecolor": "white",
            "ticks": ""
           },
           "baxis": {
            "gridcolor": "white",
            "linecolor": "white",
            "ticks": ""
           },
           "bgcolor": "#E5ECF6",
           "caxis": {
            "gridcolor": "white",
            "linecolor": "white",
            "ticks": ""
           }
          },
          "title": {
           "x": 0.05
          },
          "xaxis": {
           "automargin": true,
           "gridcolor": "white",
           "linecolor": "white",
           "ticks": "",
           "title": {
            "standoff": 15
           },
           "zerolinecolor": "white",
           "zerolinewidth": 2
          },
          "yaxis": {
           "automargin": true,
           "gridcolor": "white",
           "linecolor": "white",
           "ticks": "",
           "title": {
            "standoff": 15
           },
           "zerolinecolor": "white",
           "zerolinewidth": 2
          }
         }
        },
        "title": {
         "text": "Cohorts: June 2019 Average User Retention"
        },
        "xaxis": {
         "linecolor": "rgb(204, 204, 204)",
         "linewidth": 3,
         "showgrid": false,
         "showticklabels": true,
         "tickangle": -45,
         "zeroline": false
        },
        "yaxis": {
         "gridcolor": "rgb(204, 204, 204)",
         "showgrid": true,
         "showline": false,
         "title": {
          "text": "Retention, %"
         },
         "zeroline": true
        }
       }
      },
      "text/html": [
       "<div>\n",
       "        \n",
       "        \n",
       "            <div id=\"61b053f6-5a74-4b5d-8bf7-44d0a64f5a51\" class=\"plotly-graph-div\" style=\"height:525px; width:100%;\"></div>\n",
       "            <script type=\"text/javascript\">\n",
       "                require([\"plotly\"], function(Plotly) {\n",
       "                    window.PLOTLYENV=window.PLOTLYENV || {};\n",
       "                    \n",
       "                if (document.getElementById(\"61b053f6-5a74-4b5d-8bf7-44d0a64f5a51\")) {\n",
       "                    Plotly.newPlot(\n",
       "                        '61b053f6-5a74-4b5d-8bf7-44d0a64f5a51',\n",
       "                        [{\"hovertemplate\": \"%{x}: <br>%{y}%<extra></extra>\", \"marker\": {\"color\": \"teal\"}, \"mode\": \"markers+lines\", \"type\": \"scatter\", \"x\": [\"Day 0\", \"Day 1\", \"Day 2\", \"Day 3\", \"Day 4\", \"Day 5\", \"Day 6\", \"Day 7\", \"Day 8\", \"Day 9\", \"Day 10\", \"Day 11\", \"Day 12\", \"Day 13\", \"Day 14\", \"Day 15\", \"Day 16\", \"Day 17\", \"Day 18\", \"Day 19\", \"Day 20\", \"Day 21\", \"Day 22\", \"Day 23\", \"Day 24\", \"Day 25\", \"Day 26\", \"Day 27\", \"Day 28\", \"Day 29\", \"Day 30\"], \"y\": [35.06, 30.57, 22.33, 18.68, 16.16, 14.48, 13.42, 12.52, 11.55, 10.65, 10.01, 9.42, 9.07, 8.77, 8.54, 8.03, 7.68, 7.37, 7.1, 6.85, 6.75, 6.59, 6.36, 6.1, 5.8, 5.67, 5.47, 5.39, 5.28, 4.08, 2.71]}],\n",
       "                        {\"plot_bgcolor\": \"white\", \"template\": {\"data\": {\"bar\": [{\"error_x\": {\"color\": \"#2a3f5f\"}, \"error_y\": {\"color\": \"#2a3f5f\"}, \"marker\": {\"line\": {\"color\": \"#E5ECF6\", \"width\": 0.5}}, \"type\": \"bar\"}], \"barpolar\": [{\"marker\": {\"line\": {\"color\": \"#E5ECF6\", \"width\": 0.5}}, \"type\": \"barpolar\"}], \"carpet\": [{\"aaxis\": {\"endlinecolor\": \"#2a3f5f\", \"gridcolor\": \"white\", \"linecolor\": \"white\", \"minorgridcolor\": \"white\", \"startlinecolor\": \"#2a3f5f\"}, \"baxis\": {\"endlinecolor\": \"#2a3f5f\", \"gridcolor\": \"white\", \"linecolor\": \"white\", \"minorgridcolor\": \"white\", \"startlinecolor\": \"#2a3f5f\"}, \"type\": \"carpet\"}], \"choropleth\": [{\"colorbar\": {\"outlinewidth\": 0, \"ticks\": \"\"}, \"type\": \"choropleth\"}], \"contour\": [{\"colorbar\": {\"outlinewidth\": 0, \"ticks\": \"\"}, \"colorscale\": [[0.0, \"#0d0887\"], [0.1111111111111111, \"#46039f\"], [0.2222222222222222, \"#7201a8\"], [0.3333333333333333, \"#9c179e\"], [0.4444444444444444, \"#bd3786\"], [0.5555555555555556, \"#d8576b\"], [0.6666666666666666, \"#ed7953\"], [0.7777777777777778, \"#fb9f3a\"], [0.8888888888888888, \"#fdca26\"], [1.0, \"#f0f921\"]], \"type\": \"contour\"}], \"contourcarpet\": [{\"colorbar\": {\"outlinewidth\": 0, \"ticks\": \"\"}, \"type\": \"contourcarpet\"}], \"heatmap\": [{\"colorbar\": {\"outlinewidth\": 0, \"ticks\": \"\"}, \"colorscale\": [[0.0, \"#0d0887\"], [0.1111111111111111, \"#46039f\"], [0.2222222222222222, \"#7201a8\"], [0.3333333333333333, \"#9c179e\"], [0.4444444444444444, \"#bd3786\"], [0.5555555555555556, \"#d8576b\"], [0.6666666666666666, \"#ed7953\"], [0.7777777777777778, \"#fb9f3a\"], [0.8888888888888888, \"#fdca26\"], [1.0, \"#f0f921\"]], \"type\": \"heatmap\"}], \"heatmapgl\": [{\"colorbar\": {\"outlinewidth\": 0, \"ticks\": \"\"}, \"colorscale\": [[0.0, \"#0d0887\"], [0.1111111111111111, \"#46039f\"], [0.2222222222222222, \"#7201a8\"], [0.3333333333333333, \"#9c179e\"], [0.4444444444444444, \"#bd3786\"], [0.5555555555555556, \"#d8576b\"], [0.6666666666666666, \"#ed7953\"], [0.7777777777777778, \"#fb9f3a\"], [0.8888888888888888, \"#fdca26\"], [1.0, \"#f0f921\"]], \"type\": \"heatmapgl\"}], \"histogram\": [{\"marker\": {\"colorbar\": {\"outlinewidth\": 0, \"ticks\": \"\"}}, \"type\": \"histogram\"}], \"histogram2d\": [{\"colorbar\": {\"outlinewidth\": 0, \"ticks\": \"\"}, \"colorscale\": [[0.0, \"#0d0887\"], [0.1111111111111111, \"#46039f\"], [0.2222222222222222, \"#7201a8\"], [0.3333333333333333, \"#9c179e\"], [0.4444444444444444, \"#bd3786\"], [0.5555555555555556, \"#d8576b\"], [0.6666666666666666, \"#ed7953\"], [0.7777777777777778, \"#fb9f3a\"], [0.8888888888888888, \"#fdca26\"], [1.0, \"#f0f921\"]], \"type\": \"histogram2d\"}], \"histogram2dcontour\": [{\"colorbar\": {\"outlinewidth\": 0, \"ticks\": \"\"}, \"colorscale\": [[0.0, \"#0d0887\"], [0.1111111111111111, \"#46039f\"], [0.2222222222222222, \"#7201a8\"], [0.3333333333333333, \"#9c179e\"], [0.4444444444444444, \"#bd3786\"], [0.5555555555555556, \"#d8576b\"], [0.6666666666666666, \"#ed7953\"], [0.7777777777777778, \"#fb9f3a\"], [0.8888888888888888, \"#fdca26\"], [1.0, \"#f0f921\"]], \"type\": \"histogram2dcontour\"}], \"mesh3d\": [{\"colorbar\": {\"outlinewidth\": 0, \"ticks\": \"\"}, \"type\": \"mesh3d\"}], \"parcoords\": [{\"line\": {\"colorbar\": {\"outlinewidth\": 0, \"ticks\": \"\"}}, \"type\": \"parcoords\"}], \"pie\": [{\"automargin\": true, \"type\": \"pie\"}], \"scatter\": [{\"marker\": {\"colorbar\": {\"outlinewidth\": 0, \"ticks\": \"\"}}, \"type\": \"scatter\"}], \"scatter3d\": [{\"line\": {\"colorbar\": {\"outlinewidth\": 0, \"ticks\": \"\"}}, \"marker\": {\"colorbar\": {\"outlinewidth\": 0, \"ticks\": \"\"}}, \"type\": \"scatter3d\"}], \"scattercarpet\": [{\"marker\": {\"colorbar\": {\"outlinewidth\": 0, \"ticks\": \"\"}}, \"type\": \"scattercarpet\"}], \"scattergeo\": [{\"marker\": {\"colorbar\": {\"outlinewidth\": 0, \"ticks\": \"\"}}, \"type\": \"scattergeo\"}], \"scattergl\": [{\"marker\": {\"colorbar\": {\"outlinewidth\": 0, \"ticks\": \"\"}}, \"type\": \"scattergl\"}], \"scattermapbox\": [{\"marker\": {\"colorbar\": {\"outlinewidth\": 0, \"ticks\": \"\"}}, \"type\": \"scattermapbox\"}], \"scatterpolar\": [{\"marker\": {\"colorbar\": {\"outlinewidth\": 0, \"ticks\": \"\"}}, \"type\": \"scatterpolar\"}], \"scatterpolargl\": [{\"marker\": {\"colorbar\": {\"outlinewidth\": 0, \"ticks\": \"\"}}, \"type\": \"scatterpolargl\"}], \"scatterternary\": [{\"marker\": {\"colorbar\": {\"outlinewidth\": 0, \"ticks\": \"\"}}, \"type\": \"scatterternary\"}], \"surface\": [{\"colorbar\": {\"outlinewidth\": 0, \"ticks\": \"\"}, \"colorscale\": [[0.0, \"#0d0887\"], [0.1111111111111111, \"#46039f\"], [0.2222222222222222, \"#7201a8\"], [0.3333333333333333, \"#9c179e\"], [0.4444444444444444, \"#bd3786\"], [0.5555555555555556, \"#d8576b\"], [0.6666666666666666, \"#ed7953\"], [0.7777777777777778, \"#fb9f3a\"], [0.8888888888888888, \"#fdca26\"], [1.0, \"#f0f921\"]], \"type\": \"surface\"}], \"table\": [{\"cells\": {\"fill\": {\"color\": \"#EBF0F8\"}, \"line\": {\"color\": \"white\"}}, \"header\": {\"fill\": {\"color\": \"#C8D4E3\"}, \"line\": {\"color\": \"white\"}}, \"type\": \"table\"}]}, \"layout\": {\"annotationdefaults\": {\"arrowcolor\": \"#2a3f5f\", \"arrowhead\": 0, \"arrowwidth\": 1}, \"coloraxis\": {\"colorbar\": {\"outlinewidth\": 0, \"ticks\": \"\"}}, \"colorscale\": {\"diverging\": [[0, \"#8e0152\"], [0.1, \"#c51b7d\"], [0.2, \"#de77ae\"], [0.3, \"#f1b6da\"], [0.4, \"#fde0ef\"], [0.5, \"#f7f7f7\"], [0.6, \"#e6f5d0\"], [0.7, \"#b8e186\"], [0.8, \"#7fbc41\"], [0.9, \"#4d9221\"], [1, \"#276419\"]], \"sequential\": [[0.0, \"#0d0887\"], [0.1111111111111111, \"#46039f\"], [0.2222222222222222, \"#7201a8\"], [0.3333333333333333, \"#9c179e\"], [0.4444444444444444, \"#bd3786\"], [0.5555555555555556, \"#d8576b\"], [0.6666666666666666, \"#ed7953\"], [0.7777777777777778, \"#fb9f3a\"], [0.8888888888888888, \"#fdca26\"], [1.0, \"#f0f921\"]], \"sequentialminus\": [[0.0, \"#0d0887\"], [0.1111111111111111, \"#46039f\"], [0.2222222222222222, \"#7201a8\"], [0.3333333333333333, \"#9c179e\"], [0.4444444444444444, \"#bd3786\"], [0.5555555555555556, \"#d8576b\"], [0.6666666666666666, \"#ed7953\"], [0.7777777777777778, \"#fb9f3a\"], [0.8888888888888888, \"#fdca26\"], [1.0, \"#f0f921\"]]}, \"colorway\": [\"#636efa\", \"#EF553B\", \"#00cc96\", \"#ab63fa\", \"#FFA15A\", \"#19d3f3\", \"#FF6692\", \"#B6E880\", \"#FF97FF\", \"#FECB52\"], \"font\": {\"color\": \"#2a3f5f\"}, \"geo\": {\"bgcolor\": \"white\", \"lakecolor\": \"white\", \"landcolor\": \"#E5ECF6\", \"showlakes\": true, \"showland\": true, \"subunitcolor\": \"white\"}, \"hoverlabel\": {\"align\": \"left\"}, \"hovermode\": \"closest\", \"mapbox\": {\"style\": \"light\"}, \"paper_bgcolor\": \"white\", \"plot_bgcolor\": \"#E5ECF6\", \"polar\": {\"angularaxis\": {\"gridcolor\": \"white\", \"linecolor\": \"white\", \"ticks\": \"\"}, \"bgcolor\": \"#E5ECF6\", \"radialaxis\": {\"gridcolor\": \"white\", \"linecolor\": \"white\", \"ticks\": \"\"}}, \"scene\": {\"xaxis\": {\"backgroundcolor\": \"#E5ECF6\", \"gridcolor\": \"white\", \"gridwidth\": 2, \"linecolor\": \"white\", \"showbackground\": true, \"ticks\": \"\", \"zerolinecolor\": \"white\"}, \"yaxis\": {\"backgroundcolor\": \"#E5ECF6\", \"gridcolor\": \"white\", \"gridwidth\": 2, \"linecolor\": \"white\", \"showbackground\": true, \"ticks\": \"\", \"zerolinecolor\": \"white\"}, \"zaxis\": {\"backgroundcolor\": \"#E5ECF6\", \"gridcolor\": \"white\", \"gridwidth\": 2, \"linecolor\": \"white\", \"showbackground\": true, \"ticks\": \"\", \"zerolinecolor\": \"white\"}}, \"shapedefaults\": {\"line\": {\"color\": \"#2a3f5f\"}}, \"ternary\": {\"aaxis\": {\"gridcolor\": \"white\", \"linecolor\": \"white\", \"ticks\": \"\"}, \"baxis\": {\"gridcolor\": \"white\", \"linecolor\": \"white\", \"ticks\": \"\"}, \"bgcolor\": \"#E5ECF6\", \"caxis\": {\"gridcolor\": \"white\", \"linecolor\": \"white\", \"ticks\": \"\"}}, \"title\": {\"x\": 0.05}, \"xaxis\": {\"automargin\": true, \"gridcolor\": \"white\", \"linecolor\": \"white\", \"ticks\": \"\", \"title\": {\"standoff\": 15}, \"zerolinecolor\": \"white\", \"zerolinewidth\": 2}, \"yaxis\": {\"automargin\": true, \"gridcolor\": \"white\", \"linecolor\": \"white\", \"ticks\": \"\", \"title\": {\"standoff\": 15}, \"zerolinecolor\": \"white\", \"zerolinewidth\": 2}}}, \"title\": {\"text\": \"Cohorts: June 2019 Average User Retention\"}, \"xaxis\": {\"linecolor\": \"rgb(204, 204, 204)\", \"linewidth\": 3, \"showgrid\": false, \"showticklabels\": true, \"tickangle\": -45, \"zeroline\": false}, \"yaxis\": {\"gridcolor\": \"rgb(204, 204, 204)\", \"showgrid\": true, \"showline\": false, \"title\": {\"text\": \"Retention, %\"}, \"zeroline\": true}},\n",
       "                        {\"responsive\": true}\n",
       "                    ).then(function(){\n",
       "                            \n",
       "var gd = document.getElementById('61b053f6-5a74-4b5d-8bf7-44d0a64f5a51');\n",
       "var x = new MutationObserver(function (mutations, observer) {{\n",
       "        var display = window.getComputedStyle(gd).display;\n",
       "        if (!display || display === 'none') {{\n",
       "            console.log([gd, 'removed!']);\n",
       "            Plotly.purge(gd);\n",
       "            observer.disconnect();\n",
       "        }}\n",
       "}});\n",
       "\n",
       "// Listen for the removal of the full notebook cells\n",
       "var notebookContainer = gd.closest('#notebook-container');\n",
       "if (notebookContainer) {{\n",
       "    x.observe(notebookContainer, {childList: true});\n",
       "}}\n",
       "\n",
       "// Listen for the clearing of the current output cell\n",
       "var outputEl = gd.closest('.output');\n",
       "if (outputEl) {{\n",
       "    x.observe(outputEl, {childList: true});\n",
       "}}\n",
       "\n",
       "                        })\n",
       "                };\n",
       "                });\n",
       "            </script>\n",
       "        </div>"
      ]
     },
     "metadata": {},
     "output_type": "display_data"
    }
   ],
   "source": [
    "#Построим график изменения среднего Retention Rate в июне 2019 г. в зависимости от времени жизни пользователя \n",
    "data=go.Scatter(x=['Day {}'.format(i) for i in retention_pivot.columns], \n",
    "               y=round(retention_pivot.loc['mean']*100, 2),\n",
    "                hovertemplate=\"%{x}: <br>%{y}%<extra></extra>\",\n",
    "                mode='markers+lines', \n",
    "               marker=dict(color='teal'))\n",
    "layout=go.Layout(title='Cohorts: June 2019 Average User Retention',\n",
    "                yaxis_title='Retention, %',\n",
    "                plot_bgcolor='white',\n",
    "                 xaxis=dict(\n",
    "                tickangle=-45,\n",
    "                zeroline=False,\n",
    "                showgrid=False,\n",
    "                showticklabels=True,\n",
    "                linecolor='rgb(204, 204, 204)',\n",
    "                linewidth=3\n",
    "                ),\n",
    "                 yaxis=dict(\n",
    "                showgrid=True,\n",
    "                showline=False,\n",
    "                zeroline=True,\n",
    "                gridcolor='rgb(204, 204, 204)'))\n",
    "fig=go.Figure(data=data, layout=layout)\n",
    "fig.show()"
   ]
  },
  {
   "cell_type": "markdown",
   "metadata": {},
   "source": [
    "<div class=\"alert alert-block alert-success\">\n",
    "    <b>Вывод:</b> Retention в <b>1-7-30</b> дни соотвественно <b>30,57% - 12,52% - 2,71%</b>, что ниже целевых показателей <b>40-20-10</b>. Необходимо также отметить, что в некоторых источниках данные целевые показатели характерны для 1-7-28 дня, поэтому это скорее ориентир, чем безоговорочное правило. Наилучшим результатом будет итоговое сравнение с показателями предыдущего месяца.\n",
    "</div>"
   ]
  },
  {
   "cell_type": "markdown",
   "metadata": {},
   "source": [
    "**Считаем ARPU**  \n",
    "\n",
    "А теперь перейдем к денежным вопросам, которые будут еще важнее для инвесторов. У нас уже есть датафрейм, в котором хранится информация об активных пользователях — это retention_table.  \n",
    "Для того, чтобы посчитать ARPU, нам не хватает выручки по дням, разбитой на когорты (как мы делали с retention_table).  \n",
    "Напишем SQL-запрос, позволяющий получать выручку по дням в разрезе когорт, для пользователей, зарегистрировавшихся в июне 2019 г. Этот запрос обернем функцию getRevenue(), после чего получим данные по запросу и запишем в датафрейм revenue:"
   ]
  },
  {
   "cell_type": "code",
   "execution_count": 21,
   "metadata": {},
   "outputs": [],
   "source": [
    "# Напишем SQL-запрос, позволяющий получать выручку по дням в разрезе когорт\n",
    "def getRevenue():\n",
    "    query = '''SELECT re.date, \n",
    "    r.registration_date, \n",
    "    count(distinct(re.user_id)) as users_count_with_revenue, \n",
    "    sum(re.revenue) as revenue\n",
    "    FROM case9.user_revenue re\n",
    "    LEFT JOIN case9.registration r ON r.user_id = re.user_id\n",
    "    WHERE r.registration_date >= '2019-06-01' and r.registration_date < '2019-07-01'\n",
    "    GROUP BY 1,2\n",
    "    '''.format()\n",
    "    conn = psycopg2.connect(dbname='skillfactory', \n",
    "                            user='skillfactory', \n",
    "                            host='84.201.134.129',\n",
    "                            password='cCkxxLVrDE8EbvjueeMedPKt',\n",
    "                            port=5432)\n",
    "    dict_cur = conn.cursor(cursor_factory=psycopg2.extras.DictCursor)\n",
    "    dict_cur.execute(query)\n",
    "    rows = dict_cur.fetchall()\n",
    "    data = []\n",
    "    for row in rows:\n",
    "        data.append(dict(row))\n",
    "    dict_cur.close()\n",
    "    conn.close()\n",
    "    return data\n",
    "\n",
    "revenue = pd.DataFrame(getRevenue())"
   ]
  },
  {
   "cell_type": "code",
   "execution_count": 22,
   "metadata": {},
   "outputs": [
    {
     "name": "stdout",
     "output_type": "stream",
     "text": [
      "<class 'pandas.core.frame.DataFrame'>\n",
      "RangeIndex: 833 entries, 0 to 832\n",
      "Data columns (total 4 columns):\n",
      " #   Column                    Non-Null Count  Dtype  \n",
      "---  ------                    --------------  -----  \n",
      " 0   date                      833 non-null    object \n",
      " 1   registration_date         833 non-null    object \n",
      " 2   users_count_with_revenue  833 non-null    int64  \n",
      " 3   revenue                   833 non-null    float64\n",
      "dtypes: float64(1), int64(1), object(2)\n",
      "memory usage: 26.2+ KB\n"
     ]
    }
   ],
   "source": [
    "# Посмотрим основную информацию по колонкам датафрейма revenue:\n",
    "revenue.info()"
   ]
  },
  {
   "cell_type": "code",
   "execution_count": 23,
   "metadata": {},
   "outputs": [
    {
     "data": {
      "text/html": [
       "<div>\n",
       "<style scoped>\n",
       "    .dataframe tbody tr th:only-of-type {\n",
       "        vertical-align: middle;\n",
       "    }\n",
       "\n",
       "    .dataframe tbody tr th {\n",
       "        vertical-align: top;\n",
       "    }\n",
       "\n",
       "    .dataframe thead th {\n",
       "        text-align: right;\n",
       "    }\n",
       "</style>\n",
       "<table border=\"1\" class=\"dataframe\">\n",
       "  <thead>\n",
       "    <tr style=\"text-align: right;\">\n",
       "      <th></th>\n",
       "      <th>date</th>\n",
       "      <th>registration_date</th>\n",
       "      <th>users_count_with_revenue</th>\n",
       "      <th>revenue</th>\n",
       "    </tr>\n",
       "  </thead>\n",
       "  <tbody>\n",
       "    <tr>\n",
       "      <th>0</th>\n",
       "      <td>2019-06-01</td>\n",
       "      <td>2019-06-01</td>\n",
       "      <td>1082</td>\n",
       "      <td>1611.860</td>\n",
       "    </tr>\n",
       "    <tr>\n",
       "      <th>1</th>\n",
       "      <td>2019-06-02</td>\n",
       "      <td>2019-06-01</td>\n",
       "      <td>928</td>\n",
       "      <td>317.738</td>\n",
       "    </tr>\n",
       "    <tr>\n",
       "      <th>2</th>\n",
       "      <td>2019-06-02</td>\n",
       "      <td>2019-06-02</td>\n",
       "      <td>1257</td>\n",
       "      <td>1305.220</td>\n",
       "    </tr>\n",
       "    <tr>\n",
       "      <th>3</th>\n",
       "      <td>2019-06-03</td>\n",
       "      <td>2019-06-01</td>\n",
       "      <td>623</td>\n",
       "      <td>192.273</td>\n",
       "    </tr>\n",
       "    <tr>\n",
       "      <th>4</th>\n",
       "      <td>2019-06-03</td>\n",
       "      <td>2019-06-02</td>\n",
       "      <td>1008</td>\n",
       "      <td>554.859</td>\n",
       "    </tr>\n",
       "  </tbody>\n",
       "</table>\n",
       "</div>"
      ],
      "text/plain": [
       "        date registration_date  users_count_with_revenue   revenue\n",
       "0 2019-06-01        2019-06-01                      1082  1611.860\n",
       "1 2019-06-02        2019-06-01                       928   317.738\n",
       "2 2019-06-02        2019-06-02                      1257  1305.220\n",
       "3 2019-06-03        2019-06-01                       623   192.273\n",
       "4 2019-06-03        2019-06-02                      1008   554.859"
      ]
     },
     "execution_count": 23,
     "metadata": {},
     "output_type": "execute_result"
    }
   ],
   "source": [
    "#Как это было с предыдущими датафреймами, колонки с датами содержат тип object. Произведем преобразование типов к datetime:\n",
    "for col in ['date','registration_date']:\n",
    "    revenue[col] = pd.to_datetime(revenue[col])\n",
    "revenue.head()"
   ]
  },
  {
   "cell_type": "code",
   "execution_count": 24,
   "metadata": {},
   "outputs": [
    {
     "data": {
      "text/plain": [
       "79685.865447"
      ]
     },
     "execution_count": 24,
     "metadata": {},
     "output_type": "execute_result"
    }
   ],
   "source": [
    "#Сумма выручки, которую принесли пользователи, зарегистрировавшиеся в июне:\n",
    "revenue['revenue'].sum()"
   ]
  },
  {
   "cell_type": "markdown",
   "metadata": {},
   "source": [
    "Зная два числа — выручку и количество зарегистрировавшихся пользователей — мы можем рассчитать среднюю выручку за 30 дней с пользователя, зарегистрировавшегося в июне:"
   ]
  },
  {
   "cell_type": "code",
   "execution_count": 25,
   "metadata": {},
   "outputs": [
    {
     "data": {
      "text/plain": [
       "0.7935021404160402"
      ]
     },
     "execution_count": 25,
     "metadata": {},
     "output_type": "execute_result"
    }
   ],
   "source": [
    "revenue['revenue'].sum()/registered_users_count['registered_users_count'].sum()"
   ]
  },
  {
   "cell_type": "markdown",
   "metadata": {},
   "source": [
    "Следующим шагом нужно объединить данные датафрейма revenue с данными датафрейма retention_table. Но до этого следует изменить название колонки date на activity_date в датафрейме revenue. Это нужно для того, чтобы в дальнейшем объединять датафреймы по одинаковому названию колонок."
   ]
  },
  {
   "cell_type": "code",
   "execution_count": 26,
   "metadata": {},
   "outputs": [],
   "source": [
    "revenue = revenue.rename(columns={'date':'activity_date'})"
   ]
  },
  {
   "cell_type": "code",
   "execution_count": 27,
   "metadata": {},
   "outputs": [
    {
     "data": {
      "text/html": [
       "<div>\n",
       "<style scoped>\n",
       "    .dataframe tbody tr th:only-of-type {\n",
       "        vertical-align: middle;\n",
       "    }\n",
       "\n",
       "    .dataframe tbody tr th {\n",
       "        vertical-align: top;\n",
       "    }\n",
       "\n",
       "    .dataframe thead th {\n",
       "        text-align: right;\n",
       "    }\n",
       "</style>\n",
       "<table border=\"1\" class=\"dataframe\">\n",
       "  <thead>\n",
       "    <tr style=\"text-align: right;\">\n",
       "      <th></th>\n",
       "      <th>activity_date</th>\n",
       "      <th>registration_date</th>\n",
       "      <th>active_users_count</th>\n",
       "      <th>registered_users_count</th>\n",
       "      <th>retention_rate</th>\n",
       "      <th>lifetime</th>\n",
       "      <th>users_count_with_revenue</th>\n",
       "      <th>revenue</th>\n",
       "    </tr>\n",
       "  </thead>\n",
       "  <tbody>\n",
       "    <tr>\n",
       "      <th>0</th>\n",
       "      <td>2019-06-01</td>\n",
       "      <td>2019-06-01</td>\n",
       "      <td>1651</td>\n",
       "      <td>4833</td>\n",
       "      <td>0.341610</td>\n",
       "      <td>0</td>\n",
       "      <td>1082.0</td>\n",
       "      <td>1611.860</td>\n",
       "    </tr>\n",
       "    <tr>\n",
       "      <th>1</th>\n",
       "      <td>2019-06-02</td>\n",
       "      <td>2019-06-01</td>\n",
       "      <td>1429</td>\n",
       "      <td>4833</td>\n",
       "      <td>0.295676</td>\n",
       "      <td>1</td>\n",
       "      <td>928.0</td>\n",
       "      <td>317.738</td>\n",
       "    </tr>\n",
       "    <tr>\n",
       "      <th>2</th>\n",
       "      <td>2019-06-02</td>\n",
       "      <td>2019-06-02</td>\n",
       "      <td>1933</td>\n",
       "      <td>5255</td>\n",
       "      <td>0.367840</td>\n",
       "      <td>0</td>\n",
       "      <td>1257.0</td>\n",
       "      <td>1305.220</td>\n",
       "    </tr>\n",
       "    <tr>\n",
       "      <th>3</th>\n",
       "      <td>2019-06-03</td>\n",
       "      <td>2019-06-01</td>\n",
       "      <td>1021</td>\n",
       "      <td>4833</td>\n",
       "      <td>0.211256</td>\n",
       "      <td>2</td>\n",
       "      <td>623.0</td>\n",
       "      <td>192.273</td>\n",
       "    </tr>\n",
       "    <tr>\n",
       "      <th>4</th>\n",
       "      <td>2019-06-03</td>\n",
       "      <td>2019-06-02</td>\n",
       "      <td>1550</td>\n",
       "      <td>5255</td>\n",
       "      <td>0.294957</td>\n",
       "      <td>1</td>\n",
       "      <td>1008.0</td>\n",
       "      <td>554.859</td>\n",
       "    </tr>\n",
       "  </tbody>\n",
       "</table>\n",
       "</div>"
      ],
      "text/plain": [
       "  activity_date registration_date  active_users_count  registered_users_count  \\\n",
       "0    2019-06-01        2019-06-01                1651                    4833   \n",
       "1    2019-06-02        2019-06-01                1429                    4833   \n",
       "2    2019-06-02        2019-06-02                1933                    5255   \n",
       "3    2019-06-03        2019-06-01                1021                    4833   \n",
       "4    2019-06-03        2019-06-02                1550                    5255   \n",
       "\n",
       "   retention_rate  lifetime  users_count_with_revenue   revenue  \n",
       "0        0.341610         0                    1082.0  1611.860  \n",
       "1        0.295676         1                     928.0   317.738  \n",
       "2        0.367840         0                    1257.0  1305.220  \n",
       "3        0.211256         2                     623.0   192.273  \n",
       "4        0.294957         1                    1008.0   554.859  "
      ]
     },
     "execution_count": 27,
     "metadata": {},
     "output_type": "execute_result"
    }
   ],
   "source": [
    "# После переименования можно объединить датафреймы в новый датафрейм retention_table_with_revenue:\n",
    "retention_table_with_revenue = retention_table.merge(revenue,on=['registration_date','activity_date'],how='left')\n",
    "retention_table_with_revenue.head()"
   ]
  },
  {
   "cell_type": "code",
   "execution_count": 28,
   "metadata": {},
   "outputs": [
    {
     "name": "stdout",
     "output_type": "stream",
     "text": [
      "<class 'pandas.core.frame.DataFrame'>\n",
      "Int64Index: 930 entries, 0 to 929\n",
      "Data columns (total 8 columns):\n",
      " #   Column                    Non-Null Count  Dtype         \n",
      "---  ------                    --------------  -----         \n",
      " 0   activity_date             930 non-null    datetime64[ns]\n",
      " 1   registration_date         930 non-null    datetime64[ns]\n",
      " 2   active_users_count        930 non-null    int64         \n",
      " 3   registered_users_count    930 non-null    int64         \n",
      " 4   retention_rate            930 non-null    float64       \n",
      " 5   lifetime                  930 non-null    int32         \n",
      " 6   users_count_with_revenue  833 non-null    float64       \n",
      " 7   revenue                   833 non-null    float64       \n",
      "dtypes: datetime64[ns](2), float64(3), int32(1), int64(2)\n",
      "memory usage: 61.8 KB\n"
     ]
    }
   ],
   "source": [
    "retention_table_with_revenue.info()"
   ]
  },
  {
   "cell_type": "markdown",
   "metadata": {},
   "source": [
    "Видим, что после объединения у нас получились пропущенные значения. Это говорит о том, что не во все дни была выручка с пользователей."
   ]
  },
  {
   "cell_type": "code",
   "execution_count": 29,
   "metadata": {},
   "outputs": [],
   "source": [
    "# Произведем замену пропущенных значений на 0 с помощью функции fillna():\n",
    "for col in ['revenue','users_count_with_revenue']:\n",
    "    retention_table_with_revenue[col] = retention_table_with_revenue[col].fillna(0)"
   ]
  },
  {
   "cell_type": "code",
   "execution_count": 30,
   "metadata": {},
   "outputs": [],
   "source": [
    "# Преобразуем тип в колонке users_count_with_revenue в целочисленный:\n",
    "retention_table_with_revenue['users_count_with_revenue'] = retention_table_with_revenue['users_count_with_revenue'].astype(int)"
   ]
  },
  {
   "cell_type": "code",
   "execution_count": 31,
   "metadata": {},
   "outputs": [
    {
     "data": {
      "text/html": [
       "<div>\n",
       "<style scoped>\n",
       "    .dataframe tbody tr th:only-of-type {\n",
       "        vertical-align: middle;\n",
       "    }\n",
       "\n",
       "    .dataframe tbody tr th {\n",
       "        vertical-align: top;\n",
       "    }\n",
       "\n",
       "    .dataframe thead th {\n",
       "        text-align: right;\n",
       "    }\n",
       "</style>\n",
       "<table border=\"1\" class=\"dataframe\">\n",
       "  <thead>\n",
       "    <tr style=\"text-align: right;\">\n",
       "      <th></th>\n",
       "      <th>activity_date</th>\n",
       "      <th>registration_date</th>\n",
       "      <th>active_users_count</th>\n",
       "      <th>registered_users_count</th>\n",
       "      <th>retention_rate</th>\n",
       "      <th>lifetime</th>\n",
       "      <th>users_count_with_revenue</th>\n",
       "      <th>revenue</th>\n",
       "      <th>arpu</th>\n",
       "    </tr>\n",
       "  </thead>\n",
       "  <tbody>\n",
       "    <tr>\n",
       "      <th>0</th>\n",
       "      <td>2019-06-01</td>\n",
       "      <td>2019-06-01</td>\n",
       "      <td>1651</td>\n",
       "      <td>4833</td>\n",
       "      <td>0.341610</td>\n",
       "      <td>0</td>\n",
       "      <td>1082</td>\n",
       "      <td>1611.860</td>\n",
       "      <td>0.976293</td>\n",
       "    </tr>\n",
       "    <tr>\n",
       "      <th>1</th>\n",
       "      <td>2019-06-02</td>\n",
       "      <td>2019-06-01</td>\n",
       "      <td>1429</td>\n",
       "      <td>4833</td>\n",
       "      <td>0.295676</td>\n",
       "      <td>1</td>\n",
       "      <td>928</td>\n",
       "      <td>317.738</td>\n",
       "      <td>0.222350</td>\n",
       "    </tr>\n",
       "    <tr>\n",
       "      <th>2</th>\n",
       "      <td>2019-06-02</td>\n",
       "      <td>2019-06-02</td>\n",
       "      <td>1933</td>\n",
       "      <td>5255</td>\n",
       "      <td>0.367840</td>\n",
       "      <td>0</td>\n",
       "      <td>1257</td>\n",
       "      <td>1305.220</td>\n",
       "      <td>0.675230</td>\n",
       "    </tr>\n",
       "    <tr>\n",
       "      <th>3</th>\n",
       "      <td>2019-06-03</td>\n",
       "      <td>2019-06-01</td>\n",
       "      <td>1021</td>\n",
       "      <td>4833</td>\n",
       "      <td>0.211256</td>\n",
       "      <td>2</td>\n",
       "      <td>623</td>\n",
       "      <td>192.273</td>\n",
       "      <td>0.188318</td>\n",
       "    </tr>\n",
       "    <tr>\n",
       "      <th>4</th>\n",
       "      <td>2019-06-03</td>\n",
       "      <td>2019-06-02</td>\n",
       "      <td>1550</td>\n",
       "      <td>5255</td>\n",
       "      <td>0.294957</td>\n",
       "      <td>1</td>\n",
       "      <td>1008</td>\n",
       "      <td>554.859</td>\n",
       "      <td>0.357974</td>\n",
       "    </tr>\n",
       "  </tbody>\n",
       "</table>\n",
       "</div>"
      ],
      "text/plain": [
       "  activity_date registration_date  active_users_count  registered_users_count  \\\n",
       "0    2019-06-01        2019-06-01                1651                    4833   \n",
       "1    2019-06-02        2019-06-01                1429                    4833   \n",
       "2    2019-06-02        2019-06-02                1933                    5255   \n",
       "3    2019-06-03        2019-06-01                1021                    4833   \n",
       "4    2019-06-03        2019-06-02                1550                    5255   \n",
       "\n",
       "   retention_rate  lifetime  users_count_with_revenue   revenue      arpu  \n",
       "0        0.341610         0                      1082  1611.860  0.976293  \n",
       "1        0.295676         1                       928   317.738  0.222350  \n",
       "2        0.367840         0                      1257  1305.220  0.675230  \n",
       "3        0.211256         2                       623   192.273  0.188318  \n",
       "4        0.294957         1                      1008   554.859  0.357974  "
      ]
     },
     "execution_count": 31,
     "metadata": {},
     "output_type": "execute_result"
    }
   ],
   "source": [
    "# Рассчитаем ARPU:\n",
    "retention_table_with_revenue['arpu'] = retention_table_with_revenue['revenue'] \\\n",
    "/ retention_table_with_revenue['active_users_count'] \n",
    "retention_table_with_revenue.head()"
   ]
  },
  {
   "cell_type": "code",
   "execution_count": 32,
   "metadata": {},
   "outputs": [
    {
     "data": {
      "text/html": [
       "<div>\n",
       "<style scoped>\n",
       "    .dataframe tbody tr th:only-of-type {\n",
       "        vertical-align: middle;\n",
       "    }\n",
       "\n",
       "    .dataframe tbody tr th {\n",
       "        vertical-align: top;\n",
       "    }\n",
       "\n",
       "    .dataframe thead th {\n",
       "        text-align: right;\n",
       "    }\n",
       "</style>\n",
       "<table border=\"1\" class=\"dataframe\">\n",
       "  <thead>\n",
       "    <tr style=\"text-align: right;\">\n",
       "      <th>lifetime</th>\n",
       "      <th>0</th>\n",
       "      <th>1</th>\n",
       "      <th>2</th>\n",
       "      <th>3</th>\n",
       "      <th>4</th>\n",
       "      <th>5</th>\n",
       "      <th>6</th>\n",
       "      <th>7</th>\n",
       "      <th>8</th>\n",
       "      <th>9</th>\n",
       "      <th>...</th>\n",
       "      <th>21</th>\n",
       "      <th>22</th>\n",
       "      <th>23</th>\n",
       "      <th>24</th>\n",
       "      <th>25</th>\n",
       "      <th>26</th>\n",
       "      <th>27</th>\n",
       "      <th>28</th>\n",
       "      <th>29</th>\n",
       "      <th>30</th>\n",
       "    </tr>\n",
       "    <tr>\n",
       "      <th>registration_date</th>\n",
       "      <th></th>\n",
       "      <th></th>\n",
       "      <th></th>\n",
       "      <th></th>\n",
       "      <th></th>\n",
       "      <th></th>\n",
       "      <th></th>\n",
       "      <th></th>\n",
       "      <th></th>\n",
       "      <th></th>\n",
       "      <th></th>\n",
       "      <th></th>\n",
       "      <th></th>\n",
       "      <th></th>\n",
       "      <th></th>\n",
       "      <th></th>\n",
       "      <th></th>\n",
       "      <th></th>\n",
       "      <th></th>\n",
       "      <th></th>\n",
       "      <th></th>\n",
       "    </tr>\n",
       "  </thead>\n",
       "  <tbody>\n",
       "    <tr>\n",
       "      <th>2019-06-01</th>\n",
       "      <td>0.976293</td>\n",
       "      <td>0.222350</td>\n",
       "      <td>0.188318</td>\n",
       "      <td>0.090474</td>\n",
       "      <td>0.056714</td>\n",
       "      <td>0.215960</td>\n",
       "      <td>0.686825</td>\n",
       "      <td>0.323516</td>\n",
       "      <td>0.000000</td>\n",
       "      <td>0.061368</td>\n",
       "      <td>...</td>\n",
       "      <td>0.058239</td>\n",
       "      <td>0.489990</td>\n",
       "      <td>0.210142</td>\n",
       "      <td>0.021039</td>\n",
       "      <td>0.043126</td>\n",
       "      <td>0.171568</td>\n",
       "      <td>0.769008</td>\n",
       "      <td>0.128948</td>\n",
       "      <td>0.027442</td>\n",
       "      <td>0.403106</td>\n",
       "    </tr>\n",
       "    <tr>\n",
       "      <th>2019-06-02</th>\n",
       "      <td>0.675230</td>\n",
       "      <td>0.357974</td>\n",
       "      <td>0.213420</td>\n",
       "      <td>0.126478</td>\n",
       "      <td>0.052536</td>\n",
       "      <td>0.213401</td>\n",
       "      <td>0.083839</td>\n",
       "      <td>0.283805</td>\n",
       "      <td>0.076447</td>\n",
       "      <td>0.215764</td>\n",
       "      <td>...</td>\n",
       "      <td>0.022516</td>\n",
       "      <td>0.022901</td>\n",
       "      <td>0.098184</td>\n",
       "      <td>0.050143</td>\n",
       "      <td>0.805546</td>\n",
       "      <td>0.065083</td>\n",
       "      <td>0.011850</td>\n",
       "      <td>0.054992</td>\n",
       "      <td>0.029301</td>\n",
       "      <td>0.596368</td>\n",
       "    </tr>\n",
       "    <tr>\n",
       "      <th>2019-06-03</th>\n",
       "      <td>0.717116</td>\n",
       "      <td>0.243213</td>\n",
       "      <td>0.043576</td>\n",
       "      <td>0.126431</td>\n",
       "      <td>0.093071</td>\n",
       "      <td>0.437531</td>\n",
       "      <td>0.074710</td>\n",
       "      <td>0.057345</td>\n",
       "      <td>0.060045</td>\n",
       "      <td>0.070161</td>\n",
       "      <td>...</td>\n",
       "      <td>0.178001</td>\n",
       "      <td>0.048150</td>\n",
       "      <td>0.322848</td>\n",
       "      <td>0.020926</td>\n",
       "      <td>0.044762</td>\n",
       "      <td>0.051013</td>\n",
       "      <td>0.000000</td>\n",
       "      <td>0.000000</td>\n",
       "      <td>0.034498</td>\n",
       "      <td>0.000000</td>\n",
       "    </tr>\n",
       "    <tr>\n",
       "      <th>2019-06-04</th>\n",
       "      <td>0.570125</td>\n",
       "      <td>0.280646</td>\n",
       "      <td>0.156369</td>\n",
       "      <td>0.249738</td>\n",
       "      <td>0.207717</td>\n",
       "      <td>0.313095</td>\n",
       "      <td>0.196367</td>\n",
       "      <td>0.107556</td>\n",
       "      <td>0.201097</td>\n",
       "      <td>0.535641</td>\n",
       "      <td>...</td>\n",
       "      <td>0.036031</td>\n",
       "      <td>0.218364</td>\n",
       "      <td>0.000000</td>\n",
       "      <td>0.035660</td>\n",
       "      <td>0.015292</td>\n",
       "      <td>0.050697</td>\n",
       "      <td>0.000000</td>\n",
       "      <td>0.360193</td>\n",
       "      <td>0.000000</td>\n",
       "      <td>0.050684</td>\n",
       "    </tr>\n",
       "    <tr>\n",
       "      <th>2019-06-05</th>\n",
       "      <td>0.678426</td>\n",
       "      <td>0.053987</td>\n",
       "      <td>0.524198</td>\n",
       "      <td>0.164261</td>\n",
       "      <td>0.200625</td>\n",
       "      <td>0.003562</td>\n",
       "      <td>0.066171</td>\n",
       "      <td>0.133804</td>\n",
       "      <td>0.119720</td>\n",
       "      <td>0.465517</td>\n",
       "      <td>...</td>\n",
       "      <td>0.077189</td>\n",
       "      <td>0.039368</td>\n",
       "      <td>0.065654</td>\n",
       "      <td>0.278710</td>\n",
       "      <td>0.040788</td>\n",
       "      <td>0.313618</td>\n",
       "      <td>0.131072</td>\n",
       "      <td>0.363810</td>\n",
       "      <td>0.193209</td>\n",
       "      <td>0.246925</td>\n",
       "    </tr>\n",
       "    <tr>\n",
       "      <th>2019-06-06</th>\n",
       "      <td>0.864330</td>\n",
       "      <td>0.156215</td>\n",
       "      <td>0.295781</td>\n",
       "      <td>0.367368</td>\n",
       "      <td>0.192799</td>\n",
       "      <td>0.059184</td>\n",
       "      <td>0.268414</td>\n",
       "      <td>0.059151</td>\n",
       "      <td>0.038135</td>\n",
       "      <td>0.145965</td>\n",
       "      <td>...</td>\n",
       "      <td>0.215097</td>\n",
       "      <td>0.031984</td>\n",
       "      <td>0.108535</td>\n",
       "      <td>0.018374</td>\n",
       "      <td>0.153387</td>\n",
       "      <td>0.303742</td>\n",
       "      <td>0.598917</td>\n",
       "      <td>0.103838</td>\n",
       "      <td>0.101861</td>\n",
       "      <td>0.000000</td>\n",
       "    </tr>\n",
       "    <tr>\n",
       "      <th>2019-06-07</th>\n",
       "      <td>0.488339</td>\n",
       "      <td>0.439912</td>\n",
       "      <td>0.276970</td>\n",
       "      <td>0.192135</td>\n",
       "      <td>0.182919</td>\n",
       "      <td>0.572635</td>\n",
       "      <td>0.119355</td>\n",
       "      <td>0.149861</td>\n",
       "      <td>0.071297</td>\n",
       "      <td>0.174512</td>\n",
       "      <td>...</td>\n",
       "      <td>0.131543</td>\n",
       "      <td>0.045359</td>\n",
       "      <td>0.000000</td>\n",
       "      <td>0.114296</td>\n",
       "      <td>0.283932</td>\n",
       "      <td>0.036038</td>\n",
       "      <td>0.125212</td>\n",
       "      <td>1.156721</td>\n",
       "      <td>0.075919</td>\n",
       "      <td>0.067893</td>\n",
       "    </tr>\n",
       "    <tr>\n",
       "      <th>2019-06-08</th>\n",
       "      <td>0.653629</td>\n",
       "      <td>0.415474</td>\n",
       "      <td>0.192290</td>\n",
       "      <td>0.268525</td>\n",
       "      <td>0.276235</td>\n",
       "      <td>0.334379</td>\n",
       "      <td>0.235961</td>\n",
       "      <td>0.051926</td>\n",
       "      <td>0.131110</td>\n",
       "      <td>0.264527</td>\n",
       "      <td>...</td>\n",
       "      <td>0.093310</td>\n",
       "      <td>0.000000</td>\n",
       "      <td>0.213927</td>\n",
       "      <td>0.000000</td>\n",
       "      <td>0.084135</td>\n",
       "      <td>0.142929</td>\n",
       "      <td>0.146605</td>\n",
       "      <td>0.000000</td>\n",
       "      <td>0.788146</td>\n",
       "      <td>0.078673</td>\n",
       "    </tr>\n",
       "    <tr>\n",
       "      <th>2019-06-09</th>\n",
       "      <td>0.910159</td>\n",
       "      <td>0.186660</td>\n",
       "      <td>0.207617</td>\n",
       "      <td>0.137292</td>\n",
       "      <td>0.441263</td>\n",
       "      <td>0.104410</td>\n",
       "      <td>0.246871</td>\n",
       "      <td>0.360654</td>\n",
       "      <td>0.083993</td>\n",
       "      <td>0.102356</td>\n",
       "      <td>...</td>\n",
       "      <td>0.062687</td>\n",
       "      <td>0.000000</td>\n",
       "      <td>0.028893</td>\n",
       "      <td>0.067952</td>\n",
       "      <td>0.018327</td>\n",
       "      <td>0.041019</td>\n",
       "      <td>0.183464</td>\n",
       "      <td>0.000000</td>\n",
       "      <td>0.016263</td>\n",
       "      <td>0.000000</td>\n",
       "    </tr>\n",
       "    <tr>\n",
       "      <th>2019-06-10</th>\n",
       "      <td>0.862795</td>\n",
       "      <td>0.345660</td>\n",
       "      <td>0.164179</td>\n",
       "      <td>0.103478</td>\n",
       "      <td>0.079035</td>\n",
       "      <td>0.246970</td>\n",
       "      <td>0.144527</td>\n",
       "      <td>0.150660</td>\n",
       "      <td>0.057718</td>\n",
       "      <td>0.107966</td>\n",
       "      <td>...</td>\n",
       "      <td>0.044461</td>\n",
       "      <td>0.015432</td>\n",
       "      <td>0.078469</td>\n",
       "      <td>0.000000</td>\n",
       "      <td>0.121939</td>\n",
       "      <td>0.059001</td>\n",
       "      <td>0.043970</td>\n",
       "      <td>0.000000</td>\n",
       "      <td>0.032169</td>\n",
       "      <td>0.205486</td>\n",
       "    </tr>\n",
       "    <tr>\n",
       "      <th>2019-06-11</th>\n",
       "      <td>0.405877</td>\n",
       "      <td>0.433324</td>\n",
       "      <td>0.693350</td>\n",
       "      <td>0.431529</td>\n",
       "      <td>0.081215</td>\n",
       "      <td>0.110137</td>\n",
       "      <td>0.323672</td>\n",
       "      <td>0.051233</td>\n",
       "      <td>0.343204</td>\n",
       "      <td>0.179976</td>\n",
       "      <td>...</td>\n",
       "      <td>0.118961</td>\n",
       "      <td>0.088469</td>\n",
       "      <td>0.074633</td>\n",
       "      <td>0.094886</td>\n",
       "      <td>0.081906</td>\n",
       "      <td>0.057342</td>\n",
       "      <td>0.051541</td>\n",
       "      <td>0.037052</td>\n",
       "      <td>0.021359</td>\n",
       "      <td>0.042239</td>\n",
       "    </tr>\n",
       "    <tr>\n",
       "      <th>2019-06-12</th>\n",
       "      <td>0.730285</td>\n",
       "      <td>0.095884</td>\n",
       "      <td>0.448971</td>\n",
       "      <td>0.217518</td>\n",
       "      <td>0.051471</td>\n",
       "      <td>0.531861</td>\n",
       "      <td>0.337509</td>\n",
       "      <td>0.100147</td>\n",
       "      <td>0.067932</td>\n",
       "      <td>0.113282</td>\n",
       "      <td>...</td>\n",
       "      <td>0.266212</td>\n",
       "      <td>0.028004</td>\n",
       "      <td>0.147111</td>\n",
       "      <td>0.277195</td>\n",
       "      <td>0.048081</td>\n",
       "      <td>0.042189</td>\n",
       "      <td>0.022723</td>\n",
       "      <td>0.000000</td>\n",
       "      <td>0.376689</td>\n",
       "      <td>0.423994</td>\n",
       "    </tr>\n",
       "    <tr>\n",
       "      <th>2019-06-13</th>\n",
       "      <td>0.637195</td>\n",
       "      <td>0.124049</td>\n",
       "      <td>0.111547</td>\n",
       "      <td>0.494938</td>\n",
       "      <td>0.008616</td>\n",
       "      <td>0.044684</td>\n",
       "      <td>0.176048</td>\n",
       "      <td>0.279521</td>\n",
       "      <td>0.105257</td>\n",
       "      <td>0.277984</td>\n",
       "      <td>...</td>\n",
       "      <td>0.000000</td>\n",
       "      <td>0.008211</td>\n",
       "      <td>0.000000</td>\n",
       "      <td>0.052794</td>\n",
       "      <td>0.037804</td>\n",
       "      <td>0.055894</td>\n",
       "      <td>0.030578</td>\n",
       "      <td>0.203461</td>\n",
       "      <td>0.247695</td>\n",
       "      <td>0.146574</td>\n",
       "    </tr>\n",
       "    <tr>\n",
       "      <th>2019-06-14</th>\n",
       "      <td>0.719215</td>\n",
       "      <td>0.237790</td>\n",
       "      <td>0.304270</td>\n",
       "      <td>0.107840</td>\n",
       "      <td>0.492801</td>\n",
       "      <td>0.568517</td>\n",
       "      <td>0.022794</td>\n",
       "      <td>0.120316</td>\n",
       "      <td>0.177429</td>\n",
       "      <td>0.004027</td>\n",
       "      <td>...</td>\n",
       "      <td>0.135530</td>\n",
       "      <td>0.000000</td>\n",
       "      <td>0.334922</td>\n",
       "      <td>0.071831</td>\n",
       "      <td>0.496750</td>\n",
       "      <td>0.000000</td>\n",
       "      <td>0.083962</td>\n",
       "      <td>0.012164</td>\n",
       "      <td>0.079956</td>\n",
       "      <td>0.333623</td>\n",
       "    </tr>\n",
       "    <tr>\n",
       "      <th>2019-06-15</th>\n",
       "      <td>0.966206</td>\n",
       "      <td>0.212543</td>\n",
       "      <td>0.209642</td>\n",
       "      <td>0.357152</td>\n",
       "      <td>0.038394</td>\n",
       "      <td>0.735321</td>\n",
       "      <td>0.063936</td>\n",
       "      <td>0.172381</td>\n",
       "      <td>0.020731</td>\n",
       "      <td>0.061761</td>\n",
       "      <td>...</td>\n",
       "      <td>0.247426</td>\n",
       "      <td>0.000000</td>\n",
       "      <td>0.051051</td>\n",
       "      <td>0.147153</td>\n",
       "      <td>0.078054</td>\n",
       "      <td>0.121570</td>\n",
       "      <td>0.024907</td>\n",
       "      <td>0.000000</td>\n",
       "      <td>0.144795</td>\n",
       "      <td>0.094020</td>\n",
       "    </tr>\n",
       "    <tr>\n",
       "      <th>2019-06-16</th>\n",
       "      <td>0.914965</td>\n",
       "      <td>0.322213</td>\n",
       "      <td>0.123960</td>\n",
       "      <td>0.125081</td>\n",
       "      <td>0.069169</td>\n",
       "      <td>0.044450</td>\n",
       "      <td>0.214480</td>\n",
       "      <td>0.054481</td>\n",
       "      <td>0.047370</td>\n",
       "      <td>0.033380</td>\n",
       "      <td>...</td>\n",
       "      <td>0.051427</td>\n",
       "      <td>0.012931</td>\n",
       "      <td>0.017809</td>\n",
       "      <td>0.065185</td>\n",
       "      <td>0.230027</td>\n",
       "      <td>0.102704</td>\n",
       "      <td>0.071641</td>\n",
       "      <td>0.054327</td>\n",
       "      <td>0.000000</td>\n",
       "      <td>0.000000</td>\n",
       "    </tr>\n",
       "    <tr>\n",
       "      <th>2019-06-17</th>\n",
       "      <td>0.864907</td>\n",
       "      <td>0.551083</td>\n",
       "      <td>0.129767</td>\n",
       "      <td>0.725106</td>\n",
       "      <td>0.421425</td>\n",
       "      <td>0.495485</td>\n",
       "      <td>0.010200</td>\n",
       "      <td>0.859160</td>\n",
       "      <td>0.064362</td>\n",
       "      <td>0.005570</td>\n",
       "      <td>...</td>\n",
       "      <td>0.062830</td>\n",
       "      <td>0.070387</td>\n",
       "      <td>0.441389</td>\n",
       "      <td>0.131244</td>\n",
       "      <td>0.000000</td>\n",
       "      <td>0.000000</td>\n",
       "      <td>0.160783</td>\n",
       "      <td>0.163087</td>\n",
       "      <td>0.082124</td>\n",
       "      <td>0.070486</td>\n",
       "    </tr>\n",
       "    <tr>\n",
       "      <th>2019-06-18</th>\n",
       "      <td>0.835204</td>\n",
       "      <td>0.276417</td>\n",
       "      <td>0.244063</td>\n",
       "      <td>0.335820</td>\n",
       "      <td>0.123100</td>\n",
       "      <td>0.924257</td>\n",
       "      <td>0.103510</td>\n",
       "      <td>0.236632</td>\n",
       "      <td>0.118230</td>\n",
       "      <td>0.491437</td>\n",
       "      <td>...</td>\n",
       "      <td>0.079343</td>\n",
       "      <td>0.142793</td>\n",
       "      <td>0.040632</td>\n",
       "      <td>0.143729</td>\n",
       "      <td>0.035187</td>\n",
       "      <td>0.191686</td>\n",
       "      <td>0.000000</td>\n",
       "      <td>0.013695</td>\n",
       "      <td>0.000000</td>\n",
       "      <td>0.000000</td>\n",
       "    </tr>\n",
       "    <tr>\n",
       "      <th>2019-06-19</th>\n",
       "      <td>0.642018</td>\n",
       "      <td>0.356422</td>\n",
       "      <td>0.138919</td>\n",
       "      <td>0.535271</td>\n",
       "      <td>0.178593</td>\n",
       "      <td>0.044044</td>\n",
       "      <td>0.263548</td>\n",
       "      <td>0.096736</td>\n",
       "      <td>0.056594</td>\n",
       "      <td>1.211625</td>\n",
       "      <td>...</td>\n",
       "      <td>0.000000</td>\n",
       "      <td>0.011070</td>\n",
       "      <td>0.217097</td>\n",
       "      <td>0.000000</td>\n",
       "      <td>0.069924</td>\n",
       "      <td>0.085399</td>\n",
       "      <td>0.127545</td>\n",
       "      <td>0.229498</td>\n",
       "      <td>0.000000</td>\n",
       "      <td>0.052900</td>\n",
       "    </tr>\n",
       "    <tr>\n",
       "      <th>2019-06-20</th>\n",
       "      <td>0.742110</td>\n",
       "      <td>0.196911</td>\n",
       "      <td>0.089493</td>\n",
       "      <td>0.267399</td>\n",
       "      <td>0.095870</td>\n",
       "      <td>0.600523</td>\n",
       "      <td>0.755802</td>\n",
       "      <td>0.086896</td>\n",
       "      <td>0.337171</td>\n",
       "      <td>0.012322</td>\n",
       "      <td>...</td>\n",
       "      <td>0.000000</td>\n",
       "      <td>0.119467</td>\n",
       "      <td>0.000000</td>\n",
       "      <td>0.202915</td>\n",
       "      <td>0.000000</td>\n",
       "      <td>0.000000</td>\n",
       "      <td>0.035546</td>\n",
       "      <td>0.070850</td>\n",
       "      <td>0.223828</td>\n",
       "      <td>0.212022</td>\n",
       "    </tr>\n",
       "    <tr>\n",
       "      <th>2019-06-21</th>\n",
       "      <td>0.687648</td>\n",
       "      <td>0.211490</td>\n",
       "      <td>0.257460</td>\n",
       "      <td>0.236246</td>\n",
       "      <td>0.019188</td>\n",
       "      <td>0.479174</td>\n",
       "      <td>0.046840</td>\n",
       "      <td>0.087408</td>\n",
       "      <td>0.127436</td>\n",
       "      <td>1.065457</td>\n",
       "      <td>...</td>\n",
       "      <td>0.064890</td>\n",
       "      <td>0.800155</td>\n",
       "      <td>0.190510</td>\n",
       "      <td>0.067936</td>\n",
       "      <td>0.142823</td>\n",
       "      <td>0.000000</td>\n",
       "      <td>0.251752</td>\n",
       "      <td>0.134542</td>\n",
       "      <td>0.085848</td>\n",
       "      <td>0.139696</td>\n",
       "    </tr>\n",
       "    <tr>\n",
       "      <th>2019-06-22</th>\n",
       "      <td>0.513207</td>\n",
       "      <td>0.205050</td>\n",
       "      <td>0.207377</td>\n",
       "      <td>0.114110</td>\n",
       "      <td>0.220890</td>\n",
       "      <td>0.265792</td>\n",
       "      <td>0.043026</td>\n",
       "      <td>0.383006</td>\n",
       "      <td>0.148066</td>\n",
       "      <td>0.314047</td>\n",
       "      <td>...</td>\n",
       "      <td>0.026969</td>\n",
       "      <td>0.188700</td>\n",
       "      <td>0.138482</td>\n",
       "      <td>0.138579</td>\n",
       "      <td>0.000000</td>\n",
       "      <td>0.199730</td>\n",
       "      <td>0.000000</td>\n",
       "      <td>0.247902</td>\n",
       "      <td>0.195519</td>\n",
       "      <td>0.000000</td>\n",
       "    </tr>\n",
       "    <tr>\n",
       "      <th>2019-06-23</th>\n",
       "      <td>0.579512</td>\n",
       "      <td>0.116464</td>\n",
       "      <td>0.070479</td>\n",
       "      <td>0.219000</td>\n",
       "      <td>0.233558</td>\n",
       "      <td>0.254302</td>\n",
       "      <td>0.014360</td>\n",
       "      <td>0.008326</td>\n",
       "      <td>0.484492</td>\n",
       "      <td>0.237426</td>\n",
       "      <td>...</td>\n",
       "      <td>0.090053</td>\n",
       "      <td>0.027547</td>\n",
       "      <td>0.000000</td>\n",
       "      <td>0.126228</td>\n",
       "      <td>0.263774</td>\n",
       "      <td>0.500953</td>\n",
       "      <td>0.030781</td>\n",
       "      <td>0.196793</td>\n",
       "      <td>0.513793</td>\n",
       "      <td>0.916547</td>\n",
       "    </tr>\n",
       "    <tr>\n",
       "      <th>2019-06-24</th>\n",
       "      <td>0.576798</td>\n",
       "      <td>0.127680</td>\n",
       "      <td>0.155316</td>\n",
       "      <td>0.010726</td>\n",
       "      <td>0.000000</td>\n",
       "      <td>0.230828</td>\n",
       "      <td>0.544276</td>\n",
       "      <td>0.035211</td>\n",
       "      <td>0.708093</td>\n",
       "      <td>0.463568</td>\n",
       "      <td>...</td>\n",
       "      <td>0.073690</td>\n",
       "      <td>0.069227</td>\n",
       "      <td>0.000000</td>\n",
       "      <td>0.000000</td>\n",
       "      <td>0.041414</td>\n",
       "      <td>0.090001</td>\n",
       "      <td>0.032084</td>\n",
       "      <td>0.122563</td>\n",
       "      <td>0.198794</td>\n",
       "      <td>0.337772</td>\n",
       "    </tr>\n",
       "    <tr>\n",
       "      <th>2019-06-25</th>\n",
       "      <td>0.947889</td>\n",
       "      <td>0.307428</td>\n",
       "      <td>0.504562</td>\n",
       "      <td>0.122025</td>\n",
       "      <td>0.009100</td>\n",
       "      <td>0.282078</td>\n",
       "      <td>0.000000</td>\n",
       "      <td>0.025769</td>\n",
       "      <td>0.034986</td>\n",
       "      <td>0.173518</td>\n",
       "      <td>...</td>\n",
       "      <td>0.293055</td>\n",
       "      <td>0.027478</td>\n",
       "      <td>0.055144</td>\n",
       "      <td>0.000000</td>\n",
       "      <td>0.063490</td>\n",
       "      <td>0.054183</td>\n",
       "      <td>0.000000</td>\n",
       "      <td>0.030257</td>\n",
       "      <td>0.070174</td>\n",
       "      <td>0.000000</td>\n",
       "    </tr>\n",
       "    <tr>\n",
       "      <th>2019-06-26</th>\n",
       "      <td>1.516440</td>\n",
       "      <td>0.517360</td>\n",
       "      <td>0.255951</td>\n",
       "      <td>0.395383</td>\n",
       "      <td>0.079640</td>\n",
       "      <td>0.566960</td>\n",
       "      <td>0.038580</td>\n",
       "      <td>0.052696</td>\n",
       "      <td>0.227733</td>\n",
       "      <td>0.143374</td>\n",
       "      <td>...</td>\n",
       "      <td>0.050106</td>\n",
       "      <td>0.254303</td>\n",
       "      <td>0.197554</td>\n",
       "      <td>0.583751</td>\n",
       "      <td>0.479876</td>\n",
       "      <td>0.057374</td>\n",
       "      <td>1.185854</td>\n",
       "      <td>0.000000</td>\n",
       "      <td>0.325315</td>\n",
       "      <td>0.116195</td>\n",
       "    </tr>\n",
       "    <tr>\n",
       "      <th>2019-06-27</th>\n",
       "      <td>0.352711</td>\n",
       "      <td>0.102210</td>\n",
       "      <td>0.148729</td>\n",
       "      <td>0.055626</td>\n",
       "      <td>0.392603</td>\n",
       "      <td>0.297842</td>\n",
       "      <td>0.019766</td>\n",
       "      <td>0.056152</td>\n",
       "      <td>0.068749</td>\n",
       "      <td>0.014727</td>\n",
       "      <td>...</td>\n",
       "      <td>0.000000</td>\n",
       "      <td>0.000000</td>\n",
       "      <td>0.034666</td>\n",
       "      <td>0.000000</td>\n",
       "      <td>0.288859</td>\n",
       "      <td>0.051190</td>\n",
       "      <td>0.000000</td>\n",
       "      <td>0.000000</td>\n",
       "      <td>0.049041</td>\n",
       "      <td>0.000000</td>\n",
       "    </tr>\n",
       "    <tr>\n",
       "      <th>2019-06-28</th>\n",
       "      <td>0.752439</td>\n",
       "      <td>0.094831</td>\n",
       "      <td>0.326073</td>\n",
       "      <td>0.136932</td>\n",
       "      <td>0.231409</td>\n",
       "      <td>0.088971</td>\n",
       "      <td>0.060995</td>\n",
       "      <td>0.059389</td>\n",
       "      <td>0.220655</td>\n",
       "      <td>0.075924</td>\n",
       "      <td>...</td>\n",
       "      <td>0.037730</td>\n",
       "      <td>0.204402</td>\n",
       "      <td>0.750948</td>\n",
       "      <td>0.000000</td>\n",
       "      <td>0.506194</td>\n",
       "      <td>0.365931</td>\n",
       "      <td>0.000000</td>\n",
       "      <td>0.046519</td>\n",
       "      <td>0.316472</td>\n",
       "      <td>0.158306</td>\n",
       "    </tr>\n",
       "    <tr>\n",
       "      <th>2019-06-29</th>\n",
       "      <td>0.821921</td>\n",
       "      <td>0.084576</td>\n",
       "      <td>0.076316</td>\n",
       "      <td>0.069038</td>\n",
       "      <td>0.153239</td>\n",
       "      <td>0.125157</td>\n",
       "      <td>0.084352</td>\n",
       "      <td>0.075593</td>\n",
       "      <td>0.018080</td>\n",
       "      <td>0.000000</td>\n",
       "      <td>...</td>\n",
       "      <td>0.000000</td>\n",
       "      <td>0.000000</td>\n",
       "      <td>0.516133</td>\n",
       "      <td>0.000000</td>\n",
       "      <td>0.120737</td>\n",
       "      <td>0.016322</td>\n",
       "      <td>0.735790</td>\n",
       "      <td>0.000000</td>\n",
       "      <td>0.225250</td>\n",
       "      <td>0.061347</td>\n",
       "    </tr>\n",
       "    <tr>\n",
       "      <th>2019-06-30</th>\n",
       "      <td>0.866922</td>\n",
       "      <td>0.152547</td>\n",
       "      <td>0.177617</td>\n",
       "      <td>0.008242</td>\n",
       "      <td>0.160418</td>\n",
       "      <td>0.067732</td>\n",
       "      <td>0.009995</td>\n",
       "      <td>0.075083</td>\n",
       "      <td>0.012164</td>\n",
       "      <td>0.026631</td>\n",
       "      <td>...</td>\n",
       "      <td>0.320120</td>\n",
       "      <td>0.025864</td>\n",
       "      <td>0.000000</td>\n",
       "      <td>0.026199</td>\n",
       "      <td>0.014228</td>\n",
       "      <td>0.028145</td>\n",
       "      <td>0.000000</td>\n",
       "      <td>0.000000</td>\n",
       "      <td>0.069819</td>\n",
       "      <td>0.126429</td>\n",
       "    </tr>\n",
       "  </tbody>\n",
       "</table>\n",
       "<p>30 rows × 31 columns</p>\n",
       "</div>"
      ],
      "text/plain": [
       "lifetime                 0         1         2         3         4         5   \\\n",
       "registration_date                                                               \n",
       "2019-06-01         0.976293  0.222350  0.188318  0.090474  0.056714  0.215960   \n",
       "2019-06-02         0.675230  0.357974  0.213420  0.126478  0.052536  0.213401   \n",
       "2019-06-03         0.717116  0.243213  0.043576  0.126431  0.093071  0.437531   \n",
       "2019-06-04         0.570125  0.280646  0.156369  0.249738  0.207717  0.313095   \n",
       "2019-06-05         0.678426  0.053987  0.524198  0.164261  0.200625  0.003562   \n",
       "2019-06-06         0.864330  0.156215  0.295781  0.367368  0.192799  0.059184   \n",
       "2019-06-07         0.488339  0.439912  0.276970  0.192135  0.182919  0.572635   \n",
       "2019-06-08         0.653629  0.415474  0.192290  0.268525  0.276235  0.334379   \n",
       "2019-06-09         0.910159  0.186660  0.207617  0.137292  0.441263  0.104410   \n",
       "2019-06-10         0.862795  0.345660  0.164179  0.103478  0.079035  0.246970   \n",
       "2019-06-11         0.405877  0.433324  0.693350  0.431529  0.081215  0.110137   \n",
       "2019-06-12         0.730285  0.095884  0.448971  0.217518  0.051471  0.531861   \n",
       "2019-06-13         0.637195  0.124049  0.111547  0.494938  0.008616  0.044684   \n",
       "2019-06-14         0.719215  0.237790  0.304270  0.107840  0.492801  0.568517   \n",
       "2019-06-15         0.966206  0.212543  0.209642  0.357152  0.038394  0.735321   \n",
       "2019-06-16         0.914965  0.322213  0.123960  0.125081  0.069169  0.044450   \n",
       "2019-06-17         0.864907  0.551083  0.129767  0.725106  0.421425  0.495485   \n",
       "2019-06-18         0.835204  0.276417  0.244063  0.335820  0.123100  0.924257   \n",
       "2019-06-19         0.642018  0.356422  0.138919  0.535271  0.178593  0.044044   \n",
       "2019-06-20         0.742110  0.196911  0.089493  0.267399  0.095870  0.600523   \n",
       "2019-06-21         0.687648  0.211490  0.257460  0.236246  0.019188  0.479174   \n",
       "2019-06-22         0.513207  0.205050  0.207377  0.114110  0.220890  0.265792   \n",
       "2019-06-23         0.579512  0.116464  0.070479  0.219000  0.233558  0.254302   \n",
       "2019-06-24         0.576798  0.127680  0.155316  0.010726  0.000000  0.230828   \n",
       "2019-06-25         0.947889  0.307428  0.504562  0.122025  0.009100  0.282078   \n",
       "2019-06-26         1.516440  0.517360  0.255951  0.395383  0.079640  0.566960   \n",
       "2019-06-27         0.352711  0.102210  0.148729  0.055626  0.392603  0.297842   \n",
       "2019-06-28         0.752439  0.094831  0.326073  0.136932  0.231409  0.088971   \n",
       "2019-06-29         0.821921  0.084576  0.076316  0.069038  0.153239  0.125157   \n",
       "2019-06-30         0.866922  0.152547  0.177617  0.008242  0.160418  0.067732   \n",
       "\n",
       "lifetime                 6         7         8         9   ...        21  \\\n",
       "registration_date                                          ...             \n",
       "2019-06-01         0.686825  0.323516  0.000000  0.061368  ...  0.058239   \n",
       "2019-06-02         0.083839  0.283805  0.076447  0.215764  ...  0.022516   \n",
       "2019-06-03         0.074710  0.057345  0.060045  0.070161  ...  0.178001   \n",
       "2019-06-04         0.196367  0.107556  0.201097  0.535641  ...  0.036031   \n",
       "2019-06-05         0.066171  0.133804  0.119720  0.465517  ...  0.077189   \n",
       "2019-06-06         0.268414  0.059151  0.038135  0.145965  ...  0.215097   \n",
       "2019-06-07         0.119355  0.149861  0.071297  0.174512  ...  0.131543   \n",
       "2019-06-08         0.235961  0.051926  0.131110  0.264527  ...  0.093310   \n",
       "2019-06-09         0.246871  0.360654  0.083993  0.102356  ...  0.062687   \n",
       "2019-06-10         0.144527  0.150660  0.057718  0.107966  ...  0.044461   \n",
       "2019-06-11         0.323672  0.051233  0.343204  0.179976  ...  0.118961   \n",
       "2019-06-12         0.337509  0.100147  0.067932  0.113282  ...  0.266212   \n",
       "2019-06-13         0.176048  0.279521  0.105257  0.277984  ...  0.000000   \n",
       "2019-06-14         0.022794  0.120316  0.177429  0.004027  ...  0.135530   \n",
       "2019-06-15         0.063936  0.172381  0.020731  0.061761  ...  0.247426   \n",
       "2019-06-16         0.214480  0.054481  0.047370  0.033380  ...  0.051427   \n",
       "2019-06-17         0.010200  0.859160  0.064362  0.005570  ...  0.062830   \n",
       "2019-06-18         0.103510  0.236632  0.118230  0.491437  ...  0.079343   \n",
       "2019-06-19         0.263548  0.096736  0.056594  1.211625  ...  0.000000   \n",
       "2019-06-20         0.755802  0.086896  0.337171  0.012322  ...  0.000000   \n",
       "2019-06-21         0.046840  0.087408  0.127436  1.065457  ...  0.064890   \n",
       "2019-06-22         0.043026  0.383006  0.148066  0.314047  ...  0.026969   \n",
       "2019-06-23         0.014360  0.008326  0.484492  0.237426  ...  0.090053   \n",
       "2019-06-24         0.544276  0.035211  0.708093  0.463568  ...  0.073690   \n",
       "2019-06-25         0.000000  0.025769  0.034986  0.173518  ...  0.293055   \n",
       "2019-06-26         0.038580  0.052696  0.227733  0.143374  ...  0.050106   \n",
       "2019-06-27         0.019766  0.056152  0.068749  0.014727  ...  0.000000   \n",
       "2019-06-28         0.060995  0.059389  0.220655  0.075924  ...  0.037730   \n",
       "2019-06-29         0.084352  0.075593  0.018080  0.000000  ...  0.000000   \n",
       "2019-06-30         0.009995  0.075083  0.012164  0.026631  ...  0.320120   \n",
       "\n",
       "lifetime                 22        23        24        25        26        27  \\\n",
       "registration_date                                                               \n",
       "2019-06-01         0.489990  0.210142  0.021039  0.043126  0.171568  0.769008   \n",
       "2019-06-02         0.022901  0.098184  0.050143  0.805546  0.065083  0.011850   \n",
       "2019-06-03         0.048150  0.322848  0.020926  0.044762  0.051013  0.000000   \n",
       "2019-06-04         0.218364  0.000000  0.035660  0.015292  0.050697  0.000000   \n",
       "2019-06-05         0.039368  0.065654  0.278710  0.040788  0.313618  0.131072   \n",
       "2019-06-06         0.031984  0.108535  0.018374  0.153387  0.303742  0.598917   \n",
       "2019-06-07         0.045359  0.000000  0.114296  0.283932  0.036038  0.125212   \n",
       "2019-06-08         0.000000  0.213927  0.000000  0.084135  0.142929  0.146605   \n",
       "2019-06-09         0.000000  0.028893  0.067952  0.018327  0.041019  0.183464   \n",
       "2019-06-10         0.015432  0.078469  0.000000  0.121939  0.059001  0.043970   \n",
       "2019-06-11         0.088469  0.074633  0.094886  0.081906  0.057342  0.051541   \n",
       "2019-06-12         0.028004  0.147111  0.277195  0.048081  0.042189  0.022723   \n",
       "2019-06-13         0.008211  0.000000  0.052794  0.037804  0.055894  0.030578   \n",
       "2019-06-14         0.000000  0.334922  0.071831  0.496750  0.000000  0.083962   \n",
       "2019-06-15         0.000000  0.051051  0.147153  0.078054  0.121570  0.024907   \n",
       "2019-06-16         0.012931  0.017809  0.065185  0.230027  0.102704  0.071641   \n",
       "2019-06-17         0.070387  0.441389  0.131244  0.000000  0.000000  0.160783   \n",
       "2019-06-18         0.142793  0.040632  0.143729  0.035187  0.191686  0.000000   \n",
       "2019-06-19         0.011070  0.217097  0.000000  0.069924  0.085399  0.127545   \n",
       "2019-06-20         0.119467  0.000000  0.202915  0.000000  0.000000  0.035546   \n",
       "2019-06-21         0.800155  0.190510  0.067936  0.142823  0.000000  0.251752   \n",
       "2019-06-22         0.188700  0.138482  0.138579  0.000000  0.199730  0.000000   \n",
       "2019-06-23         0.027547  0.000000  0.126228  0.263774  0.500953  0.030781   \n",
       "2019-06-24         0.069227  0.000000  0.000000  0.041414  0.090001  0.032084   \n",
       "2019-06-25         0.027478  0.055144  0.000000  0.063490  0.054183  0.000000   \n",
       "2019-06-26         0.254303  0.197554  0.583751  0.479876  0.057374  1.185854   \n",
       "2019-06-27         0.000000  0.034666  0.000000  0.288859  0.051190  0.000000   \n",
       "2019-06-28         0.204402  0.750948  0.000000  0.506194  0.365931  0.000000   \n",
       "2019-06-29         0.000000  0.516133  0.000000  0.120737  0.016322  0.735790   \n",
       "2019-06-30         0.025864  0.000000  0.026199  0.014228  0.028145  0.000000   \n",
       "\n",
       "lifetime                 28        29        30  \n",
       "registration_date                                \n",
       "2019-06-01         0.128948  0.027442  0.403106  \n",
       "2019-06-02         0.054992  0.029301  0.596368  \n",
       "2019-06-03         0.000000  0.034498  0.000000  \n",
       "2019-06-04         0.360193  0.000000  0.050684  \n",
       "2019-06-05         0.363810  0.193209  0.246925  \n",
       "2019-06-06         0.103838  0.101861  0.000000  \n",
       "2019-06-07         1.156721  0.075919  0.067893  \n",
       "2019-06-08         0.000000  0.788146  0.078673  \n",
       "2019-06-09         0.000000  0.016263  0.000000  \n",
       "2019-06-10         0.000000  0.032169  0.205486  \n",
       "2019-06-11         0.037052  0.021359  0.042239  \n",
       "2019-06-12         0.000000  0.376689  0.423994  \n",
       "2019-06-13         0.203461  0.247695  0.146574  \n",
       "2019-06-14         0.012164  0.079956  0.333623  \n",
       "2019-06-15         0.000000  0.144795  0.094020  \n",
       "2019-06-16         0.054327  0.000000  0.000000  \n",
       "2019-06-17         0.163087  0.082124  0.070486  \n",
       "2019-06-18         0.013695  0.000000  0.000000  \n",
       "2019-06-19         0.229498  0.000000  0.052900  \n",
       "2019-06-20         0.070850  0.223828  0.212022  \n",
       "2019-06-21         0.134542  0.085848  0.139696  \n",
       "2019-06-22         0.247902  0.195519  0.000000  \n",
       "2019-06-23         0.196793  0.513793  0.916547  \n",
       "2019-06-24         0.122563  0.198794  0.337772  \n",
       "2019-06-25         0.030257  0.070174  0.000000  \n",
       "2019-06-26         0.000000  0.325315  0.116195  \n",
       "2019-06-27         0.000000  0.049041  0.000000  \n",
       "2019-06-28         0.046519  0.316472  0.158306  \n",
       "2019-06-29         0.000000  0.225250  0.061347  \n",
       "2019-06-30         0.000000  0.069819  0.126429  \n",
       "\n",
       "[30 rows x 31 columns]"
      ]
     },
     "execution_count": 32,
     "metadata": {},
     "output_type": "execute_result"
    }
   ],
   "source": [
    "#Сформируем сводную таблицу для ARPU:\n",
    "arpu_pivot=retention_table_with_revenue.pivot_table(index='registration_date', columns='lifetime', values='arpu', aggfunc='mean')\n",
    "arpu_pivot"
   ]
  },
  {
   "cell_type": "code",
   "execution_count": 33,
   "metadata": {},
   "outputs": [
    {
     "data": {
      "application/vnd.plotly.v1+json": {
       "config": {
        "plotlyServerURL": "https://plot.ly"
       },
       "data": [
        {
         "colorscale": [
          [
           0,
           "#440154"
          ],
          [
           0.1111111111111111,
           "#482878"
          ],
          [
           0.2222222222222222,
           "#3e4989"
          ],
          [
           0.3333333333333333,
           "#31688e"
          ],
          [
           0.4444444444444444,
           "#26828e"
          ],
          [
           0.5555555555555556,
           "#1f9e89"
          ],
          [
           0.6666666666666666,
           "#35b779"
          ],
          [
           0.7777777777777778,
           "#6ece58"
          ],
          [
           0.8888888888888888,
           "#b5de2b"
          ],
          [
           1,
           "#fde725"
          ]
         ],
         "hovertemplate": "<b>Cohort</b>: %{y}<br><b>Lifetime</b>: %{x}<br><b>ARPU<b>: %{z:.2f} $<extra></extra>",
         "type": "heatmap",
         "x": [
          0,
          1,
          0,
          2,
          1,
          0,
          3,
          2,
          1,
          0,
          4,
          3,
          2,
          1,
          0,
          5,
          4,
          3,
          2,
          1,
          0,
          6,
          5,
          4,
          3,
          2,
          1,
          0,
          7,
          6,
          5,
          4,
          3,
          2,
          1,
          0,
          8,
          7,
          6,
          5,
          4,
          3,
          2,
          1,
          0,
          9,
          8,
          7,
          6,
          5,
          4,
          3,
          2,
          1,
          0,
          10,
          9,
          8,
          7,
          6,
          5,
          4,
          3,
          2,
          1,
          0,
          11,
          10,
          9,
          8,
          7,
          6,
          5,
          4,
          3,
          2,
          1,
          0,
          12,
          11,
          10,
          9,
          8,
          7,
          6,
          5,
          4,
          3,
          2,
          1,
          0,
          13,
          12,
          11,
          10,
          9,
          8,
          7,
          6,
          5,
          4,
          3,
          2,
          1,
          0,
          14,
          13,
          12,
          11,
          10,
          9,
          8,
          7,
          6,
          5,
          4,
          3,
          2,
          1,
          0,
          15,
          14,
          13,
          12,
          11,
          10,
          9,
          8,
          7,
          6,
          5,
          4,
          3,
          2,
          1,
          0,
          16,
          15,
          14,
          13,
          12,
          11,
          10,
          9,
          8,
          7,
          6,
          5,
          4,
          3,
          2,
          1,
          0,
          17,
          16,
          15,
          14,
          13,
          12,
          11,
          10,
          9,
          8,
          7,
          6,
          5,
          4,
          3,
          2,
          1,
          0,
          18,
          17,
          16,
          15,
          14,
          13,
          12,
          11,
          10,
          9,
          8,
          7,
          6,
          5,
          4,
          3,
          2,
          1,
          0,
          19,
          18,
          17,
          16,
          15,
          14,
          13,
          12,
          11,
          10,
          9,
          8,
          7,
          6,
          5,
          4,
          3,
          2,
          1,
          0,
          20,
          19,
          18,
          17,
          16,
          15,
          14,
          13,
          12,
          11,
          10,
          9,
          8,
          7,
          6,
          5,
          4,
          3,
          2,
          1,
          0,
          21,
          20,
          19,
          18,
          17,
          16,
          15,
          14,
          13,
          12,
          11,
          10,
          9,
          8,
          7,
          6,
          5,
          4,
          3,
          2,
          1,
          0,
          22,
          21,
          20,
          19,
          18,
          17,
          16,
          15,
          14,
          13,
          12,
          11,
          10,
          9,
          8,
          7,
          6,
          5,
          4,
          3,
          2,
          1,
          0,
          23,
          22,
          21,
          20,
          19,
          18,
          17,
          16,
          15,
          14,
          13,
          12,
          11,
          10,
          9,
          8,
          7,
          6,
          5,
          4,
          3,
          2,
          1,
          0,
          24,
          23,
          22,
          21,
          20,
          19,
          18,
          17,
          16,
          15,
          14,
          13,
          12,
          11,
          10,
          9,
          8,
          7,
          6,
          5,
          4,
          3,
          2,
          1,
          0,
          25,
          24,
          23,
          22,
          21,
          20,
          19,
          18,
          17,
          16,
          15,
          14,
          13,
          12,
          11,
          10,
          9,
          8,
          7,
          6,
          5,
          4,
          3,
          2,
          1,
          0,
          26,
          25,
          24,
          23,
          22,
          21,
          20,
          19,
          18,
          17,
          16,
          15,
          14,
          13,
          12,
          11,
          10,
          9,
          8,
          7,
          6,
          5,
          4,
          3,
          2,
          1,
          0,
          27,
          26,
          25,
          24,
          23,
          22,
          21,
          20,
          19,
          18,
          17,
          16,
          15,
          14,
          13,
          12,
          11,
          10,
          9,
          8,
          7,
          6,
          5,
          4,
          3,
          2,
          1,
          0,
          28,
          27,
          26,
          25,
          24,
          23,
          22,
          21,
          20,
          19,
          18,
          17,
          16,
          15,
          14,
          13,
          12,
          11,
          10,
          9,
          8,
          7,
          6,
          5,
          4,
          3,
          2,
          1,
          0,
          29,
          28,
          27,
          26,
          25,
          24,
          23,
          22,
          21,
          20,
          19,
          18,
          17,
          16,
          15,
          14,
          13,
          12,
          11,
          10,
          9,
          8,
          7,
          6,
          5,
          4,
          3,
          2,
          1,
          0,
          30,
          29,
          28,
          27,
          26,
          25,
          24,
          23,
          22,
          21,
          20,
          19,
          18,
          17,
          16,
          15,
          14,
          13,
          12,
          11,
          10,
          9,
          8,
          7,
          6,
          5,
          4,
          3,
          2,
          1,
          30,
          29,
          28,
          27,
          26,
          25,
          24,
          23,
          22,
          21,
          20,
          19,
          18,
          17,
          16,
          15,
          14,
          13,
          12,
          11,
          10,
          9,
          8,
          7,
          6,
          5,
          4,
          3,
          2,
          30,
          29,
          28,
          27,
          26,
          25,
          24,
          23,
          22,
          21,
          20,
          19,
          18,
          17,
          16,
          15,
          14,
          13,
          12,
          11,
          10,
          9,
          8,
          7,
          6,
          5,
          4,
          3,
          30,
          29,
          28,
          27,
          26,
          25,
          24,
          23,
          22,
          21,
          20,
          19,
          18,
          17,
          16,
          15,
          14,
          13,
          12,
          11,
          10,
          9,
          8,
          7,
          6,
          5,
          4,
          30,
          29,
          28,
          27,
          26,
          25,
          24,
          23,
          22,
          21,
          20,
          19,
          18,
          17,
          16,
          15,
          14,
          13,
          12,
          11,
          10,
          9,
          8,
          7,
          6,
          5,
          30,
          29,
          28,
          27,
          26,
          25,
          24,
          23,
          22,
          21,
          20,
          19,
          18,
          17,
          16,
          15,
          14,
          13,
          12,
          11,
          10,
          9,
          8,
          7,
          6,
          30,
          29,
          28,
          27,
          26,
          25,
          24,
          23,
          22,
          21,
          20,
          19,
          18,
          17,
          16,
          15,
          14,
          13,
          12,
          11,
          10,
          9,
          8,
          7,
          30,
          29,
          28,
          27,
          26,
          25,
          24,
          23,
          22,
          21,
          20,
          19,
          18,
          17,
          16,
          15,
          14,
          13,
          12,
          11,
          10,
          9,
          8,
          30,
          29,
          28,
          27,
          26,
          25,
          24,
          23,
          22,
          21,
          20,
          19,
          18,
          17,
          16,
          15,
          14,
          13,
          12,
          11,
          10,
          9,
          30,
          29,
          28,
          27,
          26,
          25,
          24,
          23,
          22,
          21,
          20,
          19,
          18,
          17,
          16,
          15,
          14,
          13,
          12,
          11,
          10,
          30,
          29,
          28,
          27,
          26,
          25,
          24,
          23,
          22,
          21,
          20,
          19,
          18,
          17,
          16,
          15,
          14,
          13,
          12,
          11,
          30,
          29,
          28,
          27,
          26,
          25,
          24,
          23,
          22,
          21,
          20,
          19,
          18,
          17,
          16,
          15,
          14,
          13,
          12,
          30,
          29,
          28,
          27,
          26,
          25,
          24,
          23,
          22,
          21,
          20,
          19,
          18,
          17,
          16,
          15,
          14,
          13,
          30,
          29,
          28,
          27,
          26,
          25,
          24,
          23,
          22,
          21,
          20,
          19,
          18,
          17,
          16,
          15,
          14,
          30,
          29,
          28,
          27,
          26,
          25,
          24,
          23,
          22,
          21,
          20,
          19,
          18,
          17,
          16,
          15,
          30,
          29,
          28,
          27,
          26,
          25,
          24,
          23,
          22,
          21,
          20,
          19,
          18,
          17,
          16,
          30,
          29,
          28,
          27,
          26,
          25,
          24,
          23,
          22,
          21,
          20,
          19,
          18,
          17,
          30,
          29,
          28,
          27,
          26,
          25,
          24,
          23,
          22,
          21,
          20,
          19,
          18,
          30,
          29,
          28,
          27,
          26,
          25,
          24,
          23,
          22,
          21,
          20,
          19,
          30,
          29,
          28,
          27,
          26,
          25,
          24,
          23,
          22,
          21,
          20,
          30,
          29,
          28,
          27,
          26,
          25,
          24,
          23,
          22,
          21,
          30,
          29,
          28,
          27,
          26,
          25,
          24,
          23,
          22,
          30,
          29,
          28,
          27,
          26,
          25,
          24,
          23,
          30,
          29,
          28,
          27,
          26,
          25,
          24,
          30,
          29,
          28,
          27,
          26,
          25,
          30,
          29,
          28,
          27,
          26,
          30,
          29,
          28,
          27,
          30,
          29,
          28,
          30,
          29,
          30
         ],
         "y": [
          "2019-06-01T00:00:00",
          "2019-06-01T00:00:00",
          "2019-06-02T00:00:00",
          "2019-06-01T00:00:00",
          "2019-06-02T00:00:00",
          "2019-06-03T00:00:00",
          "2019-06-01T00:00:00",
          "2019-06-02T00:00:00",
          "2019-06-03T00:00:00",
          "2019-06-04T00:00:00",
          "2019-06-01T00:00:00",
          "2019-06-02T00:00:00",
          "2019-06-03T00:00:00",
          "2019-06-04T00:00:00",
          "2019-06-05T00:00:00",
          "2019-06-01T00:00:00",
          "2019-06-02T00:00:00",
          "2019-06-03T00:00:00",
          "2019-06-04T00:00:00",
          "2019-06-05T00:00:00",
          "2019-06-06T00:00:00",
          "2019-06-01T00:00:00",
          "2019-06-02T00:00:00",
          "2019-06-03T00:00:00",
          "2019-06-04T00:00:00",
          "2019-06-05T00:00:00",
          "2019-06-06T00:00:00",
          "2019-06-07T00:00:00",
          "2019-06-01T00:00:00",
          "2019-06-02T00:00:00",
          "2019-06-03T00:00:00",
          "2019-06-04T00:00:00",
          "2019-06-05T00:00:00",
          "2019-06-06T00:00:00",
          "2019-06-07T00:00:00",
          "2019-06-08T00:00:00",
          "2019-06-01T00:00:00",
          "2019-06-02T00:00:00",
          "2019-06-03T00:00:00",
          "2019-06-04T00:00:00",
          "2019-06-05T00:00:00",
          "2019-06-06T00:00:00",
          "2019-06-07T00:00:00",
          "2019-06-08T00:00:00",
          "2019-06-09T00:00:00",
          "2019-06-01T00:00:00",
          "2019-06-02T00:00:00",
          "2019-06-03T00:00:00",
          "2019-06-04T00:00:00",
          "2019-06-05T00:00:00",
          "2019-06-06T00:00:00",
          "2019-06-07T00:00:00",
          "2019-06-08T00:00:00",
          "2019-06-09T00:00:00",
          "2019-06-10T00:00:00",
          "2019-06-01T00:00:00",
          "2019-06-02T00:00:00",
          "2019-06-03T00:00:00",
          "2019-06-04T00:00:00",
          "2019-06-05T00:00:00",
          "2019-06-06T00:00:00",
          "2019-06-07T00:00:00",
          "2019-06-08T00:00:00",
          "2019-06-09T00:00:00",
          "2019-06-10T00:00:00",
          "2019-06-11T00:00:00",
          "2019-06-01T00:00:00",
          "2019-06-02T00:00:00",
          "2019-06-03T00:00:00",
          "2019-06-04T00:00:00",
          "2019-06-05T00:00:00",
          "2019-06-06T00:00:00",
          "2019-06-07T00:00:00",
          "2019-06-08T00:00:00",
          "2019-06-09T00:00:00",
          "2019-06-10T00:00:00",
          "2019-06-11T00:00:00",
          "2019-06-12T00:00:00",
          "2019-06-01T00:00:00",
          "2019-06-02T00:00:00",
          "2019-06-03T00:00:00",
          "2019-06-04T00:00:00",
          "2019-06-05T00:00:00",
          "2019-06-06T00:00:00",
          "2019-06-07T00:00:00",
          "2019-06-08T00:00:00",
          "2019-06-09T00:00:00",
          "2019-06-10T00:00:00",
          "2019-06-11T00:00:00",
          "2019-06-12T00:00:00",
          "2019-06-13T00:00:00",
          "2019-06-01T00:00:00",
          "2019-06-02T00:00:00",
          "2019-06-03T00:00:00",
          "2019-06-04T00:00:00",
          "2019-06-05T00:00:00",
          "2019-06-06T00:00:00",
          "2019-06-07T00:00:00",
          "2019-06-08T00:00:00",
          "2019-06-09T00:00:00",
          "2019-06-10T00:00:00",
          "2019-06-11T00:00:00",
          "2019-06-12T00:00:00",
          "2019-06-13T00:00:00",
          "2019-06-14T00:00:00",
          "2019-06-01T00:00:00",
          "2019-06-02T00:00:00",
          "2019-06-03T00:00:00",
          "2019-06-04T00:00:00",
          "2019-06-05T00:00:00",
          "2019-06-06T00:00:00",
          "2019-06-07T00:00:00",
          "2019-06-08T00:00:00",
          "2019-06-09T00:00:00",
          "2019-06-10T00:00:00",
          "2019-06-11T00:00:00",
          "2019-06-12T00:00:00",
          "2019-06-13T00:00:00",
          "2019-06-14T00:00:00",
          "2019-06-15T00:00:00",
          "2019-06-01T00:00:00",
          "2019-06-02T00:00:00",
          "2019-06-03T00:00:00",
          "2019-06-04T00:00:00",
          "2019-06-05T00:00:00",
          "2019-06-06T00:00:00",
          "2019-06-07T00:00:00",
          "2019-06-08T00:00:00",
          "2019-06-09T00:00:00",
          "2019-06-10T00:00:00",
          "2019-06-11T00:00:00",
          "2019-06-12T00:00:00",
          "2019-06-13T00:00:00",
          "2019-06-14T00:00:00",
          "2019-06-15T00:00:00",
          "2019-06-16T00:00:00",
          "2019-06-01T00:00:00",
          "2019-06-02T00:00:00",
          "2019-06-03T00:00:00",
          "2019-06-04T00:00:00",
          "2019-06-05T00:00:00",
          "2019-06-06T00:00:00",
          "2019-06-07T00:00:00",
          "2019-06-08T00:00:00",
          "2019-06-09T00:00:00",
          "2019-06-10T00:00:00",
          "2019-06-11T00:00:00",
          "2019-06-12T00:00:00",
          "2019-06-13T00:00:00",
          "2019-06-14T00:00:00",
          "2019-06-15T00:00:00",
          "2019-06-16T00:00:00",
          "2019-06-17T00:00:00",
          "2019-06-01T00:00:00",
          "2019-06-02T00:00:00",
          "2019-06-03T00:00:00",
          "2019-06-04T00:00:00",
          "2019-06-05T00:00:00",
          "2019-06-06T00:00:00",
          "2019-06-07T00:00:00",
          "2019-06-08T00:00:00",
          "2019-06-09T00:00:00",
          "2019-06-10T00:00:00",
          "2019-06-11T00:00:00",
          "2019-06-12T00:00:00",
          "2019-06-13T00:00:00",
          "2019-06-14T00:00:00",
          "2019-06-15T00:00:00",
          "2019-06-16T00:00:00",
          "2019-06-17T00:00:00",
          "2019-06-18T00:00:00",
          "2019-06-01T00:00:00",
          "2019-06-02T00:00:00",
          "2019-06-03T00:00:00",
          "2019-06-04T00:00:00",
          "2019-06-05T00:00:00",
          "2019-06-06T00:00:00",
          "2019-06-07T00:00:00",
          "2019-06-08T00:00:00",
          "2019-06-09T00:00:00",
          "2019-06-10T00:00:00",
          "2019-06-11T00:00:00",
          "2019-06-12T00:00:00",
          "2019-06-13T00:00:00",
          "2019-06-14T00:00:00",
          "2019-06-15T00:00:00",
          "2019-06-16T00:00:00",
          "2019-06-17T00:00:00",
          "2019-06-18T00:00:00",
          "2019-06-19T00:00:00",
          "2019-06-01T00:00:00",
          "2019-06-02T00:00:00",
          "2019-06-03T00:00:00",
          "2019-06-04T00:00:00",
          "2019-06-05T00:00:00",
          "2019-06-06T00:00:00",
          "2019-06-07T00:00:00",
          "2019-06-08T00:00:00",
          "2019-06-09T00:00:00",
          "2019-06-10T00:00:00",
          "2019-06-11T00:00:00",
          "2019-06-12T00:00:00",
          "2019-06-13T00:00:00",
          "2019-06-14T00:00:00",
          "2019-06-15T00:00:00",
          "2019-06-16T00:00:00",
          "2019-06-17T00:00:00",
          "2019-06-18T00:00:00",
          "2019-06-19T00:00:00",
          "2019-06-20T00:00:00",
          "2019-06-01T00:00:00",
          "2019-06-02T00:00:00",
          "2019-06-03T00:00:00",
          "2019-06-04T00:00:00",
          "2019-06-05T00:00:00",
          "2019-06-06T00:00:00",
          "2019-06-07T00:00:00",
          "2019-06-08T00:00:00",
          "2019-06-09T00:00:00",
          "2019-06-10T00:00:00",
          "2019-06-11T00:00:00",
          "2019-06-12T00:00:00",
          "2019-06-13T00:00:00",
          "2019-06-14T00:00:00",
          "2019-06-15T00:00:00",
          "2019-06-16T00:00:00",
          "2019-06-17T00:00:00",
          "2019-06-18T00:00:00",
          "2019-06-19T00:00:00",
          "2019-06-20T00:00:00",
          "2019-06-21T00:00:00",
          "2019-06-01T00:00:00",
          "2019-06-02T00:00:00",
          "2019-06-03T00:00:00",
          "2019-06-04T00:00:00",
          "2019-06-05T00:00:00",
          "2019-06-06T00:00:00",
          "2019-06-07T00:00:00",
          "2019-06-08T00:00:00",
          "2019-06-09T00:00:00",
          "2019-06-10T00:00:00",
          "2019-06-11T00:00:00",
          "2019-06-12T00:00:00",
          "2019-06-13T00:00:00",
          "2019-06-14T00:00:00",
          "2019-06-15T00:00:00",
          "2019-06-16T00:00:00",
          "2019-06-17T00:00:00",
          "2019-06-18T00:00:00",
          "2019-06-19T00:00:00",
          "2019-06-20T00:00:00",
          "2019-06-21T00:00:00",
          "2019-06-22T00:00:00",
          "2019-06-01T00:00:00",
          "2019-06-02T00:00:00",
          "2019-06-03T00:00:00",
          "2019-06-04T00:00:00",
          "2019-06-05T00:00:00",
          "2019-06-06T00:00:00",
          "2019-06-07T00:00:00",
          "2019-06-08T00:00:00",
          "2019-06-09T00:00:00",
          "2019-06-10T00:00:00",
          "2019-06-11T00:00:00",
          "2019-06-12T00:00:00",
          "2019-06-13T00:00:00",
          "2019-06-14T00:00:00",
          "2019-06-15T00:00:00",
          "2019-06-16T00:00:00",
          "2019-06-17T00:00:00",
          "2019-06-18T00:00:00",
          "2019-06-19T00:00:00",
          "2019-06-20T00:00:00",
          "2019-06-21T00:00:00",
          "2019-06-22T00:00:00",
          "2019-06-23T00:00:00",
          "2019-06-01T00:00:00",
          "2019-06-02T00:00:00",
          "2019-06-03T00:00:00",
          "2019-06-04T00:00:00",
          "2019-06-05T00:00:00",
          "2019-06-06T00:00:00",
          "2019-06-07T00:00:00",
          "2019-06-08T00:00:00",
          "2019-06-09T00:00:00",
          "2019-06-10T00:00:00",
          "2019-06-11T00:00:00",
          "2019-06-12T00:00:00",
          "2019-06-13T00:00:00",
          "2019-06-14T00:00:00",
          "2019-06-15T00:00:00",
          "2019-06-16T00:00:00",
          "2019-06-17T00:00:00",
          "2019-06-18T00:00:00",
          "2019-06-19T00:00:00",
          "2019-06-20T00:00:00",
          "2019-06-21T00:00:00",
          "2019-06-22T00:00:00",
          "2019-06-23T00:00:00",
          "2019-06-24T00:00:00",
          "2019-06-01T00:00:00",
          "2019-06-02T00:00:00",
          "2019-06-03T00:00:00",
          "2019-06-04T00:00:00",
          "2019-06-05T00:00:00",
          "2019-06-06T00:00:00",
          "2019-06-07T00:00:00",
          "2019-06-08T00:00:00",
          "2019-06-09T00:00:00",
          "2019-06-10T00:00:00",
          "2019-06-11T00:00:00",
          "2019-06-12T00:00:00",
          "2019-06-13T00:00:00",
          "2019-06-14T00:00:00",
          "2019-06-15T00:00:00",
          "2019-06-16T00:00:00",
          "2019-06-17T00:00:00",
          "2019-06-18T00:00:00",
          "2019-06-19T00:00:00",
          "2019-06-20T00:00:00",
          "2019-06-21T00:00:00",
          "2019-06-22T00:00:00",
          "2019-06-23T00:00:00",
          "2019-06-24T00:00:00",
          "2019-06-25T00:00:00",
          "2019-06-01T00:00:00",
          "2019-06-02T00:00:00",
          "2019-06-03T00:00:00",
          "2019-06-04T00:00:00",
          "2019-06-05T00:00:00",
          "2019-06-06T00:00:00",
          "2019-06-07T00:00:00",
          "2019-06-08T00:00:00",
          "2019-06-09T00:00:00",
          "2019-06-10T00:00:00",
          "2019-06-11T00:00:00",
          "2019-06-12T00:00:00",
          "2019-06-13T00:00:00",
          "2019-06-14T00:00:00",
          "2019-06-15T00:00:00",
          "2019-06-16T00:00:00",
          "2019-06-17T00:00:00",
          "2019-06-18T00:00:00",
          "2019-06-19T00:00:00",
          "2019-06-20T00:00:00",
          "2019-06-21T00:00:00",
          "2019-06-22T00:00:00",
          "2019-06-23T00:00:00",
          "2019-06-24T00:00:00",
          "2019-06-25T00:00:00",
          "2019-06-26T00:00:00",
          "2019-06-01T00:00:00",
          "2019-06-02T00:00:00",
          "2019-06-03T00:00:00",
          "2019-06-04T00:00:00",
          "2019-06-05T00:00:00",
          "2019-06-06T00:00:00",
          "2019-06-07T00:00:00",
          "2019-06-08T00:00:00",
          "2019-06-09T00:00:00",
          "2019-06-10T00:00:00",
          "2019-06-11T00:00:00",
          "2019-06-12T00:00:00",
          "2019-06-13T00:00:00",
          "2019-06-14T00:00:00",
          "2019-06-15T00:00:00",
          "2019-06-16T00:00:00",
          "2019-06-17T00:00:00",
          "2019-06-18T00:00:00",
          "2019-06-19T00:00:00",
          "2019-06-20T00:00:00",
          "2019-06-21T00:00:00",
          "2019-06-22T00:00:00",
          "2019-06-23T00:00:00",
          "2019-06-24T00:00:00",
          "2019-06-25T00:00:00",
          "2019-06-26T00:00:00",
          "2019-06-27T00:00:00",
          "2019-06-01T00:00:00",
          "2019-06-02T00:00:00",
          "2019-06-03T00:00:00",
          "2019-06-04T00:00:00",
          "2019-06-05T00:00:00",
          "2019-06-06T00:00:00",
          "2019-06-07T00:00:00",
          "2019-06-08T00:00:00",
          "2019-06-09T00:00:00",
          "2019-06-10T00:00:00",
          "2019-06-11T00:00:00",
          "2019-06-12T00:00:00",
          "2019-06-13T00:00:00",
          "2019-06-14T00:00:00",
          "2019-06-15T00:00:00",
          "2019-06-16T00:00:00",
          "2019-06-17T00:00:00",
          "2019-06-18T00:00:00",
          "2019-06-19T00:00:00",
          "2019-06-20T00:00:00",
          "2019-06-21T00:00:00",
          "2019-06-22T00:00:00",
          "2019-06-23T00:00:00",
          "2019-06-24T00:00:00",
          "2019-06-25T00:00:00",
          "2019-06-26T00:00:00",
          "2019-06-27T00:00:00",
          "2019-06-28T00:00:00",
          "2019-06-01T00:00:00",
          "2019-06-02T00:00:00",
          "2019-06-03T00:00:00",
          "2019-06-04T00:00:00",
          "2019-06-05T00:00:00",
          "2019-06-06T00:00:00",
          "2019-06-07T00:00:00",
          "2019-06-08T00:00:00",
          "2019-06-09T00:00:00",
          "2019-06-10T00:00:00",
          "2019-06-11T00:00:00",
          "2019-06-12T00:00:00",
          "2019-06-13T00:00:00",
          "2019-06-14T00:00:00",
          "2019-06-15T00:00:00",
          "2019-06-16T00:00:00",
          "2019-06-17T00:00:00",
          "2019-06-18T00:00:00",
          "2019-06-19T00:00:00",
          "2019-06-20T00:00:00",
          "2019-06-21T00:00:00",
          "2019-06-22T00:00:00",
          "2019-06-23T00:00:00",
          "2019-06-24T00:00:00",
          "2019-06-25T00:00:00",
          "2019-06-26T00:00:00",
          "2019-06-27T00:00:00",
          "2019-06-28T00:00:00",
          "2019-06-29T00:00:00",
          "2019-06-01T00:00:00",
          "2019-06-02T00:00:00",
          "2019-06-03T00:00:00",
          "2019-06-04T00:00:00",
          "2019-06-05T00:00:00",
          "2019-06-06T00:00:00",
          "2019-06-07T00:00:00",
          "2019-06-08T00:00:00",
          "2019-06-09T00:00:00",
          "2019-06-10T00:00:00",
          "2019-06-11T00:00:00",
          "2019-06-12T00:00:00",
          "2019-06-13T00:00:00",
          "2019-06-14T00:00:00",
          "2019-06-15T00:00:00",
          "2019-06-16T00:00:00",
          "2019-06-17T00:00:00",
          "2019-06-18T00:00:00",
          "2019-06-19T00:00:00",
          "2019-06-20T00:00:00",
          "2019-06-21T00:00:00",
          "2019-06-22T00:00:00",
          "2019-06-23T00:00:00",
          "2019-06-24T00:00:00",
          "2019-06-25T00:00:00",
          "2019-06-26T00:00:00",
          "2019-06-27T00:00:00",
          "2019-06-28T00:00:00",
          "2019-06-29T00:00:00",
          "2019-06-30T00:00:00",
          "2019-06-01T00:00:00",
          "2019-06-02T00:00:00",
          "2019-06-03T00:00:00",
          "2019-06-04T00:00:00",
          "2019-06-05T00:00:00",
          "2019-06-06T00:00:00",
          "2019-06-07T00:00:00",
          "2019-06-08T00:00:00",
          "2019-06-09T00:00:00",
          "2019-06-10T00:00:00",
          "2019-06-11T00:00:00",
          "2019-06-12T00:00:00",
          "2019-06-13T00:00:00",
          "2019-06-14T00:00:00",
          "2019-06-15T00:00:00",
          "2019-06-16T00:00:00",
          "2019-06-17T00:00:00",
          "2019-06-18T00:00:00",
          "2019-06-19T00:00:00",
          "2019-06-20T00:00:00",
          "2019-06-21T00:00:00",
          "2019-06-22T00:00:00",
          "2019-06-23T00:00:00",
          "2019-06-24T00:00:00",
          "2019-06-25T00:00:00",
          "2019-06-26T00:00:00",
          "2019-06-27T00:00:00",
          "2019-06-28T00:00:00",
          "2019-06-29T00:00:00",
          "2019-06-30T00:00:00",
          "2019-06-02T00:00:00",
          "2019-06-03T00:00:00",
          "2019-06-04T00:00:00",
          "2019-06-05T00:00:00",
          "2019-06-06T00:00:00",
          "2019-06-07T00:00:00",
          "2019-06-08T00:00:00",
          "2019-06-09T00:00:00",
          "2019-06-10T00:00:00",
          "2019-06-11T00:00:00",
          "2019-06-12T00:00:00",
          "2019-06-13T00:00:00",
          "2019-06-14T00:00:00",
          "2019-06-15T00:00:00",
          "2019-06-16T00:00:00",
          "2019-06-17T00:00:00",
          "2019-06-18T00:00:00",
          "2019-06-19T00:00:00",
          "2019-06-20T00:00:00",
          "2019-06-21T00:00:00",
          "2019-06-22T00:00:00",
          "2019-06-23T00:00:00",
          "2019-06-24T00:00:00",
          "2019-06-25T00:00:00",
          "2019-06-26T00:00:00",
          "2019-06-27T00:00:00",
          "2019-06-28T00:00:00",
          "2019-06-29T00:00:00",
          "2019-06-30T00:00:00",
          "2019-06-03T00:00:00",
          "2019-06-04T00:00:00",
          "2019-06-05T00:00:00",
          "2019-06-06T00:00:00",
          "2019-06-07T00:00:00",
          "2019-06-08T00:00:00",
          "2019-06-09T00:00:00",
          "2019-06-10T00:00:00",
          "2019-06-11T00:00:00",
          "2019-06-12T00:00:00",
          "2019-06-13T00:00:00",
          "2019-06-14T00:00:00",
          "2019-06-15T00:00:00",
          "2019-06-16T00:00:00",
          "2019-06-17T00:00:00",
          "2019-06-18T00:00:00",
          "2019-06-19T00:00:00",
          "2019-06-20T00:00:00",
          "2019-06-21T00:00:00",
          "2019-06-22T00:00:00",
          "2019-06-23T00:00:00",
          "2019-06-24T00:00:00",
          "2019-06-25T00:00:00",
          "2019-06-26T00:00:00",
          "2019-06-27T00:00:00",
          "2019-06-28T00:00:00",
          "2019-06-29T00:00:00",
          "2019-06-30T00:00:00",
          "2019-06-04T00:00:00",
          "2019-06-05T00:00:00",
          "2019-06-06T00:00:00",
          "2019-06-07T00:00:00",
          "2019-06-08T00:00:00",
          "2019-06-09T00:00:00",
          "2019-06-10T00:00:00",
          "2019-06-11T00:00:00",
          "2019-06-12T00:00:00",
          "2019-06-13T00:00:00",
          "2019-06-14T00:00:00",
          "2019-06-15T00:00:00",
          "2019-06-16T00:00:00",
          "2019-06-17T00:00:00",
          "2019-06-18T00:00:00",
          "2019-06-19T00:00:00",
          "2019-06-20T00:00:00",
          "2019-06-21T00:00:00",
          "2019-06-22T00:00:00",
          "2019-06-23T00:00:00",
          "2019-06-24T00:00:00",
          "2019-06-25T00:00:00",
          "2019-06-26T00:00:00",
          "2019-06-27T00:00:00",
          "2019-06-28T00:00:00",
          "2019-06-29T00:00:00",
          "2019-06-30T00:00:00",
          "2019-06-05T00:00:00",
          "2019-06-06T00:00:00",
          "2019-06-07T00:00:00",
          "2019-06-08T00:00:00",
          "2019-06-09T00:00:00",
          "2019-06-10T00:00:00",
          "2019-06-11T00:00:00",
          "2019-06-12T00:00:00",
          "2019-06-13T00:00:00",
          "2019-06-14T00:00:00",
          "2019-06-15T00:00:00",
          "2019-06-16T00:00:00",
          "2019-06-17T00:00:00",
          "2019-06-18T00:00:00",
          "2019-06-19T00:00:00",
          "2019-06-20T00:00:00",
          "2019-06-21T00:00:00",
          "2019-06-22T00:00:00",
          "2019-06-23T00:00:00",
          "2019-06-24T00:00:00",
          "2019-06-25T00:00:00",
          "2019-06-26T00:00:00",
          "2019-06-27T00:00:00",
          "2019-06-28T00:00:00",
          "2019-06-29T00:00:00",
          "2019-06-30T00:00:00",
          "2019-06-06T00:00:00",
          "2019-06-07T00:00:00",
          "2019-06-08T00:00:00",
          "2019-06-09T00:00:00",
          "2019-06-10T00:00:00",
          "2019-06-11T00:00:00",
          "2019-06-12T00:00:00",
          "2019-06-13T00:00:00",
          "2019-06-14T00:00:00",
          "2019-06-15T00:00:00",
          "2019-06-16T00:00:00",
          "2019-06-17T00:00:00",
          "2019-06-18T00:00:00",
          "2019-06-19T00:00:00",
          "2019-06-20T00:00:00",
          "2019-06-21T00:00:00",
          "2019-06-22T00:00:00",
          "2019-06-23T00:00:00",
          "2019-06-24T00:00:00",
          "2019-06-25T00:00:00",
          "2019-06-26T00:00:00",
          "2019-06-27T00:00:00",
          "2019-06-28T00:00:00",
          "2019-06-29T00:00:00",
          "2019-06-30T00:00:00",
          "2019-06-07T00:00:00",
          "2019-06-08T00:00:00",
          "2019-06-09T00:00:00",
          "2019-06-10T00:00:00",
          "2019-06-11T00:00:00",
          "2019-06-12T00:00:00",
          "2019-06-13T00:00:00",
          "2019-06-14T00:00:00",
          "2019-06-15T00:00:00",
          "2019-06-16T00:00:00",
          "2019-06-17T00:00:00",
          "2019-06-18T00:00:00",
          "2019-06-19T00:00:00",
          "2019-06-20T00:00:00",
          "2019-06-21T00:00:00",
          "2019-06-22T00:00:00",
          "2019-06-23T00:00:00",
          "2019-06-24T00:00:00",
          "2019-06-25T00:00:00",
          "2019-06-26T00:00:00",
          "2019-06-27T00:00:00",
          "2019-06-28T00:00:00",
          "2019-06-29T00:00:00",
          "2019-06-30T00:00:00",
          "2019-06-08T00:00:00",
          "2019-06-09T00:00:00",
          "2019-06-10T00:00:00",
          "2019-06-11T00:00:00",
          "2019-06-12T00:00:00",
          "2019-06-13T00:00:00",
          "2019-06-14T00:00:00",
          "2019-06-15T00:00:00",
          "2019-06-16T00:00:00",
          "2019-06-17T00:00:00",
          "2019-06-18T00:00:00",
          "2019-06-19T00:00:00",
          "2019-06-20T00:00:00",
          "2019-06-21T00:00:00",
          "2019-06-22T00:00:00",
          "2019-06-23T00:00:00",
          "2019-06-24T00:00:00",
          "2019-06-25T00:00:00",
          "2019-06-26T00:00:00",
          "2019-06-27T00:00:00",
          "2019-06-28T00:00:00",
          "2019-06-29T00:00:00",
          "2019-06-30T00:00:00",
          "2019-06-09T00:00:00",
          "2019-06-10T00:00:00",
          "2019-06-11T00:00:00",
          "2019-06-12T00:00:00",
          "2019-06-13T00:00:00",
          "2019-06-14T00:00:00",
          "2019-06-15T00:00:00",
          "2019-06-16T00:00:00",
          "2019-06-17T00:00:00",
          "2019-06-18T00:00:00",
          "2019-06-19T00:00:00",
          "2019-06-20T00:00:00",
          "2019-06-21T00:00:00",
          "2019-06-22T00:00:00",
          "2019-06-23T00:00:00",
          "2019-06-24T00:00:00",
          "2019-06-25T00:00:00",
          "2019-06-26T00:00:00",
          "2019-06-27T00:00:00",
          "2019-06-28T00:00:00",
          "2019-06-29T00:00:00",
          "2019-06-30T00:00:00",
          "2019-06-10T00:00:00",
          "2019-06-11T00:00:00",
          "2019-06-12T00:00:00",
          "2019-06-13T00:00:00",
          "2019-06-14T00:00:00",
          "2019-06-15T00:00:00",
          "2019-06-16T00:00:00",
          "2019-06-17T00:00:00",
          "2019-06-18T00:00:00",
          "2019-06-19T00:00:00",
          "2019-06-20T00:00:00",
          "2019-06-21T00:00:00",
          "2019-06-22T00:00:00",
          "2019-06-23T00:00:00",
          "2019-06-24T00:00:00",
          "2019-06-25T00:00:00",
          "2019-06-26T00:00:00",
          "2019-06-27T00:00:00",
          "2019-06-28T00:00:00",
          "2019-06-29T00:00:00",
          "2019-06-30T00:00:00",
          "2019-06-11T00:00:00",
          "2019-06-12T00:00:00",
          "2019-06-13T00:00:00",
          "2019-06-14T00:00:00",
          "2019-06-15T00:00:00",
          "2019-06-16T00:00:00",
          "2019-06-17T00:00:00",
          "2019-06-18T00:00:00",
          "2019-06-19T00:00:00",
          "2019-06-20T00:00:00",
          "2019-06-21T00:00:00",
          "2019-06-22T00:00:00",
          "2019-06-23T00:00:00",
          "2019-06-24T00:00:00",
          "2019-06-25T00:00:00",
          "2019-06-26T00:00:00",
          "2019-06-27T00:00:00",
          "2019-06-28T00:00:00",
          "2019-06-29T00:00:00",
          "2019-06-30T00:00:00",
          "2019-06-12T00:00:00",
          "2019-06-13T00:00:00",
          "2019-06-14T00:00:00",
          "2019-06-15T00:00:00",
          "2019-06-16T00:00:00",
          "2019-06-17T00:00:00",
          "2019-06-18T00:00:00",
          "2019-06-19T00:00:00",
          "2019-06-20T00:00:00",
          "2019-06-21T00:00:00",
          "2019-06-22T00:00:00",
          "2019-06-23T00:00:00",
          "2019-06-24T00:00:00",
          "2019-06-25T00:00:00",
          "2019-06-26T00:00:00",
          "2019-06-27T00:00:00",
          "2019-06-28T00:00:00",
          "2019-06-29T00:00:00",
          "2019-06-30T00:00:00",
          "2019-06-13T00:00:00",
          "2019-06-14T00:00:00",
          "2019-06-15T00:00:00",
          "2019-06-16T00:00:00",
          "2019-06-17T00:00:00",
          "2019-06-18T00:00:00",
          "2019-06-19T00:00:00",
          "2019-06-20T00:00:00",
          "2019-06-21T00:00:00",
          "2019-06-22T00:00:00",
          "2019-06-23T00:00:00",
          "2019-06-24T00:00:00",
          "2019-06-25T00:00:00",
          "2019-06-26T00:00:00",
          "2019-06-27T00:00:00",
          "2019-06-28T00:00:00",
          "2019-06-29T00:00:00",
          "2019-06-30T00:00:00",
          "2019-06-14T00:00:00",
          "2019-06-15T00:00:00",
          "2019-06-16T00:00:00",
          "2019-06-17T00:00:00",
          "2019-06-18T00:00:00",
          "2019-06-19T00:00:00",
          "2019-06-20T00:00:00",
          "2019-06-21T00:00:00",
          "2019-06-22T00:00:00",
          "2019-06-23T00:00:00",
          "2019-06-24T00:00:00",
          "2019-06-25T00:00:00",
          "2019-06-26T00:00:00",
          "2019-06-27T00:00:00",
          "2019-06-28T00:00:00",
          "2019-06-29T00:00:00",
          "2019-06-30T00:00:00",
          "2019-06-15T00:00:00",
          "2019-06-16T00:00:00",
          "2019-06-17T00:00:00",
          "2019-06-18T00:00:00",
          "2019-06-19T00:00:00",
          "2019-06-20T00:00:00",
          "2019-06-21T00:00:00",
          "2019-06-22T00:00:00",
          "2019-06-23T00:00:00",
          "2019-06-24T00:00:00",
          "2019-06-25T00:00:00",
          "2019-06-26T00:00:00",
          "2019-06-27T00:00:00",
          "2019-06-28T00:00:00",
          "2019-06-29T00:00:00",
          "2019-06-30T00:00:00",
          "2019-06-16T00:00:00",
          "2019-06-17T00:00:00",
          "2019-06-18T00:00:00",
          "2019-06-19T00:00:00",
          "2019-06-20T00:00:00",
          "2019-06-21T00:00:00",
          "2019-06-22T00:00:00",
          "2019-06-23T00:00:00",
          "2019-06-24T00:00:00",
          "2019-06-25T00:00:00",
          "2019-06-26T00:00:00",
          "2019-06-27T00:00:00",
          "2019-06-28T00:00:00",
          "2019-06-29T00:00:00",
          "2019-06-30T00:00:00",
          "2019-06-17T00:00:00",
          "2019-06-18T00:00:00",
          "2019-06-19T00:00:00",
          "2019-06-20T00:00:00",
          "2019-06-21T00:00:00",
          "2019-06-22T00:00:00",
          "2019-06-23T00:00:00",
          "2019-06-24T00:00:00",
          "2019-06-25T00:00:00",
          "2019-06-26T00:00:00",
          "2019-06-27T00:00:00",
          "2019-06-28T00:00:00",
          "2019-06-29T00:00:00",
          "2019-06-30T00:00:00",
          "2019-06-18T00:00:00",
          "2019-06-19T00:00:00",
          "2019-06-20T00:00:00",
          "2019-06-21T00:00:00",
          "2019-06-22T00:00:00",
          "2019-06-23T00:00:00",
          "2019-06-24T00:00:00",
          "2019-06-25T00:00:00",
          "2019-06-26T00:00:00",
          "2019-06-27T00:00:00",
          "2019-06-28T00:00:00",
          "2019-06-29T00:00:00",
          "2019-06-30T00:00:00",
          "2019-06-19T00:00:00",
          "2019-06-20T00:00:00",
          "2019-06-21T00:00:00",
          "2019-06-22T00:00:00",
          "2019-06-23T00:00:00",
          "2019-06-24T00:00:00",
          "2019-06-25T00:00:00",
          "2019-06-26T00:00:00",
          "2019-06-27T00:00:00",
          "2019-06-28T00:00:00",
          "2019-06-29T00:00:00",
          "2019-06-30T00:00:00",
          "2019-06-20T00:00:00",
          "2019-06-21T00:00:00",
          "2019-06-22T00:00:00",
          "2019-06-23T00:00:00",
          "2019-06-24T00:00:00",
          "2019-06-25T00:00:00",
          "2019-06-26T00:00:00",
          "2019-06-27T00:00:00",
          "2019-06-28T00:00:00",
          "2019-06-29T00:00:00",
          "2019-06-30T00:00:00",
          "2019-06-21T00:00:00",
          "2019-06-22T00:00:00",
          "2019-06-23T00:00:00",
          "2019-06-24T00:00:00",
          "2019-06-25T00:00:00",
          "2019-06-26T00:00:00",
          "2019-06-27T00:00:00",
          "2019-06-28T00:00:00",
          "2019-06-29T00:00:00",
          "2019-06-30T00:00:00",
          "2019-06-22T00:00:00",
          "2019-06-23T00:00:00",
          "2019-06-24T00:00:00",
          "2019-06-25T00:00:00",
          "2019-06-26T00:00:00",
          "2019-06-27T00:00:00",
          "2019-06-28T00:00:00",
          "2019-06-29T00:00:00",
          "2019-06-30T00:00:00",
          "2019-06-23T00:00:00",
          "2019-06-24T00:00:00",
          "2019-06-25T00:00:00",
          "2019-06-26T00:00:00",
          "2019-06-27T00:00:00",
          "2019-06-28T00:00:00",
          "2019-06-29T00:00:00",
          "2019-06-30T00:00:00",
          "2019-06-24T00:00:00",
          "2019-06-25T00:00:00",
          "2019-06-26T00:00:00",
          "2019-06-27T00:00:00",
          "2019-06-28T00:00:00",
          "2019-06-29T00:00:00",
          "2019-06-30T00:00:00",
          "2019-06-25T00:00:00",
          "2019-06-26T00:00:00",
          "2019-06-27T00:00:00",
          "2019-06-28T00:00:00",
          "2019-06-29T00:00:00",
          "2019-06-30T00:00:00",
          "2019-06-26T00:00:00",
          "2019-06-27T00:00:00",
          "2019-06-28T00:00:00",
          "2019-06-29T00:00:00",
          "2019-06-30T00:00:00",
          "2019-06-27T00:00:00",
          "2019-06-28T00:00:00",
          "2019-06-29T00:00:00",
          "2019-06-30T00:00:00",
          "2019-06-28T00:00:00",
          "2019-06-29T00:00:00",
          "2019-06-30T00:00:00",
          "2019-06-29T00:00:00",
          "2019-06-30T00:00:00",
          "2019-06-30T00:00:00"
         ],
         "z": [
          0.9762931556632344,
          0.22234989503149055,
          0.6752302121055355,
          0.1883183153770813,
          0.3579735483870968,
          0.7171159217877096,
          0.09047420494699647,
          0.21342046431642303,
          0.2432130225080386,
          0.5701249151391717,
          0.056713688760806916,
          0.12647826086956523,
          0.043576349024110214,
          0.28064578313253014,
          0.6784262416604893,
          0.21596012269938653,
          0.05253615295480881,
          0.12643081155433286,
          0.15636929460580914,
          0.05398722358722359,
          0.8643300423131169,
          0.6868248299319728,
          0.2134013071895425,
          0.09307120253164557,
          0.24973774834437085,
          0.5241984304932735,
          0.15621535893155258,
          0.48833898305084744,
          0.3235155963302752,
          0.08383851744186047,
          0.437531007751938,
          0.2077172859450727,
          0.1642612481857765,
          0.29578063725490195,
          0.43991151385927507,
          0.6536290471785384,
          0,
          0.283805270863836,
          0.07471030303030303,
          0.31309498207885306,
          0.20062478777589135,
          0.3673676680972819,
          0.2769699140401146,
          0.41547363083164296,
          0.9101593137254903,
          0.06136770186335404,
          0.0764472613458529,
          0.05734462809917355,
          0.19636731107205624,
          0.0035622419928825625,
          0.19279909365558912,
          0.19213531353135313,
          0.19229027962716377,
          0.18665973665973667,
          0.8627951635846373,
          0.015248195652173913,
          0.2157638888888889,
          0.06004518201284797,
          0.10755577299412916,
          0.0661705882352941,
          0.05918372513562387,
          0.18291853211009174,
          0.2685253682487725,
          0.2076172839506173,
          0.34565983606557377,
          0.40587709923664117,
          0.13938439716312057,
          0.05334697247706422,
          0.07016129807692308,
          0.20109686800894855,
          0.13380381355932203,
          0.2684140625,
          0.57263539445629,
          0.2762350746268657,
          0.13729166666666667,
          0.16417898383371823,
          0.4333237847222222,
          0.7302851033499643,
          0.053765,
          0.0763979035639413,
          0.023539035532994926,
          0.5356407766990291,
          0.11971986143187067,
          0.059151086956521735,
          0.11935544794188861,
          0.33437901498929334,
          0.4412634408602151,
          0.1034781746031746,
          0.6933503480278422,
          0.09588441780821917,
          0.637194942903752,
          0.09668851174934726,
          0.033384265010351966,
          0.26928227146814404,
          0.19588624338624339,
          0.4655166240409207,
          0.03813481308411215,
          0.1498612987012987,
          0.2359607390300231,
          0.1044096870342772,
          0.07903536585365854,
          0.43152861035422346,
          0.44897114317425085,
          0.12404871323529412,
          0.7192152588555858,
          0.0682058201058201,
          0.45785138004246284,
          0.25194691011235953,
          0.23514701086956522,
          0.060162334217506636,
          0.1459651948051948,
          0.07129653179190752,
          0.05192570754716981,
          0.24687131782945737,
          0.24697043478260872,
          0.081214696485623,
          0.2175180240320427,
          0.11154660074165637,
          0.2377896373056995,
          0.9662057877813505,
          0.12203605633802816,
          0.01881778723404255,
          0.11876830769230769,
          0.12036925373134329,
          0.18902191011235953,
          0.6124787234042554,
          0.17451183431952663,
          0.13110973684210525,
          0.3606540983606557,
          0.14452745454545454,
          0.11013745704467352,
          0.05147110438729198,
          0.4949384384384385,
          0.30427008310249304,
          0.21254316546762592,
          0.9149648162627052,
          0.017432886297376094,
          0.19011379310344828,
          0.009822041420118343,
          0.06051988795518207,
          0.011810598290598292,
          0.5423601108033241,
          0.2566824615384615,
          0.26452680115273774,
          0.08399264150943396,
          0.15066,
          0.3236721611721612,
          0.5318613861386139,
          0.008616045751633987,
          0.10784,
          0.2096421188630491,
          0.32221251149954,
          0.8649066534260179,
          0,
          0,
          0.2970139751552795,
          0.12950238095238095,
          0.11584215116279069,
          0.026433948863636366,
          0.09568160535117057,
          0.0864060606060606,
          0.10235621301775147,
          0.0577183932346723,
          0.051232796780684105,
          0.33750919117647055,
          0.044684415584415584,
          0.4928007736943907,
          0.35715246636771303,
          0.12396,
          0.5510832408435072,
          0.8352039408866995,
          0.030795111821086265,
          0.03751829268292683,
          0.0555259375,
          0.12155819935691319,
          0.2837232142857143,
          0.10407642045454546,
          0.24694932885906043,
          0.15849260450160774,
          0.27274321503131527,
          0.10796568848758466,
          0.34320382165605096,
          0.10014724409448819,
          0.17604757085020242,
          0.5685167037861916,
          0.03839449081803005,
          0.12508148148148146,
          0.12976671875,
          0.27641694915254233,
          0.6420178217821783,
          0.04372582781456953,
          0,
          0.5613790849673203,
          0.23285281690140847,
          0.07164119601328904,
          0,
          0.07608556338028169,
          0.5636241830065359,
          0.05562052401746725,
          0.16482216981132078,
          0.17997576470588236,
          0.06793202614379085,
          0.2795210970464135,
          0.022794466019417477,
          0.7353205128205128,
          0.06916938775510204,
          0.725105734767025,
          0.24406298003072197,
          0.3564221748400853,
          0.7421100292112951,
          0.053522435897435904,
          0.005708962025316456,
          0.01803900355871886,
          0.18847058823529414,
          0.11539066666666666,
          0.02914570967741936,
          0.18267604166666668,
          0.01711464406779661,
          0.032635294117647054,
          0.17273451776649745,
          0.07398387909319899,
          0.11328225806451613,
          0.10525686746987953,
          0.12031627906976744,
          0.0639359756097561,
          0.04444990859232176,
          0.42142516268980473,
          0.33582046678635546,
          0.13891934097421202,
          0.1969110629067245,
          0.6876479820627802,
          0.058239383561643834,
          0.16278575268817205,
          0,
          0.040471897810218975,
          0.18808896797153024,
          0.2114718309859155,
          0.4325917602996254,
          0.39486496350364964,
          0.36992550790067724,
          0.059044386422976505,
          0.21084666666666665,
          0.15277635467980297,
          0.2779842105263158,
          0.17742917771883288,
          0.17238052738336712,
          0.21448022598870056,
          0.4954847775175644,
          0.12309956803455724,
          0.5352705667276051,
          0.08949274074074075,
          0.21149017199017198,
          0.5132070351758794,
          0.4899898648648649,
          0.022516328125,
          0.06341281138790035,
          0.11343207547169812,
          0.23290144927536233,
          0.05203594306049822,
          0.7093735408560311,
          0.08288097014925373,
          0.21205779816513762,
          0.1176445652173913,
          0.061725675675675676,
          0.2058140992167102,
          0.1437837912087912,
          0.0040267469879518075,
          0.02073071120689655,
          0.05448098159509203,
          0.010199718670076727,
          0.9242570093457944,
          0.17859288537549406,
          0.2673985765124555,
          0.257460370994941,
          0.2050503512880562,
          0.5795117967332123,
          0.21014154929577464,
          0.02290111111111111,
          0.1780010989010989,
          0.34498970588235295,
          0.1692379928315412,
          0.08125017182130584,
          0.22591634241245134,
          0.20222981818181818,
          0.22385160493827158,
          0.12935152354570637,
          0.0986928,
          0,
          0.18149014084507042,
          0.07367467948717948,
          0.061760620525059665,
          0.047369887640449436,
          0.8591597796143251,
          0.10350994897959183,
          0.04404351464435147,
          0.0958704684317719,
          0.23624612403100775,
          0.2073771626297578,
          0.11646436781609196,
          0.5767981888745148,
          0.021038614232209738,
          0.09818361111111111,
          0.04815,
          0.03603052434456929,
          0.06819172661870504,
          0.14132820512820513,
          0.1034203187250996,
          0,
          0.0537497461928934,
          0.041877259475218656,
          0.15459646739130434,
          0.06826576086956522,
          0.0806092261904762,
          0.5763047619047619,
          0.028732771084337347,
          0.03337995337995338,
          0.06436153846153847,
          0.23663169398907105,
          0.2635477855477855,
          0.6005229759299782,
          0.019187927107061506,
          0.11410987903225807,
          0.07047906626506024,
          0.12767951807228917,
          0.9478892086330936,
          0.043126007326007326,
          0.0501430303030303,
          0.32284813432835824,
          0.21836363636363637,
          0.07718939393939395,
          0.021375,
          0.08184,
          0.5174291338582677,
          0.01464182767624021,
          0.016698443113772454,
          0.04204017595307918,
          0.053597733711048166,
          0.110175,
          0.14339254237288138,
          0.10793279132791327,
          0.5232608695652173,
          0.005569849849849849,
          0.11823012048192771,
          0.09673565683646113,
          0.7558019093078758,
          0.47917357512953374,
          0.22089042056074767,
          0.219,
          0.1553163179916318,
          0.3074276206322796,
          1.516440460947503,
          0.17156775510204084,
          0.8055462962962964,
          0.02092616666666667,
          0,
          0.03936848249027237,
          0.215096511627907,
          0,
          0,
          0,
          0.03921437699680511,
          0.44359554140127383,
          0.018907538461538462,
          0.042091475409836064,
          0.01996413669064748,
          0.268824,
          0.0938278820375335,
          0.44465878378378376,
          0.4914372881355932,
          0.05659378531073446,
          0.08689567567567569,
          0.046839942528735634,
          0.2657921052631579,
          0.2335578947368421,
          0.010725980861244018,
          0.504562358276644,
          0.51735989010989,
          0.3527111111111111,
          0.7690083333333334,
          0.0650830303030303,
          0.04476228813559322,
          0.035659866666666665,
          0.06565416666666667,
          0.03198409638554217,
          0.13154337899543378,
          0,
          0.03618600583090379,
          0.1843130293159609,
          0.19664205298013246,
          0.029152515337423312,
          0.11193288135593221,
          0.09098326996197718,
          0.19040530973451325,
          0.15235694822888282,
          0.22926410256410257,
          0.1827518115942029,
          1.211625,
          0.33717086834733895,
          0.08740817610062893,
          0.04302609970674487,
          0.2543019801980198,
          0,
          0.12202465753424659,
          0.2559506903353057,
          0.10221041666666666,
          0.7524388398486759,
          0.12894775510204082,
          0.011850180722891566,
          0.05101336405529954,
          0.015291805555555557,
          0.2787097777777778,
          0.1085345238095238,
          0.04535885844748859,
          0.09331004366812226,
          0.06325772594752187,
          0.01644009900990099,
          0.11112006920415225,
          0.01920740614334471,
          0.04266389891696751,
          0.04155987179487179,
          0.047603303303303306,
          0.15645042492917846,
          0.007374980079681275,
          0.05676381322957198,
          0.1576436090225564,
          0.012322356495468279,
          0.12743583617747442,
          0.383005698005698,
          0.014359974293059127,
          0.23082837837837836,
          0.00909983552631579,
          0.3953827160493827,
          0.14872937743190662,
          0.09483103448275862,
          0.82192077294686,
          0.027441625615763545,
          0.05499150943396227,
          0,
          0.050696788990825685,
          0.04078807339449541,
          0.018373973214285716,
          0,
          0,
          0.06268739726027397,
          0.030824191419141913,
          0.06316788321167884,
          0.17968345070422534,
          0.08456074074074074,
          0.27366508620689656,
          0.15385917721518988,
          0.22858470254957505,
          0,
          0.10695322580645161,
          0.18346029411764708,
          0.49868686868686873,
          1.06545703125,
          0.1480657142857143,
          0.008326016713091923,
          0.5442762237762239,
          0.2820780821917808,
          0.0796399416909621,
          0.055625768321512996,
          0.3260727969348659,
          0.08457616033755275,
          0.8669224489795918,
          0.4031057142857143,
          0.029300510638297875,
          0,
          0,
          0.3136178899082569,
          0.1533873303167421,
          0.1142963133640553,
          0.21392672811059907,
          0,
          0.04446148409893993,
          0.10550970149253731,
          0.043726666666666664,
          0.31472980392156863,
          0.06413991031390134,
          0.0785108910891089,
          0.1226117469879518,
          0.09921198156682028,
          0.14956883116883118,
          0.1037138686131387,
          0.09439361702127659,
          0.03072686346863469,
          0.31404744525547446,
          0.4844923547400612,
          0.03521140625,
          0,
          0.566960244648318,
          0.39260277777777774,
          0.13693170731707316,
          0.07631552706552706,
          0.15254654377880184,
          0.5963677631578947,
          0.03449755681818182,
          0.3601930348258706,
          0.13107242990654205,
          0.3037418604651163,
          0.2839315270935961,
          0,
          0.028892789968652036,
          0.015431570881226053,
          0.11896124031007752,
          0.07303587786259542,
          0.024670873015873018,
          0.4292175355450237,
          0.19252872727272727,
          0.018126378737541526,
          0.09579727272727272,
          0.09240271493212669,
          0.020357714285714285,
          0,
          0.10731880341880343,
          0.2938008438818565,
          0.23742642140468226,
          0.7080933333333334,
          0.02576851851851852,
          0.03858032786885246,
          0.29784174757281556,
          0.23140877659574466,
          0.06903760683760683,
          0.17761731493099123,
          0,
          0,
          0.36381029411764704,
          0.5989170506912442,
          0.036037766990291265,
          0.08413514851485149,
          0.067952,
          0.07846854838709677,
          0.08846926229508197,
          0.26621176470588237,
          0.26401583333333334,
          0.09698155339805825,
          0.10659851851851852,
          0.2558592592592593,
          0.33934895833333334,
          0.027935258215962443,
          0.4055540425531915,
          0.09642065217391305,
          0.21013223140495865,
          0.5542222222222222,
          0.241218115942029,
          0.4635680952380952,
          0.034985526315789474,
          0.052696,
          0.019765950704225353,
          0.08897088235294118,
          0.15323935742971886,
          0.008242254160363087,
          0.05068444444444444,
          0.19320933333333334,
          0.10383796296296295,
          0.1252115,
          0.14292914572864324,
          0.018326786885245902,
          0,
          0.07463347280334727,
          0.02800350806451613,
          0,
          0.4773911330049261,
          0.06871098484848485,
          0.017864388489208634,
          0.05382385786802031,
          0,
          0.21519695652173912,
          0.019281346153846156,
          0.08103076923076924,
          0.6268436018957346,
          0.2632352272727273,
          0.06863807106598985,
          0.17351801801801803,
          0.22773346303501946,
          0.05615173745173745,
          0.06099503311258278,
          0.12515676274944568,
          0.1604177504393673,
          0.24692545454545453,
          0.10186145251396649,
          1.156721052631579,
          0.1466045226130653,
          0.04101877133105802,
          0.12193938053097345,
          0.09488614718614719,
          0.1471106719367589,
          0.008210542986425338,
          0.13553004926108375,
          0.022261468253968256,
          0,
          0.10447956989247312,
          0,
          0.17319386792452832,
          0.04841731601731602,
          0.04839162995594713,
          0.21137464114832538,
          0.04238053435114504,
          0.6229015544041451,
          0.44198252427184465,
          0.14337448559670785,
          0.06874936170212766,
          0.05938881118881119,
          0.08435196078431371,
          0.06773172147001934,
          0,
          0.07591875,
          0,
          0.18346363636363636,
          0.059001321585903085,
          0.08190645161290323,
          0.2771952586206896,
          0,
          0,
          0.2474257142857143,
          0.020414384057971014,
          0.03629383233532934,
          0,
          0.2911909090909091,
          0.010782403433476397,
          0.2804394230769231,
          0.024043028846153842,
          0.78441796875,
          0.1230080459770115,
          0.5669128205128205,
          0.07793991228070175,
          0.014726902654867256,
          0.220655223880597,
          0.07559289473684211,
          0.009994581673306774,
          0.06789303370786517,
          0.7881455696202532,
          0,
          0.04397025862068966,
          0.05734192139737991,
          0.04808053097345132,
          0.052793877551020406,
          0.33492173913043477,
          0,
          0.05142710622710623,
          0.15097784810126583,
          0.03043679347826087,
          0.030155268817204303,
          0.023713914893617023,
          0,
          0.02009663212435233,
          0.06960763052208835,
          0.2617126436781609,
          0.10374162436548223,
          0.22858316831683168,
          1.3643778801843318,
          0.07592367346938775,
          0.018080082644628098,
          0.07508255578093306,
          0.0786725,
          0.016262579185520362,
          0,
          0.051541013824884796,
          0.04218901785714286,
          0.03780447619047619,
          0.07183063583815029,
          0.051051476793248944,
          0.01293139534883721,
          0.0628297619047619,
          0.018068924731182795,
          0.02892487046632124,
          0.06578559670781893,
          0.002746137254901961,
          0.01777945355191257,
          0.018216965811965812,
          0.8583736263736264,
          0.40145833333333336,
          1.0145989583333332,
          0.11167500000000001,
          0.2142991902834008,
          0,
          0.012163730337078653,
          0,
          0.032168735632183906,
          0.037052115384615385,
          0.022722959641255605,
          0.05589414634146341,
          0.4967502824858757,
          0.14715263157894737,
          0.01780875518672199,
          0.07038650306748467,
          0.07934301675977654,
          0.14131581632653062,
          0.04576470046082949,
          0.1149476923076923,
          0.19717885714285716,
          0.13637387387387387,
          0.43942658959537567,
          0.15105632183908047,
          0,
          0.5060535714285714,
          0,
          0.38343046357615895,
          0.026631353919239906,
          0.2054861111111111,
          0.021358974358974357,
          0,
          0.03057781094527363,
          0,
          0.07805446428571429,
          0.06518468085106383,
          0.44138881578947364,
          0.1427927374301676,
          0,
          0,
          0.38337821229050284,
          0.003658660714285714,
          0.061334951456310675,
          0,
          0.3250240506329114,
          0.12105783783783784,
          0,
          0.6487350000000001,
          0.16691216216216215,
          0,
          0.04223926315789474,
          0.376689375,
          0.20346145833333332,
          0.08396235294117647,
          0.12157038834951457,
          0.23002657657657657,
          0.131244,
          0.04063185628742515,
          0.01106967213114754,
          0,
          0.021382947976878612,
          0,
          0.2770876237623762,
          0.089601875,
          0.0389225,
          0,
          0.029133505747126438,
          0.268091,
          0.1714320284697509,
          0.006250165745856354,
          0.4239939130434783,
          0.24769517241379307,
          0.012164411764705884,
          0.024906884422110556,
          0.10270394088669951,
          0,
          0.14372933333333335,
          0.21709702380952378,
          0.11946720430107527,
          0.06488982035928144,
          0.3735872611464968,
          0,
          0.09285310344827585,
          0.2350360544217687,
          1.2618520710059171,
          0.28029245283018867,
          0.432070351758794,
          0.1776228260869565,
          0.48917575757575754,
          0.14657422680412371,
          0.07995633802816901,
          0,
          0.07164147465437788,
          0,
          0.03518748299319728,
          0,
          0,
          0.8001547619047619,
          0.026969276315789475,
          0.06384705882352941,
          0.03935695652173913,
          0,
          0.42642738853503187,
          0.2300386206896552,
          0.4509491891891892,
          0.007671529850746268,
          0.12458770226537216,
          0.33362272727272724,
          0.1447953642384106,
          0.05432660098522167,
          0.1607830985915493,
          0.19168560606060606,
          0.06992418300653594,
          0.20291511627906977,
          0.19051,
          0.1887,
          0.09005297297297297,
          0.10629109589041096,
          0.09761428571428572,
          0,
          0.8010335570469799,
          0.38676685393258425,
          0.0701762962962963,
          0.06137814569536424,
          0.0940204716981132,
          0,
          0.1630865671641791,
          0,
          0.08539870967741936,
          0,
          0.0679358024691358,
          0.13848194444444445,
          0.027546629834254144,
          0.07368992805755396,
          0.32677375886524823,
          0.2031896103896104,
          0.037178561643835616,
          0.07096023391812865,
          0.16271031746031747,
          0.06512809364548494,
          0,
          0.0821239423076923,
          0.013694797297297296,
          0.12754473684210527,
          0,
          0.14282251655629138,
          0.13857933333333333,
          0,
          0.06922689655172413,
          0.2930549618320611,
          0.482988,
          1.0452916666666665,
          0.40051604938271607,
          0.6121652892561984,
          0.355292277992278,
          0.07048581081081082,
          0,
          0.22949797297297297,
          0.03554608187134503,
          0,
          0,
          0.1262278481012658,
          0,
          0.0274784,
          0.05010613333333334,
          0.05032378787878788,
          0.037874451612903225,
          0.12107873303167421,
          0.0416914498141264,
          0,
          0,
          0.07085,
          0.25175151515151517,
          0.19973015873015873,
          0.2637735849056604,
          0,
          0.05514401785714285,
          0.25430289855072463,
          0,
          0.21991156462585032,
          0.16467991071428573,
          0.4165354430379747,
          0.0528996,
          0.2238275,
          0.13454179104477612,
          0,
          0.5009532374100719,
          0.04141404958677686,
          0,
          0.19755390625,
          0,
          0.037729520547945206,
          0.5871461187214613,
          0,
          0.21202162162162164,
          0.08584767857142858,
          0.24790245901639343,
          0.030781476510067112,
          0.0900008849557522,
          0.06349,
          0.5837508064516128,
          0.034666347826086956,
          0.20440223880597017,
          0,
          0.29630779220779224,
          0.13969634146341464,
          0.19551862745098042,
          0.19679337748344372,
          0.03208390476190476,
          0.05418326732673267,
          0.47987627118644066,
          0,
          0.7509481481481481,
          0,
          0.3201204444444445,
          0,
          0.5137934579439253,
          0.12256336633663366,
          0,
          0.05737423728813559,
          0.2888590476190476,
          0,
          0.5161330049261084,
          0.02586381395348837,
          0.9165470588235295,
          0.19879397590361447,
          0.030257,
          1.1858543689320389,
          0.05119037735849056,
          0.5061935714285714,
          0,
          0,
          0.33777213114754095,
          0.07017370370370371,
          0,
          0,
          0.36593145161290325,
          0.1207367231638418,
          0.02619911214953271,
          0,
          0.3253153846153846,
          0,
          0,
          0.01632189349112426,
          0.014228380952380952,
          0.11619541666666666,
          0.04904118421052631,
          0.046519083333333336,
          0.7357904191616766,
          0.02814476683937824,
          0,
          0.3164724137931035,
          0,
          0,
          0.15830555555555556,
          0.2252496124031008,
          0,
          0.06134707865168539,
          0.06981944444444445,
          0.12642857142857145
         ]
        }
       ],
       "layout": {
        "template": {
         "data": {
          "bar": [
           {
            "error_x": {
             "color": "#2a3f5f"
            },
            "error_y": {
             "color": "#2a3f5f"
            },
            "marker": {
             "line": {
              "color": "#E5ECF6",
              "width": 0.5
             }
            },
            "type": "bar"
           }
          ],
          "barpolar": [
           {
            "marker": {
             "line": {
              "color": "#E5ECF6",
              "width": 0.5
             }
            },
            "type": "barpolar"
           }
          ],
          "carpet": [
           {
            "aaxis": {
             "endlinecolor": "#2a3f5f",
             "gridcolor": "white",
             "linecolor": "white",
             "minorgridcolor": "white",
             "startlinecolor": "#2a3f5f"
            },
            "baxis": {
             "endlinecolor": "#2a3f5f",
             "gridcolor": "white",
             "linecolor": "white",
             "minorgridcolor": "white",
             "startlinecolor": "#2a3f5f"
            },
            "type": "carpet"
           }
          ],
          "choropleth": [
           {
            "colorbar": {
             "outlinewidth": 0,
             "ticks": ""
            },
            "type": "choropleth"
           }
          ],
          "contour": [
           {
            "colorbar": {
             "outlinewidth": 0,
             "ticks": ""
            },
            "colorscale": [
             [
              0,
              "#0d0887"
             ],
             [
              0.1111111111111111,
              "#46039f"
             ],
             [
              0.2222222222222222,
              "#7201a8"
             ],
             [
              0.3333333333333333,
              "#9c179e"
             ],
             [
              0.4444444444444444,
              "#bd3786"
             ],
             [
              0.5555555555555556,
              "#d8576b"
             ],
             [
              0.6666666666666666,
              "#ed7953"
             ],
             [
              0.7777777777777778,
              "#fb9f3a"
             ],
             [
              0.8888888888888888,
              "#fdca26"
             ],
             [
              1,
              "#f0f921"
             ]
            ],
            "type": "contour"
           }
          ],
          "contourcarpet": [
           {
            "colorbar": {
             "outlinewidth": 0,
             "ticks": ""
            },
            "type": "contourcarpet"
           }
          ],
          "heatmap": [
           {
            "colorbar": {
             "outlinewidth": 0,
             "ticks": ""
            },
            "colorscale": [
             [
              0,
              "#0d0887"
             ],
             [
              0.1111111111111111,
              "#46039f"
             ],
             [
              0.2222222222222222,
              "#7201a8"
             ],
             [
              0.3333333333333333,
              "#9c179e"
             ],
             [
              0.4444444444444444,
              "#bd3786"
             ],
             [
              0.5555555555555556,
              "#d8576b"
             ],
             [
              0.6666666666666666,
              "#ed7953"
             ],
             [
              0.7777777777777778,
              "#fb9f3a"
             ],
             [
              0.8888888888888888,
              "#fdca26"
             ],
             [
              1,
              "#f0f921"
             ]
            ],
            "type": "heatmap"
           }
          ],
          "heatmapgl": [
           {
            "colorbar": {
             "outlinewidth": 0,
             "ticks": ""
            },
            "colorscale": [
             [
              0,
              "#0d0887"
             ],
             [
              0.1111111111111111,
              "#46039f"
             ],
             [
              0.2222222222222222,
              "#7201a8"
             ],
             [
              0.3333333333333333,
              "#9c179e"
             ],
             [
              0.4444444444444444,
              "#bd3786"
             ],
             [
              0.5555555555555556,
              "#d8576b"
             ],
             [
              0.6666666666666666,
              "#ed7953"
             ],
             [
              0.7777777777777778,
              "#fb9f3a"
             ],
             [
              0.8888888888888888,
              "#fdca26"
             ],
             [
              1,
              "#f0f921"
             ]
            ],
            "type": "heatmapgl"
           }
          ],
          "histogram": [
           {
            "marker": {
             "colorbar": {
              "outlinewidth": 0,
              "ticks": ""
             }
            },
            "type": "histogram"
           }
          ],
          "histogram2d": [
           {
            "colorbar": {
             "outlinewidth": 0,
             "ticks": ""
            },
            "colorscale": [
             [
              0,
              "#0d0887"
             ],
             [
              0.1111111111111111,
              "#46039f"
             ],
             [
              0.2222222222222222,
              "#7201a8"
             ],
             [
              0.3333333333333333,
              "#9c179e"
             ],
             [
              0.4444444444444444,
              "#bd3786"
             ],
             [
              0.5555555555555556,
              "#d8576b"
             ],
             [
              0.6666666666666666,
              "#ed7953"
             ],
             [
              0.7777777777777778,
              "#fb9f3a"
             ],
             [
              0.8888888888888888,
              "#fdca26"
             ],
             [
              1,
              "#f0f921"
             ]
            ],
            "type": "histogram2d"
           }
          ],
          "histogram2dcontour": [
           {
            "colorbar": {
             "outlinewidth": 0,
             "ticks": ""
            },
            "colorscale": [
             [
              0,
              "#0d0887"
             ],
             [
              0.1111111111111111,
              "#46039f"
             ],
             [
              0.2222222222222222,
              "#7201a8"
             ],
             [
              0.3333333333333333,
              "#9c179e"
             ],
             [
              0.4444444444444444,
              "#bd3786"
             ],
             [
              0.5555555555555556,
              "#d8576b"
             ],
             [
              0.6666666666666666,
              "#ed7953"
             ],
             [
              0.7777777777777778,
              "#fb9f3a"
             ],
             [
              0.8888888888888888,
              "#fdca26"
             ],
             [
              1,
              "#f0f921"
             ]
            ],
            "type": "histogram2dcontour"
           }
          ],
          "mesh3d": [
           {
            "colorbar": {
             "outlinewidth": 0,
             "ticks": ""
            },
            "type": "mesh3d"
           }
          ],
          "parcoords": [
           {
            "line": {
             "colorbar": {
              "outlinewidth": 0,
              "ticks": ""
             }
            },
            "type": "parcoords"
           }
          ],
          "pie": [
           {
            "automargin": true,
            "type": "pie"
           }
          ],
          "scatter": [
           {
            "marker": {
             "colorbar": {
              "outlinewidth": 0,
              "ticks": ""
             }
            },
            "type": "scatter"
           }
          ],
          "scatter3d": [
           {
            "line": {
             "colorbar": {
              "outlinewidth": 0,
              "ticks": ""
             }
            },
            "marker": {
             "colorbar": {
              "outlinewidth": 0,
              "ticks": ""
             }
            },
            "type": "scatter3d"
           }
          ],
          "scattercarpet": [
           {
            "marker": {
             "colorbar": {
              "outlinewidth": 0,
              "ticks": ""
             }
            },
            "type": "scattercarpet"
           }
          ],
          "scattergeo": [
           {
            "marker": {
             "colorbar": {
              "outlinewidth": 0,
              "ticks": ""
             }
            },
            "type": "scattergeo"
           }
          ],
          "scattergl": [
           {
            "marker": {
             "colorbar": {
              "outlinewidth": 0,
              "ticks": ""
             }
            },
            "type": "scattergl"
           }
          ],
          "scattermapbox": [
           {
            "marker": {
             "colorbar": {
              "outlinewidth": 0,
              "ticks": ""
             }
            },
            "type": "scattermapbox"
           }
          ],
          "scatterpolar": [
           {
            "marker": {
             "colorbar": {
              "outlinewidth": 0,
              "ticks": ""
             }
            },
            "type": "scatterpolar"
           }
          ],
          "scatterpolargl": [
           {
            "marker": {
             "colorbar": {
              "outlinewidth": 0,
              "ticks": ""
             }
            },
            "type": "scatterpolargl"
           }
          ],
          "scatterternary": [
           {
            "marker": {
             "colorbar": {
              "outlinewidth": 0,
              "ticks": ""
             }
            },
            "type": "scatterternary"
           }
          ],
          "surface": [
           {
            "colorbar": {
             "outlinewidth": 0,
             "ticks": ""
            },
            "colorscale": [
             [
              0,
              "#0d0887"
             ],
             [
              0.1111111111111111,
              "#46039f"
             ],
             [
              0.2222222222222222,
              "#7201a8"
             ],
             [
              0.3333333333333333,
              "#9c179e"
             ],
             [
              0.4444444444444444,
              "#bd3786"
             ],
             [
              0.5555555555555556,
              "#d8576b"
             ],
             [
              0.6666666666666666,
              "#ed7953"
             ],
             [
              0.7777777777777778,
              "#fb9f3a"
             ],
             [
              0.8888888888888888,
              "#fdca26"
             ],
             [
              1,
              "#f0f921"
             ]
            ],
            "type": "surface"
           }
          ],
          "table": [
           {
            "cells": {
             "fill": {
              "color": "#EBF0F8"
             },
             "line": {
              "color": "white"
             }
            },
            "header": {
             "fill": {
              "color": "#C8D4E3"
             },
             "line": {
              "color": "white"
             }
            },
            "type": "table"
           }
          ]
         },
         "layout": {
          "annotationdefaults": {
           "arrowcolor": "#2a3f5f",
           "arrowhead": 0,
           "arrowwidth": 1
          },
          "coloraxis": {
           "colorbar": {
            "outlinewidth": 0,
            "ticks": ""
           }
          },
          "colorscale": {
           "diverging": [
            [
             0,
             "#8e0152"
            ],
            [
             0.1,
             "#c51b7d"
            ],
            [
             0.2,
             "#de77ae"
            ],
            [
             0.3,
             "#f1b6da"
            ],
            [
             0.4,
             "#fde0ef"
            ],
            [
             0.5,
             "#f7f7f7"
            ],
            [
             0.6,
             "#e6f5d0"
            ],
            [
             0.7,
             "#b8e186"
            ],
            [
             0.8,
             "#7fbc41"
            ],
            [
             0.9,
             "#4d9221"
            ],
            [
             1,
             "#276419"
            ]
           ],
           "sequential": [
            [
             0,
             "#0d0887"
            ],
            [
             0.1111111111111111,
             "#46039f"
            ],
            [
             0.2222222222222222,
             "#7201a8"
            ],
            [
             0.3333333333333333,
             "#9c179e"
            ],
            [
             0.4444444444444444,
             "#bd3786"
            ],
            [
             0.5555555555555556,
             "#d8576b"
            ],
            [
             0.6666666666666666,
             "#ed7953"
            ],
            [
             0.7777777777777778,
             "#fb9f3a"
            ],
            [
             0.8888888888888888,
             "#fdca26"
            ],
            [
             1,
             "#f0f921"
            ]
           ],
           "sequentialminus": [
            [
             0,
             "#0d0887"
            ],
            [
             0.1111111111111111,
             "#46039f"
            ],
            [
             0.2222222222222222,
             "#7201a8"
            ],
            [
             0.3333333333333333,
             "#9c179e"
            ],
            [
             0.4444444444444444,
             "#bd3786"
            ],
            [
             0.5555555555555556,
             "#d8576b"
            ],
            [
             0.6666666666666666,
             "#ed7953"
            ],
            [
             0.7777777777777778,
             "#fb9f3a"
            ],
            [
             0.8888888888888888,
             "#fdca26"
            ],
            [
             1,
             "#f0f921"
            ]
           ]
          },
          "colorway": [
           "#636efa",
           "#EF553B",
           "#00cc96",
           "#ab63fa",
           "#FFA15A",
           "#19d3f3",
           "#FF6692",
           "#B6E880",
           "#FF97FF",
           "#FECB52"
          ],
          "font": {
           "color": "#2a3f5f"
          },
          "geo": {
           "bgcolor": "white",
           "lakecolor": "white",
           "landcolor": "#E5ECF6",
           "showlakes": true,
           "showland": true,
           "subunitcolor": "white"
          },
          "hoverlabel": {
           "align": "left"
          },
          "hovermode": "closest",
          "mapbox": {
           "style": "light"
          },
          "paper_bgcolor": "white",
          "plot_bgcolor": "#E5ECF6",
          "polar": {
           "angularaxis": {
            "gridcolor": "white",
            "linecolor": "white",
            "ticks": ""
           },
           "bgcolor": "#E5ECF6",
           "radialaxis": {
            "gridcolor": "white",
            "linecolor": "white",
            "ticks": ""
           }
          },
          "scene": {
           "xaxis": {
            "backgroundcolor": "#E5ECF6",
            "gridcolor": "white",
            "gridwidth": 2,
            "linecolor": "white",
            "showbackground": true,
            "ticks": "",
            "zerolinecolor": "white"
           },
           "yaxis": {
            "backgroundcolor": "#E5ECF6",
            "gridcolor": "white",
            "gridwidth": 2,
            "linecolor": "white",
            "showbackground": true,
            "ticks": "",
            "zerolinecolor": "white"
           },
           "zaxis": {
            "backgroundcolor": "#E5ECF6",
            "gridcolor": "white",
            "gridwidth": 2,
            "linecolor": "white",
            "showbackground": true,
            "ticks": "",
            "zerolinecolor": "white"
           }
          },
          "shapedefaults": {
           "line": {
            "color": "#2a3f5f"
           }
          },
          "ternary": {
           "aaxis": {
            "gridcolor": "white",
            "linecolor": "white",
            "ticks": ""
           },
           "baxis": {
            "gridcolor": "white",
            "linecolor": "white",
            "ticks": ""
           },
           "bgcolor": "#E5ECF6",
           "caxis": {
            "gridcolor": "white",
            "linecolor": "white",
            "ticks": ""
           }
          },
          "title": {
           "x": 0.05
          },
          "xaxis": {
           "automargin": true,
           "gridcolor": "white",
           "linecolor": "white",
           "ticks": "",
           "title": {
            "standoff": 15
           },
           "zerolinecolor": "white",
           "zerolinewidth": 2
          },
          "yaxis": {
           "automargin": true,
           "gridcolor": "white",
           "linecolor": "white",
           "ticks": "",
           "title": {
            "standoff": 15
           },
           "zerolinecolor": "white",
           "zerolinewidth": 2
          }
         }
        },
        "title": {
         "text": "Cohorts: ARPU"
        },
        "xaxis": {
         "dtick": 1,
         "title": {
          "text": "lifetime"
         }
        },
        "yaxis": {
         "tickmode": "linear",
         "title": {
          "text": "cohorts"
         }
        }
       }
      },
      "text/html": [
       "<div>\n",
       "        \n",
       "        \n",
       "            <div id=\"cd1985aa-96e9-44ed-9062-3670e9d3fa3b\" class=\"plotly-graph-div\" style=\"height:525px; width:100%;\"></div>\n",
       "            <script type=\"text/javascript\">\n",
       "                require([\"plotly\"], function(Plotly) {\n",
       "                    window.PLOTLYENV=window.PLOTLYENV || {};\n",
       "                    \n",
       "                if (document.getElementById(\"cd1985aa-96e9-44ed-9062-3670e9d3fa3b\")) {\n",
       "                    Plotly.newPlot(\n",
       "                        'cd1985aa-96e9-44ed-9062-3670e9d3fa3b',\n",
       "                        [{\"colorscale\": [[0.0, \"#440154\"], [0.1111111111111111, \"#482878\"], [0.2222222222222222, \"#3e4989\"], [0.3333333333333333, \"#31688e\"], [0.4444444444444444, \"#26828e\"], [0.5555555555555556, \"#1f9e89\"], [0.6666666666666666, \"#35b779\"], [0.7777777777777778, \"#6ece58\"], [0.8888888888888888, \"#b5de2b\"], [1.0, \"#fde725\"]], \"hovertemplate\": \"<b>Cohort</b>: %{y}<br><b>Lifetime</b>: %{x}<br><b>ARPU<b>: %{z:.2f} $<extra></extra>\", \"type\": \"heatmap\", \"x\": [0, 1, 0, 2, 1, 0, 3, 2, 1, 0, 4, 3, 2, 1, 0, 5, 4, 3, 2, 1, 0, 6, 5, 4, 3, 2, 1, 0, 7, 6, 5, 4, 3, 2, 1, 0, 8, 7, 6, 5, 4, 3, 2, 1, 0, 9, 8, 7, 6, 5, 4, 3, 2, 1, 0, 10, 9, 8, 7, 6, 5, 4, 3, 2, 1, 0, 11, 10, 9, 8, 7, 6, 5, 4, 3, 2, 1, 0, 12, 11, 10, 9, 8, 7, 6, 5, 4, 3, 2, 1, 0, 13, 12, 11, 10, 9, 8, 7, 6, 5, 4, 3, 2, 1, 0, 14, 13, 12, 11, 10, 9, 8, 7, 6, 5, 4, 3, 2, 1, 0, 15, 14, 13, 12, 11, 10, 9, 8, 7, 6, 5, 4, 3, 2, 1, 0, 16, 15, 14, 13, 12, 11, 10, 9, 8, 7, 6, 5, 4, 3, 2, 1, 0, 17, 16, 15, 14, 13, 12, 11, 10, 9, 8, 7, 6, 5, 4, 3, 2, 1, 0, 18, 17, 16, 15, 14, 13, 12, 11, 10, 9, 8, 7, 6, 5, 4, 3, 2, 1, 0, 19, 18, 17, 16, 15, 14, 13, 12, 11, 10, 9, 8, 7, 6, 5, 4, 3, 2, 1, 0, 20, 19, 18, 17, 16, 15, 14, 13, 12, 11, 10, 9, 8, 7, 6, 5, 4, 3, 2, 1, 0, 21, 20, 19, 18, 17, 16, 15, 14, 13, 12, 11, 10, 9, 8, 7, 6, 5, 4, 3, 2, 1, 0, 22, 21, 20, 19, 18, 17, 16, 15, 14, 13, 12, 11, 10, 9, 8, 7, 6, 5, 4, 3, 2, 1, 0, 23, 22, 21, 20, 19, 18, 17, 16, 15, 14, 13, 12, 11, 10, 9, 8, 7, 6, 5, 4, 3, 2, 1, 0, 24, 23, 22, 21, 20, 19, 18, 17, 16, 15, 14, 13, 12, 11, 10, 9, 8, 7, 6, 5, 4, 3, 2, 1, 0, 25, 24, 23, 22, 21, 20, 19, 18, 17, 16, 15, 14, 13, 12, 11, 10, 9, 8, 7, 6, 5, 4, 3, 2, 1, 0, 26, 25, 24, 23, 22, 21, 20, 19, 18, 17, 16, 15, 14, 13, 12, 11, 10, 9, 8, 7, 6, 5, 4, 3, 2, 1, 0, 27, 26, 25, 24, 23, 22, 21, 20, 19, 18, 17, 16, 15, 14, 13, 12, 11, 10, 9, 8, 7, 6, 5, 4, 3, 2, 1, 0, 28, 27, 26, 25, 24, 23, 22, 21, 20, 19, 18, 17, 16, 15, 14, 13, 12, 11, 10, 9, 8, 7, 6, 5, 4, 3, 2, 1, 0, 29, 28, 27, 26, 25, 24, 23, 22, 21, 20, 19, 18, 17, 16, 15, 14, 13, 12, 11, 10, 9, 8, 7, 6, 5, 4, 3, 2, 1, 0, 30, 29, 28, 27, 26, 25, 24, 23, 22, 21, 20, 19, 18, 17, 16, 15, 14, 13, 12, 11, 10, 9, 8, 7, 6, 5, 4, 3, 2, 1, 30, 29, 28, 27, 26, 25, 24, 23, 22, 21, 20, 19, 18, 17, 16, 15, 14, 13, 12, 11, 10, 9, 8, 7, 6, 5, 4, 3, 2, 30, 29, 28, 27, 26, 25, 24, 23, 22, 21, 20, 19, 18, 17, 16, 15, 14, 13, 12, 11, 10, 9, 8, 7, 6, 5, 4, 3, 30, 29, 28, 27, 26, 25, 24, 23, 22, 21, 20, 19, 18, 17, 16, 15, 14, 13, 12, 11, 10, 9, 8, 7, 6, 5, 4, 30, 29, 28, 27, 26, 25, 24, 23, 22, 21, 20, 19, 18, 17, 16, 15, 14, 13, 12, 11, 10, 9, 8, 7, 6, 5, 30, 29, 28, 27, 26, 25, 24, 23, 22, 21, 20, 19, 18, 17, 16, 15, 14, 13, 12, 11, 10, 9, 8, 7, 6, 30, 29, 28, 27, 26, 25, 24, 23, 22, 21, 20, 19, 18, 17, 16, 15, 14, 13, 12, 11, 10, 9, 8, 7, 30, 29, 28, 27, 26, 25, 24, 23, 22, 21, 20, 19, 18, 17, 16, 15, 14, 13, 12, 11, 10, 9, 8, 30, 29, 28, 27, 26, 25, 24, 23, 22, 21, 20, 19, 18, 17, 16, 15, 14, 13, 12, 11, 10, 9, 30, 29, 28, 27, 26, 25, 24, 23, 22, 21, 20, 19, 18, 17, 16, 15, 14, 13, 12, 11, 10, 30, 29, 28, 27, 26, 25, 24, 23, 22, 21, 20, 19, 18, 17, 16, 15, 14, 13, 12, 11, 30, 29, 28, 27, 26, 25, 24, 23, 22, 21, 20, 19, 18, 17, 16, 15, 14, 13, 12, 30, 29, 28, 27, 26, 25, 24, 23, 22, 21, 20, 19, 18, 17, 16, 15, 14, 13, 30, 29, 28, 27, 26, 25, 24, 23, 22, 21, 20, 19, 18, 17, 16, 15, 14, 30, 29, 28, 27, 26, 25, 24, 23, 22, 21, 20, 19, 18, 17, 16, 15, 30, 29, 28, 27, 26, 25, 24, 23, 22, 21, 20, 19, 18, 17, 16, 30, 29, 28, 27, 26, 25, 24, 23, 22, 21, 20, 19, 18, 17, 30, 29, 28, 27, 26, 25, 24, 23, 22, 21, 20, 19, 18, 30, 29, 28, 27, 26, 25, 24, 23, 22, 21, 20, 19, 30, 29, 28, 27, 26, 25, 24, 23, 22, 21, 20, 30, 29, 28, 27, 26, 25, 24, 23, 22, 21, 30, 29, 28, 27, 26, 25, 24, 23, 22, 30, 29, 28, 27, 26, 25, 24, 23, 30, 29, 28, 27, 26, 25, 24, 30, 29, 28, 27, 26, 25, 30, 29, 28, 27, 26, 30, 29, 28, 27, 30, 29, 28, 30, 29, 30], \"y\": [\"2019-06-01T00:00:00\", \"2019-06-01T00:00:00\", \"2019-06-02T00:00:00\", \"2019-06-01T00:00:00\", \"2019-06-02T00:00:00\", \"2019-06-03T00:00:00\", \"2019-06-01T00:00:00\", \"2019-06-02T00:00:00\", \"2019-06-03T00:00:00\", \"2019-06-04T00:00:00\", \"2019-06-01T00:00:00\", \"2019-06-02T00:00:00\", \"2019-06-03T00:00:00\", \"2019-06-04T00:00:00\", \"2019-06-05T00:00:00\", \"2019-06-01T00:00:00\", \"2019-06-02T00:00:00\", \"2019-06-03T00:00:00\", \"2019-06-04T00:00:00\", \"2019-06-05T00:00:00\", \"2019-06-06T00:00:00\", \"2019-06-01T00:00:00\", \"2019-06-02T00:00:00\", \"2019-06-03T00:00:00\", \"2019-06-04T00:00:00\", \"2019-06-05T00:00:00\", \"2019-06-06T00:00:00\", \"2019-06-07T00:00:00\", \"2019-06-01T00:00:00\", \"2019-06-02T00:00:00\", \"2019-06-03T00:00:00\", \"2019-06-04T00:00:00\", \"2019-06-05T00:00:00\", \"2019-06-06T00:00:00\", \"2019-06-07T00:00:00\", \"2019-06-08T00:00:00\", \"2019-06-01T00:00:00\", \"2019-06-02T00:00:00\", \"2019-06-03T00:00:00\", \"2019-06-04T00:00:00\", \"2019-06-05T00:00:00\", \"2019-06-06T00:00:00\", \"2019-06-07T00:00:00\", \"2019-06-08T00:00:00\", \"2019-06-09T00:00:00\", \"2019-06-01T00:00:00\", \"2019-06-02T00:00:00\", \"2019-06-03T00:00:00\", \"2019-06-04T00:00:00\", \"2019-06-05T00:00:00\", \"2019-06-06T00:00:00\", \"2019-06-07T00:00:00\", \"2019-06-08T00:00:00\", \"2019-06-09T00:00:00\", \"2019-06-10T00:00:00\", \"2019-06-01T00:00:00\", \"2019-06-02T00:00:00\", \"2019-06-03T00:00:00\", \"2019-06-04T00:00:00\", \"2019-06-05T00:00:00\", \"2019-06-06T00:00:00\", \"2019-06-07T00:00:00\", \"2019-06-08T00:00:00\", \"2019-06-09T00:00:00\", \"2019-06-10T00:00:00\", \"2019-06-11T00:00:00\", \"2019-06-01T00:00:00\", \"2019-06-02T00:00:00\", \"2019-06-03T00:00:00\", \"2019-06-04T00:00:00\", \"2019-06-05T00:00:00\", \"2019-06-06T00:00:00\", \"2019-06-07T00:00:00\", \"2019-06-08T00:00:00\", \"2019-06-09T00:00:00\", \"2019-06-10T00:00:00\", \"2019-06-11T00:00:00\", \"2019-06-12T00:00:00\", \"2019-06-01T00:00:00\", \"2019-06-02T00:00:00\", \"2019-06-03T00:00:00\", \"2019-06-04T00:00:00\", \"2019-06-05T00:00:00\", \"2019-06-06T00:00:00\", \"2019-06-07T00:00:00\", \"2019-06-08T00:00:00\", \"2019-06-09T00:00:00\", \"2019-06-10T00:00:00\", \"2019-06-11T00:00:00\", \"2019-06-12T00:00:00\", \"2019-06-13T00:00:00\", \"2019-06-01T00:00:00\", \"2019-06-02T00:00:00\", \"2019-06-03T00:00:00\", \"2019-06-04T00:00:00\", \"2019-06-05T00:00:00\", \"2019-06-06T00:00:00\", \"2019-06-07T00:00:00\", \"2019-06-08T00:00:00\", \"2019-06-09T00:00:00\", \"2019-06-10T00:00:00\", \"2019-06-11T00:00:00\", \"2019-06-12T00:00:00\", \"2019-06-13T00:00:00\", \"2019-06-14T00:00:00\", \"2019-06-01T00:00:00\", \"2019-06-02T00:00:00\", \"2019-06-03T00:00:00\", \"2019-06-04T00:00:00\", \"2019-06-05T00:00:00\", \"2019-06-06T00:00:00\", \"2019-06-07T00:00:00\", \"2019-06-08T00:00:00\", \"2019-06-09T00:00:00\", \"2019-06-10T00:00:00\", \"2019-06-11T00:00:00\", \"2019-06-12T00:00:00\", \"2019-06-13T00:00:00\", \"2019-06-14T00:00:00\", \"2019-06-15T00:00:00\", \"2019-06-01T00:00:00\", \"2019-06-02T00:00:00\", \"2019-06-03T00:00:00\", \"2019-06-04T00:00:00\", \"2019-06-05T00:00:00\", \"2019-06-06T00:00:00\", \"2019-06-07T00:00:00\", \"2019-06-08T00:00:00\", \"2019-06-09T00:00:00\", \"2019-06-10T00:00:00\", \"2019-06-11T00:00:00\", \"2019-06-12T00:00:00\", \"2019-06-13T00:00:00\", \"2019-06-14T00:00:00\", \"2019-06-15T00:00:00\", \"2019-06-16T00:00:00\", \"2019-06-01T00:00:00\", \"2019-06-02T00:00:00\", \"2019-06-03T00:00:00\", \"2019-06-04T00:00:00\", \"2019-06-05T00:00:00\", \"2019-06-06T00:00:00\", \"2019-06-07T00:00:00\", \"2019-06-08T00:00:00\", \"2019-06-09T00:00:00\", \"2019-06-10T00:00:00\", \"2019-06-11T00:00:00\", \"2019-06-12T00:00:00\", \"2019-06-13T00:00:00\", \"2019-06-14T00:00:00\", \"2019-06-15T00:00:00\", \"2019-06-16T00:00:00\", \"2019-06-17T00:00:00\", \"2019-06-01T00:00:00\", \"2019-06-02T00:00:00\", \"2019-06-03T00:00:00\", \"2019-06-04T00:00:00\", \"2019-06-05T00:00:00\", \"2019-06-06T00:00:00\", \"2019-06-07T00:00:00\", \"2019-06-08T00:00:00\", \"2019-06-09T00:00:00\", \"2019-06-10T00:00:00\", \"2019-06-11T00:00:00\", \"2019-06-12T00:00:00\", \"2019-06-13T00:00:00\", \"2019-06-14T00:00:00\", \"2019-06-15T00:00:00\", \"2019-06-16T00:00:00\", \"2019-06-17T00:00:00\", \"2019-06-18T00:00:00\", \"2019-06-01T00:00:00\", \"2019-06-02T00:00:00\", \"2019-06-03T00:00:00\", \"2019-06-04T00:00:00\", \"2019-06-05T00:00:00\", \"2019-06-06T00:00:00\", \"2019-06-07T00:00:00\", \"2019-06-08T00:00:00\", \"2019-06-09T00:00:00\", \"2019-06-10T00:00:00\", \"2019-06-11T00:00:00\", \"2019-06-12T00:00:00\", \"2019-06-13T00:00:00\", \"2019-06-14T00:00:00\", \"2019-06-15T00:00:00\", \"2019-06-16T00:00:00\", \"2019-06-17T00:00:00\", \"2019-06-18T00:00:00\", \"2019-06-19T00:00:00\", \"2019-06-01T00:00:00\", \"2019-06-02T00:00:00\", \"2019-06-03T00:00:00\", \"2019-06-04T00:00:00\", \"2019-06-05T00:00:00\", \"2019-06-06T00:00:00\", \"2019-06-07T00:00:00\", \"2019-06-08T00:00:00\", \"2019-06-09T00:00:00\", \"2019-06-10T00:00:00\", \"2019-06-11T00:00:00\", \"2019-06-12T00:00:00\", \"2019-06-13T00:00:00\", \"2019-06-14T00:00:00\", \"2019-06-15T00:00:00\", \"2019-06-16T00:00:00\", \"2019-06-17T00:00:00\", \"2019-06-18T00:00:00\", \"2019-06-19T00:00:00\", \"2019-06-20T00:00:00\", \"2019-06-01T00:00:00\", \"2019-06-02T00:00:00\", \"2019-06-03T00:00:00\", \"2019-06-04T00:00:00\", \"2019-06-05T00:00:00\", \"2019-06-06T00:00:00\", \"2019-06-07T00:00:00\", \"2019-06-08T00:00:00\", \"2019-06-09T00:00:00\", \"2019-06-10T00:00:00\", \"2019-06-11T00:00:00\", \"2019-06-12T00:00:00\", \"2019-06-13T00:00:00\", \"2019-06-14T00:00:00\", \"2019-06-15T00:00:00\", \"2019-06-16T00:00:00\", \"2019-06-17T00:00:00\", \"2019-06-18T00:00:00\", \"2019-06-19T00:00:00\", \"2019-06-20T00:00:00\", \"2019-06-21T00:00:00\", \"2019-06-01T00:00:00\", \"2019-06-02T00:00:00\", \"2019-06-03T00:00:00\", \"2019-06-04T00:00:00\", \"2019-06-05T00:00:00\", \"2019-06-06T00:00:00\", \"2019-06-07T00:00:00\", \"2019-06-08T00:00:00\", \"2019-06-09T00:00:00\", \"2019-06-10T00:00:00\", \"2019-06-11T00:00:00\", \"2019-06-12T00:00:00\", \"2019-06-13T00:00:00\", \"2019-06-14T00:00:00\", \"2019-06-15T00:00:00\", \"2019-06-16T00:00:00\", \"2019-06-17T00:00:00\", \"2019-06-18T00:00:00\", \"2019-06-19T00:00:00\", \"2019-06-20T00:00:00\", \"2019-06-21T00:00:00\", \"2019-06-22T00:00:00\", \"2019-06-01T00:00:00\", \"2019-06-02T00:00:00\", \"2019-06-03T00:00:00\", \"2019-06-04T00:00:00\", \"2019-06-05T00:00:00\", \"2019-06-06T00:00:00\", \"2019-06-07T00:00:00\", \"2019-06-08T00:00:00\", \"2019-06-09T00:00:00\", \"2019-06-10T00:00:00\", \"2019-06-11T00:00:00\", \"2019-06-12T00:00:00\", \"2019-06-13T00:00:00\", \"2019-06-14T00:00:00\", \"2019-06-15T00:00:00\", \"2019-06-16T00:00:00\", \"2019-06-17T00:00:00\", \"2019-06-18T00:00:00\", \"2019-06-19T00:00:00\", \"2019-06-20T00:00:00\", \"2019-06-21T00:00:00\", \"2019-06-22T00:00:00\", \"2019-06-23T00:00:00\", \"2019-06-01T00:00:00\", \"2019-06-02T00:00:00\", \"2019-06-03T00:00:00\", \"2019-06-04T00:00:00\", \"2019-06-05T00:00:00\", \"2019-06-06T00:00:00\", \"2019-06-07T00:00:00\", \"2019-06-08T00:00:00\", \"2019-06-09T00:00:00\", \"2019-06-10T00:00:00\", \"2019-06-11T00:00:00\", \"2019-06-12T00:00:00\", \"2019-06-13T00:00:00\", \"2019-06-14T00:00:00\", \"2019-06-15T00:00:00\", \"2019-06-16T00:00:00\", \"2019-06-17T00:00:00\", \"2019-06-18T00:00:00\", \"2019-06-19T00:00:00\", \"2019-06-20T00:00:00\", \"2019-06-21T00:00:00\", \"2019-06-22T00:00:00\", \"2019-06-23T00:00:00\", \"2019-06-24T00:00:00\", \"2019-06-01T00:00:00\", \"2019-06-02T00:00:00\", \"2019-06-03T00:00:00\", \"2019-06-04T00:00:00\", \"2019-06-05T00:00:00\", \"2019-06-06T00:00:00\", \"2019-06-07T00:00:00\", \"2019-06-08T00:00:00\", \"2019-06-09T00:00:00\", \"2019-06-10T00:00:00\", \"2019-06-11T00:00:00\", \"2019-06-12T00:00:00\", \"2019-06-13T00:00:00\", \"2019-06-14T00:00:00\", \"2019-06-15T00:00:00\", \"2019-06-16T00:00:00\", \"2019-06-17T00:00:00\", \"2019-06-18T00:00:00\", \"2019-06-19T00:00:00\", \"2019-06-20T00:00:00\", \"2019-06-21T00:00:00\", \"2019-06-22T00:00:00\", \"2019-06-23T00:00:00\", \"2019-06-24T00:00:00\", \"2019-06-25T00:00:00\", \"2019-06-01T00:00:00\", \"2019-06-02T00:00:00\", \"2019-06-03T00:00:00\", \"2019-06-04T00:00:00\", \"2019-06-05T00:00:00\", \"2019-06-06T00:00:00\", \"2019-06-07T00:00:00\", \"2019-06-08T00:00:00\", \"2019-06-09T00:00:00\", \"2019-06-10T00:00:00\", \"2019-06-11T00:00:00\", \"2019-06-12T00:00:00\", \"2019-06-13T00:00:00\", \"2019-06-14T00:00:00\", \"2019-06-15T00:00:00\", \"2019-06-16T00:00:00\", \"2019-06-17T00:00:00\", \"2019-06-18T00:00:00\", \"2019-06-19T00:00:00\", \"2019-06-20T00:00:00\", \"2019-06-21T00:00:00\", \"2019-06-22T00:00:00\", \"2019-06-23T00:00:00\", \"2019-06-24T00:00:00\", \"2019-06-25T00:00:00\", \"2019-06-26T00:00:00\", \"2019-06-01T00:00:00\", \"2019-06-02T00:00:00\", \"2019-06-03T00:00:00\", \"2019-06-04T00:00:00\", \"2019-06-05T00:00:00\", \"2019-06-06T00:00:00\", \"2019-06-07T00:00:00\", \"2019-06-08T00:00:00\", \"2019-06-09T00:00:00\", \"2019-06-10T00:00:00\", \"2019-06-11T00:00:00\", \"2019-06-12T00:00:00\", \"2019-06-13T00:00:00\", \"2019-06-14T00:00:00\", \"2019-06-15T00:00:00\", \"2019-06-16T00:00:00\", \"2019-06-17T00:00:00\", \"2019-06-18T00:00:00\", \"2019-06-19T00:00:00\", \"2019-06-20T00:00:00\", \"2019-06-21T00:00:00\", \"2019-06-22T00:00:00\", \"2019-06-23T00:00:00\", \"2019-06-24T00:00:00\", \"2019-06-25T00:00:00\", \"2019-06-26T00:00:00\", \"2019-06-27T00:00:00\", \"2019-06-01T00:00:00\", \"2019-06-02T00:00:00\", \"2019-06-03T00:00:00\", \"2019-06-04T00:00:00\", \"2019-06-05T00:00:00\", \"2019-06-06T00:00:00\", \"2019-06-07T00:00:00\", \"2019-06-08T00:00:00\", \"2019-06-09T00:00:00\", \"2019-06-10T00:00:00\", \"2019-06-11T00:00:00\", \"2019-06-12T00:00:00\", \"2019-06-13T00:00:00\", \"2019-06-14T00:00:00\", \"2019-06-15T00:00:00\", \"2019-06-16T00:00:00\", \"2019-06-17T00:00:00\", \"2019-06-18T00:00:00\", \"2019-06-19T00:00:00\", \"2019-06-20T00:00:00\", \"2019-06-21T00:00:00\", \"2019-06-22T00:00:00\", \"2019-06-23T00:00:00\", \"2019-06-24T00:00:00\", \"2019-06-25T00:00:00\", \"2019-06-26T00:00:00\", \"2019-06-27T00:00:00\", \"2019-06-28T00:00:00\", \"2019-06-01T00:00:00\", \"2019-06-02T00:00:00\", \"2019-06-03T00:00:00\", \"2019-06-04T00:00:00\", \"2019-06-05T00:00:00\", \"2019-06-06T00:00:00\", \"2019-06-07T00:00:00\", \"2019-06-08T00:00:00\", \"2019-06-09T00:00:00\", \"2019-06-10T00:00:00\", \"2019-06-11T00:00:00\", \"2019-06-12T00:00:00\", \"2019-06-13T00:00:00\", \"2019-06-14T00:00:00\", \"2019-06-15T00:00:00\", \"2019-06-16T00:00:00\", \"2019-06-17T00:00:00\", \"2019-06-18T00:00:00\", \"2019-06-19T00:00:00\", \"2019-06-20T00:00:00\", \"2019-06-21T00:00:00\", \"2019-06-22T00:00:00\", \"2019-06-23T00:00:00\", \"2019-06-24T00:00:00\", \"2019-06-25T00:00:00\", \"2019-06-26T00:00:00\", \"2019-06-27T00:00:00\", \"2019-06-28T00:00:00\", \"2019-06-29T00:00:00\", \"2019-06-01T00:00:00\", \"2019-06-02T00:00:00\", \"2019-06-03T00:00:00\", \"2019-06-04T00:00:00\", \"2019-06-05T00:00:00\", \"2019-06-06T00:00:00\", \"2019-06-07T00:00:00\", \"2019-06-08T00:00:00\", \"2019-06-09T00:00:00\", \"2019-06-10T00:00:00\", \"2019-06-11T00:00:00\", \"2019-06-12T00:00:00\", \"2019-06-13T00:00:00\", \"2019-06-14T00:00:00\", \"2019-06-15T00:00:00\", \"2019-06-16T00:00:00\", \"2019-06-17T00:00:00\", \"2019-06-18T00:00:00\", \"2019-06-19T00:00:00\", \"2019-06-20T00:00:00\", \"2019-06-21T00:00:00\", \"2019-06-22T00:00:00\", \"2019-06-23T00:00:00\", \"2019-06-24T00:00:00\", \"2019-06-25T00:00:00\", \"2019-06-26T00:00:00\", \"2019-06-27T00:00:00\", \"2019-06-28T00:00:00\", \"2019-06-29T00:00:00\", \"2019-06-30T00:00:00\", \"2019-06-01T00:00:00\", \"2019-06-02T00:00:00\", \"2019-06-03T00:00:00\", \"2019-06-04T00:00:00\", \"2019-06-05T00:00:00\", \"2019-06-06T00:00:00\", \"2019-06-07T00:00:00\", \"2019-06-08T00:00:00\", \"2019-06-09T00:00:00\", \"2019-06-10T00:00:00\", \"2019-06-11T00:00:00\", \"2019-06-12T00:00:00\", \"2019-06-13T00:00:00\", \"2019-06-14T00:00:00\", \"2019-06-15T00:00:00\", \"2019-06-16T00:00:00\", \"2019-06-17T00:00:00\", \"2019-06-18T00:00:00\", \"2019-06-19T00:00:00\", \"2019-06-20T00:00:00\", \"2019-06-21T00:00:00\", \"2019-06-22T00:00:00\", \"2019-06-23T00:00:00\", \"2019-06-24T00:00:00\", \"2019-06-25T00:00:00\", \"2019-06-26T00:00:00\", \"2019-06-27T00:00:00\", \"2019-06-28T00:00:00\", \"2019-06-29T00:00:00\", \"2019-06-30T00:00:00\", \"2019-06-02T00:00:00\", \"2019-06-03T00:00:00\", \"2019-06-04T00:00:00\", \"2019-06-05T00:00:00\", \"2019-06-06T00:00:00\", \"2019-06-07T00:00:00\", \"2019-06-08T00:00:00\", \"2019-06-09T00:00:00\", \"2019-06-10T00:00:00\", \"2019-06-11T00:00:00\", \"2019-06-12T00:00:00\", \"2019-06-13T00:00:00\", \"2019-06-14T00:00:00\", \"2019-06-15T00:00:00\", \"2019-06-16T00:00:00\", \"2019-06-17T00:00:00\", \"2019-06-18T00:00:00\", \"2019-06-19T00:00:00\", \"2019-06-20T00:00:00\", \"2019-06-21T00:00:00\", \"2019-06-22T00:00:00\", \"2019-06-23T00:00:00\", \"2019-06-24T00:00:00\", \"2019-06-25T00:00:00\", \"2019-06-26T00:00:00\", \"2019-06-27T00:00:00\", \"2019-06-28T00:00:00\", \"2019-06-29T00:00:00\", \"2019-06-30T00:00:00\", \"2019-06-03T00:00:00\", \"2019-06-04T00:00:00\", \"2019-06-05T00:00:00\", \"2019-06-06T00:00:00\", \"2019-06-07T00:00:00\", \"2019-06-08T00:00:00\", \"2019-06-09T00:00:00\", \"2019-06-10T00:00:00\", \"2019-06-11T00:00:00\", \"2019-06-12T00:00:00\", \"2019-06-13T00:00:00\", \"2019-06-14T00:00:00\", \"2019-06-15T00:00:00\", \"2019-06-16T00:00:00\", \"2019-06-17T00:00:00\", \"2019-06-18T00:00:00\", \"2019-06-19T00:00:00\", \"2019-06-20T00:00:00\", \"2019-06-21T00:00:00\", \"2019-06-22T00:00:00\", \"2019-06-23T00:00:00\", \"2019-06-24T00:00:00\", \"2019-06-25T00:00:00\", \"2019-06-26T00:00:00\", \"2019-06-27T00:00:00\", \"2019-06-28T00:00:00\", \"2019-06-29T00:00:00\", \"2019-06-30T00:00:00\", \"2019-06-04T00:00:00\", \"2019-06-05T00:00:00\", \"2019-06-06T00:00:00\", \"2019-06-07T00:00:00\", \"2019-06-08T00:00:00\", \"2019-06-09T00:00:00\", \"2019-06-10T00:00:00\", \"2019-06-11T00:00:00\", \"2019-06-12T00:00:00\", \"2019-06-13T00:00:00\", \"2019-06-14T00:00:00\", \"2019-06-15T00:00:00\", \"2019-06-16T00:00:00\", \"2019-06-17T00:00:00\", \"2019-06-18T00:00:00\", \"2019-06-19T00:00:00\", \"2019-06-20T00:00:00\", \"2019-06-21T00:00:00\", \"2019-06-22T00:00:00\", \"2019-06-23T00:00:00\", \"2019-06-24T00:00:00\", \"2019-06-25T00:00:00\", \"2019-06-26T00:00:00\", \"2019-06-27T00:00:00\", \"2019-06-28T00:00:00\", \"2019-06-29T00:00:00\", \"2019-06-30T00:00:00\", \"2019-06-05T00:00:00\", \"2019-06-06T00:00:00\", \"2019-06-07T00:00:00\", \"2019-06-08T00:00:00\", \"2019-06-09T00:00:00\", \"2019-06-10T00:00:00\", \"2019-06-11T00:00:00\", \"2019-06-12T00:00:00\", \"2019-06-13T00:00:00\", \"2019-06-14T00:00:00\", \"2019-06-15T00:00:00\", \"2019-06-16T00:00:00\", \"2019-06-17T00:00:00\", \"2019-06-18T00:00:00\", \"2019-06-19T00:00:00\", \"2019-06-20T00:00:00\", \"2019-06-21T00:00:00\", \"2019-06-22T00:00:00\", \"2019-06-23T00:00:00\", \"2019-06-24T00:00:00\", \"2019-06-25T00:00:00\", \"2019-06-26T00:00:00\", \"2019-06-27T00:00:00\", \"2019-06-28T00:00:00\", \"2019-06-29T00:00:00\", \"2019-06-30T00:00:00\", \"2019-06-06T00:00:00\", \"2019-06-07T00:00:00\", \"2019-06-08T00:00:00\", \"2019-06-09T00:00:00\", \"2019-06-10T00:00:00\", \"2019-06-11T00:00:00\", \"2019-06-12T00:00:00\", \"2019-06-13T00:00:00\", \"2019-06-14T00:00:00\", \"2019-06-15T00:00:00\", \"2019-06-16T00:00:00\", \"2019-06-17T00:00:00\", \"2019-06-18T00:00:00\", \"2019-06-19T00:00:00\", \"2019-06-20T00:00:00\", \"2019-06-21T00:00:00\", \"2019-06-22T00:00:00\", \"2019-06-23T00:00:00\", \"2019-06-24T00:00:00\", \"2019-06-25T00:00:00\", \"2019-06-26T00:00:00\", \"2019-06-27T00:00:00\", \"2019-06-28T00:00:00\", \"2019-06-29T00:00:00\", \"2019-06-30T00:00:00\", \"2019-06-07T00:00:00\", \"2019-06-08T00:00:00\", \"2019-06-09T00:00:00\", \"2019-06-10T00:00:00\", \"2019-06-11T00:00:00\", \"2019-06-12T00:00:00\", \"2019-06-13T00:00:00\", \"2019-06-14T00:00:00\", \"2019-06-15T00:00:00\", \"2019-06-16T00:00:00\", \"2019-06-17T00:00:00\", \"2019-06-18T00:00:00\", \"2019-06-19T00:00:00\", \"2019-06-20T00:00:00\", \"2019-06-21T00:00:00\", \"2019-06-22T00:00:00\", \"2019-06-23T00:00:00\", \"2019-06-24T00:00:00\", \"2019-06-25T00:00:00\", \"2019-06-26T00:00:00\", \"2019-06-27T00:00:00\", \"2019-06-28T00:00:00\", \"2019-06-29T00:00:00\", \"2019-06-30T00:00:00\", \"2019-06-08T00:00:00\", \"2019-06-09T00:00:00\", \"2019-06-10T00:00:00\", \"2019-06-11T00:00:00\", \"2019-06-12T00:00:00\", \"2019-06-13T00:00:00\", \"2019-06-14T00:00:00\", \"2019-06-15T00:00:00\", \"2019-06-16T00:00:00\", \"2019-06-17T00:00:00\", \"2019-06-18T00:00:00\", \"2019-06-19T00:00:00\", \"2019-06-20T00:00:00\", \"2019-06-21T00:00:00\", \"2019-06-22T00:00:00\", \"2019-06-23T00:00:00\", \"2019-06-24T00:00:00\", \"2019-06-25T00:00:00\", \"2019-06-26T00:00:00\", \"2019-06-27T00:00:00\", \"2019-06-28T00:00:00\", \"2019-06-29T00:00:00\", \"2019-06-30T00:00:00\", \"2019-06-09T00:00:00\", \"2019-06-10T00:00:00\", \"2019-06-11T00:00:00\", \"2019-06-12T00:00:00\", \"2019-06-13T00:00:00\", \"2019-06-14T00:00:00\", \"2019-06-15T00:00:00\", \"2019-06-16T00:00:00\", \"2019-06-17T00:00:00\", \"2019-06-18T00:00:00\", \"2019-06-19T00:00:00\", \"2019-06-20T00:00:00\", \"2019-06-21T00:00:00\", \"2019-06-22T00:00:00\", \"2019-06-23T00:00:00\", \"2019-06-24T00:00:00\", \"2019-06-25T00:00:00\", \"2019-06-26T00:00:00\", \"2019-06-27T00:00:00\", \"2019-06-28T00:00:00\", \"2019-06-29T00:00:00\", \"2019-06-30T00:00:00\", \"2019-06-10T00:00:00\", \"2019-06-11T00:00:00\", \"2019-06-12T00:00:00\", \"2019-06-13T00:00:00\", \"2019-06-14T00:00:00\", \"2019-06-15T00:00:00\", \"2019-06-16T00:00:00\", \"2019-06-17T00:00:00\", \"2019-06-18T00:00:00\", \"2019-06-19T00:00:00\", \"2019-06-20T00:00:00\", \"2019-06-21T00:00:00\", \"2019-06-22T00:00:00\", \"2019-06-23T00:00:00\", \"2019-06-24T00:00:00\", \"2019-06-25T00:00:00\", \"2019-06-26T00:00:00\", \"2019-06-27T00:00:00\", \"2019-06-28T00:00:00\", \"2019-06-29T00:00:00\", \"2019-06-30T00:00:00\", \"2019-06-11T00:00:00\", \"2019-06-12T00:00:00\", \"2019-06-13T00:00:00\", \"2019-06-14T00:00:00\", \"2019-06-15T00:00:00\", \"2019-06-16T00:00:00\", \"2019-06-17T00:00:00\", \"2019-06-18T00:00:00\", \"2019-06-19T00:00:00\", \"2019-06-20T00:00:00\", \"2019-06-21T00:00:00\", \"2019-06-22T00:00:00\", \"2019-06-23T00:00:00\", \"2019-06-24T00:00:00\", \"2019-06-25T00:00:00\", \"2019-06-26T00:00:00\", \"2019-06-27T00:00:00\", \"2019-06-28T00:00:00\", \"2019-06-29T00:00:00\", \"2019-06-30T00:00:00\", \"2019-06-12T00:00:00\", \"2019-06-13T00:00:00\", \"2019-06-14T00:00:00\", \"2019-06-15T00:00:00\", \"2019-06-16T00:00:00\", \"2019-06-17T00:00:00\", \"2019-06-18T00:00:00\", \"2019-06-19T00:00:00\", \"2019-06-20T00:00:00\", \"2019-06-21T00:00:00\", \"2019-06-22T00:00:00\", \"2019-06-23T00:00:00\", \"2019-06-24T00:00:00\", \"2019-06-25T00:00:00\", \"2019-06-26T00:00:00\", \"2019-06-27T00:00:00\", \"2019-06-28T00:00:00\", \"2019-06-29T00:00:00\", \"2019-06-30T00:00:00\", \"2019-06-13T00:00:00\", \"2019-06-14T00:00:00\", \"2019-06-15T00:00:00\", \"2019-06-16T00:00:00\", \"2019-06-17T00:00:00\", \"2019-06-18T00:00:00\", \"2019-06-19T00:00:00\", \"2019-06-20T00:00:00\", \"2019-06-21T00:00:00\", \"2019-06-22T00:00:00\", \"2019-06-23T00:00:00\", \"2019-06-24T00:00:00\", \"2019-06-25T00:00:00\", \"2019-06-26T00:00:00\", \"2019-06-27T00:00:00\", \"2019-06-28T00:00:00\", \"2019-06-29T00:00:00\", \"2019-06-30T00:00:00\", \"2019-06-14T00:00:00\", \"2019-06-15T00:00:00\", \"2019-06-16T00:00:00\", \"2019-06-17T00:00:00\", \"2019-06-18T00:00:00\", \"2019-06-19T00:00:00\", \"2019-06-20T00:00:00\", \"2019-06-21T00:00:00\", \"2019-06-22T00:00:00\", \"2019-06-23T00:00:00\", \"2019-06-24T00:00:00\", \"2019-06-25T00:00:00\", \"2019-06-26T00:00:00\", \"2019-06-27T00:00:00\", \"2019-06-28T00:00:00\", \"2019-06-29T00:00:00\", \"2019-06-30T00:00:00\", \"2019-06-15T00:00:00\", \"2019-06-16T00:00:00\", \"2019-06-17T00:00:00\", \"2019-06-18T00:00:00\", \"2019-06-19T00:00:00\", \"2019-06-20T00:00:00\", \"2019-06-21T00:00:00\", \"2019-06-22T00:00:00\", \"2019-06-23T00:00:00\", \"2019-06-24T00:00:00\", \"2019-06-25T00:00:00\", \"2019-06-26T00:00:00\", \"2019-06-27T00:00:00\", \"2019-06-28T00:00:00\", \"2019-06-29T00:00:00\", \"2019-06-30T00:00:00\", \"2019-06-16T00:00:00\", \"2019-06-17T00:00:00\", \"2019-06-18T00:00:00\", \"2019-06-19T00:00:00\", \"2019-06-20T00:00:00\", \"2019-06-21T00:00:00\", \"2019-06-22T00:00:00\", \"2019-06-23T00:00:00\", \"2019-06-24T00:00:00\", \"2019-06-25T00:00:00\", \"2019-06-26T00:00:00\", \"2019-06-27T00:00:00\", \"2019-06-28T00:00:00\", \"2019-06-29T00:00:00\", \"2019-06-30T00:00:00\", \"2019-06-17T00:00:00\", \"2019-06-18T00:00:00\", \"2019-06-19T00:00:00\", \"2019-06-20T00:00:00\", \"2019-06-21T00:00:00\", \"2019-06-22T00:00:00\", \"2019-06-23T00:00:00\", \"2019-06-24T00:00:00\", \"2019-06-25T00:00:00\", \"2019-06-26T00:00:00\", \"2019-06-27T00:00:00\", \"2019-06-28T00:00:00\", \"2019-06-29T00:00:00\", \"2019-06-30T00:00:00\", \"2019-06-18T00:00:00\", \"2019-06-19T00:00:00\", \"2019-06-20T00:00:00\", \"2019-06-21T00:00:00\", \"2019-06-22T00:00:00\", \"2019-06-23T00:00:00\", \"2019-06-24T00:00:00\", \"2019-06-25T00:00:00\", \"2019-06-26T00:00:00\", \"2019-06-27T00:00:00\", \"2019-06-28T00:00:00\", \"2019-06-29T00:00:00\", \"2019-06-30T00:00:00\", \"2019-06-19T00:00:00\", \"2019-06-20T00:00:00\", \"2019-06-21T00:00:00\", \"2019-06-22T00:00:00\", \"2019-06-23T00:00:00\", \"2019-06-24T00:00:00\", \"2019-06-25T00:00:00\", \"2019-06-26T00:00:00\", \"2019-06-27T00:00:00\", \"2019-06-28T00:00:00\", \"2019-06-29T00:00:00\", \"2019-06-30T00:00:00\", \"2019-06-20T00:00:00\", \"2019-06-21T00:00:00\", \"2019-06-22T00:00:00\", \"2019-06-23T00:00:00\", \"2019-06-24T00:00:00\", \"2019-06-25T00:00:00\", \"2019-06-26T00:00:00\", \"2019-06-27T00:00:00\", \"2019-06-28T00:00:00\", \"2019-06-29T00:00:00\", \"2019-06-30T00:00:00\", \"2019-06-21T00:00:00\", \"2019-06-22T00:00:00\", \"2019-06-23T00:00:00\", \"2019-06-24T00:00:00\", \"2019-06-25T00:00:00\", \"2019-06-26T00:00:00\", \"2019-06-27T00:00:00\", \"2019-06-28T00:00:00\", \"2019-06-29T00:00:00\", \"2019-06-30T00:00:00\", \"2019-06-22T00:00:00\", \"2019-06-23T00:00:00\", \"2019-06-24T00:00:00\", \"2019-06-25T00:00:00\", \"2019-06-26T00:00:00\", \"2019-06-27T00:00:00\", \"2019-06-28T00:00:00\", \"2019-06-29T00:00:00\", \"2019-06-30T00:00:00\", \"2019-06-23T00:00:00\", \"2019-06-24T00:00:00\", \"2019-06-25T00:00:00\", \"2019-06-26T00:00:00\", \"2019-06-27T00:00:00\", \"2019-06-28T00:00:00\", \"2019-06-29T00:00:00\", \"2019-06-30T00:00:00\", \"2019-06-24T00:00:00\", \"2019-06-25T00:00:00\", \"2019-06-26T00:00:00\", \"2019-06-27T00:00:00\", \"2019-06-28T00:00:00\", \"2019-06-29T00:00:00\", \"2019-06-30T00:00:00\", \"2019-06-25T00:00:00\", \"2019-06-26T00:00:00\", \"2019-06-27T00:00:00\", \"2019-06-28T00:00:00\", \"2019-06-29T00:00:00\", \"2019-06-30T00:00:00\", \"2019-06-26T00:00:00\", \"2019-06-27T00:00:00\", \"2019-06-28T00:00:00\", \"2019-06-29T00:00:00\", \"2019-06-30T00:00:00\", \"2019-06-27T00:00:00\", \"2019-06-28T00:00:00\", \"2019-06-29T00:00:00\", \"2019-06-30T00:00:00\", \"2019-06-28T00:00:00\", \"2019-06-29T00:00:00\", \"2019-06-30T00:00:00\", \"2019-06-29T00:00:00\", \"2019-06-30T00:00:00\", \"2019-06-30T00:00:00\"], \"z\": [0.9762931556632344, 0.22234989503149055, 0.6752302121055355, 0.1883183153770813, 0.3579735483870968, 0.7171159217877096, 0.09047420494699647, 0.21342046431642303, 0.2432130225080386, 0.5701249151391717, 0.056713688760806916, 0.12647826086956523, 0.043576349024110214, 0.28064578313253014, 0.6784262416604893, 0.21596012269938653, 0.05253615295480881, 0.12643081155433286, 0.15636929460580914, 0.05398722358722359, 0.8643300423131169, 0.6868248299319728, 0.2134013071895425, 0.09307120253164557, 0.24973774834437085, 0.5241984304932735, 0.15621535893155258, 0.48833898305084744, 0.3235155963302752, 0.08383851744186047, 0.437531007751938, 0.2077172859450727, 0.1642612481857765, 0.29578063725490195, 0.43991151385927507, 0.6536290471785384, 0.0, 0.283805270863836, 0.07471030303030303, 0.31309498207885306, 0.20062478777589135, 0.3673676680972819, 0.2769699140401146, 0.41547363083164296, 0.9101593137254903, 0.06136770186335404, 0.0764472613458529, 0.05734462809917355, 0.19636731107205624, 0.0035622419928825625, 0.19279909365558912, 0.19213531353135313, 0.19229027962716377, 0.18665973665973667, 0.8627951635846373, 0.015248195652173913, 0.2157638888888889, 0.06004518201284797, 0.10755577299412916, 0.0661705882352941, 0.05918372513562387, 0.18291853211009174, 0.2685253682487725, 0.2076172839506173, 0.34565983606557377, 0.40587709923664117, 0.13938439716312057, 0.05334697247706422, 0.07016129807692308, 0.20109686800894855, 0.13380381355932203, 0.2684140625, 0.57263539445629, 0.2762350746268657, 0.13729166666666667, 0.16417898383371823, 0.4333237847222222, 0.7302851033499643, 0.053765, 0.0763979035639413, 0.023539035532994926, 0.5356407766990291, 0.11971986143187067, 0.059151086956521735, 0.11935544794188861, 0.33437901498929334, 0.4412634408602151, 0.1034781746031746, 0.6933503480278422, 0.09588441780821917, 0.637194942903752, 0.09668851174934726, 0.033384265010351966, 0.26928227146814404, 0.19588624338624339, 0.4655166240409207, 0.03813481308411215, 0.1498612987012987, 0.2359607390300231, 0.1044096870342772, 0.07903536585365854, 0.43152861035422346, 0.44897114317425085, 0.12404871323529412, 0.7192152588555858, 0.0682058201058201, 0.45785138004246284, 0.25194691011235953, 0.23514701086956522, 0.060162334217506636, 0.1459651948051948, 0.07129653179190752, 0.05192570754716981, 0.24687131782945737, 0.24697043478260872, 0.081214696485623, 0.2175180240320427, 0.11154660074165637, 0.2377896373056995, 0.9662057877813505, 0.12203605633802816, 0.01881778723404255, 0.11876830769230769, 0.12036925373134329, 0.18902191011235953, 0.6124787234042554, 0.17451183431952663, 0.13110973684210525, 0.3606540983606557, 0.14452745454545454, 0.11013745704467352, 0.05147110438729198, 0.4949384384384385, 0.30427008310249304, 0.21254316546762592, 0.9149648162627052, 0.017432886297376094, 0.19011379310344828, 0.009822041420118343, 0.06051988795518207, 0.011810598290598292, 0.5423601108033241, 0.2566824615384615, 0.26452680115273774, 0.08399264150943396, 0.15066, 0.3236721611721612, 0.5318613861386139, 0.008616045751633987, 0.10784, 0.2096421188630491, 0.32221251149954, 0.8649066534260179, 0.0, 0.0, 0.2970139751552795, 0.12950238095238095, 0.11584215116279069, 0.026433948863636366, 0.09568160535117057, 0.0864060606060606, 0.10235621301775147, 0.0577183932346723, 0.051232796780684105, 0.33750919117647055, 0.044684415584415584, 0.4928007736943907, 0.35715246636771303, 0.12396, 0.5510832408435072, 0.8352039408866995, 0.030795111821086265, 0.03751829268292683, 0.0555259375, 0.12155819935691319, 0.2837232142857143, 0.10407642045454546, 0.24694932885906043, 0.15849260450160774, 0.27274321503131527, 0.10796568848758466, 0.34320382165605096, 0.10014724409448819, 0.17604757085020242, 0.5685167037861916, 0.03839449081803005, 0.12508148148148146, 0.12976671875, 0.27641694915254233, 0.6420178217821783, 0.04372582781456953, 0.0, 0.5613790849673203, 0.23285281690140847, 0.07164119601328904, 0.0, 0.07608556338028169, 0.5636241830065359, 0.05562052401746725, 0.16482216981132078, 0.17997576470588236, 0.06793202614379085, 0.2795210970464135, 0.022794466019417477, 0.7353205128205128, 0.06916938775510204, 0.725105734767025, 0.24406298003072197, 0.3564221748400853, 0.7421100292112951, 0.053522435897435904, 0.005708962025316456, 0.01803900355871886, 0.18847058823529414, 0.11539066666666666, 0.02914570967741936, 0.18267604166666668, 0.01711464406779661, 0.032635294117647054, 0.17273451776649745, 0.07398387909319899, 0.11328225806451613, 0.10525686746987953, 0.12031627906976744, 0.0639359756097561, 0.04444990859232176, 0.42142516268980473, 0.33582046678635546, 0.13891934097421202, 0.1969110629067245, 0.6876479820627802, 0.058239383561643834, 0.16278575268817205, 0.0, 0.040471897810218975, 0.18808896797153024, 0.2114718309859155, 0.4325917602996254, 0.39486496350364964, 0.36992550790067724, 0.059044386422976505, 0.21084666666666665, 0.15277635467980297, 0.2779842105263158, 0.17742917771883288, 0.17238052738336712, 0.21448022598870056, 0.4954847775175644, 0.12309956803455724, 0.5352705667276051, 0.08949274074074075, 0.21149017199017198, 0.5132070351758794, 0.4899898648648649, 0.022516328125, 0.06341281138790035, 0.11343207547169812, 0.23290144927536233, 0.05203594306049822, 0.7093735408560311, 0.08288097014925373, 0.21205779816513762, 0.1176445652173913, 0.061725675675675676, 0.2058140992167102, 0.1437837912087912, 0.0040267469879518075, 0.02073071120689655, 0.05448098159509203, 0.010199718670076727, 0.9242570093457944, 0.17859288537549406, 0.2673985765124555, 0.257460370994941, 0.2050503512880562, 0.5795117967332123, 0.21014154929577464, 0.02290111111111111, 0.1780010989010989, 0.34498970588235295, 0.1692379928315412, 0.08125017182130584, 0.22591634241245134, 0.20222981818181818, 0.22385160493827158, 0.12935152354570637, 0.0986928, 0.0, 0.18149014084507042, 0.07367467948717948, 0.061760620525059665, 0.047369887640449436, 0.8591597796143251, 0.10350994897959183, 0.04404351464435147, 0.0958704684317719, 0.23624612403100775, 0.2073771626297578, 0.11646436781609196, 0.5767981888745148, 0.021038614232209738, 0.09818361111111111, 0.04815, 0.03603052434456929, 0.06819172661870504, 0.14132820512820513, 0.1034203187250996, 0.0, 0.0537497461928934, 0.041877259475218656, 0.15459646739130434, 0.06826576086956522, 0.0806092261904762, 0.5763047619047619, 0.028732771084337347, 0.03337995337995338, 0.06436153846153847, 0.23663169398907105, 0.2635477855477855, 0.6005229759299782, 0.019187927107061506, 0.11410987903225807, 0.07047906626506024, 0.12767951807228917, 0.9478892086330936, 0.043126007326007326, 0.0501430303030303, 0.32284813432835824, 0.21836363636363637, 0.07718939393939395, 0.021375, 0.08184, 0.5174291338582677, 0.01464182767624021, 0.016698443113772454, 0.04204017595307918, 0.053597733711048166, 0.110175, 0.14339254237288138, 0.10793279132791327, 0.5232608695652173, 0.005569849849849849, 0.11823012048192771, 0.09673565683646113, 0.7558019093078758, 0.47917357512953374, 0.22089042056074767, 0.219, 0.1553163179916318, 0.3074276206322796, 1.516440460947503, 0.17156775510204084, 0.8055462962962964, 0.02092616666666667, 0.0, 0.03936848249027237, 0.215096511627907, 0.0, 0.0, 0.0, 0.03921437699680511, 0.44359554140127383, 0.018907538461538462, 0.042091475409836064, 0.01996413669064748, 0.268824, 0.0938278820375335, 0.44465878378378376, 0.4914372881355932, 0.05659378531073446, 0.08689567567567569, 0.046839942528735634, 0.2657921052631579, 0.2335578947368421, 0.010725980861244018, 0.504562358276644, 0.51735989010989, 0.3527111111111111, 0.7690083333333334, 0.0650830303030303, 0.04476228813559322, 0.035659866666666665, 0.06565416666666667, 0.03198409638554217, 0.13154337899543378, 0.0, 0.03618600583090379, 0.1843130293159609, 0.19664205298013246, 0.029152515337423312, 0.11193288135593221, 0.09098326996197718, 0.19040530973451325, 0.15235694822888282, 0.22926410256410257, 0.1827518115942029, 1.211625, 0.33717086834733895, 0.08740817610062893, 0.04302609970674487, 0.2543019801980198, 0.0, 0.12202465753424659, 0.2559506903353057, 0.10221041666666666, 0.7524388398486759, 0.12894775510204082, 0.011850180722891566, 0.05101336405529954, 0.015291805555555557, 0.2787097777777778, 0.1085345238095238, 0.04535885844748859, 0.09331004366812226, 0.06325772594752187, 0.01644009900990099, 0.11112006920415225, 0.01920740614334471, 0.04266389891696751, 0.04155987179487179, 0.047603303303303306, 0.15645042492917846, 0.007374980079681275, 0.05676381322957198, 0.1576436090225564, 0.012322356495468279, 0.12743583617747442, 0.383005698005698, 0.014359974293059127, 0.23082837837837836, 0.00909983552631579, 0.3953827160493827, 0.14872937743190662, 0.09483103448275862, 0.82192077294686, 0.027441625615763545, 0.05499150943396227, 0.0, 0.050696788990825685, 0.04078807339449541, 0.018373973214285716, 0.0, 0.0, 0.06268739726027397, 0.030824191419141913, 0.06316788321167884, 0.17968345070422534, 0.08456074074074074, 0.27366508620689656, 0.15385917721518988, 0.22858470254957505, 0.0, 0.10695322580645161, 0.18346029411764708, 0.49868686868686873, 1.06545703125, 0.1480657142857143, 0.008326016713091923, 0.5442762237762239, 0.2820780821917808, 0.0796399416909621, 0.055625768321512996, 0.3260727969348659, 0.08457616033755275, 0.8669224489795918, 0.4031057142857143, 0.029300510638297875, 0.0, 0.0, 0.3136178899082569, 0.1533873303167421, 0.1142963133640553, 0.21392672811059907, 0.0, 0.04446148409893993, 0.10550970149253731, 0.043726666666666664, 0.31472980392156863, 0.06413991031390134, 0.0785108910891089, 0.1226117469879518, 0.09921198156682028, 0.14956883116883118, 0.1037138686131387, 0.09439361702127659, 0.03072686346863469, 0.31404744525547446, 0.4844923547400612, 0.03521140625, 0.0, 0.566960244648318, 0.39260277777777774, 0.13693170731707316, 0.07631552706552706, 0.15254654377880184, 0.5963677631578947, 0.03449755681818182, 0.3601930348258706, 0.13107242990654205, 0.3037418604651163, 0.2839315270935961, 0.0, 0.028892789968652036, 0.015431570881226053, 0.11896124031007752, 0.07303587786259542, 0.024670873015873018, 0.4292175355450237, 0.19252872727272727, 0.018126378737541526, 0.09579727272727272, 0.09240271493212669, 0.020357714285714285, 0.0, 0.10731880341880343, 0.2938008438818565, 0.23742642140468226, 0.7080933333333334, 0.02576851851851852, 0.03858032786885246, 0.29784174757281556, 0.23140877659574466, 0.06903760683760683, 0.17761731493099123, 0.0, 0.0, 0.36381029411764704, 0.5989170506912442, 0.036037766990291265, 0.08413514851485149, 0.067952, 0.07846854838709677, 0.08846926229508197, 0.26621176470588237, 0.26401583333333334, 0.09698155339805825, 0.10659851851851852, 0.2558592592592593, 0.33934895833333334, 0.027935258215962443, 0.4055540425531915, 0.09642065217391305, 0.21013223140495865, 0.5542222222222222, 0.241218115942029, 0.4635680952380952, 0.034985526315789474, 0.052696, 0.019765950704225353, 0.08897088235294118, 0.15323935742971886, 0.008242254160363087, 0.05068444444444444, 0.19320933333333334, 0.10383796296296295, 0.1252115, 0.14292914572864324, 0.018326786885245902, 0.0, 0.07463347280334727, 0.02800350806451613, 0.0, 0.4773911330049261, 0.06871098484848485, 0.017864388489208634, 0.05382385786802031, 0.0, 0.21519695652173912, 0.019281346153846156, 0.08103076923076924, 0.6268436018957346, 0.2632352272727273, 0.06863807106598985, 0.17351801801801803, 0.22773346303501946, 0.05615173745173745, 0.06099503311258278, 0.12515676274944568, 0.1604177504393673, 0.24692545454545453, 0.10186145251396649, 1.156721052631579, 0.1466045226130653, 0.04101877133105802, 0.12193938053097345, 0.09488614718614719, 0.1471106719367589, 0.008210542986425338, 0.13553004926108375, 0.022261468253968256, 0.0, 0.10447956989247312, 0.0, 0.17319386792452832, 0.04841731601731602, 0.04839162995594713, 0.21137464114832538, 0.04238053435114504, 0.6229015544041451, 0.44198252427184465, 0.14337448559670785, 0.06874936170212766, 0.05938881118881119, 0.08435196078431371, 0.06773172147001934, 0.0, 0.07591875, 0.0, 0.18346363636363636, 0.059001321585903085, 0.08190645161290323, 0.2771952586206896, 0.0, 0.0, 0.2474257142857143, 0.020414384057971014, 0.03629383233532934, 0.0, 0.2911909090909091, 0.010782403433476397, 0.2804394230769231, 0.024043028846153842, 0.78441796875, 0.1230080459770115, 0.5669128205128205, 0.07793991228070175, 0.014726902654867256, 0.220655223880597, 0.07559289473684211, 0.009994581673306774, 0.06789303370786517, 0.7881455696202532, 0.0, 0.04397025862068966, 0.05734192139737991, 0.04808053097345132, 0.052793877551020406, 0.33492173913043477, 0.0, 0.05142710622710623, 0.15097784810126583, 0.03043679347826087, 0.030155268817204303, 0.023713914893617023, 0.0, 0.02009663212435233, 0.06960763052208835, 0.2617126436781609, 0.10374162436548223, 0.22858316831683168, 1.3643778801843318, 0.07592367346938775, 0.018080082644628098, 0.07508255578093306, 0.0786725, 0.016262579185520362, 0.0, 0.051541013824884796, 0.04218901785714286, 0.03780447619047619, 0.07183063583815029, 0.051051476793248944, 0.01293139534883721, 0.0628297619047619, 0.018068924731182795, 0.02892487046632124, 0.06578559670781893, 0.002746137254901961, 0.01777945355191257, 0.018216965811965812, 0.8583736263736264, 0.40145833333333336, 1.0145989583333332, 0.11167500000000001, 0.2142991902834008, 0.0, 0.012163730337078653, 0.0, 0.032168735632183906, 0.037052115384615385, 0.022722959641255605, 0.05589414634146341, 0.4967502824858757, 0.14715263157894737, 0.01780875518672199, 0.07038650306748467, 0.07934301675977654, 0.14131581632653062, 0.04576470046082949, 0.1149476923076923, 0.19717885714285716, 0.13637387387387387, 0.43942658959537567, 0.15105632183908047, 0.0, 0.5060535714285714, 0.0, 0.38343046357615895, 0.026631353919239906, 0.2054861111111111, 0.021358974358974357, 0.0, 0.03057781094527363, 0.0, 0.07805446428571429, 0.06518468085106383, 0.44138881578947364, 0.1427927374301676, 0.0, 0.0, 0.38337821229050284, 0.003658660714285714, 0.061334951456310675, 0.0, 0.3250240506329114, 0.12105783783783784, 0.0, 0.6487350000000001, 0.16691216216216215, 0.0, 0.04223926315789474, 0.376689375, 0.20346145833333332, 0.08396235294117647, 0.12157038834951457, 0.23002657657657657, 0.131244, 0.04063185628742515, 0.01106967213114754, 0.0, 0.021382947976878612, 0.0, 0.2770876237623762, 0.089601875, 0.0389225, 0.0, 0.029133505747126438, 0.268091, 0.1714320284697509, 0.006250165745856354, 0.4239939130434783, 0.24769517241379307, 0.012164411764705884, 0.024906884422110556, 0.10270394088669951, 0.0, 0.14372933333333335, 0.21709702380952378, 0.11946720430107527, 0.06488982035928144, 0.3735872611464968, 0.0, 0.09285310344827585, 0.2350360544217687, 1.2618520710059171, 0.28029245283018867, 0.432070351758794, 0.1776228260869565, 0.48917575757575754, 0.14657422680412371, 0.07995633802816901, 0.0, 0.07164147465437788, 0.0, 0.03518748299319728, 0.0, 0.0, 0.8001547619047619, 0.026969276315789475, 0.06384705882352941, 0.03935695652173913, 0.0, 0.42642738853503187, 0.2300386206896552, 0.4509491891891892, 0.007671529850746268, 0.12458770226537216, 0.33362272727272724, 0.1447953642384106, 0.05432660098522167, 0.1607830985915493, 0.19168560606060606, 0.06992418300653594, 0.20291511627906977, 0.19051, 0.1887, 0.09005297297297297, 0.10629109589041096, 0.09761428571428572, 0.0, 0.8010335570469799, 0.38676685393258425, 0.0701762962962963, 0.06137814569536424, 0.0940204716981132, 0.0, 0.1630865671641791, 0.0, 0.08539870967741936, 0.0, 0.0679358024691358, 0.13848194444444445, 0.027546629834254144, 0.07368992805755396, 0.32677375886524823, 0.2031896103896104, 0.037178561643835616, 0.07096023391812865, 0.16271031746031747, 0.06512809364548494, 0.0, 0.0821239423076923, 0.013694797297297296, 0.12754473684210527, 0.0, 0.14282251655629138, 0.13857933333333333, 0.0, 0.06922689655172413, 0.2930549618320611, 0.482988, 1.0452916666666665, 0.40051604938271607, 0.6121652892561984, 0.355292277992278, 0.07048581081081082, 0.0, 0.22949797297297297, 0.03554608187134503, 0.0, 0.0, 0.1262278481012658, 0.0, 0.0274784, 0.05010613333333334, 0.05032378787878788, 0.037874451612903225, 0.12107873303167421, 0.0416914498141264, 0.0, 0.0, 0.07085, 0.25175151515151517, 0.19973015873015873, 0.2637735849056604, 0.0, 0.05514401785714285, 0.25430289855072463, 0.0, 0.21991156462585032, 0.16467991071428573, 0.4165354430379747, 0.0528996, 0.2238275, 0.13454179104477612, 0.0, 0.5009532374100719, 0.04141404958677686, 0.0, 0.19755390625, 0.0, 0.037729520547945206, 0.5871461187214613, 0.0, 0.21202162162162164, 0.08584767857142858, 0.24790245901639343, 0.030781476510067112, 0.0900008849557522, 0.06349, 0.5837508064516128, 0.034666347826086956, 0.20440223880597017, 0.0, 0.29630779220779224, 0.13969634146341464, 0.19551862745098042, 0.19679337748344372, 0.03208390476190476, 0.05418326732673267, 0.47987627118644066, 0.0, 0.7509481481481481, 0.0, 0.3201204444444445, 0.0, 0.5137934579439253, 0.12256336633663366, 0.0, 0.05737423728813559, 0.2888590476190476, 0.0, 0.5161330049261084, 0.02586381395348837, 0.9165470588235295, 0.19879397590361447, 0.030257, 1.1858543689320389, 0.05119037735849056, 0.5061935714285714, 0.0, 0.0, 0.33777213114754095, 0.07017370370370371, 0.0, 0.0, 0.36593145161290325, 0.1207367231638418, 0.02619911214953271, 0.0, 0.3253153846153846, 0.0, 0.0, 0.01632189349112426, 0.014228380952380952, 0.11619541666666666, 0.04904118421052631, 0.046519083333333336, 0.7357904191616766, 0.02814476683937824, 0.0, 0.3164724137931035, 0.0, 0.0, 0.15830555555555556, 0.2252496124031008, 0.0, 0.06134707865168539, 0.06981944444444445, 0.12642857142857145]}],\n",
       "                        {\"template\": {\"data\": {\"bar\": [{\"error_x\": {\"color\": \"#2a3f5f\"}, \"error_y\": {\"color\": \"#2a3f5f\"}, \"marker\": {\"line\": {\"color\": \"#E5ECF6\", \"width\": 0.5}}, \"type\": \"bar\"}], \"barpolar\": [{\"marker\": {\"line\": {\"color\": \"#E5ECF6\", \"width\": 0.5}}, \"type\": \"barpolar\"}], \"carpet\": [{\"aaxis\": {\"endlinecolor\": \"#2a3f5f\", \"gridcolor\": \"white\", \"linecolor\": \"white\", \"minorgridcolor\": \"white\", \"startlinecolor\": \"#2a3f5f\"}, \"baxis\": {\"endlinecolor\": \"#2a3f5f\", \"gridcolor\": \"white\", \"linecolor\": \"white\", \"minorgridcolor\": \"white\", \"startlinecolor\": \"#2a3f5f\"}, \"type\": \"carpet\"}], \"choropleth\": [{\"colorbar\": {\"outlinewidth\": 0, \"ticks\": \"\"}, \"type\": \"choropleth\"}], \"contour\": [{\"colorbar\": {\"outlinewidth\": 0, \"ticks\": \"\"}, \"colorscale\": [[0.0, \"#0d0887\"], [0.1111111111111111, \"#46039f\"], [0.2222222222222222, \"#7201a8\"], [0.3333333333333333, \"#9c179e\"], [0.4444444444444444, \"#bd3786\"], [0.5555555555555556, \"#d8576b\"], [0.6666666666666666, \"#ed7953\"], [0.7777777777777778, \"#fb9f3a\"], [0.8888888888888888, \"#fdca26\"], [1.0, \"#f0f921\"]], \"type\": \"contour\"}], \"contourcarpet\": [{\"colorbar\": {\"outlinewidth\": 0, \"ticks\": \"\"}, \"type\": \"contourcarpet\"}], \"heatmap\": [{\"colorbar\": {\"outlinewidth\": 0, \"ticks\": \"\"}, \"colorscale\": [[0.0, \"#0d0887\"], [0.1111111111111111, \"#46039f\"], [0.2222222222222222, \"#7201a8\"], [0.3333333333333333, \"#9c179e\"], [0.4444444444444444, \"#bd3786\"], [0.5555555555555556, \"#d8576b\"], [0.6666666666666666, \"#ed7953\"], [0.7777777777777778, \"#fb9f3a\"], [0.8888888888888888, \"#fdca26\"], [1.0, \"#f0f921\"]], \"type\": \"heatmap\"}], \"heatmapgl\": [{\"colorbar\": {\"outlinewidth\": 0, \"ticks\": \"\"}, \"colorscale\": [[0.0, \"#0d0887\"], [0.1111111111111111, \"#46039f\"], [0.2222222222222222, \"#7201a8\"], [0.3333333333333333, \"#9c179e\"], [0.4444444444444444, \"#bd3786\"], [0.5555555555555556, \"#d8576b\"], [0.6666666666666666, \"#ed7953\"], [0.7777777777777778, \"#fb9f3a\"], [0.8888888888888888, \"#fdca26\"], [1.0, \"#f0f921\"]], \"type\": \"heatmapgl\"}], \"histogram\": [{\"marker\": {\"colorbar\": {\"outlinewidth\": 0, \"ticks\": \"\"}}, \"type\": \"histogram\"}], \"histogram2d\": [{\"colorbar\": {\"outlinewidth\": 0, \"ticks\": \"\"}, \"colorscale\": [[0.0, \"#0d0887\"], [0.1111111111111111, \"#46039f\"], [0.2222222222222222, \"#7201a8\"], [0.3333333333333333, \"#9c179e\"], [0.4444444444444444, \"#bd3786\"], [0.5555555555555556, \"#d8576b\"], [0.6666666666666666, \"#ed7953\"], [0.7777777777777778, \"#fb9f3a\"], [0.8888888888888888, \"#fdca26\"], [1.0, \"#f0f921\"]], \"type\": \"histogram2d\"}], \"histogram2dcontour\": [{\"colorbar\": {\"outlinewidth\": 0, \"ticks\": \"\"}, \"colorscale\": [[0.0, \"#0d0887\"], [0.1111111111111111, \"#46039f\"], [0.2222222222222222, \"#7201a8\"], [0.3333333333333333, \"#9c179e\"], [0.4444444444444444, \"#bd3786\"], [0.5555555555555556, \"#d8576b\"], [0.6666666666666666, \"#ed7953\"], [0.7777777777777778, \"#fb9f3a\"], [0.8888888888888888, \"#fdca26\"], [1.0, \"#f0f921\"]], \"type\": \"histogram2dcontour\"}], \"mesh3d\": [{\"colorbar\": {\"outlinewidth\": 0, \"ticks\": \"\"}, \"type\": \"mesh3d\"}], \"parcoords\": [{\"line\": {\"colorbar\": {\"outlinewidth\": 0, \"ticks\": \"\"}}, \"type\": \"parcoords\"}], \"pie\": [{\"automargin\": true, \"type\": \"pie\"}], \"scatter\": [{\"marker\": {\"colorbar\": {\"outlinewidth\": 0, \"ticks\": \"\"}}, \"type\": \"scatter\"}], \"scatter3d\": [{\"line\": {\"colorbar\": {\"outlinewidth\": 0, \"ticks\": \"\"}}, \"marker\": {\"colorbar\": {\"outlinewidth\": 0, \"ticks\": \"\"}}, \"type\": \"scatter3d\"}], \"scattercarpet\": [{\"marker\": {\"colorbar\": {\"outlinewidth\": 0, \"ticks\": \"\"}}, \"type\": \"scattercarpet\"}], \"scattergeo\": [{\"marker\": {\"colorbar\": {\"outlinewidth\": 0, \"ticks\": \"\"}}, \"type\": \"scattergeo\"}], \"scattergl\": [{\"marker\": {\"colorbar\": {\"outlinewidth\": 0, \"ticks\": \"\"}}, \"type\": \"scattergl\"}], \"scattermapbox\": [{\"marker\": {\"colorbar\": {\"outlinewidth\": 0, \"ticks\": \"\"}}, \"type\": \"scattermapbox\"}], \"scatterpolar\": [{\"marker\": {\"colorbar\": {\"outlinewidth\": 0, \"ticks\": \"\"}}, \"type\": \"scatterpolar\"}], \"scatterpolargl\": [{\"marker\": {\"colorbar\": {\"outlinewidth\": 0, \"ticks\": \"\"}}, \"type\": \"scatterpolargl\"}], \"scatterternary\": [{\"marker\": {\"colorbar\": {\"outlinewidth\": 0, \"ticks\": \"\"}}, \"type\": \"scatterternary\"}], \"surface\": [{\"colorbar\": {\"outlinewidth\": 0, \"ticks\": \"\"}, \"colorscale\": [[0.0, \"#0d0887\"], [0.1111111111111111, \"#46039f\"], [0.2222222222222222, \"#7201a8\"], [0.3333333333333333, \"#9c179e\"], [0.4444444444444444, \"#bd3786\"], [0.5555555555555556, \"#d8576b\"], [0.6666666666666666, \"#ed7953\"], [0.7777777777777778, \"#fb9f3a\"], [0.8888888888888888, \"#fdca26\"], [1.0, \"#f0f921\"]], \"type\": \"surface\"}], \"table\": [{\"cells\": {\"fill\": {\"color\": \"#EBF0F8\"}, \"line\": {\"color\": \"white\"}}, \"header\": {\"fill\": {\"color\": \"#C8D4E3\"}, \"line\": {\"color\": \"white\"}}, \"type\": \"table\"}]}, \"layout\": {\"annotationdefaults\": {\"arrowcolor\": \"#2a3f5f\", \"arrowhead\": 0, \"arrowwidth\": 1}, \"coloraxis\": {\"colorbar\": {\"outlinewidth\": 0, \"ticks\": \"\"}}, \"colorscale\": {\"diverging\": [[0, \"#8e0152\"], [0.1, \"#c51b7d\"], [0.2, \"#de77ae\"], [0.3, \"#f1b6da\"], [0.4, \"#fde0ef\"], [0.5, \"#f7f7f7\"], [0.6, \"#e6f5d0\"], [0.7, \"#b8e186\"], [0.8, \"#7fbc41\"], [0.9, \"#4d9221\"], [1, \"#276419\"]], \"sequential\": [[0.0, \"#0d0887\"], [0.1111111111111111, \"#46039f\"], [0.2222222222222222, \"#7201a8\"], [0.3333333333333333, \"#9c179e\"], [0.4444444444444444, \"#bd3786\"], [0.5555555555555556, \"#d8576b\"], [0.6666666666666666, \"#ed7953\"], [0.7777777777777778, \"#fb9f3a\"], [0.8888888888888888, \"#fdca26\"], [1.0, \"#f0f921\"]], \"sequentialminus\": [[0.0, \"#0d0887\"], [0.1111111111111111, \"#46039f\"], [0.2222222222222222, \"#7201a8\"], [0.3333333333333333, \"#9c179e\"], [0.4444444444444444, \"#bd3786\"], [0.5555555555555556, \"#d8576b\"], [0.6666666666666666, \"#ed7953\"], [0.7777777777777778, \"#fb9f3a\"], [0.8888888888888888, \"#fdca26\"], [1.0, \"#f0f921\"]]}, \"colorway\": [\"#636efa\", \"#EF553B\", \"#00cc96\", \"#ab63fa\", \"#FFA15A\", \"#19d3f3\", \"#FF6692\", \"#B6E880\", \"#FF97FF\", \"#FECB52\"], \"font\": {\"color\": \"#2a3f5f\"}, \"geo\": {\"bgcolor\": \"white\", \"lakecolor\": \"white\", \"landcolor\": \"#E5ECF6\", \"showlakes\": true, \"showland\": true, \"subunitcolor\": \"white\"}, \"hoverlabel\": {\"align\": \"left\"}, \"hovermode\": \"closest\", \"mapbox\": {\"style\": \"light\"}, \"paper_bgcolor\": \"white\", \"plot_bgcolor\": \"#E5ECF6\", \"polar\": {\"angularaxis\": {\"gridcolor\": \"white\", \"linecolor\": \"white\", \"ticks\": \"\"}, \"bgcolor\": \"#E5ECF6\", \"radialaxis\": {\"gridcolor\": \"white\", \"linecolor\": \"white\", \"ticks\": \"\"}}, \"scene\": {\"xaxis\": {\"backgroundcolor\": \"#E5ECF6\", \"gridcolor\": \"white\", \"gridwidth\": 2, \"linecolor\": \"white\", \"showbackground\": true, \"ticks\": \"\", \"zerolinecolor\": \"white\"}, \"yaxis\": {\"backgroundcolor\": \"#E5ECF6\", \"gridcolor\": \"white\", \"gridwidth\": 2, \"linecolor\": \"white\", \"showbackground\": true, \"ticks\": \"\", \"zerolinecolor\": \"white\"}, \"zaxis\": {\"backgroundcolor\": \"#E5ECF6\", \"gridcolor\": \"white\", \"gridwidth\": 2, \"linecolor\": \"white\", \"showbackground\": true, \"ticks\": \"\", \"zerolinecolor\": \"white\"}}, \"shapedefaults\": {\"line\": {\"color\": \"#2a3f5f\"}}, \"ternary\": {\"aaxis\": {\"gridcolor\": \"white\", \"linecolor\": \"white\", \"ticks\": \"\"}, \"baxis\": {\"gridcolor\": \"white\", \"linecolor\": \"white\", \"ticks\": \"\"}, \"bgcolor\": \"#E5ECF6\", \"caxis\": {\"gridcolor\": \"white\", \"linecolor\": \"white\", \"ticks\": \"\"}}, \"title\": {\"x\": 0.05}, \"xaxis\": {\"automargin\": true, \"gridcolor\": \"white\", \"linecolor\": \"white\", \"ticks\": \"\", \"title\": {\"standoff\": 15}, \"zerolinecolor\": \"white\", \"zerolinewidth\": 2}, \"yaxis\": {\"automargin\": true, \"gridcolor\": \"white\", \"linecolor\": \"white\", \"ticks\": \"\", \"title\": {\"standoff\": 15}, \"zerolinecolor\": \"white\", \"zerolinewidth\": 2}}}, \"title\": {\"text\": \"Cohorts: ARPU\"}, \"xaxis\": {\"dtick\": 1, \"title\": {\"text\": \"lifetime\"}}, \"yaxis\": {\"tickmode\": \"linear\", \"title\": {\"text\": \"cohorts\"}}},\n",
       "                        {\"responsive\": true}\n",
       "                    ).then(function(){\n",
       "                            \n",
       "var gd = document.getElementById('cd1985aa-96e9-44ed-9062-3670e9d3fa3b');\n",
       "var x = new MutationObserver(function (mutations, observer) {{\n",
       "        var display = window.getComputedStyle(gd).display;\n",
       "        if (!display || display === 'none') {{\n",
       "            console.log([gd, 'removed!']);\n",
       "            Plotly.purge(gd);\n",
       "            observer.disconnect();\n",
       "        }}\n",
       "}});\n",
       "\n",
       "// Listen for the removal of the full notebook cells\n",
       "var notebookContainer = gd.closest('#notebook-container');\n",
       "if (notebookContainer) {{\n",
       "    x.observe(notebookContainer, {childList: true});\n",
       "}}\n",
       "\n",
       "// Listen for the clearing of the current output cell\n",
       "var outputEl = gd.closest('.output');\n",
       "if (outputEl) {{\n",
       "    x.observe(outputEl, {childList: true});\n",
       "}}\n",
       "\n",
       "                        })\n",
       "                };\n",
       "                });\n",
       "            </script>\n",
       "        </div>"
      ]
     },
     "metadata": {},
     "output_type": "display_data"
    }
   ],
   "source": [
    "#Сделаем визуализацию для нее:\n",
    "data=[go.Heatmap(\n",
    "                x=retention_table_with_revenue.lifetime,\n",
    "                y=retention_table_with_revenue.registration_date,\n",
    "                z=retention_table_with_revenue.arpu.values.tolist(),\n",
    "                hovertemplate=\n",
    "                '<b>Cohort</b>: %{y}'+\n",
    "                '<br><b>Lifetime</b>: %{x}'+\n",
    "                '<br><b>ARPU<b>: %{z:.2f} $<extra></extra>',\n",
    "                colorscale='viridis')]\n",
    "layout=go.Layout(title='Cohorts: ARPU',\n",
    "                yaxis_title='cohorts',\n",
    "                xaxis_title='lifetime',\n",
    "                xaxis=dict(\n",
    "                dtick=1),\n",
    "                 yaxis=dict(\n",
    "                 tickmode='linear')\n",
    "                )\n",
    "fig=go.Figure(data=data, layout=layout)\n",
    "fig.show()"
   ]
  },
  {
   "cell_type": "markdown",
   "metadata": {},
   "source": [
    "<div class=\"alert alert-block alert-success\">\n",
    "<b>Вывод:</b> Максимальных значений средняя выручка с пользователя достигает в нулевой день его жизни, затем варьируется без видимых закономерностей. \n",
    "</div>"
   ]
  },
  {
   "cell_type": "code",
   "execution_count": 34,
   "metadata": {},
   "outputs": [
    {
     "data": {
      "application/vnd.plotly.v1+json": {
       "config": {
        "plotlyServerURL": "https://plot.ly"
       },
       "data": [
        {
         "hovertemplate": "%{x}: <br>%{y} $<extra></extra>",
         "marker": {
          "color": "teal"
         },
         "text": [
          "0.98 $",
          "0.68 $",
          "0.72 $",
          "0.57 $",
          "0.68 $",
          "0.86 $",
          "0.49 $",
          "0.65 $",
          "0.91 $",
          "0.86 $",
          "0.41 $",
          "0.73 $",
          "0.64 $",
          "0.72 $",
          "0.97 $",
          "0.91 $",
          "0.86 $",
          "0.84 $",
          "0.64 $",
          "0.74 $",
          "0.69 $",
          "0.51 $",
          "0.58 $",
          "0.58 $",
          "0.95 $",
          "1.52 $",
          "0.35 $",
          "0.75 $",
          "0.82 $",
          "0.87 $"
         ],
         "textposition": "auto",
         "type": "bar",
         "x": [
          "2019-06-01T00:00:00",
          "2019-06-02T00:00:00",
          "2019-06-03T00:00:00",
          "2019-06-04T00:00:00",
          "2019-06-05T00:00:00",
          "2019-06-06T00:00:00",
          "2019-06-07T00:00:00",
          "2019-06-08T00:00:00",
          "2019-06-09T00:00:00",
          "2019-06-10T00:00:00",
          "2019-06-11T00:00:00",
          "2019-06-12T00:00:00",
          "2019-06-13T00:00:00",
          "2019-06-14T00:00:00",
          "2019-06-15T00:00:00",
          "2019-06-16T00:00:00",
          "2019-06-17T00:00:00",
          "2019-06-18T00:00:00",
          "2019-06-19T00:00:00",
          "2019-06-20T00:00:00",
          "2019-06-21T00:00:00",
          "2019-06-22T00:00:00",
          "2019-06-23T00:00:00",
          "2019-06-24T00:00:00",
          "2019-06-25T00:00:00",
          "2019-06-26T00:00:00",
          "2019-06-27T00:00:00",
          "2019-06-28T00:00:00",
          "2019-06-29T00:00:00",
          "2019-06-30T00:00:00"
         ],
         "y": [
          0.98,
          0.68,
          0.72,
          0.57,
          0.68,
          0.86,
          0.49,
          0.65,
          0.91,
          0.86,
          0.41,
          0.73,
          0.64,
          0.72,
          0.97,
          0.91,
          0.86,
          0.84,
          0.64,
          0.74,
          0.69,
          0.51,
          0.58,
          0.58,
          0.95,
          1.52,
          0.35,
          0.75,
          0.82,
          0.87
         ]
        }
       ],
       "layout": {
        "plot_bgcolor": "white",
        "template": {
         "data": {
          "bar": [
           {
            "error_x": {
             "color": "#2a3f5f"
            },
            "error_y": {
             "color": "#2a3f5f"
            },
            "marker": {
             "line": {
              "color": "#E5ECF6",
              "width": 0.5
             }
            },
            "type": "bar"
           }
          ],
          "barpolar": [
           {
            "marker": {
             "line": {
              "color": "#E5ECF6",
              "width": 0.5
             }
            },
            "type": "barpolar"
           }
          ],
          "carpet": [
           {
            "aaxis": {
             "endlinecolor": "#2a3f5f",
             "gridcolor": "white",
             "linecolor": "white",
             "minorgridcolor": "white",
             "startlinecolor": "#2a3f5f"
            },
            "baxis": {
             "endlinecolor": "#2a3f5f",
             "gridcolor": "white",
             "linecolor": "white",
             "minorgridcolor": "white",
             "startlinecolor": "#2a3f5f"
            },
            "type": "carpet"
           }
          ],
          "choropleth": [
           {
            "colorbar": {
             "outlinewidth": 0,
             "ticks": ""
            },
            "type": "choropleth"
           }
          ],
          "contour": [
           {
            "colorbar": {
             "outlinewidth": 0,
             "ticks": ""
            },
            "colorscale": [
             [
              0,
              "#0d0887"
             ],
             [
              0.1111111111111111,
              "#46039f"
             ],
             [
              0.2222222222222222,
              "#7201a8"
             ],
             [
              0.3333333333333333,
              "#9c179e"
             ],
             [
              0.4444444444444444,
              "#bd3786"
             ],
             [
              0.5555555555555556,
              "#d8576b"
             ],
             [
              0.6666666666666666,
              "#ed7953"
             ],
             [
              0.7777777777777778,
              "#fb9f3a"
             ],
             [
              0.8888888888888888,
              "#fdca26"
             ],
             [
              1,
              "#f0f921"
             ]
            ],
            "type": "contour"
           }
          ],
          "contourcarpet": [
           {
            "colorbar": {
             "outlinewidth": 0,
             "ticks": ""
            },
            "type": "contourcarpet"
           }
          ],
          "heatmap": [
           {
            "colorbar": {
             "outlinewidth": 0,
             "ticks": ""
            },
            "colorscale": [
             [
              0,
              "#0d0887"
             ],
             [
              0.1111111111111111,
              "#46039f"
             ],
             [
              0.2222222222222222,
              "#7201a8"
             ],
             [
              0.3333333333333333,
              "#9c179e"
             ],
             [
              0.4444444444444444,
              "#bd3786"
             ],
             [
              0.5555555555555556,
              "#d8576b"
             ],
             [
              0.6666666666666666,
              "#ed7953"
             ],
             [
              0.7777777777777778,
              "#fb9f3a"
             ],
             [
              0.8888888888888888,
              "#fdca26"
             ],
             [
              1,
              "#f0f921"
             ]
            ],
            "type": "heatmap"
           }
          ],
          "heatmapgl": [
           {
            "colorbar": {
             "outlinewidth": 0,
             "ticks": ""
            },
            "colorscale": [
             [
              0,
              "#0d0887"
             ],
             [
              0.1111111111111111,
              "#46039f"
             ],
             [
              0.2222222222222222,
              "#7201a8"
             ],
             [
              0.3333333333333333,
              "#9c179e"
             ],
             [
              0.4444444444444444,
              "#bd3786"
             ],
             [
              0.5555555555555556,
              "#d8576b"
             ],
             [
              0.6666666666666666,
              "#ed7953"
             ],
             [
              0.7777777777777778,
              "#fb9f3a"
             ],
             [
              0.8888888888888888,
              "#fdca26"
             ],
             [
              1,
              "#f0f921"
             ]
            ],
            "type": "heatmapgl"
           }
          ],
          "histogram": [
           {
            "marker": {
             "colorbar": {
              "outlinewidth": 0,
              "ticks": ""
             }
            },
            "type": "histogram"
           }
          ],
          "histogram2d": [
           {
            "colorbar": {
             "outlinewidth": 0,
             "ticks": ""
            },
            "colorscale": [
             [
              0,
              "#0d0887"
             ],
             [
              0.1111111111111111,
              "#46039f"
             ],
             [
              0.2222222222222222,
              "#7201a8"
             ],
             [
              0.3333333333333333,
              "#9c179e"
             ],
             [
              0.4444444444444444,
              "#bd3786"
             ],
             [
              0.5555555555555556,
              "#d8576b"
             ],
             [
              0.6666666666666666,
              "#ed7953"
             ],
             [
              0.7777777777777778,
              "#fb9f3a"
             ],
             [
              0.8888888888888888,
              "#fdca26"
             ],
             [
              1,
              "#f0f921"
             ]
            ],
            "type": "histogram2d"
           }
          ],
          "histogram2dcontour": [
           {
            "colorbar": {
             "outlinewidth": 0,
             "ticks": ""
            },
            "colorscale": [
             [
              0,
              "#0d0887"
             ],
             [
              0.1111111111111111,
              "#46039f"
             ],
             [
              0.2222222222222222,
              "#7201a8"
             ],
             [
              0.3333333333333333,
              "#9c179e"
             ],
             [
              0.4444444444444444,
              "#bd3786"
             ],
             [
              0.5555555555555556,
              "#d8576b"
             ],
             [
              0.6666666666666666,
              "#ed7953"
             ],
             [
              0.7777777777777778,
              "#fb9f3a"
             ],
             [
              0.8888888888888888,
              "#fdca26"
             ],
             [
              1,
              "#f0f921"
             ]
            ],
            "type": "histogram2dcontour"
           }
          ],
          "mesh3d": [
           {
            "colorbar": {
             "outlinewidth": 0,
             "ticks": ""
            },
            "type": "mesh3d"
           }
          ],
          "parcoords": [
           {
            "line": {
             "colorbar": {
              "outlinewidth": 0,
              "ticks": ""
             }
            },
            "type": "parcoords"
           }
          ],
          "pie": [
           {
            "automargin": true,
            "type": "pie"
           }
          ],
          "scatter": [
           {
            "marker": {
             "colorbar": {
              "outlinewidth": 0,
              "ticks": ""
             }
            },
            "type": "scatter"
           }
          ],
          "scatter3d": [
           {
            "line": {
             "colorbar": {
              "outlinewidth": 0,
              "ticks": ""
             }
            },
            "marker": {
             "colorbar": {
              "outlinewidth": 0,
              "ticks": ""
             }
            },
            "type": "scatter3d"
           }
          ],
          "scattercarpet": [
           {
            "marker": {
             "colorbar": {
              "outlinewidth": 0,
              "ticks": ""
             }
            },
            "type": "scattercarpet"
           }
          ],
          "scattergeo": [
           {
            "marker": {
             "colorbar": {
              "outlinewidth": 0,
              "ticks": ""
             }
            },
            "type": "scattergeo"
           }
          ],
          "scattergl": [
           {
            "marker": {
             "colorbar": {
              "outlinewidth": 0,
              "ticks": ""
             }
            },
            "type": "scattergl"
           }
          ],
          "scattermapbox": [
           {
            "marker": {
             "colorbar": {
              "outlinewidth": 0,
              "ticks": ""
             }
            },
            "type": "scattermapbox"
           }
          ],
          "scatterpolar": [
           {
            "marker": {
             "colorbar": {
              "outlinewidth": 0,
              "ticks": ""
             }
            },
            "type": "scatterpolar"
           }
          ],
          "scatterpolargl": [
           {
            "marker": {
             "colorbar": {
              "outlinewidth": 0,
              "ticks": ""
             }
            },
            "type": "scatterpolargl"
           }
          ],
          "scatterternary": [
           {
            "marker": {
             "colorbar": {
              "outlinewidth": 0,
              "ticks": ""
             }
            },
            "type": "scatterternary"
           }
          ],
          "surface": [
           {
            "colorbar": {
             "outlinewidth": 0,
             "ticks": ""
            },
            "colorscale": [
             [
              0,
              "#0d0887"
             ],
             [
              0.1111111111111111,
              "#46039f"
             ],
             [
              0.2222222222222222,
              "#7201a8"
             ],
             [
              0.3333333333333333,
              "#9c179e"
             ],
             [
              0.4444444444444444,
              "#bd3786"
             ],
             [
              0.5555555555555556,
              "#d8576b"
             ],
             [
              0.6666666666666666,
              "#ed7953"
             ],
             [
              0.7777777777777778,
              "#fb9f3a"
             ],
             [
              0.8888888888888888,
              "#fdca26"
             ],
             [
              1,
              "#f0f921"
             ]
            ],
            "type": "surface"
           }
          ],
          "table": [
           {
            "cells": {
             "fill": {
              "color": "#EBF0F8"
             },
             "line": {
              "color": "white"
             }
            },
            "header": {
             "fill": {
              "color": "#C8D4E3"
             },
             "line": {
              "color": "white"
             }
            },
            "type": "table"
           }
          ]
         },
         "layout": {
          "annotationdefaults": {
           "arrowcolor": "#2a3f5f",
           "arrowhead": 0,
           "arrowwidth": 1
          },
          "coloraxis": {
           "colorbar": {
            "outlinewidth": 0,
            "ticks": ""
           }
          },
          "colorscale": {
           "diverging": [
            [
             0,
             "#8e0152"
            ],
            [
             0.1,
             "#c51b7d"
            ],
            [
             0.2,
             "#de77ae"
            ],
            [
             0.3,
             "#f1b6da"
            ],
            [
             0.4,
             "#fde0ef"
            ],
            [
             0.5,
             "#f7f7f7"
            ],
            [
             0.6,
             "#e6f5d0"
            ],
            [
             0.7,
             "#b8e186"
            ],
            [
             0.8,
             "#7fbc41"
            ],
            [
             0.9,
             "#4d9221"
            ],
            [
             1,
             "#276419"
            ]
           ],
           "sequential": [
            [
             0,
             "#0d0887"
            ],
            [
             0.1111111111111111,
             "#46039f"
            ],
            [
             0.2222222222222222,
             "#7201a8"
            ],
            [
             0.3333333333333333,
             "#9c179e"
            ],
            [
             0.4444444444444444,
             "#bd3786"
            ],
            [
             0.5555555555555556,
             "#d8576b"
            ],
            [
             0.6666666666666666,
             "#ed7953"
            ],
            [
             0.7777777777777778,
             "#fb9f3a"
            ],
            [
             0.8888888888888888,
             "#fdca26"
            ],
            [
             1,
             "#f0f921"
            ]
           ],
           "sequentialminus": [
            [
             0,
             "#0d0887"
            ],
            [
             0.1111111111111111,
             "#46039f"
            ],
            [
             0.2222222222222222,
             "#7201a8"
            ],
            [
             0.3333333333333333,
             "#9c179e"
            ],
            [
             0.4444444444444444,
             "#bd3786"
            ],
            [
             0.5555555555555556,
             "#d8576b"
            ],
            [
             0.6666666666666666,
             "#ed7953"
            ],
            [
             0.7777777777777778,
             "#fb9f3a"
            ],
            [
             0.8888888888888888,
             "#fdca26"
            ],
            [
             1,
             "#f0f921"
            ]
           ]
          },
          "colorway": [
           "#636efa",
           "#EF553B",
           "#00cc96",
           "#ab63fa",
           "#FFA15A",
           "#19d3f3",
           "#FF6692",
           "#B6E880",
           "#FF97FF",
           "#FECB52"
          ],
          "font": {
           "color": "#2a3f5f"
          },
          "geo": {
           "bgcolor": "white",
           "lakecolor": "white",
           "landcolor": "#E5ECF6",
           "showlakes": true,
           "showland": true,
           "subunitcolor": "white"
          },
          "hoverlabel": {
           "align": "left"
          },
          "hovermode": "closest",
          "mapbox": {
           "style": "light"
          },
          "paper_bgcolor": "white",
          "plot_bgcolor": "#E5ECF6",
          "polar": {
           "angularaxis": {
            "gridcolor": "white",
            "linecolor": "white",
            "ticks": ""
           },
           "bgcolor": "#E5ECF6",
           "radialaxis": {
            "gridcolor": "white",
            "linecolor": "white",
            "ticks": ""
           }
          },
          "scene": {
           "xaxis": {
            "backgroundcolor": "#E5ECF6",
            "gridcolor": "white",
            "gridwidth": 2,
            "linecolor": "white",
            "showbackground": true,
            "ticks": "",
            "zerolinecolor": "white"
           },
           "yaxis": {
            "backgroundcolor": "#E5ECF6",
            "gridcolor": "white",
            "gridwidth": 2,
            "linecolor": "white",
            "showbackground": true,
            "ticks": "",
            "zerolinecolor": "white"
           },
           "zaxis": {
            "backgroundcolor": "#E5ECF6",
            "gridcolor": "white",
            "gridwidth": 2,
            "linecolor": "white",
            "showbackground": true,
            "ticks": "",
            "zerolinecolor": "white"
           }
          },
          "shapedefaults": {
           "line": {
            "color": "#2a3f5f"
           }
          },
          "ternary": {
           "aaxis": {
            "gridcolor": "white",
            "linecolor": "white",
            "ticks": ""
           },
           "baxis": {
            "gridcolor": "white",
            "linecolor": "white",
            "ticks": ""
           },
           "bgcolor": "#E5ECF6",
           "caxis": {
            "gridcolor": "white",
            "linecolor": "white",
            "ticks": ""
           }
          },
          "title": {
           "x": 0.05
          },
          "xaxis": {
           "automargin": true,
           "gridcolor": "white",
           "linecolor": "white",
           "ticks": "",
           "title": {
            "standoff": 15
           },
           "zerolinecolor": "white",
           "zerolinewidth": 2
          },
          "yaxis": {
           "automargin": true,
           "gridcolor": "white",
           "linecolor": "white",
           "ticks": "",
           "title": {
            "standoff": 15
           },
           "zerolinecolor": "white",
           "zerolinewidth": 2
          }
         }
        },
        "title": {
         "text": "Cohorts: ARPU at 0 lifetime"
        },
        "xaxis": {
         "linecolor": "rgb(204, 204, 204)",
         "showgrid": false,
         "showticklabels": true,
         "tickangle": -45,
         "tickmode": "linear",
         "title": {
          "text": "Cohorts"
         },
         "zeroline": false
        },
        "yaxis": {
         "gridcolor": "rgb(204, 204, 204)",
         "showgrid": true,
         "showline": false,
         "title": {
          "text": "ARPU $"
         },
         "zeroline": true
        }
       }
      },
      "text/html": [
       "<div>\n",
       "        \n",
       "        \n",
       "            <div id=\"ccc0b63a-1758-48cb-a4d4-b70e9c01bc22\" class=\"plotly-graph-div\" style=\"height:525px; width:100%;\"></div>\n",
       "            <script type=\"text/javascript\">\n",
       "                require([\"plotly\"], function(Plotly) {\n",
       "                    window.PLOTLYENV=window.PLOTLYENV || {};\n",
       "                    \n",
       "                if (document.getElementById(\"ccc0b63a-1758-48cb-a4d4-b70e9c01bc22\")) {\n",
       "                    Plotly.newPlot(\n",
       "                        'ccc0b63a-1758-48cb-a4d4-b70e9c01bc22',\n",
       "                        [{\"hovertemplate\": \"%{x}: <br>%{y} $<extra></extra>\", \"marker\": {\"color\": \"teal\"}, \"text\": [\"0.98 $\", \"0.68 $\", \"0.72 $\", \"0.57 $\", \"0.68 $\", \"0.86 $\", \"0.49 $\", \"0.65 $\", \"0.91 $\", \"0.86 $\", \"0.41 $\", \"0.73 $\", \"0.64 $\", \"0.72 $\", \"0.97 $\", \"0.91 $\", \"0.86 $\", \"0.84 $\", \"0.64 $\", \"0.74 $\", \"0.69 $\", \"0.51 $\", \"0.58 $\", \"0.58 $\", \"0.95 $\", \"1.52 $\", \"0.35 $\", \"0.75 $\", \"0.82 $\", \"0.87 $\"], \"textposition\": \"auto\", \"type\": \"bar\", \"x\": [\"2019-06-01T00:00:00\", \"2019-06-02T00:00:00\", \"2019-06-03T00:00:00\", \"2019-06-04T00:00:00\", \"2019-06-05T00:00:00\", \"2019-06-06T00:00:00\", \"2019-06-07T00:00:00\", \"2019-06-08T00:00:00\", \"2019-06-09T00:00:00\", \"2019-06-10T00:00:00\", \"2019-06-11T00:00:00\", \"2019-06-12T00:00:00\", \"2019-06-13T00:00:00\", \"2019-06-14T00:00:00\", \"2019-06-15T00:00:00\", \"2019-06-16T00:00:00\", \"2019-06-17T00:00:00\", \"2019-06-18T00:00:00\", \"2019-06-19T00:00:00\", \"2019-06-20T00:00:00\", \"2019-06-21T00:00:00\", \"2019-06-22T00:00:00\", \"2019-06-23T00:00:00\", \"2019-06-24T00:00:00\", \"2019-06-25T00:00:00\", \"2019-06-26T00:00:00\", \"2019-06-27T00:00:00\", \"2019-06-28T00:00:00\", \"2019-06-29T00:00:00\", \"2019-06-30T00:00:00\"], \"y\": [0.98, 0.68, 0.72, 0.57, 0.68, 0.86, 0.49, 0.65, 0.91, 0.86, 0.41, 0.73, 0.64, 0.72, 0.97, 0.91, 0.86, 0.84, 0.64, 0.74, 0.69, 0.51, 0.58, 0.58, 0.95, 1.52, 0.35, 0.75, 0.82, 0.87]}],\n",
       "                        {\"plot_bgcolor\": \"white\", \"template\": {\"data\": {\"bar\": [{\"error_x\": {\"color\": \"#2a3f5f\"}, \"error_y\": {\"color\": \"#2a3f5f\"}, \"marker\": {\"line\": {\"color\": \"#E5ECF6\", \"width\": 0.5}}, \"type\": \"bar\"}], \"barpolar\": [{\"marker\": {\"line\": {\"color\": \"#E5ECF6\", \"width\": 0.5}}, \"type\": \"barpolar\"}], \"carpet\": [{\"aaxis\": {\"endlinecolor\": \"#2a3f5f\", \"gridcolor\": \"white\", \"linecolor\": \"white\", \"minorgridcolor\": \"white\", \"startlinecolor\": \"#2a3f5f\"}, \"baxis\": {\"endlinecolor\": \"#2a3f5f\", \"gridcolor\": \"white\", \"linecolor\": \"white\", \"minorgridcolor\": \"white\", \"startlinecolor\": \"#2a3f5f\"}, \"type\": \"carpet\"}], \"choropleth\": [{\"colorbar\": {\"outlinewidth\": 0, \"ticks\": \"\"}, \"type\": \"choropleth\"}], \"contour\": [{\"colorbar\": {\"outlinewidth\": 0, \"ticks\": \"\"}, \"colorscale\": [[0.0, \"#0d0887\"], [0.1111111111111111, \"#46039f\"], [0.2222222222222222, \"#7201a8\"], [0.3333333333333333, \"#9c179e\"], [0.4444444444444444, \"#bd3786\"], [0.5555555555555556, \"#d8576b\"], [0.6666666666666666, \"#ed7953\"], [0.7777777777777778, \"#fb9f3a\"], [0.8888888888888888, \"#fdca26\"], [1.0, \"#f0f921\"]], \"type\": \"contour\"}], \"contourcarpet\": [{\"colorbar\": {\"outlinewidth\": 0, \"ticks\": \"\"}, \"type\": \"contourcarpet\"}], \"heatmap\": [{\"colorbar\": {\"outlinewidth\": 0, \"ticks\": \"\"}, \"colorscale\": [[0.0, \"#0d0887\"], [0.1111111111111111, \"#46039f\"], [0.2222222222222222, \"#7201a8\"], [0.3333333333333333, \"#9c179e\"], [0.4444444444444444, \"#bd3786\"], [0.5555555555555556, \"#d8576b\"], [0.6666666666666666, \"#ed7953\"], [0.7777777777777778, \"#fb9f3a\"], [0.8888888888888888, \"#fdca26\"], [1.0, \"#f0f921\"]], \"type\": \"heatmap\"}], \"heatmapgl\": [{\"colorbar\": {\"outlinewidth\": 0, \"ticks\": \"\"}, \"colorscale\": [[0.0, \"#0d0887\"], [0.1111111111111111, \"#46039f\"], [0.2222222222222222, \"#7201a8\"], [0.3333333333333333, \"#9c179e\"], [0.4444444444444444, \"#bd3786\"], [0.5555555555555556, \"#d8576b\"], [0.6666666666666666, \"#ed7953\"], [0.7777777777777778, \"#fb9f3a\"], [0.8888888888888888, \"#fdca26\"], [1.0, \"#f0f921\"]], \"type\": \"heatmapgl\"}], \"histogram\": [{\"marker\": {\"colorbar\": {\"outlinewidth\": 0, \"ticks\": \"\"}}, \"type\": \"histogram\"}], \"histogram2d\": [{\"colorbar\": {\"outlinewidth\": 0, \"ticks\": \"\"}, \"colorscale\": [[0.0, \"#0d0887\"], [0.1111111111111111, \"#46039f\"], [0.2222222222222222, \"#7201a8\"], [0.3333333333333333, \"#9c179e\"], [0.4444444444444444, \"#bd3786\"], [0.5555555555555556, \"#d8576b\"], [0.6666666666666666, \"#ed7953\"], [0.7777777777777778, \"#fb9f3a\"], [0.8888888888888888, \"#fdca26\"], [1.0, \"#f0f921\"]], \"type\": \"histogram2d\"}], \"histogram2dcontour\": [{\"colorbar\": {\"outlinewidth\": 0, \"ticks\": \"\"}, \"colorscale\": [[0.0, \"#0d0887\"], [0.1111111111111111, \"#46039f\"], [0.2222222222222222, \"#7201a8\"], [0.3333333333333333, \"#9c179e\"], [0.4444444444444444, \"#bd3786\"], [0.5555555555555556, \"#d8576b\"], [0.6666666666666666, \"#ed7953\"], [0.7777777777777778, \"#fb9f3a\"], [0.8888888888888888, \"#fdca26\"], [1.0, \"#f0f921\"]], \"type\": \"histogram2dcontour\"}], \"mesh3d\": [{\"colorbar\": {\"outlinewidth\": 0, \"ticks\": \"\"}, \"type\": \"mesh3d\"}], \"parcoords\": [{\"line\": {\"colorbar\": {\"outlinewidth\": 0, \"ticks\": \"\"}}, \"type\": \"parcoords\"}], \"pie\": [{\"automargin\": true, \"type\": \"pie\"}], \"scatter\": [{\"marker\": {\"colorbar\": {\"outlinewidth\": 0, \"ticks\": \"\"}}, \"type\": \"scatter\"}], \"scatter3d\": [{\"line\": {\"colorbar\": {\"outlinewidth\": 0, \"ticks\": \"\"}}, \"marker\": {\"colorbar\": {\"outlinewidth\": 0, \"ticks\": \"\"}}, \"type\": \"scatter3d\"}], \"scattercarpet\": [{\"marker\": {\"colorbar\": {\"outlinewidth\": 0, \"ticks\": \"\"}}, \"type\": \"scattercarpet\"}], \"scattergeo\": [{\"marker\": {\"colorbar\": {\"outlinewidth\": 0, \"ticks\": \"\"}}, \"type\": \"scattergeo\"}], \"scattergl\": [{\"marker\": {\"colorbar\": {\"outlinewidth\": 0, \"ticks\": \"\"}}, \"type\": \"scattergl\"}], \"scattermapbox\": [{\"marker\": {\"colorbar\": {\"outlinewidth\": 0, \"ticks\": \"\"}}, \"type\": \"scattermapbox\"}], \"scatterpolar\": [{\"marker\": {\"colorbar\": {\"outlinewidth\": 0, \"ticks\": \"\"}}, \"type\": \"scatterpolar\"}], \"scatterpolargl\": [{\"marker\": {\"colorbar\": {\"outlinewidth\": 0, \"ticks\": \"\"}}, \"type\": \"scatterpolargl\"}], \"scatterternary\": [{\"marker\": {\"colorbar\": {\"outlinewidth\": 0, \"ticks\": \"\"}}, \"type\": \"scatterternary\"}], \"surface\": [{\"colorbar\": {\"outlinewidth\": 0, \"ticks\": \"\"}, \"colorscale\": [[0.0, \"#0d0887\"], [0.1111111111111111, \"#46039f\"], [0.2222222222222222, \"#7201a8\"], [0.3333333333333333, \"#9c179e\"], [0.4444444444444444, \"#bd3786\"], [0.5555555555555556, \"#d8576b\"], [0.6666666666666666, \"#ed7953\"], [0.7777777777777778, \"#fb9f3a\"], [0.8888888888888888, \"#fdca26\"], [1.0, \"#f0f921\"]], \"type\": \"surface\"}], \"table\": [{\"cells\": {\"fill\": {\"color\": \"#EBF0F8\"}, \"line\": {\"color\": \"white\"}}, \"header\": {\"fill\": {\"color\": \"#C8D4E3\"}, \"line\": {\"color\": \"white\"}}, \"type\": \"table\"}]}, \"layout\": {\"annotationdefaults\": {\"arrowcolor\": \"#2a3f5f\", \"arrowhead\": 0, \"arrowwidth\": 1}, \"coloraxis\": {\"colorbar\": {\"outlinewidth\": 0, \"ticks\": \"\"}}, \"colorscale\": {\"diverging\": [[0, \"#8e0152\"], [0.1, \"#c51b7d\"], [0.2, \"#de77ae\"], [0.3, \"#f1b6da\"], [0.4, \"#fde0ef\"], [0.5, \"#f7f7f7\"], [0.6, \"#e6f5d0\"], [0.7, \"#b8e186\"], [0.8, \"#7fbc41\"], [0.9, \"#4d9221\"], [1, \"#276419\"]], \"sequential\": [[0.0, \"#0d0887\"], [0.1111111111111111, \"#46039f\"], [0.2222222222222222, \"#7201a8\"], [0.3333333333333333, \"#9c179e\"], [0.4444444444444444, \"#bd3786\"], [0.5555555555555556, \"#d8576b\"], [0.6666666666666666, \"#ed7953\"], [0.7777777777777778, \"#fb9f3a\"], [0.8888888888888888, \"#fdca26\"], [1.0, \"#f0f921\"]], \"sequentialminus\": [[0.0, \"#0d0887\"], [0.1111111111111111, \"#46039f\"], [0.2222222222222222, \"#7201a8\"], [0.3333333333333333, \"#9c179e\"], [0.4444444444444444, \"#bd3786\"], [0.5555555555555556, \"#d8576b\"], [0.6666666666666666, \"#ed7953\"], [0.7777777777777778, \"#fb9f3a\"], [0.8888888888888888, \"#fdca26\"], [1.0, \"#f0f921\"]]}, \"colorway\": [\"#636efa\", \"#EF553B\", \"#00cc96\", \"#ab63fa\", \"#FFA15A\", \"#19d3f3\", \"#FF6692\", \"#B6E880\", \"#FF97FF\", \"#FECB52\"], \"font\": {\"color\": \"#2a3f5f\"}, \"geo\": {\"bgcolor\": \"white\", \"lakecolor\": \"white\", \"landcolor\": \"#E5ECF6\", \"showlakes\": true, \"showland\": true, \"subunitcolor\": \"white\"}, \"hoverlabel\": {\"align\": \"left\"}, \"hovermode\": \"closest\", \"mapbox\": {\"style\": \"light\"}, \"paper_bgcolor\": \"white\", \"plot_bgcolor\": \"#E5ECF6\", \"polar\": {\"angularaxis\": {\"gridcolor\": \"white\", \"linecolor\": \"white\", \"ticks\": \"\"}, \"bgcolor\": \"#E5ECF6\", \"radialaxis\": {\"gridcolor\": \"white\", \"linecolor\": \"white\", \"ticks\": \"\"}}, \"scene\": {\"xaxis\": {\"backgroundcolor\": \"#E5ECF6\", \"gridcolor\": \"white\", \"gridwidth\": 2, \"linecolor\": \"white\", \"showbackground\": true, \"ticks\": \"\", \"zerolinecolor\": \"white\"}, \"yaxis\": {\"backgroundcolor\": \"#E5ECF6\", \"gridcolor\": \"white\", \"gridwidth\": 2, \"linecolor\": \"white\", \"showbackground\": true, \"ticks\": \"\", \"zerolinecolor\": \"white\"}, \"zaxis\": {\"backgroundcolor\": \"#E5ECF6\", \"gridcolor\": \"white\", \"gridwidth\": 2, \"linecolor\": \"white\", \"showbackground\": true, \"ticks\": \"\", \"zerolinecolor\": \"white\"}}, \"shapedefaults\": {\"line\": {\"color\": \"#2a3f5f\"}}, \"ternary\": {\"aaxis\": {\"gridcolor\": \"white\", \"linecolor\": \"white\", \"ticks\": \"\"}, \"baxis\": {\"gridcolor\": \"white\", \"linecolor\": \"white\", \"ticks\": \"\"}, \"bgcolor\": \"#E5ECF6\", \"caxis\": {\"gridcolor\": \"white\", \"linecolor\": \"white\", \"ticks\": \"\"}}, \"title\": {\"x\": 0.05}, \"xaxis\": {\"automargin\": true, \"gridcolor\": \"white\", \"linecolor\": \"white\", \"ticks\": \"\", \"title\": {\"standoff\": 15}, \"zerolinecolor\": \"white\", \"zerolinewidth\": 2}, \"yaxis\": {\"automargin\": true, \"gridcolor\": \"white\", \"linecolor\": \"white\", \"ticks\": \"\", \"title\": {\"standoff\": 15}, \"zerolinecolor\": \"white\", \"zerolinewidth\": 2}}}, \"title\": {\"text\": \"Cohorts: ARPU at 0 lifetime\"}, \"xaxis\": {\"linecolor\": \"rgb(204, 204, 204)\", \"showgrid\": false, \"showticklabels\": true, \"tickangle\": -45, \"tickmode\": \"linear\", \"title\": {\"text\": \"Cohorts\"}, \"zeroline\": false}, \"yaxis\": {\"gridcolor\": \"rgb(204, 204, 204)\", \"showgrid\": true, \"showline\": false, \"title\": {\"text\": \"ARPU $\"}, \"zeroline\": true}},\n",
       "                        {\"responsive\": true}\n",
       "                    ).then(function(){\n",
       "                            \n",
       "var gd = document.getElementById('ccc0b63a-1758-48cb-a4d4-b70e9c01bc22');\n",
       "var x = new MutationObserver(function (mutations, observer) {{\n",
       "        var display = window.getComputedStyle(gd).display;\n",
       "        if (!display || display === 'none') {{\n",
       "            console.log([gd, 'removed!']);\n",
       "            Plotly.purge(gd);\n",
       "            observer.disconnect();\n",
       "        }}\n",
       "}});\n",
       "\n",
       "// Listen for the removal of the full notebook cells\n",
       "var notebookContainer = gd.closest('#notebook-container');\n",
       "if (notebookContainer) {{\n",
       "    x.observe(notebookContainer, {childList: true});\n",
       "}}\n",
       "\n",
       "// Listen for the clearing of the current output cell\n",
       "var outputEl = gd.closest('.output');\n",
       "if (outputEl) {{\n",
       "    x.observe(outputEl, {childList: true});\n",
       "}}\n",
       "\n",
       "                        })\n",
       "                };\n",
       "                });\n",
       "            </script>\n",
       "        </div>"
      ]
     },
     "metadata": {},
     "output_type": "display_data"
    }
   ],
   "source": [
    "#Построим как в зависимости от когорты изменяется ARPU на n-й день lifetime:\n",
    "lifetime=0 #можно поменять поставить интересующее значение lifetime\n",
    "values=list(round(arpu_pivot[lifetime], 2))\n",
    "fig = go.Figure()\n",
    "\n",
    "data=[go.Bar(\n",
    "    x=arpu_pivot.index, \n",
    "    y=values,\n",
    "    text=[str(i)+' $' for i in values],\n",
    "    textposition='auto',\n",
    "    hovertemplate=\"%{x}: <br>%{y} $<extra></extra>\",\n",
    "    marker_color='teal')]\n",
    "\n",
    "layout=go.Layout(title='Cohorts: ARPU at {} lifetime'.format(lifetime), \n",
    "                yaxis_title='ARPU $',\n",
    "                xaxis_title='Cohorts',\n",
    "                 plot_bgcolor='white',\n",
    "                xaxis=dict(\n",
    "                tickangle=-45,\n",
    "                zeroline=False,\n",
    "                showgrid=False,\n",
    "                showticklabels=True,\n",
    "                linecolor='rgb(204, 204, 204)',\n",
    "                tickmode='linear'\n",
    "                ),\n",
    "                 yaxis=dict(\n",
    "                showgrid=True,\n",
    "                showline=False,\n",
    "                zeroline=True,\n",
    "                gridcolor='rgb(204, 204, 204)'\n",
    "                ))\n",
    "\n",
    "fig=go.Figure(data, layout)\n",
    "\n",
    "fig.show()"
   ]
  },
  {
   "cell_type": "markdown",
   "metadata": {},
   "source": [
    "<div class=\"alert alert-block alert-success\">\n",
    "<b>Вывод:</b> Для нулевого дня жизни средняя выручка с пользователя варьируется от 0,35 \\$ (когорта 27 июня) до 1,52 \\$ (когорта 26 июня). Видимого тренда не наблюдается.\n",
    "</div>"
   ]
  },
  {
   "cell_type": "code",
   "execution_count": 35,
   "metadata": {},
   "outputs": [
    {
     "data": {
      "text/html": [
       "<div>\n",
       "<style scoped>\n",
       "    .dataframe tbody tr th:only-of-type {\n",
       "        vertical-align: middle;\n",
       "    }\n",
       "\n",
       "    .dataframe tbody tr th {\n",
       "        vertical-align: top;\n",
       "    }\n",
       "\n",
       "    .dataframe thead th {\n",
       "        text-align: right;\n",
       "    }\n",
       "</style>\n",
       "<table border=\"1\" class=\"dataframe\">\n",
       "  <thead>\n",
       "    <tr style=\"text-align: right;\">\n",
       "      <th>lifetime</th>\n",
       "      <th>0</th>\n",
       "      <th>1</th>\n",
       "      <th>2</th>\n",
       "      <th>3</th>\n",
       "      <th>4</th>\n",
       "      <th>5</th>\n",
       "      <th>6</th>\n",
       "      <th>7</th>\n",
       "      <th>8</th>\n",
       "      <th>9</th>\n",
       "      <th>...</th>\n",
       "      <th>21</th>\n",
       "      <th>22</th>\n",
       "      <th>23</th>\n",
       "      <th>24</th>\n",
       "      <th>25</th>\n",
       "      <th>26</th>\n",
       "      <th>27</th>\n",
       "      <th>28</th>\n",
       "      <th>29</th>\n",
       "      <th>30</th>\n",
       "    </tr>\n",
       "    <tr>\n",
       "      <th>registration_date</th>\n",
       "      <th></th>\n",
       "      <th></th>\n",
       "      <th></th>\n",
       "      <th></th>\n",
       "      <th></th>\n",
       "      <th></th>\n",
       "      <th></th>\n",
       "      <th></th>\n",
       "      <th></th>\n",
       "      <th></th>\n",
       "      <th></th>\n",
       "      <th></th>\n",
       "      <th></th>\n",
       "      <th></th>\n",
       "      <th></th>\n",
       "      <th></th>\n",
       "      <th></th>\n",
       "      <th></th>\n",
       "      <th></th>\n",
       "      <th></th>\n",
       "      <th></th>\n",
       "    </tr>\n",
       "  </thead>\n",
       "  <tbody>\n",
       "    <tr>\n",
       "      <th>2019-06-27 00:00:00</th>\n",
       "      <td>0.352711</td>\n",
       "      <td>0.102210</td>\n",
       "      <td>0.148729</td>\n",
       "      <td>0.055626</td>\n",
       "      <td>0.392603</td>\n",
       "      <td>0.297842</td>\n",
       "      <td>0.019766</td>\n",
       "      <td>0.056152</td>\n",
       "      <td>0.068749</td>\n",
       "      <td>0.014727</td>\n",
       "      <td>...</td>\n",
       "      <td>0.000000</td>\n",
       "      <td>0.000000</td>\n",
       "      <td>0.034666</td>\n",
       "      <td>0.000000</td>\n",
       "      <td>0.288859</td>\n",
       "      <td>0.051190</td>\n",
       "      <td>0.000000</td>\n",
       "      <td>0.000000</td>\n",
       "      <td>0.049041</td>\n",
       "      <td>0.000000</td>\n",
       "    </tr>\n",
       "    <tr>\n",
       "      <th>2019-06-28 00:00:00</th>\n",
       "      <td>0.752439</td>\n",
       "      <td>0.094831</td>\n",
       "      <td>0.326073</td>\n",
       "      <td>0.136932</td>\n",
       "      <td>0.231409</td>\n",
       "      <td>0.088971</td>\n",
       "      <td>0.060995</td>\n",
       "      <td>0.059389</td>\n",
       "      <td>0.220655</td>\n",
       "      <td>0.075924</td>\n",
       "      <td>...</td>\n",
       "      <td>0.037730</td>\n",
       "      <td>0.204402</td>\n",
       "      <td>0.750948</td>\n",
       "      <td>0.000000</td>\n",
       "      <td>0.506194</td>\n",
       "      <td>0.365931</td>\n",
       "      <td>0.000000</td>\n",
       "      <td>0.046519</td>\n",
       "      <td>0.316472</td>\n",
       "      <td>0.158306</td>\n",
       "    </tr>\n",
       "    <tr>\n",
       "      <th>2019-06-29 00:00:00</th>\n",
       "      <td>0.821921</td>\n",
       "      <td>0.084576</td>\n",
       "      <td>0.076316</td>\n",
       "      <td>0.069038</td>\n",
       "      <td>0.153239</td>\n",
       "      <td>0.125157</td>\n",
       "      <td>0.084352</td>\n",
       "      <td>0.075593</td>\n",
       "      <td>0.018080</td>\n",
       "      <td>0.000000</td>\n",
       "      <td>...</td>\n",
       "      <td>0.000000</td>\n",
       "      <td>0.000000</td>\n",
       "      <td>0.516133</td>\n",
       "      <td>0.000000</td>\n",
       "      <td>0.120737</td>\n",
       "      <td>0.016322</td>\n",
       "      <td>0.735790</td>\n",
       "      <td>0.000000</td>\n",
       "      <td>0.225250</td>\n",
       "      <td>0.061347</td>\n",
       "    </tr>\n",
       "    <tr>\n",
       "      <th>2019-06-30 00:00:00</th>\n",
       "      <td>0.866922</td>\n",
       "      <td>0.152547</td>\n",
       "      <td>0.177617</td>\n",
       "      <td>0.008242</td>\n",
       "      <td>0.160418</td>\n",
       "      <td>0.067732</td>\n",
       "      <td>0.009995</td>\n",
       "      <td>0.075083</td>\n",
       "      <td>0.012164</td>\n",
       "      <td>0.026631</td>\n",
       "      <td>...</td>\n",
       "      <td>0.320120</td>\n",
       "      <td>0.025864</td>\n",
       "      <td>0.000000</td>\n",
       "      <td>0.026199</td>\n",
       "      <td>0.014228</td>\n",
       "      <td>0.028145</td>\n",
       "      <td>0.000000</td>\n",
       "      <td>0.000000</td>\n",
       "      <td>0.069819</td>\n",
       "      <td>0.126429</td>\n",
       "    </tr>\n",
       "    <tr>\n",
       "      <th>mean</th>\n",
       "      <td>0.748997</td>\n",
       "      <td>0.247612</td>\n",
       "      <td>0.231219</td>\n",
       "      <td>0.226372</td>\n",
       "      <td>0.161454</td>\n",
       "      <td>0.308641</td>\n",
       "      <td>0.175224</td>\n",
       "      <td>0.153147</td>\n",
       "      <td>0.140943</td>\n",
       "      <td>0.234994</td>\n",
       "      <td>...</td>\n",
       "      <td>0.094581</td>\n",
       "      <td>0.099685</td>\n",
       "      <td>0.144491</td>\n",
       "      <td>0.091224</td>\n",
       "      <td>0.153679</td>\n",
       "      <td>0.108511</td>\n",
       "      <td>0.161853</td>\n",
       "      <td>0.124374</td>\n",
       "      <td>0.150843</td>\n",
       "      <td>0.162709</td>\n",
       "    </tr>\n",
       "  </tbody>\n",
       "</table>\n",
       "<p>5 rows × 31 columns</p>\n",
       "</div>"
      ],
      "text/plain": [
       "lifetime                   0         1         2         3         4   \\\n",
       "registration_date                                                       \n",
       "2019-06-27 00:00:00  0.352711  0.102210  0.148729  0.055626  0.392603   \n",
       "2019-06-28 00:00:00  0.752439  0.094831  0.326073  0.136932  0.231409   \n",
       "2019-06-29 00:00:00  0.821921  0.084576  0.076316  0.069038  0.153239   \n",
       "2019-06-30 00:00:00  0.866922  0.152547  0.177617  0.008242  0.160418   \n",
       "mean                 0.748997  0.247612  0.231219  0.226372  0.161454   \n",
       "\n",
       "lifetime                   5         6         7         8         9   ...  \\\n",
       "registration_date                                                      ...   \n",
       "2019-06-27 00:00:00  0.297842  0.019766  0.056152  0.068749  0.014727  ...   \n",
       "2019-06-28 00:00:00  0.088971  0.060995  0.059389  0.220655  0.075924  ...   \n",
       "2019-06-29 00:00:00  0.125157  0.084352  0.075593  0.018080  0.000000  ...   \n",
       "2019-06-30 00:00:00  0.067732  0.009995  0.075083  0.012164  0.026631  ...   \n",
       "mean                 0.308641  0.175224  0.153147  0.140943  0.234994  ...   \n",
       "\n",
       "lifetime                   21        22        23        24        25  \\\n",
       "registration_date                                                       \n",
       "2019-06-27 00:00:00  0.000000  0.000000  0.034666  0.000000  0.288859   \n",
       "2019-06-28 00:00:00  0.037730  0.204402  0.750948  0.000000  0.506194   \n",
       "2019-06-29 00:00:00  0.000000  0.000000  0.516133  0.000000  0.120737   \n",
       "2019-06-30 00:00:00  0.320120  0.025864  0.000000  0.026199  0.014228   \n",
       "mean                 0.094581  0.099685  0.144491  0.091224  0.153679   \n",
       "\n",
       "lifetime                   26        27        28        29        30  \n",
       "registration_date                                                      \n",
       "2019-06-27 00:00:00  0.051190  0.000000  0.000000  0.049041  0.000000  \n",
       "2019-06-28 00:00:00  0.365931  0.000000  0.046519  0.316472  0.158306  \n",
       "2019-06-29 00:00:00  0.016322  0.735790  0.000000  0.225250  0.061347  \n",
       "2019-06-30 00:00:00  0.028145  0.000000  0.000000  0.069819  0.126429  \n",
       "mean                 0.108511  0.161853  0.124374  0.150843  0.162709  \n",
       "\n",
       "[5 rows x 31 columns]"
      ]
     },
     "execution_count": 35,
     "metadata": {},
     "output_type": "execute_result"
    }
   ],
   "source": [
    "#Добавим среднее значение по когортам для построения графика:\n",
    "arpu_pivot.loc['mean']=arpu_pivot.mean(axis=0)\n",
    "arpu_pivot.tail()"
   ]
  },
  {
   "cell_type": "code",
   "execution_count": 36,
   "metadata": {},
   "outputs": [
    {
     "data": {
      "application/vnd.plotly.v1+json": {
       "config": {
        "plotlyServerURL": "https://plot.ly"
       },
       "data": [
        {
         "hovertemplate": "%{x}: <br>%{y} $<extra></extra>",
         "marker": {
          "color": "teal"
         },
         "mode": "markers+lines",
         "type": "scatter",
         "x": [
          "Day 0",
          "Day 1",
          "Day 2",
          "Day 3",
          "Day 4",
          "Day 5",
          "Day 6",
          "Day 7",
          "Day 8",
          "Day 9",
          "Day 10",
          "Day 11",
          "Day 12",
          "Day 13",
          "Day 14",
          "Day 15",
          "Day 16",
          "Day 17",
          "Day 18",
          "Day 19",
          "Day 20",
          "Day 21",
          "Day 22",
          "Day 23",
          "Day 24",
          "Day 25",
          "Day 26",
          "Day 27",
          "Day 28",
          "Day 29",
          "Day 30"
         ],
         "y": [
          0.75,
          0.25,
          0.23,
          0.23,
          0.16,
          0.31,
          0.18,
          0.15,
          0.14,
          0.23,
          0.24,
          0.22,
          0.21,
          0.16,
          0.15,
          0.15,
          0.19,
          0.17,
          0.13,
          0.1,
          0.15,
          0.09,
          0.1,
          0.14,
          0.09,
          0.15,
          0.11,
          0.16,
          0.12,
          0.15,
          0.16
         ]
        }
       ],
       "layout": {
        "plot_bgcolor": "white",
        "template": {
         "data": {
          "bar": [
           {
            "error_x": {
             "color": "#2a3f5f"
            },
            "error_y": {
             "color": "#2a3f5f"
            },
            "marker": {
             "line": {
              "color": "#E5ECF6",
              "width": 0.5
             }
            },
            "type": "bar"
           }
          ],
          "barpolar": [
           {
            "marker": {
             "line": {
              "color": "#E5ECF6",
              "width": 0.5
             }
            },
            "type": "barpolar"
           }
          ],
          "carpet": [
           {
            "aaxis": {
             "endlinecolor": "#2a3f5f",
             "gridcolor": "white",
             "linecolor": "white",
             "minorgridcolor": "white",
             "startlinecolor": "#2a3f5f"
            },
            "baxis": {
             "endlinecolor": "#2a3f5f",
             "gridcolor": "white",
             "linecolor": "white",
             "minorgridcolor": "white",
             "startlinecolor": "#2a3f5f"
            },
            "type": "carpet"
           }
          ],
          "choropleth": [
           {
            "colorbar": {
             "outlinewidth": 0,
             "ticks": ""
            },
            "type": "choropleth"
           }
          ],
          "contour": [
           {
            "colorbar": {
             "outlinewidth": 0,
             "ticks": ""
            },
            "colorscale": [
             [
              0,
              "#0d0887"
             ],
             [
              0.1111111111111111,
              "#46039f"
             ],
             [
              0.2222222222222222,
              "#7201a8"
             ],
             [
              0.3333333333333333,
              "#9c179e"
             ],
             [
              0.4444444444444444,
              "#bd3786"
             ],
             [
              0.5555555555555556,
              "#d8576b"
             ],
             [
              0.6666666666666666,
              "#ed7953"
             ],
             [
              0.7777777777777778,
              "#fb9f3a"
             ],
             [
              0.8888888888888888,
              "#fdca26"
             ],
             [
              1,
              "#f0f921"
             ]
            ],
            "type": "contour"
           }
          ],
          "contourcarpet": [
           {
            "colorbar": {
             "outlinewidth": 0,
             "ticks": ""
            },
            "type": "contourcarpet"
           }
          ],
          "heatmap": [
           {
            "colorbar": {
             "outlinewidth": 0,
             "ticks": ""
            },
            "colorscale": [
             [
              0,
              "#0d0887"
             ],
             [
              0.1111111111111111,
              "#46039f"
             ],
             [
              0.2222222222222222,
              "#7201a8"
             ],
             [
              0.3333333333333333,
              "#9c179e"
             ],
             [
              0.4444444444444444,
              "#bd3786"
             ],
             [
              0.5555555555555556,
              "#d8576b"
             ],
             [
              0.6666666666666666,
              "#ed7953"
             ],
             [
              0.7777777777777778,
              "#fb9f3a"
             ],
             [
              0.8888888888888888,
              "#fdca26"
             ],
             [
              1,
              "#f0f921"
             ]
            ],
            "type": "heatmap"
           }
          ],
          "heatmapgl": [
           {
            "colorbar": {
             "outlinewidth": 0,
             "ticks": ""
            },
            "colorscale": [
             [
              0,
              "#0d0887"
             ],
             [
              0.1111111111111111,
              "#46039f"
             ],
             [
              0.2222222222222222,
              "#7201a8"
             ],
             [
              0.3333333333333333,
              "#9c179e"
             ],
             [
              0.4444444444444444,
              "#bd3786"
             ],
             [
              0.5555555555555556,
              "#d8576b"
             ],
             [
              0.6666666666666666,
              "#ed7953"
             ],
             [
              0.7777777777777778,
              "#fb9f3a"
             ],
             [
              0.8888888888888888,
              "#fdca26"
             ],
             [
              1,
              "#f0f921"
             ]
            ],
            "type": "heatmapgl"
           }
          ],
          "histogram": [
           {
            "marker": {
             "colorbar": {
              "outlinewidth": 0,
              "ticks": ""
             }
            },
            "type": "histogram"
           }
          ],
          "histogram2d": [
           {
            "colorbar": {
             "outlinewidth": 0,
             "ticks": ""
            },
            "colorscale": [
             [
              0,
              "#0d0887"
             ],
             [
              0.1111111111111111,
              "#46039f"
             ],
             [
              0.2222222222222222,
              "#7201a8"
             ],
             [
              0.3333333333333333,
              "#9c179e"
             ],
             [
              0.4444444444444444,
              "#bd3786"
             ],
             [
              0.5555555555555556,
              "#d8576b"
             ],
             [
              0.6666666666666666,
              "#ed7953"
             ],
             [
              0.7777777777777778,
              "#fb9f3a"
             ],
             [
              0.8888888888888888,
              "#fdca26"
             ],
             [
              1,
              "#f0f921"
             ]
            ],
            "type": "histogram2d"
           }
          ],
          "histogram2dcontour": [
           {
            "colorbar": {
             "outlinewidth": 0,
             "ticks": ""
            },
            "colorscale": [
             [
              0,
              "#0d0887"
             ],
             [
              0.1111111111111111,
              "#46039f"
             ],
             [
              0.2222222222222222,
              "#7201a8"
             ],
             [
              0.3333333333333333,
              "#9c179e"
             ],
             [
              0.4444444444444444,
              "#bd3786"
             ],
             [
              0.5555555555555556,
              "#d8576b"
             ],
             [
              0.6666666666666666,
              "#ed7953"
             ],
             [
              0.7777777777777778,
              "#fb9f3a"
             ],
             [
              0.8888888888888888,
              "#fdca26"
             ],
             [
              1,
              "#f0f921"
             ]
            ],
            "type": "histogram2dcontour"
           }
          ],
          "mesh3d": [
           {
            "colorbar": {
             "outlinewidth": 0,
             "ticks": ""
            },
            "type": "mesh3d"
           }
          ],
          "parcoords": [
           {
            "line": {
             "colorbar": {
              "outlinewidth": 0,
              "ticks": ""
             }
            },
            "type": "parcoords"
           }
          ],
          "pie": [
           {
            "automargin": true,
            "type": "pie"
           }
          ],
          "scatter": [
           {
            "marker": {
             "colorbar": {
              "outlinewidth": 0,
              "ticks": ""
             }
            },
            "type": "scatter"
           }
          ],
          "scatter3d": [
           {
            "line": {
             "colorbar": {
              "outlinewidth": 0,
              "ticks": ""
             }
            },
            "marker": {
             "colorbar": {
              "outlinewidth": 0,
              "ticks": ""
             }
            },
            "type": "scatter3d"
           }
          ],
          "scattercarpet": [
           {
            "marker": {
             "colorbar": {
              "outlinewidth": 0,
              "ticks": ""
             }
            },
            "type": "scattercarpet"
           }
          ],
          "scattergeo": [
           {
            "marker": {
             "colorbar": {
              "outlinewidth": 0,
              "ticks": ""
             }
            },
            "type": "scattergeo"
           }
          ],
          "scattergl": [
           {
            "marker": {
             "colorbar": {
              "outlinewidth": 0,
              "ticks": ""
             }
            },
            "type": "scattergl"
           }
          ],
          "scattermapbox": [
           {
            "marker": {
             "colorbar": {
              "outlinewidth": 0,
              "ticks": ""
             }
            },
            "type": "scattermapbox"
           }
          ],
          "scatterpolar": [
           {
            "marker": {
             "colorbar": {
              "outlinewidth": 0,
              "ticks": ""
             }
            },
            "type": "scatterpolar"
           }
          ],
          "scatterpolargl": [
           {
            "marker": {
             "colorbar": {
              "outlinewidth": 0,
              "ticks": ""
             }
            },
            "type": "scatterpolargl"
           }
          ],
          "scatterternary": [
           {
            "marker": {
             "colorbar": {
              "outlinewidth": 0,
              "ticks": ""
             }
            },
            "type": "scatterternary"
           }
          ],
          "surface": [
           {
            "colorbar": {
             "outlinewidth": 0,
             "ticks": ""
            },
            "colorscale": [
             [
              0,
              "#0d0887"
             ],
             [
              0.1111111111111111,
              "#46039f"
             ],
             [
              0.2222222222222222,
              "#7201a8"
             ],
             [
              0.3333333333333333,
              "#9c179e"
             ],
             [
              0.4444444444444444,
              "#bd3786"
             ],
             [
              0.5555555555555556,
              "#d8576b"
             ],
             [
              0.6666666666666666,
              "#ed7953"
             ],
             [
              0.7777777777777778,
              "#fb9f3a"
             ],
             [
              0.8888888888888888,
              "#fdca26"
             ],
             [
              1,
              "#f0f921"
             ]
            ],
            "type": "surface"
           }
          ],
          "table": [
           {
            "cells": {
             "fill": {
              "color": "#EBF0F8"
             },
             "line": {
              "color": "white"
             }
            },
            "header": {
             "fill": {
              "color": "#C8D4E3"
             },
             "line": {
              "color": "white"
             }
            },
            "type": "table"
           }
          ]
         },
         "layout": {
          "annotationdefaults": {
           "arrowcolor": "#2a3f5f",
           "arrowhead": 0,
           "arrowwidth": 1
          },
          "coloraxis": {
           "colorbar": {
            "outlinewidth": 0,
            "ticks": ""
           }
          },
          "colorscale": {
           "diverging": [
            [
             0,
             "#8e0152"
            ],
            [
             0.1,
             "#c51b7d"
            ],
            [
             0.2,
             "#de77ae"
            ],
            [
             0.3,
             "#f1b6da"
            ],
            [
             0.4,
             "#fde0ef"
            ],
            [
             0.5,
             "#f7f7f7"
            ],
            [
             0.6,
             "#e6f5d0"
            ],
            [
             0.7,
             "#b8e186"
            ],
            [
             0.8,
             "#7fbc41"
            ],
            [
             0.9,
             "#4d9221"
            ],
            [
             1,
             "#276419"
            ]
           ],
           "sequential": [
            [
             0,
             "#0d0887"
            ],
            [
             0.1111111111111111,
             "#46039f"
            ],
            [
             0.2222222222222222,
             "#7201a8"
            ],
            [
             0.3333333333333333,
             "#9c179e"
            ],
            [
             0.4444444444444444,
             "#bd3786"
            ],
            [
             0.5555555555555556,
             "#d8576b"
            ],
            [
             0.6666666666666666,
             "#ed7953"
            ],
            [
             0.7777777777777778,
             "#fb9f3a"
            ],
            [
             0.8888888888888888,
             "#fdca26"
            ],
            [
             1,
             "#f0f921"
            ]
           ],
           "sequentialminus": [
            [
             0,
             "#0d0887"
            ],
            [
             0.1111111111111111,
             "#46039f"
            ],
            [
             0.2222222222222222,
             "#7201a8"
            ],
            [
             0.3333333333333333,
             "#9c179e"
            ],
            [
             0.4444444444444444,
             "#bd3786"
            ],
            [
             0.5555555555555556,
             "#d8576b"
            ],
            [
             0.6666666666666666,
             "#ed7953"
            ],
            [
             0.7777777777777778,
             "#fb9f3a"
            ],
            [
             0.8888888888888888,
             "#fdca26"
            ],
            [
             1,
             "#f0f921"
            ]
           ]
          },
          "colorway": [
           "#636efa",
           "#EF553B",
           "#00cc96",
           "#ab63fa",
           "#FFA15A",
           "#19d3f3",
           "#FF6692",
           "#B6E880",
           "#FF97FF",
           "#FECB52"
          ],
          "font": {
           "color": "#2a3f5f"
          },
          "geo": {
           "bgcolor": "white",
           "lakecolor": "white",
           "landcolor": "#E5ECF6",
           "showlakes": true,
           "showland": true,
           "subunitcolor": "white"
          },
          "hoverlabel": {
           "align": "left"
          },
          "hovermode": "closest",
          "mapbox": {
           "style": "light"
          },
          "paper_bgcolor": "white",
          "plot_bgcolor": "#E5ECF6",
          "polar": {
           "angularaxis": {
            "gridcolor": "white",
            "linecolor": "white",
            "ticks": ""
           },
           "bgcolor": "#E5ECF6",
           "radialaxis": {
            "gridcolor": "white",
            "linecolor": "white",
            "ticks": ""
           }
          },
          "scene": {
           "xaxis": {
            "backgroundcolor": "#E5ECF6",
            "gridcolor": "white",
            "gridwidth": 2,
            "linecolor": "white",
            "showbackground": true,
            "ticks": "",
            "zerolinecolor": "white"
           },
           "yaxis": {
            "backgroundcolor": "#E5ECF6",
            "gridcolor": "white",
            "gridwidth": 2,
            "linecolor": "white",
            "showbackground": true,
            "ticks": "",
            "zerolinecolor": "white"
           },
           "zaxis": {
            "backgroundcolor": "#E5ECF6",
            "gridcolor": "white",
            "gridwidth": 2,
            "linecolor": "white",
            "showbackground": true,
            "ticks": "",
            "zerolinecolor": "white"
           }
          },
          "shapedefaults": {
           "line": {
            "color": "#2a3f5f"
           }
          },
          "ternary": {
           "aaxis": {
            "gridcolor": "white",
            "linecolor": "white",
            "ticks": ""
           },
           "baxis": {
            "gridcolor": "white",
            "linecolor": "white",
            "ticks": ""
           },
           "bgcolor": "#E5ECF6",
           "caxis": {
            "gridcolor": "white",
            "linecolor": "white",
            "ticks": ""
           }
          },
          "title": {
           "x": 0.05
          },
          "xaxis": {
           "automargin": true,
           "gridcolor": "white",
           "linecolor": "white",
           "ticks": "",
           "title": {
            "standoff": 15
           },
           "zerolinecolor": "white",
           "zerolinewidth": 2
          },
          "yaxis": {
           "automargin": true,
           "gridcolor": "white",
           "linecolor": "white",
           "ticks": "",
           "title": {
            "standoff": 15
           },
           "zerolinecolor": "white",
           "zerolinewidth": 2
          }
         }
        },
        "title": {
         "text": "Cohorts: June 2019 Average User ARPU"
        },
        "xaxis": {
         "linecolor": "rgb(204, 204, 204)",
         "linewidth": 3,
         "showgrid": false,
         "showticklabels": true,
         "tickangle": -45,
         "zeroline": false
        },
        "yaxis": {
         "gridcolor": "rgb(204, 204, 204)",
         "showgrid": true,
         "showline": false,
         "title": {
          "text": "ARPU, $"
         },
         "zeroline": true
        }
       }
      },
      "text/html": [
       "<div>\n",
       "        \n",
       "        \n",
       "            <div id=\"f4bf6794-54f6-480e-b529-c6c142f42137\" class=\"plotly-graph-div\" style=\"height:525px; width:100%;\"></div>\n",
       "            <script type=\"text/javascript\">\n",
       "                require([\"plotly\"], function(Plotly) {\n",
       "                    window.PLOTLYENV=window.PLOTLYENV || {};\n",
       "                    \n",
       "                if (document.getElementById(\"f4bf6794-54f6-480e-b529-c6c142f42137\")) {\n",
       "                    Plotly.newPlot(\n",
       "                        'f4bf6794-54f6-480e-b529-c6c142f42137',\n",
       "                        [{\"hovertemplate\": \"%{x}: <br>%{y} $<extra></extra>\", \"marker\": {\"color\": \"teal\"}, \"mode\": \"markers+lines\", \"type\": \"scatter\", \"x\": [\"Day 0\", \"Day 1\", \"Day 2\", \"Day 3\", \"Day 4\", \"Day 5\", \"Day 6\", \"Day 7\", \"Day 8\", \"Day 9\", \"Day 10\", \"Day 11\", \"Day 12\", \"Day 13\", \"Day 14\", \"Day 15\", \"Day 16\", \"Day 17\", \"Day 18\", \"Day 19\", \"Day 20\", \"Day 21\", \"Day 22\", \"Day 23\", \"Day 24\", \"Day 25\", \"Day 26\", \"Day 27\", \"Day 28\", \"Day 29\", \"Day 30\"], \"y\": [0.75, 0.25, 0.23, 0.23, 0.16, 0.31, 0.18, 0.15, 0.14, 0.23, 0.24, 0.22, 0.21, 0.16, 0.15, 0.15, 0.19, 0.17, 0.13, 0.1, 0.15, 0.09, 0.1, 0.14, 0.09, 0.15, 0.11, 0.16, 0.12, 0.15, 0.16]}],\n",
       "                        {\"plot_bgcolor\": \"white\", \"template\": {\"data\": {\"bar\": [{\"error_x\": {\"color\": \"#2a3f5f\"}, \"error_y\": {\"color\": \"#2a3f5f\"}, \"marker\": {\"line\": {\"color\": \"#E5ECF6\", \"width\": 0.5}}, \"type\": \"bar\"}], \"barpolar\": [{\"marker\": {\"line\": {\"color\": \"#E5ECF6\", \"width\": 0.5}}, \"type\": \"barpolar\"}], \"carpet\": [{\"aaxis\": {\"endlinecolor\": \"#2a3f5f\", \"gridcolor\": \"white\", \"linecolor\": \"white\", \"minorgridcolor\": \"white\", \"startlinecolor\": \"#2a3f5f\"}, \"baxis\": {\"endlinecolor\": \"#2a3f5f\", \"gridcolor\": \"white\", \"linecolor\": \"white\", \"minorgridcolor\": \"white\", \"startlinecolor\": \"#2a3f5f\"}, \"type\": \"carpet\"}], \"choropleth\": [{\"colorbar\": {\"outlinewidth\": 0, \"ticks\": \"\"}, \"type\": \"choropleth\"}], \"contour\": [{\"colorbar\": {\"outlinewidth\": 0, \"ticks\": \"\"}, \"colorscale\": [[0.0, \"#0d0887\"], [0.1111111111111111, \"#46039f\"], [0.2222222222222222, \"#7201a8\"], [0.3333333333333333, \"#9c179e\"], [0.4444444444444444, \"#bd3786\"], [0.5555555555555556, \"#d8576b\"], [0.6666666666666666, \"#ed7953\"], [0.7777777777777778, \"#fb9f3a\"], [0.8888888888888888, \"#fdca26\"], [1.0, \"#f0f921\"]], \"type\": \"contour\"}], \"contourcarpet\": [{\"colorbar\": {\"outlinewidth\": 0, \"ticks\": \"\"}, \"type\": \"contourcarpet\"}], \"heatmap\": [{\"colorbar\": {\"outlinewidth\": 0, \"ticks\": \"\"}, \"colorscale\": [[0.0, \"#0d0887\"], [0.1111111111111111, \"#46039f\"], [0.2222222222222222, \"#7201a8\"], [0.3333333333333333, \"#9c179e\"], [0.4444444444444444, \"#bd3786\"], [0.5555555555555556, \"#d8576b\"], [0.6666666666666666, \"#ed7953\"], [0.7777777777777778, \"#fb9f3a\"], [0.8888888888888888, \"#fdca26\"], [1.0, \"#f0f921\"]], \"type\": \"heatmap\"}], \"heatmapgl\": [{\"colorbar\": {\"outlinewidth\": 0, \"ticks\": \"\"}, \"colorscale\": [[0.0, \"#0d0887\"], [0.1111111111111111, \"#46039f\"], [0.2222222222222222, \"#7201a8\"], [0.3333333333333333, \"#9c179e\"], [0.4444444444444444, \"#bd3786\"], [0.5555555555555556, \"#d8576b\"], [0.6666666666666666, \"#ed7953\"], [0.7777777777777778, \"#fb9f3a\"], [0.8888888888888888, \"#fdca26\"], [1.0, \"#f0f921\"]], \"type\": \"heatmapgl\"}], \"histogram\": [{\"marker\": {\"colorbar\": {\"outlinewidth\": 0, \"ticks\": \"\"}}, \"type\": \"histogram\"}], \"histogram2d\": [{\"colorbar\": {\"outlinewidth\": 0, \"ticks\": \"\"}, \"colorscale\": [[0.0, \"#0d0887\"], [0.1111111111111111, \"#46039f\"], [0.2222222222222222, \"#7201a8\"], [0.3333333333333333, \"#9c179e\"], [0.4444444444444444, \"#bd3786\"], [0.5555555555555556, \"#d8576b\"], [0.6666666666666666, \"#ed7953\"], [0.7777777777777778, \"#fb9f3a\"], [0.8888888888888888, \"#fdca26\"], [1.0, \"#f0f921\"]], \"type\": \"histogram2d\"}], \"histogram2dcontour\": [{\"colorbar\": {\"outlinewidth\": 0, \"ticks\": \"\"}, \"colorscale\": [[0.0, \"#0d0887\"], [0.1111111111111111, \"#46039f\"], [0.2222222222222222, \"#7201a8\"], [0.3333333333333333, \"#9c179e\"], [0.4444444444444444, \"#bd3786\"], [0.5555555555555556, \"#d8576b\"], [0.6666666666666666, \"#ed7953\"], [0.7777777777777778, \"#fb9f3a\"], [0.8888888888888888, \"#fdca26\"], [1.0, \"#f0f921\"]], \"type\": \"histogram2dcontour\"}], \"mesh3d\": [{\"colorbar\": {\"outlinewidth\": 0, \"ticks\": \"\"}, \"type\": \"mesh3d\"}], \"parcoords\": [{\"line\": {\"colorbar\": {\"outlinewidth\": 0, \"ticks\": \"\"}}, \"type\": \"parcoords\"}], \"pie\": [{\"automargin\": true, \"type\": \"pie\"}], \"scatter\": [{\"marker\": {\"colorbar\": {\"outlinewidth\": 0, \"ticks\": \"\"}}, \"type\": \"scatter\"}], \"scatter3d\": [{\"line\": {\"colorbar\": {\"outlinewidth\": 0, \"ticks\": \"\"}}, \"marker\": {\"colorbar\": {\"outlinewidth\": 0, \"ticks\": \"\"}}, \"type\": \"scatter3d\"}], \"scattercarpet\": [{\"marker\": {\"colorbar\": {\"outlinewidth\": 0, \"ticks\": \"\"}}, \"type\": \"scattercarpet\"}], \"scattergeo\": [{\"marker\": {\"colorbar\": {\"outlinewidth\": 0, \"ticks\": \"\"}}, \"type\": \"scattergeo\"}], \"scattergl\": [{\"marker\": {\"colorbar\": {\"outlinewidth\": 0, \"ticks\": \"\"}}, \"type\": \"scattergl\"}], \"scattermapbox\": [{\"marker\": {\"colorbar\": {\"outlinewidth\": 0, \"ticks\": \"\"}}, \"type\": \"scattermapbox\"}], \"scatterpolar\": [{\"marker\": {\"colorbar\": {\"outlinewidth\": 0, \"ticks\": \"\"}}, \"type\": \"scatterpolar\"}], \"scatterpolargl\": [{\"marker\": {\"colorbar\": {\"outlinewidth\": 0, \"ticks\": \"\"}}, \"type\": \"scatterpolargl\"}], \"scatterternary\": [{\"marker\": {\"colorbar\": {\"outlinewidth\": 0, \"ticks\": \"\"}}, \"type\": \"scatterternary\"}], \"surface\": [{\"colorbar\": {\"outlinewidth\": 0, \"ticks\": \"\"}, \"colorscale\": [[0.0, \"#0d0887\"], [0.1111111111111111, \"#46039f\"], [0.2222222222222222, \"#7201a8\"], [0.3333333333333333, \"#9c179e\"], [0.4444444444444444, \"#bd3786\"], [0.5555555555555556, \"#d8576b\"], [0.6666666666666666, \"#ed7953\"], [0.7777777777777778, \"#fb9f3a\"], [0.8888888888888888, \"#fdca26\"], [1.0, \"#f0f921\"]], \"type\": \"surface\"}], \"table\": [{\"cells\": {\"fill\": {\"color\": \"#EBF0F8\"}, \"line\": {\"color\": \"white\"}}, \"header\": {\"fill\": {\"color\": \"#C8D4E3\"}, \"line\": {\"color\": \"white\"}}, \"type\": \"table\"}]}, \"layout\": {\"annotationdefaults\": {\"arrowcolor\": \"#2a3f5f\", \"arrowhead\": 0, \"arrowwidth\": 1}, \"coloraxis\": {\"colorbar\": {\"outlinewidth\": 0, \"ticks\": \"\"}}, \"colorscale\": {\"diverging\": [[0, \"#8e0152\"], [0.1, \"#c51b7d\"], [0.2, \"#de77ae\"], [0.3, \"#f1b6da\"], [0.4, \"#fde0ef\"], [0.5, \"#f7f7f7\"], [0.6, \"#e6f5d0\"], [0.7, \"#b8e186\"], [0.8, \"#7fbc41\"], [0.9, \"#4d9221\"], [1, \"#276419\"]], \"sequential\": [[0.0, \"#0d0887\"], [0.1111111111111111, \"#46039f\"], [0.2222222222222222, \"#7201a8\"], [0.3333333333333333, \"#9c179e\"], [0.4444444444444444, \"#bd3786\"], [0.5555555555555556, \"#d8576b\"], [0.6666666666666666, \"#ed7953\"], [0.7777777777777778, \"#fb9f3a\"], [0.8888888888888888, \"#fdca26\"], [1.0, \"#f0f921\"]], \"sequentialminus\": [[0.0, \"#0d0887\"], [0.1111111111111111, \"#46039f\"], [0.2222222222222222, \"#7201a8\"], [0.3333333333333333, \"#9c179e\"], [0.4444444444444444, \"#bd3786\"], [0.5555555555555556, \"#d8576b\"], [0.6666666666666666, \"#ed7953\"], [0.7777777777777778, \"#fb9f3a\"], [0.8888888888888888, \"#fdca26\"], [1.0, \"#f0f921\"]]}, \"colorway\": [\"#636efa\", \"#EF553B\", \"#00cc96\", \"#ab63fa\", \"#FFA15A\", \"#19d3f3\", \"#FF6692\", \"#B6E880\", \"#FF97FF\", \"#FECB52\"], \"font\": {\"color\": \"#2a3f5f\"}, \"geo\": {\"bgcolor\": \"white\", \"lakecolor\": \"white\", \"landcolor\": \"#E5ECF6\", \"showlakes\": true, \"showland\": true, \"subunitcolor\": \"white\"}, \"hoverlabel\": {\"align\": \"left\"}, \"hovermode\": \"closest\", \"mapbox\": {\"style\": \"light\"}, \"paper_bgcolor\": \"white\", \"plot_bgcolor\": \"#E5ECF6\", \"polar\": {\"angularaxis\": {\"gridcolor\": \"white\", \"linecolor\": \"white\", \"ticks\": \"\"}, \"bgcolor\": \"#E5ECF6\", \"radialaxis\": {\"gridcolor\": \"white\", \"linecolor\": \"white\", \"ticks\": \"\"}}, \"scene\": {\"xaxis\": {\"backgroundcolor\": \"#E5ECF6\", \"gridcolor\": \"white\", \"gridwidth\": 2, \"linecolor\": \"white\", \"showbackground\": true, \"ticks\": \"\", \"zerolinecolor\": \"white\"}, \"yaxis\": {\"backgroundcolor\": \"#E5ECF6\", \"gridcolor\": \"white\", \"gridwidth\": 2, \"linecolor\": \"white\", \"showbackground\": true, \"ticks\": \"\", \"zerolinecolor\": \"white\"}, \"zaxis\": {\"backgroundcolor\": \"#E5ECF6\", \"gridcolor\": \"white\", \"gridwidth\": 2, \"linecolor\": \"white\", \"showbackground\": true, \"ticks\": \"\", \"zerolinecolor\": \"white\"}}, \"shapedefaults\": {\"line\": {\"color\": \"#2a3f5f\"}}, \"ternary\": {\"aaxis\": {\"gridcolor\": \"white\", \"linecolor\": \"white\", \"ticks\": \"\"}, \"baxis\": {\"gridcolor\": \"white\", \"linecolor\": \"white\", \"ticks\": \"\"}, \"bgcolor\": \"#E5ECF6\", \"caxis\": {\"gridcolor\": \"white\", \"linecolor\": \"white\", \"ticks\": \"\"}}, \"title\": {\"x\": 0.05}, \"xaxis\": {\"automargin\": true, \"gridcolor\": \"white\", \"linecolor\": \"white\", \"ticks\": \"\", \"title\": {\"standoff\": 15}, \"zerolinecolor\": \"white\", \"zerolinewidth\": 2}, \"yaxis\": {\"automargin\": true, \"gridcolor\": \"white\", \"linecolor\": \"white\", \"ticks\": \"\", \"title\": {\"standoff\": 15}, \"zerolinecolor\": \"white\", \"zerolinewidth\": 2}}}, \"title\": {\"text\": \"Cohorts: June 2019 Average User ARPU\"}, \"xaxis\": {\"linecolor\": \"rgb(204, 204, 204)\", \"linewidth\": 3, \"showgrid\": false, \"showticklabels\": true, \"tickangle\": -45, \"zeroline\": false}, \"yaxis\": {\"gridcolor\": \"rgb(204, 204, 204)\", \"showgrid\": true, \"showline\": false, \"title\": {\"text\": \"ARPU, $\"}, \"zeroline\": true}},\n",
       "                        {\"responsive\": true}\n",
       "                    ).then(function(){\n",
       "                            \n",
       "var gd = document.getElementById('f4bf6794-54f6-480e-b529-c6c142f42137');\n",
       "var x = new MutationObserver(function (mutations, observer) {{\n",
       "        var display = window.getComputedStyle(gd).display;\n",
       "        if (!display || display === 'none') {{\n",
       "            console.log([gd, 'removed!']);\n",
       "            Plotly.purge(gd);\n",
       "            observer.disconnect();\n",
       "        }}\n",
       "}});\n",
       "\n",
       "// Listen for the removal of the full notebook cells\n",
       "var notebookContainer = gd.closest('#notebook-container');\n",
       "if (notebookContainer) {{\n",
       "    x.observe(notebookContainer, {childList: true});\n",
       "}}\n",
       "\n",
       "// Listen for the clearing of the current output cell\n",
       "var outputEl = gd.closest('.output');\n",
       "if (outputEl) {{\n",
       "    x.observe(outputEl, {childList: true});\n",
       "}}\n",
       "\n",
       "                        })\n",
       "                };\n",
       "                });\n",
       "            </script>\n",
       "        </div>"
      ]
     },
     "metadata": {},
     "output_type": "display_data"
    }
   ],
   "source": [
    "#Построим график изменения среднего ARPU в июне 2019 г. в зависимости от времени жизни пользователя \n",
    "data=go.Scatter(x=['Day {}'.format(i) for i in arpu_pivot.columns], \n",
    "               y=round(arpu_pivot.loc['mean'], 2),\n",
    "                hovertemplate=\"%{x}: <br>%{y} $<extra></extra>\",\n",
    "                mode='markers+lines', \n",
    "               marker=dict(color='teal'))\n",
    "layout=go.Layout(title='Cohorts: June 2019 Average User ARPU',\n",
    "                yaxis_title='ARPU, $',\n",
    "                plot_bgcolor='white',\n",
    "                 xaxis=dict(\n",
    "                tickangle=-45,\n",
    "                zeroline=False,\n",
    "                showgrid=False,\n",
    "                showticklabels=True,\n",
    "                linecolor='rgb(204, 204, 204)',\n",
    "                linewidth=3\n",
    "                ),\n",
    "                 yaxis=dict(\n",
    "                showgrid=True,\n",
    "                showline=False,\n",
    "                zeroline=True,\n",
    "                gridcolor='rgb(204, 204, 204)'))\n",
    "fig=go.Figure(data=data, layout=layout)\n",
    "fig.show()"
   ]
  },
  {
   "cell_type": "markdown",
   "metadata": {},
   "source": [
    "<div class=\"alert alert-block alert-success\">\n",
    "<b>Вывод:</b> Максимального значения средняя выручка с пользователя наблюдается в нулевой и пятые дни жизни когорты. Хотя значения варьируются от 0,09 \\$ до 0,31 \\$, не считая нулевого дня жизни, в целом наблюдается тренд на снижение значений с увеличением дней жизни когорт.\n",
    "</div>"
   ]
  },
  {
   "cell_type": "markdown",
   "metadata": {},
   "source": [
    "<font size=\"6\"><code style=\"background:teal;color:white\">Выводы по кейсу:</code></font>"
   ]
  },
  {
   "cell_type": "markdown",
   "metadata": {},
   "source": [
    "По итогам анализа были получены результаты:\n",
    "\n",
    "<table>\n",
    "<thead>\n",
    "<tr><th>Period</th><th>Registered users</th><th>Reten Day 1</th><th>Reten Day 7</th><th>Reten Day 30</th><th>Revenue</th><th>ARPRegUser</th></tr>\n",
    "</thead>\n",
    "<tbody>\n",
    "<tr><td>May 2019</td><th>188 943</th><td>31.43 %</td><td>13.77%</td><td>2.66 %</td><th>121 998 \\$</th><th>0.65 \\$</th></tr>\n",
    "<tr><td>June 2019</td><th>100 423</th><td>30.57 %</td><td>12.52 %</td><td>2.71 %</td><th>79 686 \\$</th><th>0.79 \\$</th></tr>\n",
    "</tbody>\n",
    "</table>\n"
   ]
  },
  {
   "cell_type": "markdown",
   "metadata": {},
   "source": [
    "<blockquote><p><b>Вывод:</b> С введением нового функционала в игру наблюдается снижение количества зарегистрированных пользователей на 47%, снижение выручки на 35%, также упали показатели удержания на 1 и 7 день на 3% и 9% соотвественно. Увеличение показали показатели удержания на 30 день (на 2%) и ARPRegUser - с 0.65 \\$ до 0.79 \\$. Как результат, мы видим ухудшение показателей с вводом нового функционала.<br>\n",
    "<b>Рекомендации:</b> Необходимо также дополнительно проанализировать маркетинговую активность в данном периоде - за счет какого фактора произошло снижение количества зарегистрированных пользователей (соотношение paid users и organics в обоих периодах). Увеличение долгосрочного удержания дает нам возможность предполагать, что новый функционал связан именно с данным этапом (новый сюжет, пласт игры?). Уменьшение показателей удержания первого и седьмого дня, а также увеличение ARPRegUser дает нам возможность предположения о более агрессивном навязывании платящего контента.<br> На данном этапе новый функционал не показал хорошие результаты. Более точную рекомендацию (изменить функционал или полностью отказаться) можно дать только при точном понимании самого игрового процесса, нового функционала и дополнительных исследованиях.</p>\n",
    "</blockquote>"
   ]
  },
  {
   "cell_type": "code",
   "execution_count": null,
   "metadata": {},
   "outputs": [],
   "source": []
  }
 ],
 "metadata": {
  "kernelspec": {
   "display_name": "Python 3",
   "language": "python",
   "name": "python3"
  },
  "language_info": {
   "codemirror_mode": {
    "name": "ipython",
    "version": 3
   },
   "file_extension": ".py",
   "mimetype": "text/x-python",
   "name": "python",
   "nbconvert_exporter": "python",
   "pygments_lexer": "ipython3",
   "version": "3.7.6"
  }
 },
 "nbformat": 4,
 "nbformat_minor": 4
}
